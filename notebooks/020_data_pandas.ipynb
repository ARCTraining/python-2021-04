{
  "nbformat": 4,
  "nbformat_minor": 0,
  "metadata": {
    "colab": {
      "name": "020_data_pandas.ipynb",
      "provenance": [],
      "collapsed_sections": [],
      "include_colab_link": true
    },
    "kernelspec": {
      "name": "python3",
      "display_name": "Python 3"
    },
    "language_info": {
      "name": "python"
    }
  },
  "cells": [
    {
      "cell_type": "markdown",
      "metadata": {
        "id": "view-in-github",
        "colab_type": "text"
      },
      "source": [
        "<a href=\"https://colab.research.google.com/github/ARCTraining/python-2021-04/blob/gh-pages/notebooks/020_data_pandas.ipynb\" target=\"_parent\"><img src=\"https://colab.research.google.com/assets/colab-badge.svg\" alt=\"Open In Colab\"/></a>"
      ]
    },
    {
      "cell_type": "markdown",
      "metadata": {
        "id": "KgG9J1Lfk5_Z"
      },
      "source": [
        "# Starting with Data"
      ]
    },
    {
      "cell_type": "code",
      "metadata": {
        "id": "a9s-hezjkb5W"
      },
      "source": [
        "# Author: Martin Callaghan\n",
        "# Date: 2021-04-26\n",
        "# Lesson link: https://arctraining.github.io/python-2021-04/02-starting-with-data/index.html"
      ],
      "execution_count": null,
      "outputs": []
    },
    {
      "cell_type": "code",
      "metadata": {
        "colab": {
          "base_uri": "https://localhost:8080/"
        },
        "id": "eTx3Ol5Wbufe",
        "outputId": "7dafa36c-b811-4e95-cc3a-44722e5b5f2c"
      },
      "source": [
        "# Connect my Google Drive to Google Colab\n",
        "from google.colab import drive\n",
        "drive.mount ('/content/gdrive')"
      ],
      "execution_count": null,
      "outputs": [
        {
          "output_type": "stream",
          "text": [
            "Mounted at /content/gdrive\n"
          ],
          "name": "stdout"
        }
      ]
    },
    {
      "cell_type": "code",
      "metadata": {
        "id": "YoHKafr1lOhx"
      },
      "source": [
        "# import pandas library\n",
        "import pandas as pd"
      ],
      "execution_count": null,
      "outputs": []
    },
    {
      "cell_type": "code",
      "metadata": {
        "id": "sK6fQUSplpt-"
      },
      "source": [
        "# We use the Portal Project teaching dataset\n",
        "# https://figshare.com/articles/dataset/Portal_Project_Teaching_Database/1314459"
      ],
      "execution_count": null,
      "outputs": []
    },
    {
      "cell_type": "code",
      "metadata": {
        "colab": {
          "base_uri": "https://localhost:8080/"
        },
        "id": "JcalYB5xmwwQ",
        "outputId": "4910ee1b-3721-4d12-b48c-35fcd5bd9f44"
      },
      "source": [
        "# But first we need to download it\n",
        "!wget https://arctraining.github.io/python-2021-04/data/portal-teachingdb-master.zip"
      ],
      "execution_count": null,
      "outputs": [
        {
          "output_type": "stream",
          "text": [
            "--2021-05-04 08:23:16--  https://arctraining.github.io/python-2021-04/data/portal-teachingdb-master.zip\n",
            "Resolving arctraining.github.io (arctraining.github.io)... 185.199.108.153, 185.199.110.153, 185.199.109.153, ...\n",
            "Connecting to arctraining.github.io (arctraining.github.io)|185.199.108.153|:443... connected.\n",
            "HTTP request sent, awaiting response... 200 OK\n",
            "Length: 689547 (673K) [application/zip]\n",
            "Saving to: ‘portal-teachingdb-master.zip’\n",
            "\n",
            "\r          portal-te   0%[                    ]       0  --.-KB/s               \rportal-teachingdb-m 100%[===================>] 673.39K  --.-KB/s    in 0.05s   \n",
            "\n",
            "2021-05-04 08:23:17 (14.1 MB/s) - ‘portal-teachingdb-master.zip’ saved [689547/689547]\n",
            "\n"
          ],
          "name": "stdout"
        }
      ]
    },
    {
      "cell_type": "code",
      "metadata": {
        "id": "5LF8hea0rt_7"
      },
      "source": [
        "# after downloading rename\n",
        "# portal-teachingdb-master.zip to data.zip\n",
        "# <<< do that in the file explorer window to the left of the notebook <<<"
      ],
      "execution_count": null,
      "outputs": []
    },
    {
      "cell_type": "code",
      "metadata": {
        "colab": {
          "base_uri": "https://localhost:8080/"
        },
        "id": "_z82woXzoekT",
        "outputId": "93fd61dd-3274-4cfa-e667-1a5abdfd86ea"
      },
      "source": [
        "# now unzip the file we've just downloaded\n",
        "!unzip data.zip"
      ],
      "execution_count": null,
      "outputs": [
        {
          "output_type": "stream",
          "text": [
            "Archive:  data.zip\n",
            "   creating: portal-teachingdb-master/\n",
            "  inflating: portal-teachingdb-master/surveys2001.csv  \n",
            "  inflating: portal-teachingdb-master/surveys2002.csv  \n",
            "  inflating: portal-teachingdb-master/speciesSubset.csv  \n",
            "  inflating: portal-teachingdb-master/bouldercreek_09_2013.txt  \n",
            "  inflating: portal-teachingdb-master/species.csv  \n",
            "  inflating: portal-teachingdb-master/surveys.csv  \n",
            "  inflating: portal-teachingdb-master/portal_mammals.sqlite  \n",
            "  inflating: portal-teachingdb-master/README.txt  \n",
            "  inflating: portal-teachingdb-master/plots.csv  \n"
          ],
          "name": "stdout"
        }
      ]
    },
    {
      "cell_type": "code",
      "metadata": {
        "id": "gsK3kDbgr7fk"
      },
      "source": [
        "# rename the folder portal-teachingdb-master to data\n",
        "# <<< do that in the file explorer window to the left of the notebook <<<"
      ],
      "execution_count": null,
      "outputs": []
    },
    {
      "cell_type": "code",
      "metadata": {
        "colab": {
          "base_uri": "https://localhost:8080/"
        },
        "id": "RScX5BtHovh-",
        "outputId": "e7e9b285-1d74-4c5b-8d0e-01f8ce479d8b"
      },
      "source": [
        "# see what we have done\n",
        "!ls -l"
      ],
      "execution_count": null,
      "outputs": [
        {
          "output_type": "stream",
          "text": [
            "total 688\n",
            "drwxrwxr-x 2 root root   4096 Jun  5  2020 data\n",
            "-rw-r--r-- 1 root root 689547 Apr 29 15:01 data.zip\n",
            "drwx------ 5 root root   4096 May  4 08:15 gdrive\n",
            "drwxr-xr-x 1 root root   4096 Apr 21 13:39 sample_data\n"
          ],
          "name": "stdout"
        }
      ]
    },
    {
      "cell_type": "code",
      "metadata": {
        "colab": {
          "base_uri": "https://localhost:8080/"
        },
        "id": "TaTqKsLkirHB",
        "outputId": "da9b75e7-35bd-4708-bf2c-fc3e4dfde6c2"
      },
      "source": [
        "# The full filepath has a space in it (between Colab and Notebooks) which we need to accomodate\n",
        "# Either by including the path in quotes - like this:\n",
        "!ls \"/content/gdrive/MyDrive/Colab Notebooks/intro-python-2021-04/data\""
      ],
      "execution_count": null,
      "outputs": [
        {
          "output_type": "stream",
          "text": [
            "bouldercreek_09_2013.txt  README.txt\t     surveys2001.csv\n",
            "plots.csv\t\t  species.csv\t     surveys2002.csv\n",
            "portal_mammals.sqlite\t  speciesSubset.csv  surveys.csv\n"
          ],
          "name": "stdout"
        }
      ]
    },
    {
      "cell_type": "code",
      "metadata": {
        "colab": {
          "base_uri": "https://localhost:8080/"
        },
        "id": "FI4f-44xjQ0u",
        "outputId": "6889a8dc-c181-44a8-f8c9-26eb29542cc9"
      },
      "source": [
        "# Or by 'escaping out' the space by putting a backslash \\ in front of it\n",
        "# Like this:\n",
        "!ls /content/gdrive/MyDrive/Colab\\ Notebooks/intro-python-2021-04/data"
      ],
      "execution_count": null,
      "outputs": [
        {
          "output_type": "stream",
          "text": [
            "bouldercreek_09_2013.txt  README.txt\t     surveys2001.csv\n",
            "plots.csv\t\t  species.csv\t     surveys2002.csv\n",
            "portal_mammals.sqlite\t  speciesSubset.csv  surveys.csv\n"
          ],
          "name": "stdout"
        }
      ]
    },
    {
      "cell_type": "code",
      "metadata": {
        "id": "xsDxUu30fPNZ"
      },
      "source": [
        "# Move the data folder into your 'gdrive'\n",
        "# Move it into gdrive/MyDrive/Colab Notebooks/intro-python-2021-04"
      ],
      "execution_count": null,
      "outputs": []
    },
    {
      "cell_type": "code",
      "metadata": {
        "colab": {
          "base_uri": "https://localhost:8080/",
          "height": 444
        },
        "id": "6jMUnG1Uo4Iq",
        "outputId": "951b06f8-1d01-4db7-88b3-d68dba82f810"
      },
      "source": [
        "# First look at the data\n",
        "# Copy the 'path' to your Google Drive data folder and replace it with the 'data' folder we had last week\n",
        "pd.read_csv ('/content/gdrive/MyDrive/Colab Notebooks/intro-python-2021-04/data/surveys.csv')"
      ],
      "execution_count": null,
      "outputs": [
        {
          "output_type": "execute_result",
          "data": {
            "text/html": [
              "<div>\n",
              "<style scoped>\n",
              "    .dataframe tbody tr th:only-of-type {\n",
              "        vertical-align: middle;\n",
              "    }\n",
              "\n",
              "    .dataframe tbody tr th {\n",
              "        vertical-align: top;\n",
              "    }\n",
              "\n",
              "    .dataframe thead th {\n",
              "        text-align: right;\n",
              "    }\n",
              "</style>\n",
              "<table border=\"1\" class=\"dataframe\">\n",
              "  <thead>\n",
              "    <tr style=\"text-align: right;\">\n",
              "      <th></th>\n",
              "      <th>record_id</th>\n",
              "      <th>month</th>\n",
              "      <th>day</th>\n",
              "      <th>year</th>\n",
              "      <th>plot_id</th>\n",
              "      <th>species_id</th>\n",
              "      <th>sex</th>\n",
              "      <th>hindfoot_length</th>\n",
              "      <th>weight</th>\n",
              "    </tr>\n",
              "  </thead>\n",
              "  <tbody>\n",
              "    <tr>\n",
              "      <th>0</th>\n",
              "      <td>1</td>\n",
              "      <td>7</td>\n",
              "      <td>16</td>\n",
              "      <td>1977</td>\n",
              "      <td>2</td>\n",
              "      <td>NL</td>\n",
              "      <td>M</td>\n",
              "      <td>32.0</td>\n",
              "      <td>NaN</td>\n",
              "    </tr>\n",
              "    <tr>\n",
              "      <th>1</th>\n",
              "      <td>2</td>\n",
              "      <td>7</td>\n",
              "      <td>16</td>\n",
              "      <td>1977</td>\n",
              "      <td>3</td>\n",
              "      <td>NL</td>\n",
              "      <td>M</td>\n",
              "      <td>33.0</td>\n",
              "      <td>NaN</td>\n",
              "    </tr>\n",
              "    <tr>\n",
              "      <th>2</th>\n",
              "      <td>3</td>\n",
              "      <td>7</td>\n",
              "      <td>16</td>\n",
              "      <td>1977</td>\n",
              "      <td>2</td>\n",
              "      <td>DM</td>\n",
              "      <td>F</td>\n",
              "      <td>37.0</td>\n",
              "      <td>NaN</td>\n",
              "    </tr>\n",
              "    <tr>\n",
              "      <th>3</th>\n",
              "      <td>4</td>\n",
              "      <td>7</td>\n",
              "      <td>16</td>\n",
              "      <td>1977</td>\n",
              "      <td>7</td>\n",
              "      <td>DM</td>\n",
              "      <td>M</td>\n",
              "      <td>36.0</td>\n",
              "      <td>NaN</td>\n",
              "    </tr>\n",
              "    <tr>\n",
              "      <th>4</th>\n",
              "      <td>5</td>\n",
              "      <td>7</td>\n",
              "      <td>16</td>\n",
              "      <td>1977</td>\n",
              "      <td>3</td>\n",
              "      <td>DM</td>\n",
              "      <td>M</td>\n",
              "      <td>35.0</td>\n",
              "      <td>NaN</td>\n",
              "    </tr>\n",
              "    <tr>\n",
              "      <th>...</th>\n",
              "      <td>...</td>\n",
              "      <td>...</td>\n",
              "      <td>...</td>\n",
              "      <td>...</td>\n",
              "      <td>...</td>\n",
              "      <td>...</td>\n",
              "      <td>...</td>\n",
              "      <td>...</td>\n",
              "      <td>...</td>\n",
              "    </tr>\n",
              "    <tr>\n",
              "      <th>35544</th>\n",
              "      <td>35545</td>\n",
              "      <td>12</td>\n",
              "      <td>31</td>\n",
              "      <td>2002</td>\n",
              "      <td>15</td>\n",
              "      <td>AH</td>\n",
              "      <td>NaN</td>\n",
              "      <td>NaN</td>\n",
              "      <td>NaN</td>\n",
              "    </tr>\n",
              "    <tr>\n",
              "      <th>35545</th>\n",
              "      <td>35546</td>\n",
              "      <td>12</td>\n",
              "      <td>31</td>\n",
              "      <td>2002</td>\n",
              "      <td>15</td>\n",
              "      <td>AH</td>\n",
              "      <td>NaN</td>\n",
              "      <td>NaN</td>\n",
              "      <td>NaN</td>\n",
              "    </tr>\n",
              "    <tr>\n",
              "      <th>35546</th>\n",
              "      <td>35547</td>\n",
              "      <td>12</td>\n",
              "      <td>31</td>\n",
              "      <td>2002</td>\n",
              "      <td>10</td>\n",
              "      <td>RM</td>\n",
              "      <td>F</td>\n",
              "      <td>15.0</td>\n",
              "      <td>14.0</td>\n",
              "    </tr>\n",
              "    <tr>\n",
              "      <th>35547</th>\n",
              "      <td>35548</td>\n",
              "      <td>12</td>\n",
              "      <td>31</td>\n",
              "      <td>2002</td>\n",
              "      <td>7</td>\n",
              "      <td>DO</td>\n",
              "      <td>M</td>\n",
              "      <td>36.0</td>\n",
              "      <td>51.0</td>\n",
              "    </tr>\n",
              "    <tr>\n",
              "      <th>35548</th>\n",
              "      <td>35549</td>\n",
              "      <td>12</td>\n",
              "      <td>31</td>\n",
              "      <td>2002</td>\n",
              "      <td>5</td>\n",
              "      <td>NaN</td>\n",
              "      <td>NaN</td>\n",
              "      <td>NaN</td>\n",
              "      <td>NaN</td>\n",
              "    </tr>\n",
              "  </tbody>\n",
              "</table>\n",
              "<p>35549 rows × 9 columns</p>\n",
              "</div>"
            ],
            "text/plain": [
              "       record_id  month  day  year  ...  species_id  sex hindfoot_length  weight\n",
              "0              1      7   16  1977  ...          NL    M            32.0     NaN\n",
              "1              2      7   16  1977  ...          NL    M            33.0     NaN\n",
              "2              3      7   16  1977  ...          DM    F            37.0     NaN\n",
              "3              4      7   16  1977  ...          DM    M            36.0     NaN\n",
              "4              5      7   16  1977  ...          DM    M            35.0     NaN\n",
              "...          ...    ...  ...   ...  ...         ...  ...             ...     ...\n",
              "35544      35545     12   31  2002  ...          AH  NaN             NaN     NaN\n",
              "35545      35546     12   31  2002  ...          AH  NaN             NaN     NaN\n",
              "35546      35547     12   31  2002  ...          RM    F            15.0    14.0\n",
              "35547      35548     12   31  2002  ...          DO    M            36.0    51.0\n",
              "35548      35549     12   31  2002  ...         NaN  NaN             NaN     NaN\n",
              "\n",
              "[35549 rows x 9 columns]"
            ]
          },
          "metadata": {
            "tags": []
          },
          "execution_count": 15
        }
      ]
    },
    {
      "cell_type": "code",
      "metadata": {
        "id": "FiJYnoZ9qMVf"
      },
      "source": [
        "# Read in the df and assign to a variable\n",
        "surveys_df = pd.read_csv ('/content/gdrive/MyDrive/Colab Notebooks/intro-python-2021-04/data/surveys.csv')"
      ],
      "execution_count": null,
      "outputs": []
    },
    {
      "cell_type": "code",
      "metadata": {
        "id": "LkfJq07-kl_a"
      },
      "source": [
        "# But having to include this long path every time is a pain so\n",
        "filepath = \"/content/gdrive/MyDrive/Colab Notebooks/intro-python-2021-04/data/\"\n",
        "surveys_df = pd.read_csv (filepath + 'surveys.csv')"
      ],
      "execution_count": null,
      "outputs": []
    },
    {
      "cell_type": "code",
      "metadata": {
        "id": "HhUFReZ5ngxz"
      },
      "source": [
        ""
      ],
      "execution_count": null,
      "outputs": []
    },
    {
      "cell_type": "code",
      "metadata": {
        "colab": {
          "base_uri": "https://localhost:8080/",
          "height": 444
        },
        "id": "Q9hQJab2qeOp",
        "outputId": "b1cd2687-354e-49f0-e11d-d0ab8156b046"
      },
      "source": [
        "# Quickly view the contents\n",
        "surveys_df"
      ],
      "execution_count": null,
      "outputs": [
        {
          "output_type": "execute_result",
          "data": {
            "text/html": [
              "<div>\n",
              "<style scoped>\n",
              "    .dataframe tbody tr th:only-of-type {\n",
              "        vertical-align: middle;\n",
              "    }\n",
              "\n",
              "    .dataframe tbody tr th {\n",
              "        vertical-align: top;\n",
              "    }\n",
              "\n",
              "    .dataframe thead th {\n",
              "        text-align: right;\n",
              "    }\n",
              "</style>\n",
              "<table border=\"1\" class=\"dataframe\">\n",
              "  <thead>\n",
              "    <tr style=\"text-align: right;\">\n",
              "      <th></th>\n",
              "      <th>record_id</th>\n",
              "      <th>month</th>\n",
              "      <th>day</th>\n",
              "      <th>year</th>\n",
              "      <th>plot_id</th>\n",
              "      <th>species_id</th>\n",
              "      <th>sex</th>\n",
              "      <th>hindfoot_length</th>\n",
              "      <th>weight</th>\n",
              "    </tr>\n",
              "  </thead>\n",
              "  <tbody>\n",
              "    <tr>\n",
              "      <th>0</th>\n",
              "      <td>1</td>\n",
              "      <td>7</td>\n",
              "      <td>16</td>\n",
              "      <td>1977</td>\n",
              "      <td>2</td>\n",
              "      <td>NL</td>\n",
              "      <td>M</td>\n",
              "      <td>32.0</td>\n",
              "      <td>NaN</td>\n",
              "    </tr>\n",
              "    <tr>\n",
              "      <th>1</th>\n",
              "      <td>2</td>\n",
              "      <td>7</td>\n",
              "      <td>16</td>\n",
              "      <td>1977</td>\n",
              "      <td>3</td>\n",
              "      <td>NL</td>\n",
              "      <td>M</td>\n",
              "      <td>33.0</td>\n",
              "      <td>NaN</td>\n",
              "    </tr>\n",
              "    <tr>\n",
              "      <th>2</th>\n",
              "      <td>3</td>\n",
              "      <td>7</td>\n",
              "      <td>16</td>\n",
              "      <td>1977</td>\n",
              "      <td>2</td>\n",
              "      <td>DM</td>\n",
              "      <td>F</td>\n",
              "      <td>37.0</td>\n",
              "      <td>NaN</td>\n",
              "    </tr>\n",
              "    <tr>\n",
              "      <th>3</th>\n",
              "      <td>4</td>\n",
              "      <td>7</td>\n",
              "      <td>16</td>\n",
              "      <td>1977</td>\n",
              "      <td>7</td>\n",
              "      <td>DM</td>\n",
              "      <td>M</td>\n",
              "      <td>36.0</td>\n",
              "      <td>NaN</td>\n",
              "    </tr>\n",
              "    <tr>\n",
              "      <th>4</th>\n",
              "      <td>5</td>\n",
              "      <td>7</td>\n",
              "      <td>16</td>\n",
              "      <td>1977</td>\n",
              "      <td>3</td>\n",
              "      <td>DM</td>\n",
              "      <td>M</td>\n",
              "      <td>35.0</td>\n",
              "      <td>NaN</td>\n",
              "    </tr>\n",
              "    <tr>\n",
              "      <th>...</th>\n",
              "      <td>...</td>\n",
              "      <td>...</td>\n",
              "      <td>...</td>\n",
              "      <td>...</td>\n",
              "      <td>...</td>\n",
              "      <td>...</td>\n",
              "      <td>...</td>\n",
              "      <td>...</td>\n",
              "      <td>...</td>\n",
              "    </tr>\n",
              "    <tr>\n",
              "      <th>35544</th>\n",
              "      <td>35545</td>\n",
              "      <td>12</td>\n",
              "      <td>31</td>\n",
              "      <td>2002</td>\n",
              "      <td>15</td>\n",
              "      <td>AH</td>\n",
              "      <td>NaN</td>\n",
              "      <td>NaN</td>\n",
              "      <td>NaN</td>\n",
              "    </tr>\n",
              "    <tr>\n",
              "      <th>35545</th>\n",
              "      <td>35546</td>\n",
              "      <td>12</td>\n",
              "      <td>31</td>\n",
              "      <td>2002</td>\n",
              "      <td>15</td>\n",
              "      <td>AH</td>\n",
              "      <td>NaN</td>\n",
              "      <td>NaN</td>\n",
              "      <td>NaN</td>\n",
              "    </tr>\n",
              "    <tr>\n",
              "      <th>35546</th>\n",
              "      <td>35547</td>\n",
              "      <td>12</td>\n",
              "      <td>31</td>\n",
              "      <td>2002</td>\n",
              "      <td>10</td>\n",
              "      <td>RM</td>\n",
              "      <td>F</td>\n",
              "      <td>15.0</td>\n",
              "      <td>14.0</td>\n",
              "    </tr>\n",
              "    <tr>\n",
              "      <th>35547</th>\n",
              "      <td>35548</td>\n",
              "      <td>12</td>\n",
              "      <td>31</td>\n",
              "      <td>2002</td>\n",
              "      <td>7</td>\n",
              "      <td>DO</td>\n",
              "      <td>M</td>\n",
              "      <td>36.0</td>\n",
              "      <td>51.0</td>\n",
              "    </tr>\n",
              "    <tr>\n",
              "      <th>35548</th>\n",
              "      <td>35549</td>\n",
              "      <td>12</td>\n",
              "      <td>31</td>\n",
              "      <td>2002</td>\n",
              "      <td>5</td>\n",
              "      <td>NaN</td>\n",
              "      <td>NaN</td>\n",
              "      <td>NaN</td>\n",
              "      <td>NaN</td>\n",
              "    </tr>\n",
              "  </tbody>\n",
              "</table>\n",
              "<p>35549 rows × 9 columns</p>\n",
              "</div>"
            ],
            "text/plain": [
              "       record_id  month  day  year  ...  species_id  sex hindfoot_length  weight\n",
              "0              1      7   16  1977  ...          NL    M            32.0     NaN\n",
              "1              2      7   16  1977  ...          NL    M            33.0     NaN\n",
              "2              3      7   16  1977  ...          DM    F            37.0     NaN\n",
              "3              4      7   16  1977  ...          DM    M            36.0     NaN\n",
              "4              5      7   16  1977  ...          DM    M            35.0     NaN\n",
              "...          ...    ...  ...   ...  ...         ...  ...             ...     ...\n",
              "35544      35545     12   31  2002  ...          AH  NaN             NaN     NaN\n",
              "35545      35546     12   31  2002  ...          AH  NaN             NaN     NaN\n",
              "35546      35547     12   31  2002  ...          RM    F            15.0    14.0\n",
              "35547      35548     12   31  2002  ...          DO    M            36.0    51.0\n",
              "35548      35549     12   31  2002  ...         NaN  NaN             NaN     NaN\n",
              "\n",
              "[35549 rows x 9 columns]"
            ]
          },
          "metadata": {
            "tags": []
          },
          "execution_count": 22
        }
      ]
    },
    {
      "cell_type": "code",
      "metadata": {
        "colab": {
          "base_uri": "https://localhost:8080/",
          "height": 164
        },
        "id": "TKFdrmnIqnGZ",
        "outputId": "75c2af82-835c-482e-f220-159bba78980c"
      },
      "source": [
        "# look at the fist few rows\n",
        "surveys_df.head(3)"
      ],
      "execution_count": null,
      "outputs": [
        {
          "output_type": "execute_result",
          "data": {
            "text/html": [
              "<div>\n",
              "<style scoped>\n",
              "    .dataframe tbody tr th:only-of-type {\n",
              "        vertical-align: middle;\n",
              "    }\n",
              "\n",
              "    .dataframe tbody tr th {\n",
              "        vertical-align: top;\n",
              "    }\n",
              "\n",
              "    .dataframe thead th {\n",
              "        text-align: right;\n",
              "    }\n",
              "</style>\n",
              "<table border=\"1\" class=\"dataframe\">\n",
              "  <thead>\n",
              "    <tr style=\"text-align: right;\">\n",
              "      <th></th>\n",
              "      <th>record_id</th>\n",
              "      <th>month</th>\n",
              "      <th>day</th>\n",
              "      <th>year</th>\n",
              "      <th>plot_id</th>\n",
              "      <th>species_id</th>\n",
              "      <th>sex</th>\n",
              "      <th>hindfoot_length</th>\n",
              "      <th>weight</th>\n",
              "    </tr>\n",
              "  </thead>\n",
              "  <tbody>\n",
              "    <tr>\n",
              "      <th>0</th>\n",
              "      <td>1</td>\n",
              "      <td>7</td>\n",
              "      <td>16</td>\n",
              "      <td>1977</td>\n",
              "      <td>2</td>\n",
              "      <td>NL</td>\n",
              "      <td>M</td>\n",
              "      <td>32.0</td>\n",
              "      <td>NaN</td>\n",
              "    </tr>\n",
              "    <tr>\n",
              "      <th>1</th>\n",
              "      <td>2</td>\n",
              "      <td>7</td>\n",
              "      <td>16</td>\n",
              "      <td>1977</td>\n",
              "      <td>3</td>\n",
              "      <td>NL</td>\n",
              "      <td>M</td>\n",
              "      <td>33.0</td>\n",
              "      <td>NaN</td>\n",
              "    </tr>\n",
              "    <tr>\n",
              "      <th>2</th>\n",
              "      <td>3</td>\n",
              "      <td>7</td>\n",
              "      <td>16</td>\n",
              "      <td>1977</td>\n",
              "      <td>2</td>\n",
              "      <td>DM</td>\n",
              "      <td>F</td>\n",
              "      <td>37.0</td>\n",
              "      <td>NaN</td>\n",
              "    </tr>\n",
              "  </tbody>\n",
              "</table>\n",
              "</div>"
            ],
            "text/plain": [
              "   record_id  month  day  year  plot_id species_id sex  hindfoot_length  weight\n",
              "0          1      7   16  1977        2         NL   M             32.0     NaN\n",
              "1          2      7   16  1977        3         NL   M             33.0     NaN\n",
              "2          3      7   16  1977        2         DM   F             37.0     NaN"
            ]
          },
          "metadata": {
            "tags": []
          },
          "execution_count": 14
        }
      ]
    },
    {
      "cell_type": "markdown",
      "metadata": {
        "id": "jLPurv1NssXA"
      },
      "source": [
        "## Exploring the dataset"
      ]
    },
    {
      "cell_type": "code",
      "metadata": {
        "colab": {
          "base_uri": "https://localhost:8080/"
        },
        "id": "6i7T_PYusvbK",
        "outputId": "8cb0d595-fc3b-4864-a1f9-cc5f19520820"
      },
      "source": [
        "# What is surveys_df\n",
        "type(surveys_df)"
      ],
      "execution_count": null,
      "outputs": [
        {
          "output_type": "execute_result",
          "data": {
            "text/plain": [
              "pandas.core.frame.DataFrame"
            ]
          },
          "metadata": {
            "tags": []
          },
          "execution_count": 16
        }
      ]
    },
    {
      "cell_type": "code",
      "metadata": {
        "colab": {
          "base_uri": "https://localhost:8080/"
        },
        "id": "ctSZL-6Vs4D7",
        "outputId": "b97bb0e8-c7a1-46cf-b4ba-658740d894bd"
      },
      "source": [
        "# What data types are in the dataframe\n",
        "surveys_df.dtypes"
      ],
      "execution_count": null,
      "outputs": [
        {
          "output_type": "execute_result",
          "data": {
            "text/plain": [
              "record_id            int64\n",
              "month                int64\n",
              "day                  int64\n",
              "year                 int64\n",
              "plot_id              int64\n",
              "species_id          object\n",
              "sex                 object\n",
              "hindfoot_length    float64\n",
              "weight             float64\n",
              "dtype: object"
            ]
          },
          "metadata": {
            "tags": []
          },
          "execution_count": 17
        }
      ]
    },
    {
      "cell_type": "code",
      "metadata": {
        "colab": {
          "base_uri": "https://localhost:8080/"
        },
        "id": "10ojDdQGtAbx",
        "outputId": "4225a014-ec5a-426e-889e-02cfa5e3f3b6"
      },
      "source": [
        "# Challenge 1\n",
        "surveys_df.columns"
      ],
      "execution_count": null,
      "outputs": [
        {
          "output_type": "execute_result",
          "data": {
            "text/plain": [
              "Index(['record_id', 'month', 'day', 'year', 'plot_id', 'species_id', 'sex',\n",
              "       'hindfoot_length', 'weight'],\n",
              "      dtype='object')"
            ]
          },
          "metadata": {
            "tags": []
          },
          "execution_count": 18
        }
      ]
    },
    {
      "cell_type": "code",
      "metadata": {
        "colab": {
          "base_uri": "https://localhost:8080/"
        },
        "id": "UQsHndMxu3c3",
        "outputId": "23976687-5a97-4471-cb43-d1fa9c20b71c"
      },
      "source": [
        "surveys_df.shape"
      ],
      "execution_count": null,
      "outputs": [
        {
          "output_type": "execute_result",
          "data": {
            "text/plain": [
              "(35549, 9)"
            ]
          },
          "metadata": {
            "tags": []
          },
          "execution_count": 19
        }
      ]
    },
    {
      "cell_type": "code",
      "metadata": {
        "colab": {
          "base_uri": "https://localhost:8080/",
          "height": 226
        },
        "id": "xCR4Kv7PvCib",
        "outputId": "9811024e-9b85-4c94-9747-4ecbe21c87a9"
      },
      "source": [
        "surveys_df.tail()"
      ],
      "execution_count": null,
      "outputs": [
        {
          "output_type": "execute_result",
          "data": {
            "text/html": [
              "<div>\n",
              "<style scoped>\n",
              "    .dataframe tbody tr th:only-of-type {\n",
              "        vertical-align: middle;\n",
              "    }\n",
              "\n",
              "    .dataframe tbody tr th {\n",
              "        vertical-align: top;\n",
              "    }\n",
              "\n",
              "    .dataframe thead th {\n",
              "        text-align: right;\n",
              "    }\n",
              "</style>\n",
              "<table border=\"1\" class=\"dataframe\">\n",
              "  <thead>\n",
              "    <tr style=\"text-align: right;\">\n",
              "      <th></th>\n",
              "      <th>record_id</th>\n",
              "      <th>month</th>\n",
              "      <th>day</th>\n",
              "      <th>year</th>\n",
              "      <th>plot_id</th>\n",
              "      <th>species_id</th>\n",
              "      <th>sex</th>\n",
              "      <th>hindfoot_length</th>\n",
              "      <th>weight</th>\n",
              "    </tr>\n",
              "  </thead>\n",
              "  <tbody>\n",
              "    <tr>\n",
              "      <th>35544</th>\n",
              "      <td>35545</td>\n",
              "      <td>12</td>\n",
              "      <td>31</td>\n",
              "      <td>2002</td>\n",
              "      <td>15</td>\n",
              "      <td>AH</td>\n",
              "      <td>NaN</td>\n",
              "      <td>NaN</td>\n",
              "      <td>NaN</td>\n",
              "    </tr>\n",
              "    <tr>\n",
              "      <th>35545</th>\n",
              "      <td>35546</td>\n",
              "      <td>12</td>\n",
              "      <td>31</td>\n",
              "      <td>2002</td>\n",
              "      <td>15</td>\n",
              "      <td>AH</td>\n",
              "      <td>NaN</td>\n",
              "      <td>NaN</td>\n",
              "      <td>NaN</td>\n",
              "    </tr>\n",
              "    <tr>\n",
              "      <th>35546</th>\n",
              "      <td>35547</td>\n",
              "      <td>12</td>\n",
              "      <td>31</td>\n",
              "      <td>2002</td>\n",
              "      <td>10</td>\n",
              "      <td>RM</td>\n",
              "      <td>F</td>\n",
              "      <td>15.0</td>\n",
              "      <td>14.0</td>\n",
              "    </tr>\n",
              "    <tr>\n",
              "      <th>35547</th>\n",
              "      <td>35548</td>\n",
              "      <td>12</td>\n",
              "      <td>31</td>\n",
              "      <td>2002</td>\n",
              "      <td>7</td>\n",
              "      <td>DO</td>\n",
              "      <td>M</td>\n",
              "      <td>36.0</td>\n",
              "      <td>51.0</td>\n",
              "    </tr>\n",
              "    <tr>\n",
              "      <th>35548</th>\n",
              "      <td>35549</td>\n",
              "      <td>12</td>\n",
              "      <td>31</td>\n",
              "      <td>2002</td>\n",
              "      <td>5</td>\n",
              "      <td>NaN</td>\n",
              "      <td>NaN</td>\n",
              "      <td>NaN</td>\n",
              "      <td>NaN</td>\n",
              "    </tr>\n",
              "  </tbody>\n",
              "</table>\n",
              "</div>"
            ],
            "text/plain": [
              "       record_id  month  day  year  ...  species_id  sex hindfoot_length  weight\n",
              "35544      35545     12   31  2002  ...          AH  NaN             NaN     NaN\n",
              "35545      35546     12   31  2002  ...          AH  NaN             NaN     NaN\n",
              "35546      35547     12   31  2002  ...          RM    F            15.0    14.0\n",
              "35547      35548     12   31  2002  ...          DO    M            36.0    51.0\n",
              "35548      35549     12   31  2002  ...         NaN  NaN             NaN     NaN\n",
              "\n",
              "[5 rows x 9 columns]"
            ]
          },
          "metadata": {
            "tags": []
          },
          "execution_count": 20
        }
      ]
    },
    {
      "cell_type": "markdown",
      "metadata": {
        "id": "t_L2LpHkvc4n"
      },
      "source": [
        "## Basic statistics on the dataframe"
      ]
    },
    {
      "cell_type": "code",
      "metadata": {
        "colab": {
          "base_uri": "https://localhost:8080/"
        },
        "id": "8XgkXQtlvPQm",
        "outputId": "d543a5aa-4044-48df-c1b6-38355179f593"
      },
      "source": [
        "# Look at the columns\n",
        "surveys_df.columns"
      ],
      "execution_count": null,
      "outputs": [
        {
          "output_type": "execute_result",
          "data": {
            "text/plain": [
              "Index(['record_id', 'month', 'day', 'year', 'plot_id', 'species_id', 'sex',\n",
              "       'hindfoot_length', 'weight'],\n",
              "      dtype='object')"
            ]
          },
          "metadata": {
            "tags": []
          },
          "execution_count": 21
        }
      ]
    },
    {
      "cell_type": "code",
      "metadata": {
        "colab": {
          "base_uri": "https://localhost:8080/"
        },
        "id": "feyNX1W7vomO",
        "outputId": "da255819-ce8b-4c14-9e51-0c4e44525598"
      },
      "source": [
        "# What are the unique values of species\n",
        "pd.unique(surveys_df['species_id'])"
      ],
      "execution_count": null,
      "outputs": [
        {
          "output_type": "execute_result",
          "data": {
            "text/plain": [
              "array(['NL', 'DM', 'PF', 'PE', 'DS', 'PP', 'SH', 'OT', 'DO', 'OX', 'SS',\n",
              "       'OL', 'RM', nan, 'SA', 'PM', 'AH', 'DX', 'AB', 'CB', 'CM', 'CQ',\n",
              "       'RF', 'PC', 'PG', 'PH', 'PU', 'CV', 'UR', 'UP', 'ZL', 'UL', 'CS',\n",
              "       'SC', 'BA', 'SF', 'RO', 'AS', 'SO', 'PI', 'ST', 'CU', 'SU', 'RX',\n",
              "       'PB', 'PL', 'PX', 'CT', 'US'], dtype=object)"
            ]
          },
          "metadata": {
            "tags": []
          },
          "execution_count": 22
        }
      ]
    },
    {
      "cell_type": "code",
      "metadata": {
        "id": "WBQ92Z7Vw_Gb"
      },
      "source": [
        "# Challenge 2: Statistics"
      ],
      "execution_count": null,
      "outputs": []
    },
    {
      "cell_type": "code",
      "metadata": {
        "id": "f5RaWtZFxmvJ"
      },
      "source": [
        "# Create a list of unique plot_id\n",
        "site_names = pd.unique(surveys_df['plot_id'])"
      ],
      "execution_count": null,
      "outputs": []
    },
    {
      "cell_type": "code",
      "metadata": {
        "colab": {
          "base_uri": "https://localhost:8080/"
        },
        "id": "E0Dr80oPyLx-",
        "outputId": "30f1d9cb-cb54-4539-ae82-1cbd2184bad2"
      },
      "source": [
        "site_names"
      ],
      "execution_count": null,
      "outputs": [
        {
          "output_type": "execute_result",
          "data": {
            "text/plain": [
              "array([ 2,  3,  7,  1,  6,  5,  8,  4, 11, 14, 15, 13,  9, 10, 17, 16, 20,\n",
              "       23, 18, 21, 22, 19, 12, 24])"
            ]
          },
          "metadata": {
            "tags": []
          },
          "execution_count": 25
        }
      ]
    },
    {
      "cell_type": "code",
      "metadata": {
        "colab": {
          "base_uri": "https://localhost:8080/"
        },
        "id": "XMPHWw0XyNJn",
        "outputId": "9e7ea845-4e1f-4409-aa0d-2a06e6b89353"
      },
      "source": [
        "# How many unique site names are there?\n",
        "len (site_names)"
      ],
      "execution_count": null,
      "outputs": [
        {
          "output_type": "execute_result",
          "data": {
            "text/plain": [
              "24"
            ]
          },
          "metadata": {
            "tags": []
          },
          "execution_count": 26
        }
      ]
    },
    {
      "cell_type": "code",
      "metadata": {
        "colab": {
          "base_uri": "https://localhost:8080/"
        },
        "id": "3B61bdPJyZAP",
        "outputId": "637a7319-0ee6-4eae-bc76-2302f69caad4"
      },
      "source": [
        "# Number of species\n",
        "len (pd.unique(surveys_df['species_id']))"
      ],
      "execution_count": null,
      "outputs": [
        {
          "output_type": "execute_result",
          "data": {
            "text/plain": [
              "49"
            ]
          },
          "metadata": {
            "tags": []
          },
          "execution_count": 27
        }
      ]
    },
    {
      "cell_type": "code",
      "metadata": {
        "colab": {
          "base_uri": "https://localhost:8080/"
        },
        "id": "bVobh6NSyuVv",
        "outputId": "b0f1c2a5-1d4b-4e62-8842-89f165d25299"
      },
      "source": [
        "# What is the difference between len(site_names) and surveys_df['plot_id'].nunique()?\n",
        "surveys_df['plot_id'].nunique()"
      ],
      "execution_count": null,
      "outputs": [
        {
          "output_type": "execute_result",
          "data": {
            "text/plain": [
              "24"
            ]
          },
          "metadata": {
            "tags": []
          },
          "execution_count": 28
        }
      ]
    },
    {
      "cell_type": "markdown",
      "metadata": {
        "id": "OF-TVjoLzPMx"
      },
      "source": [
        "## Grouping in Pandas"
      ]
    },
    {
      "cell_type": "code",
      "metadata": {
        "id": "yeIMVPV3y2-r"
      },
      "source": [
        "# Homework:\n",
        "# Try the 'grouping in pandas' section *and* the Challenge - Summary Data"
      ],
      "execution_count": null,
      "outputs": []
    },
    {
      "cell_type": "code",
      "metadata": {
        "id": "XQ3P4fXq00jE",
        "colab": {
          "base_uri": "https://localhost:8080/"
        },
        "outputId": "4b5aa492-4343-4911-e6f3-4df739db5f83"
      },
      "source": [
        "surveys_df['weight'].describe()"
      ],
      "execution_count": null,
      "outputs": [
        {
          "output_type": "execute_result",
          "data": {
            "text/plain": [
              "count    32283.000000\n",
              "mean        42.672428\n",
              "std         36.631259\n",
              "min          4.000000\n",
              "25%         20.000000\n",
              "50%         37.000000\n",
              "75%         48.000000\n",
              "max        280.000000\n",
              "Name: weight, dtype: float64"
            ]
          },
          "metadata": {
            "tags": []
          },
          "execution_count": 23
        }
      ]
    },
    {
      "cell_type": "code",
      "metadata": {
        "colab": {
          "base_uri": "https://localhost:8080/"
        },
        "id": "Vg8NP22OocuW",
        "outputId": "835394c1-7f76-4bbc-9ef6-42e28388ae40"
      },
      "source": [
        "# If I want just one statistical metric\n",
        "surveys_df['weight'].max()\n"
      ],
      "execution_count": null,
      "outputs": [
        {
          "output_type": "execute_result",
          "data": {
            "text/plain": [
              "280.0"
            ]
          },
          "metadata": {
            "tags": []
          },
          "execution_count": 25
        }
      ]
    },
    {
      "cell_type": "code",
      "metadata": {
        "colab": {
          "base_uri": "https://localhost:8080/"
        },
        "id": "msBkMWKvoxr6",
        "outputId": "cf4ac915-e78f-4941-9630-a9143f13ef84"
      },
      "source": [
        "surveys_df['weight'].mean()"
      ],
      "execution_count": null,
      "outputs": [
        {
          "output_type": "execute_result",
          "data": {
            "text/plain": [
              "42.672428212991356"
            ]
          },
          "metadata": {
            "tags": []
          },
          "execution_count": 26
        }
      ]
    },
    {
      "cell_type": "code",
      "metadata": {
        "id": "2_XxtEkopDuM"
      },
      "source": [
        "# To sumaarise by one or more variables:\n",
        "grouped_data_sex = surveys_df.groupby('sex')"
      ],
      "execution_count": null,
      "outputs": []
    },
    {
      "cell_type": "code",
      "metadata": {
        "colab": {
          "base_uri": "https://localhost:8080/",
          "height": 195
        },
        "id": "WjeFLgAepQtP",
        "outputId": "bc3dd874-6d9b-4f7f-faff-a51cee06be3a"
      },
      "source": [
        "# Summary statistics\n",
        "grouped_data_sex.describe()"
      ],
      "execution_count": null,
      "outputs": [
        {
          "output_type": "execute_result",
          "data": {
            "text/html": [
              "<div>\n",
              "<style scoped>\n",
              "    .dataframe tbody tr th:only-of-type {\n",
              "        vertical-align: middle;\n",
              "    }\n",
              "\n",
              "    .dataframe tbody tr th {\n",
              "        vertical-align: top;\n",
              "    }\n",
              "\n",
              "    .dataframe thead tr th {\n",
              "        text-align: left;\n",
              "    }\n",
              "\n",
              "    .dataframe thead tr:last-of-type th {\n",
              "        text-align: right;\n",
              "    }\n",
              "</style>\n",
              "<table border=\"1\" class=\"dataframe\">\n",
              "  <thead>\n",
              "    <tr>\n",
              "      <th></th>\n",
              "      <th colspan=\"8\" halign=\"left\">record_id</th>\n",
              "      <th colspan=\"8\" halign=\"left\">month</th>\n",
              "      <th colspan=\"8\" halign=\"left\">day</th>\n",
              "      <th colspan=\"8\" halign=\"left\">year</th>\n",
              "      <th colspan=\"8\" halign=\"left\">plot_id</th>\n",
              "      <th colspan=\"8\" halign=\"left\">hindfoot_length</th>\n",
              "      <th colspan=\"8\" halign=\"left\">weight</th>\n",
              "    </tr>\n",
              "    <tr>\n",
              "      <th></th>\n",
              "      <th>count</th>\n",
              "      <th>mean</th>\n",
              "      <th>std</th>\n",
              "      <th>min</th>\n",
              "      <th>25%</th>\n",
              "      <th>50%</th>\n",
              "      <th>75%</th>\n",
              "      <th>max</th>\n",
              "      <th>count</th>\n",
              "      <th>mean</th>\n",
              "      <th>std</th>\n",
              "      <th>min</th>\n",
              "      <th>25%</th>\n",
              "      <th>50%</th>\n",
              "      <th>75%</th>\n",
              "      <th>max</th>\n",
              "      <th>count</th>\n",
              "      <th>mean</th>\n",
              "      <th>std</th>\n",
              "      <th>min</th>\n",
              "      <th>25%</th>\n",
              "      <th>50%</th>\n",
              "      <th>75%</th>\n",
              "      <th>max</th>\n",
              "      <th>count</th>\n",
              "      <th>mean</th>\n",
              "      <th>std</th>\n",
              "      <th>min</th>\n",
              "      <th>25%</th>\n",
              "      <th>50%</th>\n",
              "      <th>75%</th>\n",
              "      <th>max</th>\n",
              "      <th>count</th>\n",
              "      <th>mean</th>\n",
              "      <th>std</th>\n",
              "      <th>min</th>\n",
              "      <th>25%</th>\n",
              "      <th>50%</th>\n",
              "      <th>75%</th>\n",
              "      <th>max</th>\n",
              "      <th>count</th>\n",
              "      <th>mean</th>\n",
              "      <th>std</th>\n",
              "      <th>min</th>\n",
              "      <th>25%</th>\n",
              "      <th>50%</th>\n",
              "      <th>75%</th>\n",
              "      <th>max</th>\n",
              "      <th>count</th>\n",
              "      <th>mean</th>\n",
              "      <th>std</th>\n",
              "      <th>min</th>\n",
              "      <th>25%</th>\n",
              "      <th>50%</th>\n",
              "      <th>75%</th>\n",
              "      <th>max</th>\n",
              "    </tr>\n",
              "    <tr>\n",
              "      <th>sex</th>\n",
              "      <th></th>\n",
              "      <th></th>\n",
              "      <th></th>\n",
              "      <th></th>\n",
              "      <th></th>\n",
              "      <th></th>\n",
              "      <th></th>\n",
              "      <th></th>\n",
              "      <th></th>\n",
              "      <th></th>\n",
              "      <th></th>\n",
              "      <th></th>\n",
              "      <th></th>\n",
              "      <th></th>\n",
              "      <th></th>\n",
              "      <th></th>\n",
              "      <th></th>\n",
              "      <th></th>\n",
              "      <th></th>\n",
              "      <th></th>\n",
              "      <th></th>\n",
              "      <th></th>\n",
              "      <th></th>\n",
              "      <th></th>\n",
              "      <th></th>\n",
              "      <th></th>\n",
              "      <th></th>\n",
              "      <th></th>\n",
              "      <th></th>\n",
              "      <th></th>\n",
              "      <th></th>\n",
              "      <th></th>\n",
              "      <th></th>\n",
              "      <th></th>\n",
              "      <th></th>\n",
              "      <th></th>\n",
              "      <th></th>\n",
              "      <th></th>\n",
              "      <th></th>\n",
              "      <th></th>\n",
              "      <th></th>\n",
              "      <th></th>\n",
              "      <th></th>\n",
              "      <th></th>\n",
              "      <th></th>\n",
              "      <th></th>\n",
              "      <th></th>\n",
              "      <th></th>\n",
              "      <th></th>\n",
              "      <th></th>\n",
              "      <th></th>\n",
              "      <th></th>\n",
              "      <th></th>\n",
              "      <th></th>\n",
              "      <th></th>\n",
              "      <th></th>\n",
              "    </tr>\n",
              "  </thead>\n",
              "  <tbody>\n",
              "    <tr>\n",
              "      <th>F</th>\n",
              "      <td>15690.0</td>\n",
              "      <td>18036.412046</td>\n",
              "      <td>10423.089000</td>\n",
              "      <td>3.0</td>\n",
              "      <td>8917.50</td>\n",
              "      <td>18075.5</td>\n",
              "      <td>27250.00</td>\n",
              "      <td>35547.0</td>\n",
              "      <td>15690.0</td>\n",
              "      <td>6.587253</td>\n",
              "      <td>3.367584</td>\n",
              "      <td>1.0</td>\n",
              "      <td>4.0</td>\n",
              "      <td>7.0</td>\n",
              "      <td>10.0</td>\n",
              "      <td>12.0</td>\n",
              "      <td>15690.0</td>\n",
              "      <td>15.880943</td>\n",
              "      <td>8.270291</td>\n",
              "      <td>1.0</td>\n",
              "      <td>9.0</td>\n",
              "      <td>15.0</td>\n",
              "      <td>23.0</td>\n",
              "      <td>31.0</td>\n",
              "      <td>15690.0</td>\n",
              "      <td>1990.644997</td>\n",
              "      <td>7.598725</td>\n",
              "      <td>1977.0</td>\n",
              "      <td>1984.0</td>\n",
              "      <td>1990.0</td>\n",
              "      <td>1997.0</td>\n",
              "      <td>2002.0</td>\n",
              "      <td>15690.0</td>\n",
              "      <td>11.440854</td>\n",
              "      <td>6.870684</td>\n",
              "      <td>1.0</td>\n",
              "      <td>5.0</td>\n",
              "      <td>12.0</td>\n",
              "      <td>17.0</td>\n",
              "      <td>24.0</td>\n",
              "      <td>14894.0</td>\n",
              "      <td>28.836780</td>\n",
              "      <td>9.463789</td>\n",
              "      <td>7.0</td>\n",
              "      <td>21.0</td>\n",
              "      <td>27.0</td>\n",
              "      <td>36.0</td>\n",
              "      <td>64.0</td>\n",
              "      <td>15303.0</td>\n",
              "      <td>42.170555</td>\n",
              "      <td>36.847958</td>\n",
              "      <td>4.0</td>\n",
              "      <td>20.0</td>\n",
              "      <td>34.0</td>\n",
              "      <td>46.0</td>\n",
              "      <td>274.0</td>\n",
              "    </tr>\n",
              "    <tr>\n",
              "      <th>M</th>\n",
              "      <td>17348.0</td>\n",
              "      <td>17754.835601</td>\n",
              "      <td>10132.203323</td>\n",
              "      <td>1.0</td>\n",
              "      <td>8969.75</td>\n",
              "      <td>17727.5</td>\n",
              "      <td>26454.25</td>\n",
              "      <td>35548.0</td>\n",
              "      <td>17348.0</td>\n",
              "      <td>6.396184</td>\n",
              "      <td>3.421134</td>\n",
              "      <td>1.0</td>\n",
              "      <td>3.0</td>\n",
              "      <td>6.0</td>\n",
              "      <td>10.0</td>\n",
              "      <td>12.0</td>\n",
              "      <td>17348.0</td>\n",
              "      <td>16.078799</td>\n",
              "      <td>8.200967</td>\n",
              "      <td>1.0</td>\n",
              "      <td>9.0</td>\n",
              "      <td>16.0</td>\n",
              "      <td>23.0</td>\n",
              "      <td>31.0</td>\n",
              "      <td>17348.0</td>\n",
              "      <td>1990.480401</td>\n",
              "      <td>7.403655</td>\n",
              "      <td>1977.0</td>\n",
              "      <td>1984.0</td>\n",
              "      <td>1990.0</td>\n",
              "      <td>1997.0</td>\n",
              "      <td>2002.0</td>\n",
              "      <td>17348.0</td>\n",
              "      <td>11.098282</td>\n",
              "      <td>6.728713</td>\n",
              "      <td>1.0</td>\n",
              "      <td>5.0</td>\n",
              "      <td>11.0</td>\n",
              "      <td>17.0</td>\n",
              "      <td>24.0</td>\n",
              "      <td>16476.0</td>\n",
              "      <td>29.709578</td>\n",
              "      <td>9.629246</td>\n",
              "      <td>2.0</td>\n",
              "      <td>21.0</td>\n",
              "      <td>34.0</td>\n",
              "      <td>36.0</td>\n",
              "      <td>58.0</td>\n",
              "      <td>16879.0</td>\n",
              "      <td>42.995379</td>\n",
              "      <td>36.184981</td>\n",
              "      <td>4.0</td>\n",
              "      <td>20.0</td>\n",
              "      <td>39.0</td>\n",
              "      <td>49.0</td>\n",
              "      <td>280.0</td>\n",
              "    </tr>\n",
              "  </tbody>\n",
              "</table>\n",
              "</div>"
            ],
            "text/plain": [
              "    record_id                                   ... weight                   \n",
              "        count          mean           std  min  ...    25%   50%   75%    max\n",
              "sex                                             ...                          \n",
              "F     15690.0  18036.412046  10423.089000  3.0  ...   20.0  34.0  46.0  274.0\n",
              "M     17348.0  17754.835601  10132.203323  1.0  ...   20.0  39.0  49.0  280.0\n",
              "\n",
              "[2 rows x 56 columns]"
            ]
          },
          "metadata": {
            "tags": []
          },
          "execution_count": 28
        }
      ]
    },
    {
      "cell_type": "code",
      "metadata": {
        "colab": {
          "base_uri": "https://localhost:8080/",
          "height": 164
        },
        "id": "ZZCHZwStpapj",
        "outputId": "2543cb07-cad1-4d73-c9e6-519a7addbb16"
      },
      "source": [
        "# Get just the mean by sex\n",
        "grouped_data_sex.mean()"
      ],
      "execution_count": null,
      "outputs": [
        {
          "output_type": "execute_result",
          "data": {
            "text/html": [
              "<div>\n",
              "<style scoped>\n",
              "    .dataframe tbody tr th:only-of-type {\n",
              "        vertical-align: middle;\n",
              "    }\n",
              "\n",
              "    .dataframe tbody tr th {\n",
              "        vertical-align: top;\n",
              "    }\n",
              "\n",
              "    .dataframe thead th {\n",
              "        text-align: right;\n",
              "    }\n",
              "</style>\n",
              "<table border=\"1\" class=\"dataframe\">\n",
              "  <thead>\n",
              "    <tr style=\"text-align: right;\">\n",
              "      <th></th>\n",
              "      <th>record_id</th>\n",
              "      <th>month</th>\n",
              "      <th>day</th>\n",
              "      <th>year</th>\n",
              "      <th>plot_id</th>\n",
              "      <th>hindfoot_length</th>\n",
              "      <th>weight</th>\n",
              "    </tr>\n",
              "    <tr>\n",
              "      <th>sex</th>\n",
              "      <th></th>\n",
              "      <th></th>\n",
              "      <th></th>\n",
              "      <th></th>\n",
              "      <th></th>\n",
              "      <th></th>\n",
              "      <th></th>\n",
              "    </tr>\n",
              "  </thead>\n",
              "  <tbody>\n",
              "    <tr>\n",
              "      <th>F</th>\n",
              "      <td>18036.412046</td>\n",
              "      <td>6.587253</td>\n",
              "      <td>15.880943</td>\n",
              "      <td>1990.644997</td>\n",
              "      <td>11.440854</td>\n",
              "      <td>28.836780</td>\n",
              "      <td>42.170555</td>\n",
              "    </tr>\n",
              "    <tr>\n",
              "      <th>M</th>\n",
              "      <td>17754.835601</td>\n",
              "      <td>6.396184</td>\n",
              "      <td>16.078799</td>\n",
              "      <td>1990.480401</td>\n",
              "      <td>11.098282</td>\n",
              "      <td>29.709578</td>\n",
              "      <td>42.995379</td>\n",
              "    </tr>\n",
              "  </tbody>\n",
              "</table>\n",
              "</div>"
            ],
            "text/plain": [
              "        record_id     month        day  ...    plot_id  hindfoot_length     weight\n",
              "sex                                     ...                                       \n",
              "F    18036.412046  6.587253  15.880943  ...  11.440854        28.836780  42.170555\n",
              "M    17754.835601  6.396184  16.078799  ...  11.098282        29.709578  42.995379\n",
              "\n",
              "[2 rows x 7 columns]"
            ]
          },
          "metadata": {
            "tags": []
          },
          "execution_count": 29
        }
      ]
    },
    {
      "cell_type": "code",
      "metadata": {
        "colab": {
          "base_uri": "https://localhost:8080/",
          "height": 195
        },
        "id": "mGvuLxbrppl0",
        "outputId": "30f236e2-fccc-4204-ca30-e61745adceee"
      },
      "source": [
        "# Challenge\n",
        "# Q1: How many recorded individuals are female F and how many male M\n",
        "grouped_data_sex.describe()"
      ],
      "execution_count": null,
      "outputs": [
        {
          "output_type": "execute_result",
          "data": {
            "text/html": [
              "<div>\n",
              "<style scoped>\n",
              "    .dataframe tbody tr th:only-of-type {\n",
              "        vertical-align: middle;\n",
              "    }\n",
              "\n",
              "    .dataframe tbody tr th {\n",
              "        vertical-align: top;\n",
              "    }\n",
              "\n",
              "    .dataframe thead tr th {\n",
              "        text-align: left;\n",
              "    }\n",
              "\n",
              "    .dataframe thead tr:last-of-type th {\n",
              "        text-align: right;\n",
              "    }\n",
              "</style>\n",
              "<table border=\"1\" class=\"dataframe\">\n",
              "  <thead>\n",
              "    <tr>\n",
              "      <th></th>\n",
              "      <th colspan=\"8\" halign=\"left\">record_id</th>\n",
              "      <th colspan=\"8\" halign=\"left\">month</th>\n",
              "      <th colspan=\"8\" halign=\"left\">day</th>\n",
              "      <th colspan=\"8\" halign=\"left\">year</th>\n",
              "      <th colspan=\"8\" halign=\"left\">plot_id</th>\n",
              "      <th colspan=\"8\" halign=\"left\">hindfoot_length</th>\n",
              "      <th colspan=\"8\" halign=\"left\">weight</th>\n",
              "    </tr>\n",
              "    <tr>\n",
              "      <th></th>\n",
              "      <th>count</th>\n",
              "      <th>mean</th>\n",
              "      <th>std</th>\n",
              "      <th>min</th>\n",
              "      <th>25%</th>\n",
              "      <th>50%</th>\n",
              "      <th>75%</th>\n",
              "      <th>max</th>\n",
              "      <th>count</th>\n",
              "      <th>mean</th>\n",
              "      <th>std</th>\n",
              "      <th>min</th>\n",
              "      <th>25%</th>\n",
              "      <th>50%</th>\n",
              "      <th>75%</th>\n",
              "      <th>max</th>\n",
              "      <th>count</th>\n",
              "      <th>mean</th>\n",
              "      <th>std</th>\n",
              "      <th>min</th>\n",
              "      <th>25%</th>\n",
              "      <th>50%</th>\n",
              "      <th>75%</th>\n",
              "      <th>max</th>\n",
              "      <th>count</th>\n",
              "      <th>mean</th>\n",
              "      <th>std</th>\n",
              "      <th>min</th>\n",
              "      <th>25%</th>\n",
              "      <th>50%</th>\n",
              "      <th>75%</th>\n",
              "      <th>max</th>\n",
              "      <th>count</th>\n",
              "      <th>mean</th>\n",
              "      <th>std</th>\n",
              "      <th>min</th>\n",
              "      <th>25%</th>\n",
              "      <th>50%</th>\n",
              "      <th>75%</th>\n",
              "      <th>max</th>\n",
              "      <th>count</th>\n",
              "      <th>mean</th>\n",
              "      <th>std</th>\n",
              "      <th>min</th>\n",
              "      <th>25%</th>\n",
              "      <th>50%</th>\n",
              "      <th>75%</th>\n",
              "      <th>max</th>\n",
              "      <th>count</th>\n",
              "      <th>mean</th>\n",
              "      <th>std</th>\n",
              "      <th>min</th>\n",
              "      <th>25%</th>\n",
              "      <th>50%</th>\n",
              "      <th>75%</th>\n",
              "      <th>max</th>\n",
              "    </tr>\n",
              "    <tr>\n",
              "      <th>sex</th>\n",
              "      <th></th>\n",
              "      <th></th>\n",
              "      <th></th>\n",
              "      <th></th>\n",
              "      <th></th>\n",
              "      <th></th>\n",
              "      <th></th>\n",
              "      <th></th>\n",
              "      <th></th>\n",
              "      <th></th>\n",
              "      <th></th>\n",
              "      <th></th>\n",
              "      <th></th>\n",
              "      <th></th>\n",
              "      <th></th>\n",
              "      <th></th>\n",
              "      <th></th>\n",
              "      <th></th>\n",
              "      <th></th>\n",
              "      <th></th>\n",
              "      <th></th>\n",
              "      <th></th>\n",
              "      <th></th>\n",
              "      <th></th>\n",
              "      <th></th>\n",
              "      <th></th>\n",
              "      <th></th>\n",
              "      <th></th>\n",
              "      <th></th>\n",
              "      <th></th>\n",
              "      <th></th>\n",
              "      <th></th>\n",
              "      <th></th>\n",
              "      <th></th>\n",
              "      <th></th>\n",
              "      <th></th>\n",
              "      <th></th>\n",
              "      <th></th>\n",
              "      <th></th>\n",
              "      <th></th>\n",
              "      <th></th>\n",
              "      <th></th>\n",
              "      <th></th>\n",
              "      <th></th>\n",
              "      <th></th>\n",
              "      <th></th>\n",
              "      <th></th>\n",
              "      <th></th>\n",
              "      <th></th>\n",
              "      <th></th>\n",
              "      <th></th>\n",
              "      <th></th>\n",
              "      <th></th>\n",
              "      <th></th>\n",
              "      <th></th>\n",
              "      <th></th>\n",
              "    </tr>\n",
              "  </thead>\n",
              "  <tbody>\n",
              "    <tr>\n",
              "      <th>F</th>\n",
              "      <td>15690.0</td>\n",
              "      <td>18036.412046</td>\n",
              "      <td>10423.089000</td>\n",
              "      <td>3.0</td>\n",
              "      <td>8917.50</td>\n",
              "      <td>18075.5</td>\n",
              "      <td>27250.00</td>\n",
              "      <td>35547.0</td>\n",
              "      <td>15690.0</td>\n",
              "      <td>6.587253</td>\n",
              "      <td>3.367584</td>\n",
              "      <td>1.0</td>\n",
              "      <td>4.0</td>\n",
              "      <td>7.0</td>\n",
              "      <td>10.0</td>\n",
              "      <td>12.0</td>\n",
              "      <td>15690.0</td>\n",
              "      <td>15.880943</td>\n",
              "      <td>8.270291</td>\n",
              "      <td>1.0</td>\n",
              "      <td>9.0</td>\n",
              "      <td>15.0</td>\n",
              "      <td>23.0</td>\n",
              "      <td>31.0</td>\n",
              "      <td>15690.0</td>\n",
              "      <td>1990.644997</td>\n",
              "      <td>7.598725</td>\n",
              "      <td>1977.0</td>\n",
              "      <td>1984.0</td>\n",
              "      <td>1990.0</td>\n",
              "      <td>1997.0</td>\n",
              "      <td>2002.0</td>\n",
              "      <td>15690.0</td>\n",
              "      <td>11.440854</td>\n",
              "      <td>6.870684</td>\n",
              "      <td>1.0</td>\n",
              "      <td>5.0</td>\n",
              "      <td>12.0</td>\n",
              "      <td>17.0</td>\n",
              "      <td>24.0</td>\n",
              "      <td>14894.0</td>\n",
              "      <td>28.836780</td>\n",
              "      <td>9.463789</td>\n",
              "      <td>7.0</td>\n",
              "      <td>21.0</td>\n",
              "      <td>27.0</td>\n",
              "      <td>36.0</td>\n",
              "      <td>64.0</td>\n",
              "      <td>15303.0</td>\n",
              "      <td>42.170555</td>\n",
              "      <td>36.847958</td>\n",
              "      <td>4.0</td>\n",
              "      <td>20.0</td>\n",
              "      <td>34.0</td>\n",
              "      <td>46.0</td>\n",
              "      <td>274.0</td>\n",
              "    </tr>\n",
              "    <tr>\n",
              "      <th>M</th>\n",
              "      <td>17348.0</td>\n",
              "      <td>17754.835601</td>\n",
              "      <td>10132.203323</td>\n",
              "      <td>1.0</td>\n",
              "      <td>8969.75</td>\n",
              "      <td>17727.5</td>\n",
              "      <td>26454.25</td>\n",
              "      <td>35548.0</td>\n",
              "      <td>17348.0</td>\n",
              "      <td>6.396184</td>\n",
              "      <td>3.421134</td>\n",
              "      <td>1.0</td>\n",
              "      <td>3.0</td>\n",
              "      <td>6.0</td>\n",
              "      <td>10.0</td>\n",
              "      <td>12.0</td>\n",
              "      <td>17348.0</td>\n",
              "      <td>16.078799</td>\n",
              "      <td>8.200967</td>\n",
              "      <td>1.0</td>\n",
              "      <td>9.0</td>\n",
              "      <td>16.0</td>\n",
              "      <td>23.0</td>\n",
              "      <td>31.0</td>\n",
              "      <td>17348.0</td>\n",
              "      <td>1990.480401</td>\n",
              "      <td>7.403655</td>\n",
              "      <td>1977.0</td>\n",
              "      <td>1984.0</td>\n",
              "      <td>1990.0</td>\n",
              "      <td>1997.0</td>\n",
              "      <td>2002.0</td>\n",
              "      <td>17348.0</td>\n",
              "      <td>11.098282</td>\n",
              "      <td>6.728713</td>\n",
              "      <td>1.0</td>\n",
              "      <td>5.0</td>\n",
              "      <td>11.0</td>\n",
              "      <td>17.0</td>\n",
              "      <td>24.0</td>\n",
              "      <td>16476.0</td>\n",
              "      <td>29.709578</td>\n",
              "      <td>9.629246</td>\n",
              "      <td>2.0</td>\n",
              "      <td>21.0</td>\n",
              "      <td>34.0</td>\n",
              "      <td>36.0</td>\n",
              "      <td>58.0</td>\n",
              "      <td>16879.0</td>\n",
              "      <td>42.995379</td>\n",
              "      <td>36.184981</td>\n",
              "      <td>4.0</td>\n",
              "      <td>20.0</td>\n",
              "      <td>39.0</td>\n",
              "      <td>49.0</td>\n",
              "      <td>280.0</td>\n",
              "    </tr>\n",
              "  </tbody>\n",
              "</table>\n",
              "</div>"
            ],
            "text/plain": [
              "    record_id                                   ... weight                   \n",
              "        count          mean           std  min  ...    25%   50%   75%    max\n",
              "sex                                             ...                          \n",
              "F     15690.0  18036.412046  10423.089000  3.0  ...   20.0  34.0  46.0  274.0\n",
              "M     17348.0  17754.835601  10132.203323  1.0  ...   20.0  39.0  49.0  280.0\n",
              "\n",
              "[2 rows x 56 columns]"
            ]
          },
          "metadata": {
            "tags": []
          },
          "execution_count": 32
        }
      ]
    },
    {
      "cell_type": "code",
      "metadata": {
        "id": "X0LXJvuxql1q"
      },
      "source": [
        "# Q2: What happens when you group by two columns using the following syntax and then calculate mean values?\n",
        "grouped_data2 = surveys_df.groupby(['plot_id', 'sex'])\n"
      ],
      "execution_count": null,
      "outputs": []
    },
    {
      "cell_type": "code",
      "metadata": {
        "colab": {
          "base_uri": "https://localhost:8080/",
          "height": 1000
        },
        "id": "uxZY9YEBrTYF",
        "outputId": "90e59096-1c4f-49cf-c217-27d77c73e67a"
      },
      "source": [
        "grouped_data2.mean()"
      ],
      "execution_count": null,
      "outputs": [
        {
          "output_type": "execute_result",
          "data": {
            "text/html": [
              "<div>\n",
              "<style scoped>\n",
              "    .dataframe tbody tr th:only-of-type {\n",
              "        vertical-align: middle;\n",
              "    }\n",
              "\n",
              "    .dataframe tbody tr th {\n",
              "        vertical-align: top;\n",
              "    }\n",
              "\n",
              "    .dataframe thead th {\n",
              "        text-align: right;\n",
              "    }\n",
              "</style>\n",
              "<table border=\"1\" class=\"dataframe\">\n",
              "  <thead>\n",
              "    <tr style=\"text-align: right;\">\n",
              "      <th></th>\n",
              "      <th></th>\n",
              "      <th>record_id</th>\n",
              "      <th>month</th>\n",
              "      <th>day</th>\n",
              "      <th>year</th>\n",
              "      <th>hindfoot_length</th>\n",
              "      <th>weight</th>\n",
              "    </tr>\n",
              "    <tr>\n",
              "      <th>plot_id</th>\n",
              "      <th>sex</th>\n",
              "      <th></th>\n",
              "      <th></th>\n",
              "      <th></th>\n",
              "      <th></th>\n",
              "      <th></th>\n",
              "      <th></th>\n",
              "    </tr>\n",
              "  </thead>\n",
              "  <tbody>\n",
              "    <tr>\n",
              "      <th rowspan=\"2\" valign=\"top\">1</th>\n",
              "      <th>F</th>\n",
              "      <td>18390.384434</td>\n",
              "      <td>6.597877</td>\n",
              "      <td>15.338443</td>\n",
              "      <td>1990.933962</td>\n",
              "      <td>31.733911</td>\n",
              "      <td>46.311138</td>\n",
              "    </tr>\n",
              "    <tr>\n",
              "      <th>M</th>\n",
              "      <td>17197.740639</td>\n",
              "      <td>6.121461</td>\n",
              "      <td>15.905936</td>\n",
              "      <td>1990.091324</td>\n",
              "      <td>34.302770</td>\n",
              "      <td>55.950560</td>\n",
              "    </tr>\n",
              "    <tr>\n",
              "      <th rowspan=\"2\" valign=\"top\">2</th>\n",
              "      <th>F</th>\n",
              "      <td>17714.753608</td>\n",
              "      <td>6.426804</td>\n",
              "      <td>16.288660</td>\n",
              "      <td>1990.449485</td>\n",
              "      <td>30.161220</td>\n",
              "      <td>52.561845</td>\n",
              "    </tr>\n",
              "    <tr>\n",
              "      <th>M</th>\n",
              "      <td>18085.458042</td>\n",
              "      <td>6.340035</td>\n",
              "      <td>15.440559</td>\n",
              "      <td>1990.756119</td>\n",
              "      <td>30.353760</td>\n",
              "      <td>51.391382</td>\n",
              "    </tr>\n",
              "    <tr>\n",
              "      <th rowspan=\"2\" valign=\"top\">3</th>\n",
              "      <th>F</th>\n",
              "      <td>19888.783875</td>\n",
              "      <td>6.610302</td>\n",
              "      <td>15.993281</td>\n",
              "      <td>1992.013438</td>\n",
              "      <td>23.774044</td>\n",
              "      <td>31.215349</td>\n",
              "    </tr>\n",
              "    <tr>\n",
              "      <th>M</th>\n",
              "      <td>20226.767857</td>\n",
              "      <td>6.277381</td>\n",
              "      <td>16.271429</td>\n",
              "      <td>1992.275000</td>\n",
              "      <td>23.833744</td>\n",
              "      <td>34.163241</td>\n",
              "    </tr>\n",
              "    <tr>\n",
              "      <th rowspan=\"2\" valign=\"top\">4</th>\n",
              "      <th>F</th>\n",
              "      <td>17489.205275</td>\n",
              "      <td>6.447248</td>\n",
              "      <td>15.608945</td>\n",
              "      <td>1990.235092</td>\n",
              "      <td>33.249102</td>\n",
              "      <td>46.818824</td>\n",
              "    </tr>\n",
              "    <tr>\n",
              "      <th>M</th>\n",
              "      <td>18493.841748</td>\n",
              "      <td>6.436893</td>\n",
              "      <td>16.303883</td>\n",
              "      <td>1991.000971</td>\n",
              "      <td>34.097959</td>\n",
              "      <td>48.888119</td>\n",
              "    </tr>\n",
              "    <tr>\n",
              "      <th rowspan=\"2\" valign=\"top\">5</th>\n",
              "      <th>F</th>\n",
              "      <td>12280.793169</td>\n",
              "      <td>6.142315</td>\n",
              "      <td>15.722960</td>\n",
              "      <td>1986.485769</td>\n",
              "      <td>28.921844</td>\n",
              "      <td>40.974806</td>\n",
              "    </tr>\n",
              "    <tr>\n",
              "      <th>M</th>\n",
              "      <td>12798.426621</td>\n",
              "      <td>6.194539</td>\n",
              "      <td>15.703072</td>\n",
              "      <td>1986.817406</td>\n",
              "      <td>29.694794</td>\n",
              "      <td>40.708551</td>\n",
              "    </tr>\n",
              "    <tr>\n",
              "      <th rowspan=\"2\" valign=\"top\">6</th>\n",
              "      <th>F</th>\n",
              "      <td>19406.503392</td>\n",
              "      <td>6.640434</td>\n",
              "      <td>15.947083</td>\n",
              "      <td>1991.579376</td>\n",
              "      <td>26.981322</td>\n",
              "      <td>36.352288</td>\n",
              "    </tr>\n",
              "    <tr>\n",
              "      <th>M</th>\n",
              "      <td>17849.574607</td>\n",
              "      <td>6.043194</td>\n",
              "      <td>15.856021</td>\n",
              "      <td>1990.556283</td>\n",
              "      <td>27.425591</td>\n",
              "      <td>36.867388</td>\n",
              "    </tr>\n",
              "    <tr>\n",
              "      <th rowspan=\"2\" valign=\"top\">7</th>\n",
              "      <th>F</th>\n",
              "      <td>19069.668657</td>\n",
              "      <td>6.385075</td>\n",
              "      <td>15.313433</td>\n",
              "      <td>1991.441791</td>\n",
              "      <td>19.779553</td>\n",
              "      <td>20.006135</td>\n",
              "    </tr>\n",
              "    <tr>\n",
              "      <th>M</th>\n",
              "      <td>19188.729642</td>\n",
              "      <td>6.719870</td>\n",
              "      <td>15.778502</td>\n",
              "      <td>1991.462541</td>\n",
              "      <td>20.536667</td>\n",
              "      <td>21.194719</td>\n",
              "    </tr>\n",
              "    <tr>\n",
              "      <th rowspan=\"2\" valign=\"top\">8</th>\n",
              "      <th>F</th>\n",
              "      <td>18920.276190</td>\n",
              "      <td>6.644048</td>\n",
              "      <td>15.479762</td>\n",
              "      <td>1991.267857</td>\n",
              "      <td>32.187578</td>\n",
              "      <td>45.623011</td>\n",
              "    </tr>\n",
              "    <tr>\n",
              "      <th>M</th>\n",
              "      <td>19452.109868</td>\n",
              "      <td>6.585961</td>\n",
              "      <td>15.427263</td>\n",
              "      <td>1991.686673</td>\n",
              "      <td>33.751059</td>\n",
              "      <td>49.641372</td>\n",
              "    </tr>\n",
              "    <tr>\n",
              "      <th rowspan=\"2\" valign=\"top\">9</th>\n",
              "      <th>F</th>\n",
              "      <td>16217.497069</td>\n",
              "      <td>6.507620</td>\n",
              "      <td>15.309496</td>\n",
              "      <td>1989.303634</td>\n",
              "      <td>35.126092</td>\n",
              "      <td>53.618469</td>\n",
              "    </tr>\n",
              "    <tr>\n",
              "      <th>M</th>\n",
              "      <td>18000.710159</td>\n",
              "      <td>6.369522</td>\n",
              "      <td>14.970120</td>\n",
              "      <td>1990.632470</td>\n",
              "      <td>34.175732</td>\n",
              "      <td>49.519309</td>\n",
              "    </tr>\n",
              "    <tr>\n",
              "      <th rowspan=\"2\" valign=\"top\">10</th>\n",
              "      <th>F</th>\n",
              "      <td>16001.496454</td>\n",
              "      <td>5.588652</td>\n",
              "      <td>16.964539</td>\n",
              "      <td>1989.248227</td>\n",
              "      <td>18.641791</td>\n",
              "      <td>17.094203</td>\n",
              "    </tr>\n",
              "    <tr>\n",
              "      <th>M</th>\n",
              "      <td>15708.704225</td>\n",
              "      <td>5.718310</td>\n",
              "      <td>16.739437</td>\n",
              "      <td>1989.007042</td>\n",
              "      <td>19.567164</td>\n",
              "      <td>19.971223</td>\n",
              "    </tr>\n",
              "    <tr>\n",
              "      <th rowspan=\"2\" valign=\"top\">11</th>\n",
              "      <th>F</th>\n",
              "      <td>16994.962287</td>\n",
              "      <td>6.770073</td>\n",
              "      <td>15.954988</td>\n",
              "      <td>1989.836983</td>\n",
              "      <td>32.029299</td>\n",
              "      <td>43.515075</td>\n",
              "    </tr>\n",
              "    <tr>\n",
              "      <th>M</th>\n",
              "      <td>16933.909621</td>\n",
              "      <td>6.379981</td>\n",
              "      <td>15.799806</td>\n",
              "      <td>1989.856171</td>\n",
              "      <td>32.078014</td>\n",
              "      <td>43.366197</td>\n",
              "    </tr>\n",
              "    <tr>\n",
              "      <th rowspan=\"2\" valign=\"top\">12</th>\n",
              "      <th>F</th>\n",
              "      <td>17457.966981</td>\n",
              "      <td>6.509434</td>\n",
              "      <td>16.305660</td>\n",
              "      <td>1990.266981</td>\n",
              "      <td>30.975124</td>\n",
              "      <td>49.831731</td>\n",
              "    </tr>\n",
              "    <tr>\n",
              "      <th>M</th>\n",
              "      <td>17592.327500</td>\n",
              "      <td>6.304167</td>\n",
              "      <td>16.367500</td>\n",
              "      <td>1990.400833</td>\n",
              "      <td>31.762489</td>\n",
              "      <td>48.909710</td>\n",
              "    </tr>\n",
              "    <tr>\n",
              "      <th rowspan=\"2\" valign=\"top\">13</th>\n",
              "      <th>F</th>\n",
              "      <td>18033.100318</td>\n",
              "      <td>6.815287</td>\n",
              "      <td>15.847134</td>\n",
              "      <td>1990.619427</td>\n",
              "      <td>27.201014</td>\n",
              "      <td>40.524590</td>\n",
              "    </tr>\n",
              "    <tr>\n",
              "      <th>M</th>\n",
              "      <td>16969.044700</td>\n",
              "      <td>6.485313</td>\n",
              "      <td>15.851852</td>\n",
              "      <td>1989.911877</td>\n",
              "      <td>27.893793</td>\n",
              "      <td>40.097754</td>\n",
              "    </tr>\n",
              "    <tr>\n",
              "      <th rowspan=\"2\" valign=\"top\">14</th>\n",
              "      <th>F</th>\n",
              "      <td>17097.145275</td>\n",
              "      <td>6.519041</td>\n",
              "      <td>16.427362</td>\n",
              "      <td>1989.974612</td>\n",
              "      <td>32.973373</td>\n",
              "      <td>47.355491</td>\n",
              "    </tr>\n",
              "    <tr>\n",
              "      <th>M</th>\n",
              "      <td>17891.948598</td>\n",
              "      <td>6.666355</td>\n",
              "      <td>16.336449</td>\n",
              "      <td>1990.587850</td>\n",
              "      <td>32.961802</td>\n",
              "      <td>45.159378</td>\n",
              "    </tr>\n",
              "    <tr>\n",
              "      <th rowspan=\"2\" valign=\"top\">15</th>\n",
              "      <th>F</th>\n",
              "      <td>20602.449064</td>\n",
              "      <td>6.582121</td>\n",
              "      <td>15.787942</td>\n",
              "      <td>1992.523909</td>\n",
              "      <td>21.949891</td>\n",
              "      <td>26.670236</td>\n",
              "    </tr>\n",
              "    <tr>\n",
              "      <th>M</th>\n",
              "      <td>18104.019560</td>\n",
              "      <td>6.193154</td>\n",
              "      <td>17.193154</td>\n",
              "      <td>1990.770171</td>\n",
              "      <td>21.803109</td>\n",
              "      <td>27.523691</td>\n",
              "    </tr>\n",
              "    <tr>\n",
              "      <th rowspan=\"2\" valign=\"top\">16</th>\n",
              "      <th>F</th>\n",
              "      <td>19002.445946</td>\n",
              "      <td>6.369369</td>\n",
              "      <td>16.549550</td>\n",
              "      <td>1991.351351</td>\n",
              "      <td>23.144928</td>\n",
              "      <td>25.810427</td>\n",
              "    </tr>\n",
              "    <tr>\n",
              "      <th>M</th>\n",
              "      <td>18434.714286</td>\n",
              "      <td>6.208791</td>\n",
              "      <td>16.402930</td>\n",
              "      <td>1990.926740</td>\n",
              "      <td>23.480916</td>\n",
              "      <td>23.811321</td>\n",
              "    </tr>\n",
              "    <tr>\n",
              "      <th rowspan=\"2\" valign=\"top\">17</th>\n",
              "      <th>F</th>\n",
              "      <td>18234.322870</td>\n",
              "      <td>6.650224</td>\n",
              "      <td>15.892377</td>\n",
              "      <td>1990.785874</td>\n",
              "      <td>30.918536</td>\n",
              "      <td>48.176201</td>\n",
              "    </tr>\n",
              "    <tr>\n",
              "      <th>M</th>\n",
              "      <td>18857.651472</td>\n",
              "      <td>6.569801</td>\n",
              "      <td>16.183286</td>\n",
              "      <td>1991.331434</td>\n",
              "      <td>32.227634</td>\n",
              "      <td>47.558853</td>\n",
              "    </tr>\n",
              "    <tr>\n",
              "      <th rowspan=\"2\" valign=\"top\">18</th>\n",
              "      <th>F</th>\n",
              "      <td>17940.875497</td>\n",
              "      <td>6.698013</td>\n",
              "      <td>15.960265</td>\n",
              "      <td>1990.536424</td>\n",
              "      <td>26.690341</td>\n",
              "      <td>36.963514</td>\n",
              "    </tr>\n",
              "    <tr>\n",
              "      <th>M</th>\n",
              "      <td>15106.718850</td>\n",
              "      <td>6.610224</td>\n",
              "      <td>16.797125</td>\n",
              "      <td>1988.551118</td>\n",
              "      <td>27.703072</td>\n",
              "      <td>43.546952</td>\n",
              "    </tr>\n",
              "    <tr>\n",
              "      <th rowspan=\"2\" valign=\"top\">19</th>\n",
              "      <th>F</th>\n",
              "      <td>21848.216475</td>\n",
              "      <td>6.701149</td>\n",
              "      <td>15.226054</td>\n",
              "      <td>1993.417625</td>\n",
              "      <td>21.257937</td>\n",
              "      <td>21.978599</td>\n",
              "    </tr>\n",
              "    <tr>\n",
              "      <th>M</th>\n",
              "      <td>19470.779690</td>\n",
              "      <td>6.533563</td>\n",
              "      <td>16.647160</td>\n",
              "      <td>1991.740103</td>\n",
              "      <td>21.071685</td>\n",
              "      <td>20.306878</td>\n",
              "    </tr>\n",
              "    <tr>\n",
              "      <th rowspan=\"2\" valign=\"top\">20</th>\n",
              "      <th>F</th>\n",
              "      <td>17510.769231</td>\n",
              "      <td>6.743077</td>\n",
              "      <td>16.026154</td>\n",
              "      <td>1990.253846</td>\n",
              "      <td>27.069193</td>\n",
              "      <td>52.624406</td>\n",
              "    </tr>\n",
              "    <tr>\n",
              "      <th>M</th>\n",
              "      <td>16076.192496</td>\n",
              "      <td>6.489396</td>\n",
              "      <td>16.375204</td>\n",
              "      <td>1989.243067</td>\n",
              "      <td>27.908451</td>\n",
              "      <td>44.197279</td>\n",
              "    </tr>\n",
              "    <tr>\n",
              "      <th rowspan=\"2\" valign=\"top\">21</th>\n",
              "      <th>F</th>\n",
              "      <td>22452.636661</td>\n",
              "      <td>6.860884</td>\n",
              "      <td>16.307692</td>\n",
              "      <td>1993.878887</td>\n",
              "      <td>22.366554</td>\n",
              "      <td>25.974832</td>\n",
              "    </tr>\n",
              "    <tr>\n",
              "      <th>M</th>\n",
              "      <td>20120.399113</td>\n",
              "      <td>6.671840</td>\n",
              "      <td>16.203991</td>\n",
              "      <td>1992.199557</td>\n",
              "      <td>21.736721</td>\n",
              "      <td>22.772622</td>\n",
              "    </tr>\n",
              "    <tr>\n",
              "      <th rowspan=\"2\" valign=\"top\">22</th>\n",
              "      <th>F</th>\n",
              "      <td>18499.695976</td>\n",
              "      <td>6.651267</td>\n",
              "      <td>15.521610</td>\n",
              "      <td>1990.973174</td>\n",
              "      <td>34.108320</td>\n",
              "      <td>53.647059</td>\n",
              "    </tr>\n",
              "    <tr>\n",
              "      <th>M</th>\n",
              "      <td>18015.365527</td>\n",
              "      <td>6.381872</td>\n",
              "      <td>16.682021</td>\n",
              "      <td>1990.650817</td>\n",
              "      <td>33.359746</td>\n",
              "      <td>54.572531</td>\n",
              "    </tr>\n",
              "    <tr>\n",
              "      <th rowspan=\"2\" valign=\"top\">23</th>\n",
              "      <th>F</th>\n",
              "      <td>15863.193939</td>\n",
              "      <td>6.860606</td>\n",
              "      <td>16.036364</td>\n",
              "      <td>1989.024242</td>\n",
              "      <td>20.051948</td>\n",
              "      <td>20.564417</td>\n",
              "    </tr>\n",
              "    <tr>\n",
              "      <th>M</th>\n",
              "      <td>17091.338164</td>\n",
              "      <td>6.391304</td>\n",
              "      <td>16.077295</td>\n",
              "      <td>1989.961353</td>\n",
              "      <td>19.850000</td>\n",
              "      <td>18.941463</td>\n",
              "    </tr>\n",
              "    <tr>\n",
              "      <th rowspan=\"2\" valign=\"top\">24</th>\n",
              "      <th>F</th>\n",
              "      <td>13702.224280</td>\n",
              "      <td>6.596708</td>\n",
              "      <td>16.393004</td>\n",
              "      <td>1987.485597</td>\n",
              "      <td>26.993377</td>\n",
              "      <td>47.914405</td>\n",
              "    </tr>\n",
              "    <tr>\n",
              "      <th>M</th>\n",
              "      <td>15208.136082</td>\n",
              "      <td>6.360825</td>\n",
              "      <td>16.971134</td>\n",
              "      <td>1988.641237</td>\n",
              "      <td>25.786996</td>\n",
              "      <td>39.321503</td>\n",
              "    </tr>\n",
              "  </tbody>\n",
              "</table>\n",
              "</div>"
            ],
            "text/plain": [
              "                record_id     month  ...  hindfoot_length     weight\n",
              "plot_id sex                          ...                            \n",
              "1       F    18390.384434  6.597877  ...        31.733911  46.311138\n",
              "        M    17197.740639  6.121461  ...        34.302770  55.950560\n",
              "2       F    17714.753608  6.426804  ...        30.161220  52.561845\n",
              "        M    18085.458042  6.340035  ...        30.353760  51.391382\n",
              "3       F    19888.783875  6.610302  ...        23.774044  31.215349\n",
              "        M    20226.767857  6.277381  ...        23.833744  34.163241\n",
              "4       F    17489.205275  6.447248  ...        33.249102  46.818824\n",
              "        M    18493.841748  6.436893  ...        34.097959  48.888119\n",
              "5       F    12280.793169  6.142315  ...        28.921844  40.974806\n",
              "        M    12798.426621  6.194539  ...        29.694794  40.708551\n",
              "6       F    19406.503392  6.640434  ...        26.981322  36.352288\n",
              "        M    17849.574607  6.043194  ...        27.425591  36.867388\n",
              "7       F    19069.668657  6.385075  ...        19.779553  20.006135\n",
              "        M    19188.729642  6.719870  ...        20.536667  21.194719\n",
              "8       F    18920.276190  6.644048  ...        32.187578  45.623011\n",
              "        M    19452.109868  6.585961  ...        33.751059  49.641372\n",
              "9       F    16217.497069  6.507620  ...        35.126092  53.618469\n",
              "        M    18000.710159  6.369522  ...        34.175732  49.519309\n",
              "10      F    16001.496454  5.588652  ...        18.641791  17.094203\n",
              "        M    15708.704225  5.718310  ...        19.567164  19.971223\n",
              "11      F    16994.962287  6.770073  ...        32.029299  43.515075\n",
              "        M    16933.909621  6.379981  ...        32.078014  43.366197\n",
              "12      F    17457.966981  6.509434  ...        30.975124  49.831731\n",
              "        M    17592.327500  6.304167  ...        31.762489  48.909710\n",
              "13      F    18033.100318  6.815287  ...        27.201014  40.524590\n",
              "        M    16969.044700  6.485313  ...        27.893793  40.097754\n",
              "14      F    17097.145275  6.519041  ...        32.973373  47.355491\n",
              "        M    17891.948598  6.666355  ...        32.961802  45.159378\n",
              "15      F    20602.449064  6.582121  ...        21.949891  26.670236\n",
              "        M    18104.019560  6.193154  ...        21.803109  27.523691\n",
              "16      F    19002.445946  6.369369  ...        23.144928  25.810427\n",
              "        M    18434.714286  6.208791  ...        23.480916  23.811321\n",
              "17      F    18234.322870  6.650224  ...        30.918536  48.176201\n",
              "        M    18857.651472  6.569801  ...        32.227634  47.558853\n",
              "18      F    17940.875497  6.698013  ...        26.690341  36.963514\n",
              "        M    15106.718850  6.610224  ...        27.703072  43.546952\n",
              "19      F    21848.216475  6.701149  ...        21.257937  21.978599\n",
              "        M    19470.779690  6.533563  ...        21.071685  20.306878\n",
              "20      F    17510.769231  6.743077  ...        27.069193  52.624406\n",
              "        M    16076.192496  6.489396  ...        27.908451  44.197279\n",
              "21      F    22452.636661  6.860884  ...        22.366554  25.974832\n",
              "        M    20120.399113  6.671840  ...        21.736721  22.772622\n",
              "22      F    18499.695976  6.651267  ...        34.108320  53.647059\n",
              "        M    18015.365527  6.381872  ...        33.359746  54.572531\n",
              "23      F    15863.193939  6.860606  ...        20.051948  20.564417\n",
              "        M    17091.338164  6.391304  ...        19.850000  18.941463\n",
              "24      F    13702.224280  6.596708  ...        26.993377  47.914405\n",
              "        M    15208.136082  6.360825  ...        25.786996  39.321503\n",
              "\n",
              "[48 rows x 6 columns]"
            ]
          },
          "metadata": {
            "tags": []
          },
          "execution_count": 34
        }
      ]
    },
    {
      "cell_type": "code",
      "metadata": {
        "colab": {
          "base_uri": "https://localhost:8080/",
          "height": 853
        },
        "id": "j3wLBtQlrnpD",
        "outputId": "957d11fa-b82f-4910-93f2-04912a67ea28"
      },
      "source": [
        "# Q3: Summarize weight values for each site in your data. HINT: you can use the following syntax to only \n",
        "# create summary statistics for one column in your data. \n",
        "# by_site['weight'].describe()\n",
        "\n",
        "by_site = surveys_df.groupby(['plot_id'])\n",
        "by_site[\"weight\"].describe()"
      ],
      "execution_count": null,
      "outputs": [
        {
          "output_type": "execute_result",
          "data": {
            "text/html": [
              "<div>\n",
              "<style scoped>\n",
              "    .dataframe tbody tr th:only-of-type {\n",
              "        vertical-align: middle;\n",
              "    }\n",
              "\n",
              "    .dataframe tbody tr th {\n",
              "        vertical-align: top;\n",
              "    }\n",
              "\n",
              "    .dataframe thead th {\n",
              "        text-align: right;\n",
              "    }\n",
              "</style>\n",
              "<table border=\"1\" class=\"dataframe\">\n",
              "  <thead>\n",
              "    <tr style=\"text-align: right;\">\n",
              "      <th></th>\n",
              "      <th>count</th>\n",
              "      <th>mean</th>\n",
              "      <th>std</th>\n",
              "      <th>min</th>\n",
              "      <th>25%</th>\n",
              "      <th>50%</th>\n",
              "      <th>75%</th>\n",
              "      <th>max</th>\n",
              "    </tr>\n",
              "    <tr>\n",
              "      <th>plot_id</th>\n",
              "      <th></th>\n",
              "      <th></th>\n",
              "      <th></th>\n",
              "      <th></th>\n",
              "      <th></th>\n",
              "      <th></th>\n",
              "      <th></th>\n",
              "      <th></th>\n",
              "    </tr>\n",
              "  </thead>\n",
              "  <tbody>\n",
              "    <tr>\n",
              "      <th>1</th>\n",
              "      <td>1903.0</td>\n",
              "      <td>51.822911</td>\n",
              "      <td>38.176670</td>\n",
              "      <td>4.0</td>\n",
              "      <td>30.0</td>\n",
              "      <td>44.0</td>\n",
              "      <td>53.0</td>\n",
              "      <td>231.0</td>\n",
              "    </tr>\n",
              "    <tr>\n",
              "      <th>2</th>\n",
              "      <td>2074.0</td>\n",
              "      <td>52.251688</td>\n",
              "      <td>46.503602</td>\n",
              "      <td>5.0</td>\n",
              "      <td>24.0</td>\n",
              "      <td>41.0</td>\n",
              "      <td>50.0</td>\n",
              "      <td>278.0</td>\n",
              "    </tr>\n",
              "    <tr>\n",
              "      <th>3</th>\n",
              "      <td>1710.0</td>\n",
              "      <td>32.654386</td>\n",
              "      <td>35.641630</td>\n",
              "      <td>4.0</td>\n",
              "      <td>14.0</td>\n",
              "      <td>23.0</td>\n",
              "      <td>36.0</td>\n",
              "      <td>250.0</td>\n",
              "    </tr>\n",
              "    <tr>\n",
              "      <th>4</th>\n",
              "      <td>1866.0</td>\n",
              "      <td>47.928189</td>\n",
              "      <td>32.886598</td>\n",
              "      <td>4.0</td>\n",
              "      <td>30.0</td>\n",
              "      <td>43.0</td>\n",
              "      <td>50.0</td>\n",
              "      <td>200.0</td>\n",
              "    </tr>\n",
              "    <tr>\n",
              "      <th>5</th>\n",
              "      <td>1092.0</td>\n",
              "      <td>40.947802</td>\n",
              "      <td>34.086616</td>\n",
              "      <td>5.0</td>\n",
              "      <td>21.0</td>\n",
              "      <td>37.0</td>\n",
              "      <td>48.0</td>\n",
              "      <td>248.0</td>\n",
              "    </tr>\n",
              "    <tr>\n",
              "      <th>6</th>\n",
              "      <td>1463.0</td>\n",
              "      <td>36.738893</td>\n",
              "      <td>30.648310</td>\n",
              "      <td>5.0</td>\n",
              "      <td>18.0</td>\n",
              "      <td>30.0</td>\n",
              "      <td>45.0</td>\n",
              "      <td>243.0</td>\n",
              "    </tr>\n",
              "    <tr>\n",
              "      <th>7</th>\n",
              "      <td>638.0</td>\n",
              "      <td>20.663009</td>\n",
              "      <td>21.315325</td>\n",
              "      <td>4.0</td>\n",
              "      <td>11.0</td>\n",
              "      <td>17.0</td>\n",
              "      <td>23.0</td>\n",
              "      <td>235.0</td>\n",
              "    </tr>\n",
              "    <tr>\n",
              "      <th>8</th>\n",
              "      <td>1781.0</td>\n",
              "      <td>47.758001</td>\n",
              "      <td>33.192194</td>\n",
              "      <td>5.0</td>\n",
              "      <td>26.0</td>\n",
              "      <td>44.0</td>\n",
              "      <td>51.0</td>\n",
              "      <td>178.0</td>\n",
              "    </tr>\n",
              "    <tr>\n",
              "      <th>9</th>\n",
              "      <td>1811.0</td>\n",
              "      <td>51.432358</td>\n",
              "      <td>33.724726</td>\n",
              "      <td>6.0</td>\n",
              "      <td>36.0</td>\n",
              "      <td>45.0</td>\n",
              "      <td>50.0</td>\n",
              "      <td>275.0</td>\n",
              "    </tr>\n",
              "    <tr>\n",
              "      <th>10</th>\n",
              "      <td>279.0</td>\n",
              "      <td>18.541219</td>\n",
              "      <td>20.290806</td>\n",
              "      <td>4.0</td>\n",
              "      <td>10.0</td>\n",
              "      <td>12.0</td>\n",
              "      <td>21.0</td>\n",
              "      <td>237.0</td>\n",
              "    </tr>\n",
              "    <tr>\n",
              "      <th>11</th>\n",
              "      <td>1793.0</td>\n",
              "      <td>43.451757</td>\n",
              "      <td>28.975514</td>\n",
              "      <td>5.0</td>\n",
              "      <td>26.0</td>\n",
              "      <td>42.0</td>\n",
              "      <td>48.0</td>\n",
              "      <td>212.0</td>\n",
              "    </tr>\n",
              "    <tr>\n",
              "      <th>12</th>\n",
              "      <td>2219.0</td>\n",
              "      <td>49.496169</td>\n",
              "      <td>41.630035</td>\n",
              "      <td>6.0</td>\n",
              "      <td>26.0</td>\n",
              "      <td>42.0</td>\n",
              "      <td>50.0</td>\n",
              "      <td>280.0</td>\n",
              "    </tr>\n",
              "    <tr>\n",
              "      <th>13</th>\n",
              "      <td>1371.0</td>\n",
              "      <td>40.445660</td>\n",
              "      <td>34.042767</td>\n",
              "      <td>5.0</td>\n",
              "      <td>20.5</td>\n",
              "      <td>33.0</td>\n",
              "      <td>45.0</td>\n",
              "      <td>241.0</td>\n",
              "    </tr>\n",
              "    <tr>\n",
              "      <th>14</th>\n",
              "      <td>1728.0</td>\n",
              "      <td>46.277199</td>\n",
              "      <td>27.570389</td>\n",
              "      <td>5.0</td>\n",
              "      <td>36.0</td>\n",
              "      <td>44.0</td>\n",
              "      <td>49.0</td>\n",
              "      <td>222.0</td>\n",
              "    </tr>\n",
              "    <tr>\n",
              "      <th>15</th>\n",
              "      <td>869.0</td>\n",
              "      <td>27.042578</td>\n",
              "      <td>35.178142</td>\n",
              "      <td>4.0</td>\n",
              "      <td>11.0</td>\n",
              "      <td>18.0</td>\n",
              "      <td>26.0</td>\n",
              "      <td>259.0</td>\n",
              "    </tr>\n",
              "    <tr>\n",
              "      <th>16</th>\n",
              "      <td>480.0</td>\n",
              "      <td>24.585417</td>\n",
              "      <td>17.682334</td>\n",
              "      <td>4.0</td>\n",
              "      <td>12.0</td>\n",
              "      <td>20.0</td>\n",
              "      <td>34.0</td>\n",
              "      <td>158.0</td>\n",
              "    </tr>\n",
              "    <tr>\n",
              "      <th>17</th>\n",
              "      <td>1893.0</td>\n",
              "      <td>47.889593</td>\n",
              "      <td>35.802399</td>\n",
              "      <td>4.0</td>\n",
              "      <td>27.0</td>\n",
              "      <td>42.0</td>\n",
              "      <td>50.0</td>\n",
              "      <td>216.0</td>\n",
              "    </tr>\n",
              "    <tr>\n",
              "      <th>18</th>\n",
              "      <td>1351.0</td>\n",
              "      <td>40.005922</td>\n",
              "      <td>38.480856</td>\n",
              "      <td>5.0</td>\n",
              "      <td>17.5</td>\n",
              "      <td>30.0</td>\n",
              "      <td>44.0</td>\n",
              "      <td>256.0</td>\n",
              "    </tr>\n",
              "    <tr>\n",
              "      <th>19</th>\n",
              "      <td>1084.0</td>\n",
              "      <td>21.105166</td>\n",
              "      <td>13.269840</td>\n",
              "      <td>4.0</td>\n",
              "      <td>11.0</td>\n",
              "      <td>19.0</td>\n",
              "      <td>27.0</td>\n",
              "      <td>139.0</td>\n",
              "    </tr>\n",
              "    <tr>\n",
              "      <th>20</th>\n",
              "      <td>1222.0</td>\n",
              "      <td>48.665303</td>\n",
              "      <td>50.111539</td>\n",
              "      <td>5.0</td>\n",
              "      <td>17.0</td>\n",
              "      <td>31.0</td>\n",
              "      <td>47.0</td>\n",
              "      <td>223.0</td>\n",
              "    </tr>\n",
              "    <tr>\n",
              "      <th>21</th>\n",
              "      <td>1029.0</td>\n",
              "      <td>24.627794</td>\n",
              "      <td>21.199819</td>\n",
              "      <td>4.0</td>\n",
              "      <td>10.0</td>\n",
              "      <td>22.0</td>\n",
              "      <td>31.0</td>\n",
              "      <td>190.0</td>\n",
              "    </tr>\n",
              "    <tr>\n",
              "      <th>22</th>\n",
              "      <td>1298.0</td>\n",
              "      <td>54.146379</td>\n",
              "      <td>38.743967</td>\n",
              "      <td>5.0</td>\n",
              "      <td>29.0</td>\n",
              "      <td>42.0</td>\n",
              "      <td>54.0</td>\n",
              "      <td>212.0</td>\n",
              "    </tr>\n",
              "    <tr>\n",
              "      <th>23</th>\n",
              "      <td>369.0</td>\n",
              "      <td>19.634146</td>\n",
              "      <td>18.382678</td>\n",
              "      <td>4.0</td>\n",
              "      <td>10.0</td>\n",
              "      <td>14.0</td>\n",
              "      <td>23.0</td>\n",
              "      <td>199.0</td>\n",
              "    </tr>\n",
              "    <tr>\n",
              "      <th>24</th>\n",
              "      <td>960.0</td>\n",
              "      <td>43.679167</td>\n",
              "      <td>45.936588</td>\n",
              "      <td>4.0</td>\n",
              "      <td>19.0</td>\n",
              "      <td>27.5</td>\n",
              "      <td>45.0</td>\n",
              "      <td>251.0</td>\n",
              "    </tr>\n",
              "  </tbody>\n",
              "</table>\n",
              "</div>"
            ],
            "text/plain": [
              "          count       mean        std  min   25%   50%   75%    max\n",
              "plot_id                                                            \n",
              "1        1903.0  51.822911  38.176670  4.0  30.0  44.0  53.0  231.0\n",
              "2        2074.0  52.251688  46.503602  5.0  24.0  41.0  50.0  278.0\n",
              "3        1710.0  32.654386  35.641630  4.0  14.0  23.0  36.0  250.0\n",
              "4        1866.0  47.928189  32.886598  4.0  30.0  43.0  50.0  200.0\n",
              "5        1092.0  40.947802  34.086616  5.0  21.0  37.0  48.0  248.0\n",
              "6        1463.0  36.738893  30.648310  5.0  18.0  30.0  45.0  243.0\n",
              "7         638.0  20.663009  21.315325  4.0  11.0  17.0  23.0  235.0\n",
              "8        1781.0  47.758001  33.192194  5.0  26.0  44.0  51.0  178.0\n",
              "9        1811.0  51.432358  33.724726  6.0  36.0  45.0  50.0  275.0\n",
              "10        279.0  18.541219  20.290806  4.0  10.0  12.0  21.0  237.0\n",
              "11       1793.0  43.451757  28.975514  5.0  26.0  42.0  48.0  212.0\n",
              "12       2219.0  49.496169  41.630035  6.0  26.0  42.0  50.0  280.0\n",
              "13       1371.0  40.445660  34.042767  5.0  20.5  33.0  45.0  241.0\n",
              "14       1728.0  46.277199  27.570389  5.0  36.0  44.0  49.0  222.0\n",
              "15        869.0  27.042578  35.178142  4.0  11.0  18.0  26.0  259.0\n",
              "16        480.0  24.585417  17.682334  4.0  12.0  20.0  34.0  158.0\n",
              "17       1893.0  47.889593  35.802399  4.0  27.0  42.0  50.0  216.0\n",
              "18       1351.0  40.005922  38.480856  5.0  17.5  30.0  44.0  256.0\n",
              "19       1084.0  21.105166  13.269840  4.0  11.0  19.0  27.0  139.0\n",
              "20       1222.0  48.665303  50.111539  5.0  17.0  31.0  47.0  223.0\n",
              "21       1029.0  24.627794  21.199819  4.0  10.0  22.0  31.0  190.0\n",
              "22       1298.0  54.146379  38.743967  5.0  29.0  42.0  54.0  212.0\n",
              "23        369.0  19.634146  18.382678  4.0  10.0  14.0  23.0  199.0\n",
              "24        960.0  43.679167  45.936588  4.0  19.0  27.5  45.0  251.0"
            ]
          },
          "metadata": {
            "tags": []
          },
          "execution_count": 35
        }
      ]
    },
    {
      "cell_type": "markdown",
      "metadata": {
        "id": "HglujkDbtCrg"
      },
      "source": [
        "## Summary counts and and basic maths"
      ]
    },
    {
      "cell_type": "code",
      "metadata": {
        "colab": {
          "base_uri": "https://localhost:8080/"
        },
        "id": "DyEbxuocss_9",
        "outputId": "f4df2221-a357-441d-adf9-c02df415d0cb"
      },
      "source": [
        "# Count the number of samples per species\n",
        "species_count = surveys_df.groupby('species_id')['record_id'].count()\n",
        "print (species_count)"
      ],
      "execution_count": null,
      "outputs": [
        {
          "output_type": "stream",
          "text": [
            "species_id\n",
            "AB      303\n",
            "AH      437\n",
            "AS        2\n",
            "BA       46\n",
            "CB       50\n",
            "CM       13\n",
            "CQ       16\n",
            "CS        1\n",
            "CT        1\n",
            "CU        1\n",
            "CV        1\n",
            "DM    10596\n",
            "DO     3027\n",
            "DS     2504\n",
            "DX       40\n",
            "NL     1252\n",
            "OL     1006\n",
            "OT     2249\n",
            "OX       12\n",
            "PB     2891\n",
            "PC       39\n",
            "PE     1299\n",
            "PF     1597\n",
            "PG        8\n",
            "PH       32\n",
            "PI        9\n",
            "PL       36\n",
            "PM      899\n",
            "PP     3123\n",
            "PU        5\n",
            "PX        6\n",
            "RF       75\n",
            "RM     2609\n",
            "RO        8\n",
            "RX        2\n",
            "SA       75\n",
            "SC        1\n",
            "SF       43\n",
            "SH      147\n",
            "SO       43\n",
            "SS      248\n",
            "ST        1\n",
            "SU        5\n",
            "UL        4\n",
            "UP        8\n",
            "UR       10\n",
            "US        4\n",
            "ZL        2\n",
            "Name: record_id, dtype: int64\n"
          ],
          "name": "stdout"
        }
      ]
    },
    {
      "cell_type": "code",
      "metadata": {
        "colab": {
          "base_uri": "https://localhost:8080/"
        },
        "id": "OY8GKzvMvFZ1",
        "outputId": "c3c3fbaf-c0e0-47a7-8155-22994b87d7e9"
      },
      "source": [
        "species_count = surveys_df.groupby('species_id')[['record_id', 'month']].count()\n",
        "print (species_count)"
      ],
      "execution_count": null,
      "outputs": [
        {
          "output_type": "stream",
          "text": [
            "            record_id  month\n",
            "species_id                  \n",
            "AB                303    303\n",
            "AH                437    437\n",
            "AS                  2      2\n",
            "BA                 46     46\n",
            "CB                 50     50\n",
            "CM                 13     13\n",
            "CQ                 16     16\n",
            "CS                  1      1\n",
            "CT                  1      1\n",
            "CU                  1      1\n",
            "CV                  1      1\n",
            "DM              10596  10596\n",
            "DO               3027   3027\n",
            "DS               2504   2504\n",
            "DX                 40     40\n",
            "NL               1252   1252\n",
            "OL               1006   1006\n",
            "OT               2249   2249\n",
            "OX                 12     12\n",
            "PB               2891   2891\n",
            "PC                 39     39\n",
            "PE               1299   1299\n",
            "PF               1597   1597\n",
            "PG                  8      8\n",
            "PH                 32     32\n",
            "PI                  9      9\n",
            "PL                 36     36\n",
            "PM                899    899\n",
            "PP               3123   3123\n",
            "PU                  5      5\n",
            "PX                  6      6\n",
            "RF                 75     75\n",
            "RM               2609   2609\n",
            "RO                  8      8\n",
            "RX                  2      2\n",
            "SA                 75     75\n",
            "SC                  1      1\n",
            "SF                 43     43\n",
            "SH                147    147\n",
            "SO                 43     43\n",
            "SS                248    248\n",
            "ST                  1      1\n",
            "SU                  5      5\n",
            "UL                  4      4\n",
            "UP                  8      8\n",
            "UR                 10     10\n",
            "US                  4      4\n",
            "ZL                  2      2\n"
          ],
          "name": "stdout"
        }
      ]
    },
    {
      "cell_type": "code",
      "metadata": {
        "colab": {
          "base_uri": "https://localhost:8080/"
        },
        "id": "nwJ_9htzt_n_",
        "outputId": "1e202841-0f52-47c4-ffbc-cacf74f38efa"
      },
      "source": [
        "# Just for one species , eg. RM\n",
        "surveys_df.groupby('species_id')['record_id'].count()[['RM', 'UR']]"
      ],
      "execution_count": null,
      "outputs": [
        {
          "output_type": "execute_result",
          "data": {
            "text/plain": [
              "species_id\n",
              "RM    2609\n",
              "UR      10\n",
              "Name: record_id, dtype: int64"
            ]
          },
          "metadata": {
            "tags": []
          },
          "execution_count": 41
        }
      ]
    },
    {
      "cell_type": "code",
      "metadata": {
        "colab": {
          "base_uri": "https://localhost:8080/"
        },
        "id": "xftJdAFzudir",
        "outputId": "20dccf8b-b0ad-4091-d5f1-00645660d067"
      },
      "source": [
        "# Basic Maths\n",
        "surveys_df['weight'] * 2"
      ],
      "execution_count": null,
      "outputs": [
        {
          "output_type": "execute_result",
          "data": {
            "text/plain": [
              "0          NaN\n",
              "1          NaN\n",
              "2          NaN\n",
              "3          NaN\n",
              "4          NaN\n",
              "         ...  \n",
              "35544      NaN\n",
              "35545      NaN\n",
              "35546     28.0\n",
              "35547    102.0\n",
              "35548      NaN\n",
              "Name: weight, Length: 35549, dtype: float64"
            ]
          },
          "metadata": {
            "tags": []
          },
          "execution_count": 38
        }
      ]
    },
    {
      "cell_type": "markdown",
      "metadata": {
        "id": "Lv4ZrhA-vxwC"
      },
      "source": [
        "## Simple plotting in Python"
      ]
    },
    {
      "cell_type": "code",
      "metadata": {
        "id": "Js0TZK23uzUj"
      },
      "source": [
        "# If you're using Notebooks then we need to make sure the plots appear in the browser\n",
        "%matplotlib inline"
      ],
      "execution_count": null,
      "outputs": []
    },
    {
      "cell_type": "code",
      "metadata": {
        "colab": {
          "base_uri": "https://localhost:8080/",
          "height": 308
        },
        "id": "4oUEYOuJwuYS",
        "outputId": "e76eee36-2d67-44e1-ab6b-017bf04b146a"
      },
      "source": [
        "# Create a quick bar chart\n",
        "species_count.plot (kind = 'bar');"
      ],
      "execution_count": null,
      "outputs": [
        {
          "output_type": "display_data",
          "data": {
            "image/png": "[encoded data removed]",
            "text/plain": [
              "<Figure size 432x288 with 1 Axes>"
            ]
          },
          "metadata": {
            "tags": [],
            "needs_background": "light"
          }
        }
      ]
    },
    {
      "cell_type": "code",
      "metadata": {
        "id": "rrG6426Nw_5B"
      },
      "source": [
        "# How many animals were captured in each site\n",
        "total_count = surveys_df.groupby('plot_id')['record_id'].count()\n"
      ],
      "execution_count": null,
      "outputs": []
    },
    {
      "cell_type": "code",
      "metadata": {
        "colab": {
          "base_uri": "https://localhost:8080/",
          "height": 304
        },
        "id": "4Zz4_jovyVwg",
        "outputId": "3651b44b-fda4-4548-85d9-0ec9d884546f"
      },
      "source": [
        "total_count.plot(kind = 'bar');"
      ],
      "execution_count": null,
      "outputs": [
        {
          "output_type": "display_data",
          "data": {
            "image/png": "[encoded data removed]",
            "text/plain": [
              "<Figure size 432x288 with 1 Axes>"
            ]
          },
          "metadata": {
            "tags": [],
            "needs_background": "light"
          }
        }
      ]
    },
    {
      "cell_type": "markdown",
      "metadata": {
        "id": "UA8rvkO_u3S5"
      },
      "source": [
        "## Indexing and slicing with pandas "
      ]
    },
    {
      "cell_type": "code",
      "metadata": {
        "id": "kov2rSILyb67"
      },
      "source": [
        "a = [1, 2, 3, 4, 5]"
      ],
      "execution_count": 1,
      "outputs": []
    },
    {
      "cell_type": "code",
      "metadata": {
        "id": "k6SZ1pZ0u5qj",
        "outputId": "f84ca887-c9bb-427c-bd15-22a213e840b1",
        "colab": {
          "base_uri": "https://localhost:8080/"
        }
      },
      "source": [
        "a[2]"
      ],
      "execution_count": 2,
      "outputs": [
        {
          "output_type": "execute_result",
          "data": {
            "text/plain": [
              "3"
            ]
          },
          "metadata": {
            "tags": []
          },
          "execution_count": 2
        }
      ]
    },
    {
      "cell_type": "code",
      "metadata": {
        "id": "_5NclVX0u7FY"
      },
      "source": [
        "# view the available columns in the dataframe\n",
        "surveys_df.columns"
      ],
      "execution_count": null,
      "outputs": []
    },
    {
      "cell_type": "code",
      "metadata": {
        "id": "Rq8I1L_Fu8Y6"
      },
      "source": [
        "# indexing out a whole column\n",
        "\n",
        "# here we get an error because we're trying to index into the special .columns attribute\n",
        "surveys_df.columns['hindfoot_length']"
      ],
      "execution_count": null,
      "outputs": []
    },
    {
      "cell_type": "code",
      "metadata": {
        "id": "WIfhG4Dsu9uY"
      },
      "source": [
        "# we can slice out a column using square brackets and the string of the column name\n",
        "surveys_df['hindfoot_length']"
      ],
      "execution_count": null,
      "outputs": []
    },
    {
      "cell_type": "code",
      "metadata": {
        "id": "YbtuL-7Xu-1s"
      },
      "source": [
        "# here we sliced out the column name from the .columns attribute \n",
        "# but not the values of the column itself\n",
        "surveys_df.columns[-2]"
      ],
      "execution_count": null,
      "outputs": []
    },
    {
      "cell_type": "code",
      "metadata": {
        "id": "Oo8jGYpfu_4p"
      },
      "source": [
        "# we can also use dot notation to index out a single column\n",
        "surveys_df.hindfoot_length"
      ],
      "execution_count": null,
      "outputs": []
    },
    {
      "cell_type": "code",
      "metadata": {
        "id": "429gOHKLvA1L"
      },
      "source": [
        "# indexing out multiple columns means passing a list \n",
        "# to the index brackets \n",
        "surveys_df[['hindfoot_length','month']]"
      ],
      "execution_count": null,
      "outputs": []
    },
    {
      "cell_type": "code",
      "metadata": {
        "id": "aocHHAoBvCe4"
      },
      "source": [
        "# we can also do this by assigning a list as a variable\n",
        "# and passing the variable to the index brackets\n",
        "\n",
        "desired_cols = ['hindfoot_length','month']\n",
        "\n",
        "surveys_df[desired_cols]"
      ],
      "execution_count": null,
      "outputs": []
    },
    {
      "cell_type": "code",
      "metadata": {
        "id": "yO2RzK6uvD0y"
      },
      "source": [
        "# indexing a column name that does not exist gives an error\n",
        "surveys_df['name']"
      ],
      "execution_count": null,
      "outputs": []
    },
    {
      "cell_type": "code",
      "metadata": {
        "id": "kaMVAOlovE4g"
      },
      "source": [
        "surveys_df.head()"
      ],
      "execution_count": null,
      "outputs": []
    },
    {
      "cell_type": "code",
      "metadata": {
        "id": "A16FpWvGvFz5"
      },
      "source": [
        "# we can also use .iloc and .loc to index rows, columns \n",
        "# .iloc index by integer location\n",
        "# index out the row at the 0th index\n",
        "surveys_df.iloc[0]"
      ],
      "execution_count": null,
      "outputs": []
    },
    {
      "cell_type": "code",
      "metadata": {
        "id": "u2aUNOwOvG0h"
      },
      "source": [
        "# here we've indexed the first 3 rows of the 6th column\n",
        "surveys_df.iloc[0:3,7]"
      ],
      "execution_count": null,
      "outputs": []
    },
    {
      "cell_type": "code",
      "metadata": {
        "id": "3mDfLGoZvH5y"
      },
      "source": [
        "# .loc indexes by labels\n",
        "# here we've indexed from rows 0 to 3 (by label)\n",
        "# at the 'hindfoot_length' column\n",
        "surveys_df.loc[0:3,'hindfoot_length']"
      ],
      "execution_count": null,
      "outputs": []
    },
    {
      "cell_type": "code",
      "metadata": {
        "id": "Y0mvw0vBvIv2"
      },
      "source": [
        "# using iloc to index the first three rows and columns\n",
        "surveys_df.iloc[0:3, 0:3]"
      ],
      "execution_count": null,
      "outputs": []
    },
    {
      "cell_type": "code",
      "metadata": {
        "id": "pcWS_zB5vJus"
      },
      "source": [
        "# we can make a copy of a subsetted data frame by using .copy()\n",
        "# this creates a separate object from our original dataframe surveys_df\n",
        "copy_of_first3 = surveys_df.iloc[0:3, 0:3].copy()"
      ],
      "execution_count": null,
      "outputs": []
    },
    {
      "cell_type": "code",
      "metadata": {
        "id": "GQzLLPvdvKmi"
      },
      "source": [
        "# this notation just creates a reference to the original dataframe\n",
        "# so any changes we make to copy_of_first3 are actually made to the originak\n",
        "# surveys_df dataframe\n",
        "copy_of_first3 = surveys_df.iloc[0:3, 0:3]"
      ],
      "execution_count": null,
      "outputs": []
    },
    {
      "cell_type": "code",
      "metadata": {
        "id": "cDd2NR8EvLkY"
      },
      "source": [
        "# we can also perform a vectorised boolean comparison and \n",
        "# return a boolean array\n",
        "surveys_df['species_id'] == 'NL'"
      ],
      "execution_count": null,
      "outputs": []
    },
    {
      "cell_type": "code",
      "metadata": {
        "id": "6f-DtWMzvMd4"
      },
      "source": [
        "# we can use this to subset the dataframe for a specific species \n",
        "subset_df = surveys_df[surveys_df['species_id'] == 'NL'].copy()"
      ],
      "execution_count": null,
      "outputs": []
    },
    {
      "cell_type": "code",
      "metadata": {
        "id": "pS44WxvsvNV0"
      },
      "source": [
        "# we can also do this in two lines by assign a bool_mask variable\n",
        "bool_mask = surveys_df['species_id'] == 'NL'\n",
        "\n",
        "surveys_df[bool_mask]"
      ],
      "execution_count": null,
      "outputs": []
    },
    {
      "cell_type": "code",
      "metadata": {
        "id": "DA3hHnO6vOW1"
      },
      "source": [
        "subset_df.head()"
      ],
      "execution_count": null,
      "outputs": []
    },
    {
      "cell_type": "code",
      "metadata": {
        "id": "bOfv9WNmvPUC"
      },
      "source": [
        "# if you want to update your indexes on a subset\n",
        "# subset_df.reset_index(inplace=True)"
      ],
      "execution_count": null,
      "outputs": []
    },
    {
      "cell_type": "code",
      "metadata": {
        "id": "CqdrZpkhvQHQ"
      },
      "source": [
        "# we can set values of rows when indexing \n",
        "# but this can be quite dangerous so be careful\n",
        "subset_df.iloc[0:3, 0] = 0"
      ],
      "execution_count": null,
      "outputs": []
    },
    {
      "cell_type": "code",
      "metadata": {
        "id": "G5dZfqoevQ6i"
      },
      "source": [
        "# checking the changes\n",
        "subset_df.iloc[0:3]"
      ],
      "execution_count": null,
      "outputs": []
    },
    {
      "cell_type": "code",
      "metadata": {
        "id": "bEPXnK4gvRyi"
      },
      "source": [
        "# we can use subsetting to generate quick summary data\n",
        "surveys_df[surveys_df['species_id'] == 'ZL'].count()"
      ],
      "execution_count": null,
      "outputs": []
    },
    {
      "cell_type": "code",
      "metadata": {
        "id": "cqtbNRILvS0Z"
      },
      "source": [
        "surveys_df[surveys_df['species_id'] == 'ZL']"
      ],
      "execution_count": null,
      "outputs": []
    },
    {
      "cell_type": "code",
      "metadata": {
        "id": "3Zah2TDBvTsB"
      },
      "source": [
        "# we can also subset by multiple boolean values\n",
        "# using the `&` AND operator here which checks whether both conditions are True\n",
        "# we can use `|` OR operator to check if one of the two is True\n",
        "surveys_df[(surveys_df.year >= 1980) & (surveys_df.year <= 1985)]"
      ],
      "execution_count": null,
      "outputs": []
    }
  ]
}