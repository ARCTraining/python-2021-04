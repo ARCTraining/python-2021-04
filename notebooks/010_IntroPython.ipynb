{
  "nbformat": 4,
  "nbformat_minor": 0,
  "metadata": {
    "colab": {
      "name": "010IntroPython.ipynb",
      "provenance": [],
      "collapsed_sections": [],
      "toc_visible": true,
      "authorship_tag": "ABX9TyPeqcwpTIDw+VlwWEhps7xr",
      "include_colab_link": true
    },
    "kernelspec": {
      "name": "python3",
      "display_name": "Python 3"
    },
    "language_info": {
      "name": "python"
    }
  },
  "cells": [
    {
      "cell_type": "markdown",
      "metadata": {
        "id": "view-in-github",
        "colab_type": "text"
      },
      "source": [
        "<a href=\"https://colab.research.google.com/github/ARCTraining/python-2021-04/blob/gh-pages/notebooks/010IntroPython.ipynb\" target=\"_parent\"><img src=\"https://colab.research.google.com/assets/colab-badge.svg\" alt=\"Open In Colab\"/></a>"
      ]
    },
    {
      "cell_type": "markdown",
      "metadata": {
        "id": "kunmEtMXTOlQ"
      },
      "source": [
        "# My first python notebook"
      ]
    },
    {
      "cell_type": "code",
      "metadata": {
        "colab": {
          "base_uri": "https://localhost:8080/"
        },
        "id": "p0Df8ZzHStw0",
        "outputId": "1ee7e0a3-7198-44b5-9fc7-80234d561c94"
      },
      "source": [
        "print(\"Hello, world\")"
      ],
      "execution_count": null,
      "outputs": [
        {
          "output_type": "stream",
          "text": [
            "Hello, world\n"
          ],
          "name": "stdout"
        }
      ]
    },
    {
      "cell_type": "code",
      "metadata": {
        "colab": {
          "base_uri": "https://localhost:8080/"
        },
        "id": "J1kdooesTBvw",
        "outputId": "5ab4b307-ee1d-40b8-f5b2-4baee80dfe93"
      },
      "source": [
        "# here we wrote a my_script.py file\n",
        "# we clicked the folder icon on the right hand side\n",
        "# and right clicked, selected `New File` \n",
        "# which opened a file editor on the right hand side\n",
        "# in this file we wrote print(\"Hello, world\"), this saves automatically\n",
        "! python my_script.py"
      ],
      "execution_count": null,
      "outputs": [
        {
          "output_type": "stream",
          "text": [
            "Hello, world\n"
          ],
          "name": "stdout"
        }
      ]
    },
    {
      "cell_type": "code",
      "metadata": {
        "id": "pDj8QL-aVMY6"
      },
      "source": [
        "# assign a variable containing a string\n",
        "text = \"Data carpentry\""
      ],
      "execution_count": null,
      "outputs": []
    },
    {
      "cell_type": "code",
      "metadata": {
        "id": "ZKM-rRDTUxNq"
      },
      "source": [
        "# assign a variable containing an int\n",
        "number = 42"
      ],
      "execution_count": null,
      "outputs": []
    },
    {
      "cell_type": "code",
      "metadata": {
        "id": "NjTp88OdVkU5"
      },
      "source": [
        "# assign a variable containing a float\n",
        "pi_value = 3.1415 # an example of float"
      ],
      "execution_count": null,
      "outputs": []
    },
    {
      "cell_type": "code",
      "metadata": {
        "colab": {
          "base_uri": "https://localhost:8080/",
          "height": 36
        },
        "id": "uMzsy9AyVn_r",
        "outputId": "a585afab-87bb-4c6a-deb1-81d9fc16628c"
      },
      "source": [
        "# in a notebook we can peek at whats in a variable by running a cell with the variable in\n",
        "text"
      ],
      "execution_count": null,
      "outputs": [
        {
          "output_type": "execute_result",
          "data": {
            "application/vnd.google.colaboratory.intrinsic+json": {
              "type": "string"
            },
            "text/plain": [
              "'Data carpentry'"
            ]
          },
          "metadata": {
            "tags": []
          },
          "execution_count": 7
        }
      ]
    },
    {
      "cell_type": "code",
      "metadata": {
        "colab": {
          "base_uri": "https://localhost:8080/"
        },
        "id": "HWP_smu3WBAq",
        "outputId": "1247b69c-4a1c-44b4-e719-48e97d942605"
      },
      "source": [
        "# we can more formally print a variable and show its content \n",
        "# in the standard output channel by using the print function\n",
        "print(text)"
      ],
      "execution_count": null,
      "outputs": [
        {
          "output_type": "stream",
          "text": [
            "Data carpentry\n"
          ],
          "name": "stdout"
        }
      ]
    },
    {
      "cell_type": "code",
      "metadata": {
        "colab": {
          "base_uri": "https://localhost:8080/"
        },
        "id": "wVXIxusaWHPN",
        "outputId": "73a47734-0fbe-4f97-daa9-61fbce994b96"
      },
      "source": [
        "# we can check the type of a variable with the \n",
        "# type function\n",
        "type(number)"
      ],
      "execution_count": null,
      "outputs": [
        {
          "output_type": "execute_result",
          "data": {
            "text/plain": [
              "int"
            ]
          },
          "metadata": {
            "tags": []
          },
          "execution_count": 9
        }
      ]
    },
    {
      "cell_type": "code",
      "metadata": {
        "colab": {
          "base_uri": "https://localhost:8080/",
          "height": 174
        },
        "id": "ZYlk9fL4Weks",
        "outputId": "df9e0667-30d0-4d5e-82ac-17b4ac47ab05"
      },
      "source": [
        "# adding a string and a int gives an error\n",
        "\"2\" + 2 "
      ],
      "execution_count": null,
      "outputs": [
        {
          "output_type": "error",
          "ename": "TypeError",
          "evalue": "ignored",
          "traceback": [
            "\u001b[0;31m---------------------------------------------------------------------------\u001b[0m",
            "\u001b[0;31mTypeError\u001b[0m                                 Traceback (most recent call last)",
            "\u001b[0;32m<ipython-input-10-192a1d19ca7a>\u001b[0m in \u001b[0;36m<module>\u001b[0;34m()\u001b[0m\n\u001b[0;32m----> 1\u001b[0;31m \u001b[0;34m\"2\"\u001b[0m \u001b[0;34m+\u001b[0m \u001b[0;36m2\u001b[0m\u001b[0;34m\u001b[0m\u001b[0;34m\u001b[0m\u001b[0m\n\u001b[0m",
            "\u001b[0;31mTypeError\u001b[0m: can only concatenate str (not \"int\") to str"
          ]
        }
      ]
    },
    {
      "cell_type": "code",
      "metadata": {
        "colab": {
          "base_uri": "https://localhost:8080/",
          "height": 36
        },
        "id": "Rrs-SqYIWotr",
        "outputId": "bc1973ee-92d4-475e-d720-a458d75437f3"
      },
      "source": [
        "# adding two strings together is called string concatenation\n",
        "# and combines the strings into one string\n",
        "\"2\" + \"2\""
      ],
      "execution_count": null,
      "outputs": [
        {
          "output_type": "execute_result",
          "data": {
            "application/vnd.google.colaboratory.intrinsic+json": {
              "type": "string"
            },
            "text/plain": [
              "'22'"
            ]
          },
          "metadata": {
            "tags": []
          },
          "execution_count": 11
        }
      ]
    },
    {
      "cell_type": "code",
      "metadata": {
        "colab": {
          "base_uri": "https://localhost:8080/",
          "height": 36
        },
        "id": "Ww024uPDXgZM",
        "outputId": "2c4b1e48-85a5-455c-a899-adbae46a5305"
      },
      "source": [
        "\"hello\" +  \"world\""
      ],
      "execution_count": null,
      "outputs": [
        {
          "output_type": "execute_result",
          "data": {
            "application/vnd.google.colaboratory.intrinsic+json": {
              "type": "string"
            },
            "text/plain": [
              "'helloworld'"
            ]
          },
          "metadata": {
            "tags": []
          },
          "execution_count": 12
        }
      ]
    },
    {
      "cell_type": "code",
      "metadata": {
        "colab": {
          "base_uri": "https://localhost:8080/"
        },
        "id": "dat014qoXtcr",
        "outputId": "30f160fb-792e-49c9-ced5-ab43806450ce"
      },
      "source": [
        "# you can do standard maths with python\n",
        "2 + 2"
      ],
      "execution_count": null,
      "outputs": [
        {
          "output_type": "execute_result",
          "data": {
            "text/plain": [
              "4"
            ]
          },
          "metadata": {
            "tags": []
          },
          "execution_count": 13
        }
      ]
    },
    {
      "cell_type": "code",
      "metadata": {
        "colab": {
          "base_uri": "https://localhost:8080/"
        },
        "id": "jQKqbkrcX7Pf",
        "outputId": "2959b117-f042-48da-92a9-5e113595488a"
      },
      "source": [
        "# note the type of the result\n",
        "2.0 + 2.0"
      ],
      "execution_count": null,
      "outputs": [
        {
          "output_type": "execute_result",
          "data": {
            "text/plain": [
              "4.0"
            ]
          },
          "metadata": {
            "tags": []
          },
          "execution_count": 14
        }
      ]
    },
    {
      "cell_type": "code",
      "metadata": {
        "colab": {
          "base_uri": "https://localhost:8080/"
        },
        "id": "UKCryXgKX9c6",
        "outputId": "6307a84d-6bf7-40ff-cc93-b0a2140a8b07"
      },
      "source": [
        "# float and int gives float\n",
        "2 + 2.0"
      ],
      "execution_count": null,
      "outputs": [
        {
          "output_type": "execute_result",
          "data": {
            "text/plain": [
              "4.0"
            ]
          },
          "metadata": {
            "tags": []
          },
          "execution_count": 15
        }
      ]
    },
    {
      "cell_type": "code",
      "metadata": {
        "colab": {
          "base_uri": "https://localhost:8080/"
        },
        "id": "N9_3zazlYGRt",
        "outputId": "ba83b06a-efd6-4a3d-a070-3275b817e94b"
      },
      "source": [
        "# multiplication magic\n",
        "6 * 7"
      ],
      "execution_count": null,
      "outputs": [
        {
          "output_type": "execute_result",
          "data": {
            "text/plain": [
              "42"
            ]
          },
          "metadata": {
            "tags": []
          },
          "execution_count": 16
        }
      ]
    },
    {
      "cell_type": "code",
      "metadata": {
        "colab": {
          "base_uri": "https://localhost:8080/"
        },
        "id": "2u8SvGALYUt8",
        "outputId": "1ca965fc-9e3e-4a8c-a431-7c2e3d56667c"
      },
      "source": [
        "# dividing two ints gives a float\n",
        "80 / 10"
      ],
      "execution_count": null,
      "outputs": [
        {
          "output_type": "execute_result",
          "data": {
            "text/plain": [
              "8.0"
            ]
          },
          "metadata": {
            "tags": []
          },
          "execution_count": 17
        }
      ]
    },
    {
      "cell_type": "code",
      "metadata": {
        "colab": {
          "base_uri": "https://localhost:8080/"
        },
        "id": "lCTGh_JAYWLc",
        "outputId": "acadd025-517f-4283-9eb8-c79f28b49a97"
      },
      "source": [
        "# we can also do exponents\n",
        "2 ** 16"
      ],
      "execution_count": null,
      "outputs": [
        {
          "output_type": "execute_result",
          "data": {
            "text/plain": [
              "65536"
            ]
          },
          "metadata": {
            "tags": []
          },
          "execution_count": 18
        }
      ]
    },
    {
      "cell_type": "code",
      "metadata": {
        "colab": {
          "base_uri": "https://localhost:8080/"
        },
        "id": "Q_iOmSEgYZTd",
        "outputId": "c6df5d9f-5371-46ab-9688-beb175a7b384"
      },
      "source": [
        "# and calculate the remainder of a division with the modulo\n",
        "13 % 5 "
      ],
      "execution_count": null,
      "outputs": [
        {
          "output_type": "execute_result",
          "data": {
            "text/plain": [
              "3"
            ]
          },
          "metadata": {
            "tags": []
          },
          "execution_count": 19
        }
      ]
    },
    {
      "cell_type": "code",
      "metadata": {
        "colab": {
          "base_uri": "https://localhost:8080/"
        },
        "id": "6pQBzLVRYcYL",
        "outputId": "03f6cfb3-4b31-4877-be00-a6e09970db81"
      },
      "source": [
        "# string concatenation and printing\n",
        "print(\"hello\" + \"world\")"
      ],
      "execution_count": null,
      "outputs": [
        {
          "output_type": "stream",
          "text": [
            "helloworld\n"
          ],
          "name": "stdout"
        }
      ]
    },
    {
      "cell_type": "code",
      "metadata": {
        "colab": {
          "base_uri": "https://localhost:8080/"
        },
        "id": "Sx26zP_acCFg",
        "outputId": "1f41f2a8-0e23-49f4-d2bf-b00f0a83351a"
      },
      "source": [
        "# the mysterious type of a print function - NoneType\n",
        "type(print(\"hello\"))"
      ],
      "execution_count": null,
      "outputs": [
        {
          "output_type": "stream",
          "text": [
            "hello\n"
          ],
          "name": "stdout"
        },
        {
          "output_type": "execute_result",
          "data": {
            "text/plain": [
              "NoneType"
            ]
          },
          "metadata": {
            "tags": []
          },
          "execution_count": 21
        }
      ]
    },
    {
      "cell_type": "code",
      "metadata": {
        "colab": {
          "base_uri": "https://localhost:8080/"
        },
        "id": "2eeafFXhcO-9",
        "outputId": "069980e6-788d-4737-e593-12f9de73d0ea"
      },
      "source": [
        "# colab only shows the result of the final operation\n",
        "\"2\" + \"2\"\n",
        "5 + 9"
      ],
      "execution_count": null,
      "outputs": [
        {
          "output_type": "execute_result",
          "data": {
            "text/plain": [
              "14"
            ]
          },
          "metadata": {
            "tags": []
          },
          "execution_count": 24
        }
      ]
    },
    {
      "cell_type": "code",
      "metadata": {
        "colab": {
          "base_uri": "https://localhost:8080/"
        },
        "id": "gJSGYZIvcxO9",
        "outputId": "35661d55-94f5-42a5-a47f-41cc40fcbb04"
      },
      "source": [
        "# comparisons returns a boolean valuable either True or False\n",
        "3 > 4"
      ],
      "execution_count": null,
      "outputs": [
        {
          "output_type": "execute_result",
          "data": {
            "text/plain": [
              "False"
            ]
          },
          "metadata": {
            "tags": []
          },
          "execution_count": 25
        }
      ]
    },
    {
      "cell_type": "code",
      "metadata": {
        "colab": {
          "base_uri": "https://localhost:8080/"
        },
        "id": "X05G7tIec_VP",
        "outputId": "9ac925e1-8494-4bb0-ce73-a59a8ffd7322"
      },
      "source": [
        "# True and False are reserved key words\n",
        "# check if equal\n",
        "3 == 3"
      ],
      "execution_count": null,
      "outputs": [
        {
          "output_type": "execute_result",
          "data": {
            "text/plain": [
              "True"
            ]
          },
          "metadata": {
            "tags": []
          },
          "execution_count": 26
        }
      ]
    },
    {
      "cell_type": "code",
      "metadata": {
        "colab": {
          "base_uri": "https://localhost:8080/"
        },
        "id": "FXIkTOQIdH--",
        "outputId": "21dbc02c-3a96-419f-fb2a-c6d5b3bc33c4"
      },
      "source": [
        "# check if not equal\n",
        "2 != 5"
      ],
      "execution_count": null,
      "outputs": [
        {
          "output_type": "execute_result",
          "data": {
            "text/plain": [
              "True"
            ]
          },
          "metadata": {
            "tags": []
          },
          "execution_count": 27
        }
      ]
    },
    {
      "cell_type": "code",
      "metadata": {
        "colab": {
          "base_uri": "https://localhost:8080/"
        },
        "id": "MyamFhr5dKzu",
        "outputId": "a644a627-ea61-40d3-f1f4-ff3552ece2da"
      },
      "source": [
        "# we can also use `and` to check if two tests are True\n",
        "True and True"
      ],
      "execution_count": null,
      "outputs": [
        {
          "output_type": "execute_result",
          "data": {
            "text/plain": [
              "True"
            ]
          },
          "metadata": {
            "tags": []
          },
          "execution_count": 28
        }
      ]
    },
    {
      "cell_type": "code",
      "metadata": {
        "colab": {
          "base_uri": "https://localhost:8080/"
        },
        "id": "dnrudmjqdR1O",
        "outputId": "6a2409b1-7fbb-400f-faa0-73bcc2757aae"
      },
      "source": [
        "# and `or` to check if either tests are True\n",
        "True or False"
      ],
      "execution_count": null,
      "outputs": [
        {
          "output_type": "execute_result",
          "data": {
            "text/plain": [
              "True"
            ]
          },
          "metadata": {
            "tags": []
          },
          "execution_count": 29
        }
      ]
    },
    {
      "cell_type": "code",
      "metadata": {
        "colab": {
          "base_uri": "https://localhost:8080/"
        },
        "id": "s67JYaUUdTxN",
        "outputId": "3c6fa866-4369-4c9f-ea07-85093de40aae"
      },
      "source": [
        "# we can see that bool is a specific type meaning Boolean\n",
        "type(True) "
      ],
      "execution_count": null,
      "outputs": [
        {
          "output_type": "execute_result",
          "data": {
            "text/plain": [
              "bool"
            ]
          },
          "metadata": {
            "tags": []
          },
          "execution_count": 33
        }
      ]
    },
    {
      "cell_type": "code",
      "metadata": {
        "colab": {
          "base_uri": "https://localhost:8080/",
          "height": 136
        },
        "id": "qGVgAXe-dZ8O",
        "outputId": "e4484e92-4e5c-4be9-8873-ff706091d246"
      },
      "source": [
        "# keywords like True are reserved in python and so you can't\n",
        "# assign variables to them\n",
        "True = 10"
      ],
      "execution_count": null,
      "outputs": [
        {
          "output_type": "error",
          "ename": "SyntaxError",
          "evalue": "ignored",
          "traceback": [
            "\u001b[0;36m  File \u001b[0;32m\"<ipython-input-34-398a5163d1af>\"\u001b[0;36m, line \u001b[0;32m1\u001b[0m\n\u001b[0;31m    True = 10\u001b[0m\n\u001b[0m             ^\u001b[0m\n\u001b[0;31mSyntaxError\u001b[0m\u001b[0;31m:\u001b[0m can't assign to keyword\n"
          ]
        }
      ]
    },
    {
      "cell_type": "code",
      "metadata": {
        "colab": {
          "base_uri": "https://localhost:8080/",
          "height": 136
        },
        "id": "mLBowEWEdtLA",
        "outputId": "91c90895-3258-48ff-af31-8796d080dbb9"
      },
      "source": [
        "# missing brackets is a common error in python\n",
        "# this leads to an `unexpected EOF while parsing` error\n",
        "type(true "
      ],
      "execution_count": null,
      "outputs": [
        {
          "output_type": "error",
          "ename": "SyntaxError",
          "evalue": "ignored",
          "traceback": [
            "\u001b[0;36m  File \u001b[0;32m\"<ipython-input-35-6587b566a8b1>\"\u001b[0;36m, line \u001b[0;32m1\u001b[0m\n\u001b[0;31m    type(true\u001b[0m\n\u001b[0m              ^\u001b[0m\n\u001b[0;31mSyntaxError\u001b[0m\u001b[0;31m:\u001b[0m unexpected EOF while parsing\n"
          ]
        }
      ]
    },
    {
      "cell_type": "code",
      "metadata": {
        "colab": {
          "base_uri": "https://localhost:8080/",
          "height": 174
        },
        "id": "WGgJvruodz6u",
        "outputId": "5e8e235e-11e5-4593-d9ca-7f41e6874a78"
      },
      "source": [
        "# here we showed that whilst `True` is reserved, `true` is not \n",
        "# if you check the type of a variable you haven't assigned\n",
        "# you get a NameError\n",
        "type(true)"
      ],
      "execution_count": null,
      "outputs": [
        {
          "output_type": "error",
          "ename": "NameError",
          "evalue": "ignored",
          "traceback": [
            "\u001b[0;31m---------------------------------------------------------------------------\u001b[0m",
            "\u001b[0;31mNameError\u001b[0m                                 Traceback (most recent call last)",
            "\u001b[0;32m<ipython-input-36-6f4d8242c3d0>\u001b[0m in \u001b[0;36m<module>\u001b[0;34m()\u001b[0m\n\u001b[0;32m----> 1\u001b[0;31m \u001b[0mtype\u001b[0m\u001b[0;34m(\u001b[0m\u001b[0mtrue\u001b[0m\u001b[0;34m)\u001b[0m\u001b[0;34m\u001b[0m\u001b[0;34m\u001b[0m\u001b[0m\n\u001b[0m",
            "\u001b[0;31mNameError\u001b[0m: name 'true' is not defined"
          ]
        }
      ]
    },
    {
      "cell_type": "markdown",
      "metadata": {
        "id": "oL2jEgNjeVkv"
      },
      "source": [
        "## Basic data structures"
      ]
    },
    {
      "cell_type": "code",
      "metadata": {
        "id": "anbr1oAQd4Dx"
      },
      "source": [
        "# lists\n",
        "# lists are created in python by wrapping comma-separated data in square brackets \n",
        "\n",
        "numbers = [1, 2, 3]"
      ],
      "execution_count": null,
      "outputs": []
    },
    {
      "cell_type": "code",
      "metadata": {
        "colab": {
          "base_uri": "https://localhost:8080/"
        },
        "id": "jeb07B8ZepZR",
        "outputId": "bfe24583-85b3-4d41-c7f2-c1430a370e9f"
      },
      "source": [
        "# getting information out of a list\n",
        "# we can index data out of a list using square brackets containing\n",
        "# the index of the data \n",
        "# n.b. python has zeroth indexing i.e. the first item is at index zero\n",
        "numbers[1]"
      ],
      "execution_count": null,
      "outputs": [
        {
          "output_type": "execute_result",
          "data": {
            "text/plain": [
              "2"
            ]
          },
          "metadata": {
            "tags": []
          },
          "execution_count": 38
        }
      ]
    },
    {
      "cell_type": "code",
      "metadata": {
        "colab": {
          "base_uri": "https://localhost:8080/"
        },
        "id": "_tiQt9uPe_Tf",
        "outputId": "457e10ab-0a79-4b9f-d16f-e876be9b76e2"
      },
      "source": [
        "# we can also index from the end of a list using \n",
        "# minus index number e.g.\n",
        "numbers[-2]"
      ],
      "execution_count": null,
      "outputs": [
        {
          "output_type": "execute_result",
          "data": {
            "text/plain": [
              "2"
            ]
          },
          "metadata": {
            "tags": []
          },
          "execution_count": 39
        }
      ]
    },
    {
      "cell_type": "code",
      "metadata": {
        "colab": {
          "base_uri": "https://localhost:8080/"
        },
        "id": "FG9GLgKcfPPf",
        "outputId": "56b6558e-409c-4328-818d-a553d3decc17"
      },
      "source": [
        "numbers[0]\n",
        "numbers[1] \n",
        "numbers[2]"
      ],
      "execution_count": null,
      "outputs": [
        {
          "output_type": "execute_result",
          "data": {
            "text/plain": [
              "3"
            ]
          },
          "metadata": {
            "tags": []
          },
          "execution_count": 41
        }
      ]
    },
    {
      "cell_type": "code",
      "metadata": {
        "colab": {
          "base_uri": "https://localhost:8080/"
        },
        "id": "sa4ZHHdefng_",
        "outputId": "a6336b30-7206-47cc-8d52-486da8e48fb5"
      },
      "source": [
        "# the for loop is a classic programming technique for iterating \n",
        "# through a collection (like a list) and performing some operation on each item\n",
        "\n",
        "# for each item in `numbers` assign the item to the variable `num`\n",
        "# in the indented block perform some code for each item in the list\n",
        "# in this case print the `num`\n",
        "for num in numbers:\n",
        "  print(num)"
      ],
      "execution_count": null,
      "outputs": [
        {
          "output_type": "stream",
          "text": [
            "1\n",
            "2\n",
            "3\n"
          ],
          "name": "stdout"
        }
      ]
    },
    {
      "cell_type": "code",
      "metadata": {
        "id": "q0-XL5iKgNUg"
      },
      "source": [
        "# lists are mutable\n",
        "# that is we can change them such as adding an item using the append function\n",
        "numbers.append(4)"
      ],
      "execution_count": null,
      "outputs": []
    },
    {
      "cell_type": "code",
      "metadata": {
        "colab": {
          "base_uri": "https://localhost:8080/"
        },
        "id": "aFf7R7fDgywf",
        "outputId": "715bf4e3-d9ea-42ae-94a3-c25cdfe1ad87"
      },
      "source": [
        "# print `numbers` to show we added 4\n",
        "print(numbers)"
      ],
      "execution_count": null,
      "outputs": [
        {
          "output_type": "stream",
          "text": [
            "[1, 2, 3, 4]\n"
          ],
          "name": "stdout"
        }
      ]
    },
    {
      "cell_type": "code",
      "metadata": {
        "id": "oujwi5NJg1nA"
      },
      "source": [
        "# tuples\n",
        "# tuples are another python collection\n",
        "# tuples are crucially immutable and cannot be changed after creation\n",
        "# they're indicated by comma-separated data items wrapped in curved brackets\n",
        "\n",
        "a_tuple = (1, 2, 3)"
      ],
      "execution_count": null,
      "outputs": []
    },
    {
      "cell_type": "code",
      "metadata": {
        "colab": {
          "base_uri": "https://localhost:8080/"
        },
        "id": "f95pOlLohHNx",
        "outputId": "c461d1eb-b06a-4898-81e3-c7357b90b06c"
      },
      "source": [
        "print(a_tuple)"
      ],
      "execution_count": null,
      "outputs": [
        {
          "output_type": "stream",
          "text": [
            "(1, 2, 3)\n"
          ],
          "name": "stdout"
        }
      ]
    },
    {
      "cell_type": "code",
      "metadata": {
        "id": "sQP_wywQhI_A"
      },
      "source": [
        "another_tuple = ('blue','green','red')"
      ],
      "execution_count": null,
      "outputs": []
    },
    {
      "cell_type": "code",
      "metadata": {
        "colab": {
          "base_uri": "https://localhost:8080/"
        },
        "id": "3xL26NJwhPcQ",
        "outputId": "ed46ca42-4b36-49aa-979e-6050209e28dd"
      },
      "source": [
        "# we can still index items in a tuple using square brackets\n",
        "a_tuple[0]"
      ],
      "execution_count": null,
      "outputs": [
        {
          "output_type": "execute_result",
          "data": {
            "text/plain": [
              "1"
            ]
          },
          "metadata": {
            "tags": []
          },
          "execution_count": 48
        }
      ]
    },
    {
      "cell_type": "code",
      "metadata": {
        "id": "Do4TLIgPhbWA"
      },
      "source": [
        "# dictionaries\n",
        "# dictionaries are another collection type\n",
        "# this time they're signified by key:value pairs comma separated in curly brackets\n",
        "# dictionaries are unordered unlike lists and tuples\n",
        "\n",
        "translation = {'one': 'first',\n",
        "               'two':'second'}"
      ],
      "execution_count": null,
      "outputs": []
    },
    {
      "cell_type": "code",
      "metadata": {
        "colab": {
          "base_uri": "https://localhost:8080/",
          "height": 174
        },
        "id": "ujmpknJ0hwbg",
        "outputId": "77a5f56b-306a-4897-bd12-2d1ed6745165"
      },
      "source": [
        "# being unordered means we can't index by position\n",
        "# here the key 0 doesn't exist in the dictionary\n",
        "# so an error is thrown\n",
        "translation[0]"
      ],
      "execution_count": null,
      "outputs": [
        {
          "output_type": "error",
          "ename": "KeyError",
          "evalue": "ignored",
          "traceback": [
            "\u001b[0;31m---------------------------------------------------------------------------\u001b[0m",
            "\u001b[0;31mKeyError\u001b[0m                                  Traceback (most recent call last)",
            "\u001b[0;32m<ipython-input-50-23af5141715f>\u001b[0m in \u001b[0;36m<module>\u001b[0;34m()\u001b[0m\n\u001b[0;32m----> 1\u001b[0;31m \u001b[0mtranslation\u001b[0m\u001b[0;34m[\u001b[0m\u001b[0;36m0\u001b[0m\u001b[0;34m]\u001b[0m\u001b[0;34m\u001b[0m\u001b[0;34m\u001b[0m\u001b[0m\n\u001b[0m",
            "\u001b[0;31mKeyError\u001b[0m: 0"
          ]
        }
      ]
    },
    {
      "cell_type": "code",
      "metadata": {
        "colab": {
          "base_uri": "https://localhost:8080/",
          "height": 136
        },
        "id": "1dYSXQAXhykR",
        "outputId": "ad2603bf-ac9b-4aa3-b7c2-9ac0373a146c"
      },
      "source": [
        "# curly brackets don't mean anything here\n",
        "# square brackets are always used for indexing\n",
        "translation{0}"
      ],
      "execution_count": null,
      "outputs": [
        {
          "output_type": "error",
          "ename": "SyntaxError",
          "evalue": "ignored",
          "traceback": [
            "\u001b[0;36m  File \u001b[0;32m\"<ipython-input-51-c7d474ac4356>\"\u001b[0;36m, line \u001b[0;32m1\u001b[0m\n\u001b[0;31m    translation{0}\u001b[0m\n\u001b[0m               ^\u001b[0m\n\u001b[0;31mSyntaxError\u001b[0m\u001b[0;31m:\u001b[0m invalid syntax\n"
          ]
        }
      ]
    },
    {
      "cell_type": "code",
      "metadata": {
        "colab": {
          "base_uri": "https://localhost:8080/",
          "height": 36
        },
        "id": "LbcdFDN9h8Sk",
        "outputId": "e9c98713-6e40-4f26-9d9e-bf06cd0b86c6"
      },
      "source": [
        "# we can index by key value\n",
        "# so because we have a key called `one` we can retrieve its value\n",
        "translation['one']"
      ],
      "execution_count": null,
      "outputs": [
        {
          "output_type": "execute_result",
          "data": {
            "application/vnd.google.colaboratory.intrinsic+json": {
              "type": "string"
            },
            "text/plain": [
              "'first'"
            ]
          },
          "metadata": {
            "tags": []
          },
          "execution_count": 52
        }
      ]
    },
    {
      "cell_type": "code",
      "metadata": {
        "id": "VfReo6DjiE6R"
      },
      "source": [
        "# we can also define our own functions within python\n",
        "# to do this we use the def keyword\n",
        "# followed by a function name\n",
        "# and arguments contained within curved brackets followed by a colon\n",
        "# we then indent the code we want our function to run when called\n",
        "# and specify a return value for what we want our function to return\n",
        "\n",
        "def add_function(a, b):\n",
        "  result = a + b\n",
        "  return result"
      ],
      "execution_count": null,
      "outputs": []
    },
    {
      "cell_type": "code",
      "metadata": {
        "colab": {
          "base_uri": "https://localhost:8080/"
        },
        "id": "eltK7_cZi0Fk",
        "outputId": "ab3c5a00-214a-4635-8019-d91bd68f9a1e"
      },
      "source": [
        "# testing out our function\n",
        "add_function(22, 20)"
      ],
      "execution_count": null,
      "outputs": [
        {
          "output_type": "execute_result",
          "data": {
            "text/plain": [
              "42"
            ]
          },
          "metadata": {
            "tags": []
          },
          "execution_count": 54
        }
      ]
    },
    {
      "cell_type": "code",
      "metadata": {
        "colab": {
          "base_uri": "https://localhost:8080/"
        },
        "id": "pv6u-cpqjNHC",
        "outputId": "8b98b9f7-efcf-4a09-e181-29b2e7ab1d15"
      },
      "source": [
        "# calling the `.keys()` function on a dictionary returns \n",
        "# a special dict_keys object containing all keys\n",
        "# if we wrap this in the `list()` function \n",
        "# we can retrieve the keys are a pure python list\n",
        "list(translation.keys())"
      ],
      "execution_count": null,
      "outputs": [
        {
          "output_type": "execute_result",
          "data": {
            "text/plain": [
              "['one', 'two']"
            ]
          },
          "metadata": {
            "tags": []
          },
          "execution_count": 57
        }
      ]
    }
  ]
}
