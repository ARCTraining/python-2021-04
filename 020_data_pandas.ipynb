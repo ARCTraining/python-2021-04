{
  "nbformat": 4,
  "nbformat_minor": 0,
  "metadata": {
    "colab": {
      "name": "020_data_pandas.ipynb",
      "provenance": [],
      "collapsed_sections": [],
      "include_colab_link": true
    },
    "kernelspec": {
      "name": "python3",
      "display_name": "Python 3"
    },
    "language_info": {
      "name": "python"
    }
  },
  "cells": [
    {
      "cell_type": "markdown",
      "metadata": {
        "id": "view-in-github",
        "colab_type": "text"
      },
      "source": [
        "<a href=\"https://colab.research.google.com/github/ARCTraining/python-2021-04/blob/gh-pages/020_data_pandas.ipynb\" target=\"_parent\"><img src=\"https://colab.research.google.com/assets/colab-badge.svg\" alt=\"Open In Colab\"/></a>"
      ]
    },
    {
      "cell_type": "markdown",
      "metadata": {
        "id": "KgG9J1Lfk5_Z"
      },
      "source": [
        "# Starting with Data"
      ]
    },
    {
      "cell_type": "code",
      "metadata": {
        "id": "a9s-hezjkb5W"
      },
      "source": [
        "# Author: Martin Callaghan\n",
        "# Date: 2021-04-26\n",
        "# Lesson link: https://arctraining.github.io/python-2021-04/02-starting-with-data/index.html"
      ],
      "execution_count": null,
      "outputs": []
    },
    {
      "cell_type": "code",
      "metadata": {
        "colab": {
          "base_uri": "https://localhost:8080/"
        },
        "id": "eTx3Ol5Wbufe",
        "outputId": "8391f9cb-48d5-4238-c0dc-adedbcc48be1"
      },
      "source": [
        "# Connect my Google Drive to Google Colab\n",
        "from google.colab import drive\n",
        "drive.mount ('/content/gdrive')"
      ],
      "execution_count": null,
      "outputs": [
        {
          "output_type": "stream",
          "text": [
            "Mounted at /content/gdrive\n"
          ],
          "name": "stdout"
        }
      ]
    },
    {
      "cell_type": "code",
      "metadata": {
        "id": "YoHKafr1lOhx"
      },
      "source": [
        "# import pandas library\n",
        "import pandas as pd"
      ],
      "execution_count": null,
      "outputs": []
    },
    {
      "cell_type": "code",
      "metadata": {
        "id": "sK6fQUSplpt-"
      },
      "source": [
        "# We use the Portal Project teaching dataset\n",
        "# https://figshare.com/articles/dataset/Portal_Project_Teaching_Database/1314459"
      ],
      "execution_count": null,
      "outputs": []
    },
    {
      "cell_type": "code",
      "metadata": {
        "colab": {
          "base_uri": "https://localhost:8080/"
        },
        "id": "JcalYB5xmwwQ",
        "outputId": "895619eb-fee1-4f71-fafc-7180d2c48608"
      },
      "source": [
        "# But first we need to download it\n",
        "!wget https://arctraining.github.io/python-2021-04/data/portal-teachingdb-master.zip"
      ],
      "execution_count": null,
      "outputs": [
        {
          "output_type": "stream",
          "text": [
            "--2021-05-10 07:40:56--  https://arctraining.github.io/python-2021-04/data/portal-teachingdb-master.zip\n",
            "Resolving arctraining.github.io (arctraining.github.io)... 185.199.110.153, 185.199.108.153, 185.199.111.153, ...\n",
            "Connecting to arctraining.github.io (arctraining.github.io)|185.199.110.153|:443... connected.\n",
            "HTTP request sent, awaiting response... 200 OK\n",
            "Length: 689547 (673K) [application/zip]\n",
            "Saving to: ‘portal-teachingdb-master.zip’\n",
            "\n",
            "portal-teachingdb-m 100%[===================>] 673.39K  --.-KB/s    in 0.08s   \n",
            "\n",
            "2021-05-10 07:40:56 (8.10 MB/s) - ‘portal-teachingdb-master.zip’ saved [689547/689547]\n",
            "\n"
          ],
          "name": "stdout"
        }
      ]
    },
    {
      "cell_type": "code",
      "metadata": {
        "id": "5LF8hea0rt_7"
      },
      "source": [
        "# after downloading rename\n",
        "# portal-teachingdb-master.zip to data.zip\n",
        "# <<< do that in the file explorer window to the left of the notebook <<<"
      ],
      "execution_count": null,
      "outputs": []
    },
    {
      "cell_type": "code",
      "metadata": {
        "colab": {
          "base_uri": "https://localhost:8080/"
        },
        "id": "_z82woXzoekT",
        "outputId": "9a647392-a2cd-445e-f34d-e19bf954d07e"
      },
      "source": [
        "# now unzip the file we've just downloaded\n",
        "!unzip data.zip"
      ],
      "execution_count": null,
      "outputs": [
        {
          "output_type": "stream",
          "text": [
            "unzip:  cannot find or open data.zip, data.zip.zip or data.zip.ZIP.\n"
          ],
          "name": "stdout"
        }
      ]
    },
    {
      "cell_type": "code",
      "metadata": {
        "id": "gsK3kDbgr7fk"
      },
      "source": [
        "# rename the folder portal-teachingdb-master to data\n",
        "# <<< do that in the file explorer window to the left of the notebook <<<"
      ],
      "execution_count": null,
      "outputs": []
    },
    {
      "cell_type": "code",
      "metadata": {
        "colab": {
          "base_uri": "https://localhost:8080/"
        },
        "id": "RScX5BtHovh-",
        "outputId": "e7e9b285-1d74-4c5b-8d0e-01f8ce479d8b"
      },
      "source": [
        "# see what we have done\n",
        "!ls -l"
      ],
      "execution_count": null,
      "outputs": [
        {
          "output_type": "stream",
          "text": [
            "total 688\n",
            "drwxrwxr-x 2 root root   4096 Jun  5  2020 data\n",
            "-rw-r--r-- 1 root root 689547 Apr 29 15:01 data.zip\n",
            "drwx------ 5 root root   4096 May  4 08:15 gdrive\n",
            "drwxr-xr-x 1 root root   4096 Apr 21 13:39 sample_data\n"
          ],
          "name": "stdout"
        }
      ]
    },
    {
      "cell_type": "code",
      "metadata": {
        "colab": {
          "base_uri": "https://localhost:8080/"
        },
        "id": "TaTqKsLkirHB",
        "outputId": "da9b75e7-35bd-4708-bf2c-fc3e4dfde6c2"
      },
      "source": [
        "# The full filepath has a space in it (between Colab and Notebooks) which we need to accomodate\n",
        "# Either by including the path in quotes - like this:\n",
        "!ls \"/content/gdrive/MyDrive/Colab Notebooks/intro-python-2021-04/data\""
      ],
      "execution_count": null,
      "outputs": [
        {
          "output_type": "stream",
          "text": [
            "bouldercreek_09_2013.txt  README.txt\t     surveys2001.csv\n",
            "plots.csv\t\t  species.csv\t     surveys2002.csv\n",
            "portal_mammals.sqlite\t  speciesSubset.csv  surveys.csv\n"
          ],
          "name": "stdout"
        }
      ]
    },
    {
      "cell_type": "code",
      "metadata": {
        "colab": {
          "base_uri": "https://localhost:8080/"
        },
        "id": "FI4f-44xjQ0u",
        "outputId": "6889a8dc-c181-44a8-f8c9-26eb29542cc9"
      },
      "source": [
        "# Or by 'escaping out' the space by putting a backslash \\ in front of it\n",
        "# Like this:\n",
        "!ls /content/gdrive/MyDrive/Colab\\ Notebooks/intro-python-2021-04/data"
      ],
      "execution_count": null,
      "outputs": [
        {
          "output_type": "stream",
          "text": [
            "bouldercreek_09_2013.txt  README.txt\t     surveys2001.csv\n",
            "plots.csv\t\t  species.csv\t     surveys2002.csv\n",
            "portal_mammals.sqlite\t  speciesSubset.csv  surveys.csv\n"
          ],
          "name": "stdout"
        }
      ]
    },
    {
      "cell_type": "code",
      "metadata": {
        "id": "xsDxUu30fPNZ"
      },
      "source": [
        "# Move the data folder into your 'gdrive'\n",
        "# Move it into gdrive/MyDrive/Colab Notebooks/intro-python-2021-04"
      ],
      "execution_count": null,
      "outputs": []
    },
    {
      "cell_type": "code",
      "metadata": {
        "colab": {
          "base_uri": "https://localhost:8080/",
          "height": 444
        },
        "id": "6jMUnG1Uo4Iq",
        "outputId": "951b06f8-1d01-4db7-88b3-d68dba82f810"
      },
      "source": [
        "# First look at the data\n",
        "# Copy the 'path' to your Google Drive data folder and replace it with the 'data' folder we had last week\n",
        "pd.read_csv ('/content/gdrive/MyDrive/Colab Notebooks/intro-python-2021-04/data/surveys.csv')"
      ],
      "execution_count": null,
      "outputs": [
        {
          "output_type": "execute_result",
          "data": {
            "text/html": [
              "<div>\n",
              "<style scoped>\n",
              "    .dataframe tbody tr th:only-of-type {\n",
              "        vertical-align: middle;\n",
              "    }\n",
              "\n",
              "    .dataframe tbody tr th {\n",
              "        vertical-align: top;\n",
              "    }\n",
              "\n",
              "    .dataframe thead th {\n",
              "        text-align: right;\n",
              "    }\n",
              "</style>\n",
              "<table border=\"1\" class=\"dataframe\">\n",
              "  <thead>\n",
              "    <tr style=\"text-align: right;\">\n",
              "      <th></th>\n",
              "      <th>record_id</th>\n",
              "      <th>month</th>\n",
              "      <th>day</th>\n",
              "      <th>year</th>\n",
              "      <th>plot_id</th>\n",
              "      <th>species_id</th>\n",
              "      <th>sex</th>\n",
              "      <th>hindfoot_length</th>\n",
              "      <th>weight</th>\n",
              "    </tr>\n",
              "  </thead>\n",
              "  <tbody>\n",
              "    <tr>\n",
              "      <th>0</th>\n",
              "      <td>1</td>\n",
              "      <td>7</td>\n",
              "      <td>16</td>\n",
              "      <td>1977</td>\n",
              "      <td>2</td>\n",
              "      <td>NL</td>\n",
              "      <td>M</td>\n",
              "      <td>32.0</td>\n",
              "      <td>NaN</td>\n",
              "    </tr>\n",
              "    <tr>\n",
              "      <th>1</th>\n",
              "      <td>2</td>\n",
              "      <td>7</td>\n",
              "      <td>16</td>\n",
              "      <td>1977</td>\n",
              "      <td>3</td>\n",
              "      <td>NL</td>\n",
              "      <td>M</td>\n",
              "      <td>33.0</td>\n",
              "      <td>NaN</td>\n",
              "    </tr>\n",
              "    <tr>\n",
              "      <th>2</th>\n",
              "      <td>3</td>\n",
              "      <td>7</td>\n",
              "      <td>16</td>\n",
              "      <td>1977</td>\n",
              "      <td>2</td>\n",
              "      <td>DM</td>\n",
              "      <td>F</td>\n",
              "      <td>37.0</td>\n",
              "      <td>NaN</td>\n",
              "    </tr>\n",
              "    <tr>\n",
              "      <th>3</th>\n",
              "      <td>4</td>\n",
              "      <td>7</td>\n",
              "      <td>16</td>\n",
              "      <td>1977</td>\n",
              "      <td>7</td>\n",
              "      <td>DM</td>\n",
              "      <td>M</td>\n",
              "      <td>36.0</td>\n",
              "      <td>NaN</td>\n",
              "    </tr>\n",
              "    <tr>\n",
              "      <th>4</th>\n",
              "      <td>5</td>\n",
              "      <td>7</td>\n",
              "      <td>16</td>\n",
              "      <td>1977</td>\n",
              "      <td>3</td>\n",
              "      <td>DM</td>\n",
              "      <td>M</td>\n",
              "      <td>35.0</td>\n",
              "      <td>NaN</td>\n",
              "    </tr>\n",
              "    <tr>\n",
              "      <th>...</th>\n",
              "      <td>...</td>\n",
              "      <td>...</td>\n",
              "      <td>...</td>\n",
              "      <td>...</td>\n",
              "      <td>...</td>\n",
              "      <td>...</td>\n",
              "      <td>...</td>\n",
              "      <td>...</td>\n",
              "      <td>...</td>\n",
              "    </tr>\n",
              "    <tr>\n",
              "      <th>35544</th>\n",
              "      <td>35545</td>\n",
              "      <td>12</td>\n",
              "      <td>31</td>\n",
              "      <td>2002</td>\n",
              "      <td>15</td>\n",
              "      <td>AH</td>\n",
              "      <td>NaN</td>\n",
              "      <td>NaN</td>\n",
              "      <td>NaN</td>\n",
              "    </tr>\n",
              "    <tr>\n",
              "      <th>35545</th>\n",
              "      <td>35546</td>\n",
              "      <td>12</td>\n",
              "      <td>31</td>\n",
              "      <td>2002</td>\n",
              "      <td>15</td>\n",
              "      <td>AH</td>\n",
              "      <td>NaN</td>\n",
              "      <td>NaN</td>\n",
              "      <td>NaN</td>\n",
              "    </tr>\n",
              "    <tr>\n",
              "      <th>35546</th>\n",
              "      <td>35547</td>\n",
              "      <td>12</td>\n",
              "      <td>31</td>\n",
              "      <td>2002</td>\n",
              "      <td>10</td>\n",
              "      <td>RM</td>\n",
              "      <td>F</td>\n",
              "      <td>15.0</td>\n",
              "      <td>14.0</td>\n",
              "    </tr>\n",
              "    <tr>\n",
              "      <th>35547</th>\n",
              "      <td>35548</td>\n",
              "      <td>12</td>\n",
              "      <td>31</td>\n",
              "      <td>2002</td>\n",
              "      <td>7</td>\n",
              "      <td>DO</td>\n",
              "      <td>M</td>\n",
              "      <td>36.0</td>\n",
              "      <td>51.0</td>\n",
              "    </tr>\n",
              "    <tr>\n",
              "      <th>35548</th>\n",
              "      <td>35549</td>\n",
              "      <td>12</td>\n",
              "      <td>31</td>\n",
              "      <td>2002</td>\n",
              "      <td>5</td>\n",
              "      <td>NaN</td>\n",
              "      <td>NaN</td>\n",
              "      <td>NaN</td>\n",
              "      <td>NaN</td>\n",
              "    </tr>\n",
              "  </tbody>\n",
              "</table>\n",
              "<p>35549 rows × 9 columns</p>\n",
              "</div>"
            ],
            "text/plain": [
              "       record_id  month  day  year  ...  species_id  sex hindfoot_length  weight\n",
              "0              1      7   16  1977  ...          NL    M            32.0     NaN\n",
              "1              2      7   16  1977  ...          NL    M            33.0     NaN\n",
              "2              3      7   16  1977  ...          DM    F            37.0     NaN\n",
              "3              4      7   16  1977  ...          DM    M            36.0     NaN\n",
              "4              5      7   16  1977  ...          DM    M            35.0     NaN\n",
              "...          ...    ...  ...   ...  ...         ...  ...             ...     ...\n",
              "35544      35545     12   31  2002  ...          AH  NaN             NaN     NaN\n",
              "35545      35546     12   31  2002  ...          AH  NaN             NaN     NaN\n",
              "35546      35547     12   31  2002  ...          RM    F            15.0    14.0\n",
              "35547      35548     12   31  2002  ...          DO    M            36.0    51.0\n",
              "35548      35549     12   31  2002  ...         NaN  NaN             NaN     NaN\n",
              "\n",
              "[35549 rows x 9 columns]"
            ]
          },
          "metadata": {
            "tags": []
          },
          "execution_count": 15
        }
      ]
    },
    {
      "cell_type": "code",
      "metadata": {
        "id": "FiJYnoZ9qMVf"
      },
      "source": [
        "# Read in the df and assign to a variable\n",
        "surveys_df = pd.read_csv ('/content/gdrive/MyDrive/Colab Notebooks/intro-python-2021-04/data/surveys.csv')"
      ],
      "execution_count": null,
      "outputs": []
    },
    {
      "cell_type": "code",
      "metadata": {
        "id": "LkfJq07-kl_a"
      },
      "source": [
        "# But having to include this long path every time is a pain so\n",
        "filepath = \"/content/gdrive/MyDrive/Colab Notebooks/intro-python-2021-04/data/\"\n",
        "surveys_df = pd.read_csv (filepath + 'surveys.csv')"
      ],
      "execution_count": null,
      "outputs": []
    },
    {
      "cell_type": "code",
      "metadata": {
        "colab": {
          "base_uri": "https://localhost:8080/",
          "height": 424
        },
        "id": "Q9hQJab2qeOp",
        "outputId": "ff0760ba-a5c6-4697-85c4-736c9d7f5552"
      },
      "source": [
        "# Quickly view the contents\n",
        "surveys_df"
      ],
      "execution_count": null,
      "outputs": [
        {
          "output_type": "execute_result",
          "data": {
            "text/html": [
              "<div>\n",
              "<style scoped>\n",
              "    .dataframe tbody tr th:only-of-type {\n",
              "        vertical-align: middle;\n",
              "    }\n",
              "\n",
              "    .dataframe tbody tr th {\n",
              "        vertical-align: top;\n",
              "    }\n",
              "\n",
              "    .dataframe thead th {\n",
              "        text-align: right;\n",
              "    }\n",
              "</style>\n",
              "<table border=\"1\" class=\"dataframe\">\n",
              "  <thead>\n",
              "    <tr style=\"text-align: right;\">\n",
              "      <th></th>\n",
              "      <th>record_id</th>\n",
              "      <th>month</th>\n",
              "      <th>day</th>\n",
              "      <th>year</th>\n",
              "      <th>plot_id</th>\n",
              "      <th>species_id</th>\n",
              "      <th>sex</th>\n",
              "      <th>hindfoot_length</th>\n",
              "      <th>weight</th>\n",
              "    </tr>\n",
              "  </thead>\n",
              "  <tbody>\n",
              "    <tr>\n",
              "      <th>0</th>\n",
              "      <td>1</td>\n",
              "      <td>7</td>\n",
              "      <td>16</td>\n",
              "      <td>1977</td>\n",
              "      <td>2</td>\n",
              "      <td>NL</td>\n",
              "      <td>M</td>\n",
              "      <td>32.0</td>\n",
              "      <td>NaN</td>\n",
              "    </tr>\n",
              "    <tr>\n",
              "      <th>1</th>\n",
              "      <td>2</td>\n",
              "      <td>7</td>\n",
              "      <td>16</td>\n",
              "      <td>1977</td>\n",
              "      <td>3</td>\n",
              "      <td>NL</td>\n",
              "      <td>M</td>\n",
              "      <td>33.0</td>\n",
              "      <td>NaN</td>\n",
              "    </tr>\n",
              "    <tr>\n",
              "      <th>2</th>\n",
              "      <td>3</td>\n",
              "      <td>7</td>\n",
              "      <td>16</td>\n",
              "      <td>1977</td>\n",
              "      <td>2</td>\n",
              "      <td>DM</td>\n",
              "      <td>F</td>\n",
              "      <td>37.0</td>\n",
              "      <td>NaN</td>\n",
              "    </tr>\n",
              "    <tr>\n",
              "      <th>3</th>\n",
              "      <td>4</td>\n",
              "      <td>7</td>\n",
              "      <td>16</td>\n",
              "      <td>1977</td>\n",
              "      <td>7</td>\n",
              "      <td>DM</td>\n",
              "      <td>M</td>\n",
              "      <td>36.0</td>\n",
              "      <td>NaN</td>\n",
              "    </tr>\n",
              "    <tr>\n",
              "      <th>4</th>\n",
              "      <td>5</td>\n",
              "      <td>7</td>\n",
              "      <td>16</td>\n",
              "      <td>1977</td>\n",
              "      <td>3</td>\n",
              "      <td>DM</td>\n",
              "      <td>M</td>\n",
              "      <td>35.0</td>\n",
              "      <td>NaN</td>\n",
              "    </tr>\n",
              "    <tr>\n",
              "      <th>...</th>\n",
              "      <td>...</td>\n",
              "      <td>...</td>\n",
              "      <td>...</td>\n",
              "      <td>...</td>\n",
              "      <td>...</td>\n",
              "      <td>...</td>\n",
              "      <td>...</td>\n",
              "      <td>...</td>\n",
              "      <td>...</td>\n",
              "    </tr>\n",
              "    <tr>\n",
              "      <th>35544</th>\n",
              "      <td>35545</td>\n",
              "      <td>12</td>\n",
              "      <td>31</td>\n",
              "      <td>2002</td>\n",
              "      <td>15</td>\n",
              "      <td>AH</td>\n",
              "      <td>NaN</td>\n",
              "      <td>NaN</td>\n",
              "      <td>NaN</td>\n",
              "    </tr>\n",
              "    <tr>\n",
              "      <th>35545</th>\n",
              "      <td>35546</td>\n",
              "      <td>12</td>\n",
              "      <td>31</td>\n",
              "      <td>2002</td>\n",
              "      <td>15</td>\n",
              "      <td>AH</td>\n",
              "      <td>NaN</td>\n",
              "      <td>NaN</td>\n",
              "      <td>NaN</td>\n",
              "    </tr>\n",
              "    <tr>\n",
              "      <th>35546</th>\n",
              "      <td>35547</td>\n",
              "      <td>12</td>\n",
              "      <td>31</td>\n",
              "      <td>2002</td>\n",
              "      <td>10</td>\n",
              "      <td>RM</td>\n",
              "      <td>F</td>\n",
              "      <td>15.0</td>\n",
              "      <td>14.0</td>\n",
              "    </tr>\n",
              "    <tr>\n",
              "      <th>35547</th>\n",
              "      <td>35548</td>\n",
              "      <td>12</td>\n",
              "      <td>31</td>\n",
              "      <td>2002</td>\n",
              "      <td>7</td>\n",
              "      <td>DO</td>\n",
              "      <td>M</td>\n",
              "      <td>36.0</td>\n",
              "      <td>51.0</td>\n",
              "    </tr>\n",
              "    <tr>\n",
              "      <th>35548</th>\n",
              "      <td>35549</td>\n",
              "      <td>12</td>\n",
              "      <td>31</td>\n",
              "      <td>2002</td>\n",
              "      <td>5</td>\n",
              "      <td>NaN</td>\n",
              "      <td>NaN</td>\n",
              "      <td>NaN</td>\n",
              "      <td>NaN</td>\n",
              "    </tr>\n",
              "  </tbody>\n",
              "</table>\n",
              "<p>35549 rows × 9 columns</p>\n",
              "</div>"
            ],
            "text/plain": [
              "       record_id  month  day  year  ...  species_id  sex hindfoot_length  weight\n",
              "0              1      7   16  1977  ...          NL    M            32.0     NaN\n",
              "1              2      7   16  1977  ...          NL    M            33.0     NaN\n",
              "2              3      7   16  1977  ...          DM    F            37.0     NaN\n",
              "3              4      7   16  1977  ...          DM    M            36.0     NaN\n",
              "4              5      7   16  1977  ...          DM    M            35.0     NaN\n",
              "...          ...    ...  ...   ...  ...         ...  ...             ...     ...\n",
              "35544      35545     12   31  2002  ...          AH  NaN             NaN     NaN\n",
              "35545      35546     12   31  2002  ...          AH  NaN             NaN     NaN\n",
              "35546      35547     12   31  2002  ...          RM    F            15.0    14.0\n",
              "35547      35548     12   31  2002  ...          DO    M            36.0    51.0\n",
              "35548      35549     12   31  2002  ...         NaN  NaN             NaN     NaN\n",
              "\n",
              "[35549 rows x 9 columns]"
            ]
          },
          "metadata": {
            "tags": []
          },
          "execution_count": 9
        }
      ]
    },
    {
      "cell_type": "code",
      "metadata": {
        "colab": {
          "base_uri": "https://localhost:8080/",
          "height": 143
        },
        "id": "TKFdrmnIqnGZ",
        "outputId": "f00ad66e-112b-4ac4-99ef-6ebd59ebf6ba"
      },
      "source": [
        "# look at the fist few rows\n",
        "surveys_df.head(3)"
      ],
      "execution_count": null,
      "outputs": [
        {
          "output_type": "execute_result",
          "data": {
            "text/html": [
              "<div>\n",
              "<style scoped>\n",
              "    .dataframe tbody tr th:only-of-type {\n",
              "        vertical-align: middle;\n",
              "    }\n",
              "\n",
              "    .dataframe tbody tr th {\n",
              "        vertical-align: top;\n",
              "    }\n",
              "\n",
              "    .dataframe thead th {\n",
              "        text-align: right;\n",
              "    }\n",
              "</style>\n",
              "<table border=\"1\" class=\"dataframe\">\n",
              "  <thead>\n",
              "    <tr style=\"text-align: right;\">\n",
              "      <th></th>\n",
              "      <th>record_id</th>\n",
              "      <th>month</th>\n",
              "      <th>day</th>\n",
              "      <th>year</th>\n",
              "      <th>plot_id</th>\n",
              "      <th>species_id</th>\n",
              "      <th>sex</th>\n",
              "      <th>hindfoot_length</th>\n",
              "      <th>weight</th>\n",
              "    </tr>\n",
              "  </thead>\n",
              "  <tbody>\n",
              "    <tr>\n",
              "      <th>0</th>\n",
              "      <td>1</td>\n",
              "      <td>7</td>\n",
              "      <td>16</td>\n",
              "      <td>1977</td>\n",
              "      <td>2</td>\n",
              "      <td>NL</td>\n",
              "      <td>M</td>\n",
              "      <td>32.0</td>\n",
              "      <td>NaN</td>\n",
              "    </tr>\n",
              "    <tr>\n",
              "      <th>1</th>\n",
              "      <td>2</td>\n",
              "      <td>7</td>\n",
              "      <td>16</td>\n",
              "      <td>1977</td>\n",
              "      <td>3</td>\n",
              "      <td>NL</td>\n",
              "      <td>M</td>\n",
              "      <td>33.0</td>\n",
              "      <td>NaN</td>\n",
              "    </tr>\n",
              "    <tr>\n",
              "      <th>2</th>\n",
              "      <td>3</td>\n",
              "      <td>7</td>\n",
              "      <td>16</td>\n",
              "      <td>1977</td>\n",
              "      <td>2</td>\n",
              "      <td>DM</td>\n",
              "      <td>F</td>\n",
              "      <td>37.0</td>\n",
              "      <td>NaN</td>\n",
              "    </tr>\n",
              "  </tbody>\n",
              "</table>\n",
              "</div>"
            ],
            "text/plain": [
              "   record_id  month  day  year  plot_id species_id sex  hindfoot_length  weight\n",
              "0          1      7   16  1977        2         NL   M             32.0     NaN\n",
              "1          2      7   16  1977        3         NL   M             33.0     NaN\n",
              "2          3      7   16  1977        2         DM   F             37.0     NaN"
            ]
          },
          "metadata": {
            "tags": []
          },
          "execution_count": 10
        }
      ]
    },
    {
      "cell_type": "markdown",
      "metadata": {
        "id": "jLPurv1NssXA"
      },
      "source": [
        "## Exploring the dataset"
      ]
    },
    {
      "cell_type": "code",
      "metadata": {
        "colab": {
          "base_uri": "https://localhost:8080/"
        },
        "id": "6i7T_PYusvbK",
        "outputId": "2b1a30e5-2904-45b0-8299-ed553a7284b6"
      },
      "source": [
        "# What is surveys_df\n",
        "type(surveys_df)"
      ],
      "execution_count": null,
      "outputs": [
        {
          "output_type": "execute_result",
          "data": {
            "text/plain": [
              "pandas.core.frame.DataFrame"
            ]
          },
          "metadata": {
            "tags": []
          },
          "execution_count": 11
        }
      ]
    },
    {
      "cell_type": "code",
      "metadata": {
        "colab": {
          "base_uri": "https://localhost:8080/"
        },
        "id": "ctSZL-6Vs4D7",
        "outputId": "2778d2a1-3222-4476-e47c-dfd376916880"
      },
      "source": [
        "# What data types are in the dataframe\n",
        "surveys_df.dtypes"
      ],
      "execution_count": null,
      "outputs": [
        {
          "output_type": "execute_result",
          "data": {
            "text/plain": [
              "record_id            int64\n",
              "month                int64\n",
              "day                  int64\n",
              "year                 int64\n",
              "plot_id              int64\n",
              "species_id          object\n",
              "sex                 object\n",
              "hindfoot_length    float64\n",
              "weight             float64\n",
              "dtype: object"
            ]
          },
          "metadata": {
            "tags": []
          },
          "execution_count": 12
        }
      ]
    },
    {
      "cell_type": "code",
      "metadata": {
        "colab": {
          "base_uri": "https://localhost:8080/"
        },
        "id": "10ojDdQGtAbx",
        "outputId": "0534dd3d-d906-49d0-99fa-66fdeec39a21"
      },
      "source": [
        "# Challenge 1\n",
        "surveys_df.columns"
      ],
      "execution_count": null,
      "outputs": [
        {
          "output_type": "execute_result",
          "data": {
            "text/plain": [
              "Index(['record_id', 'month', 'day', 'year', 'plot_id', 'species_id', 'sex',\n",
              "       'hindfoot_length', 'weight'],\n",
              "      dtype='object')"
            ]
          },
          "metadata": {
            "tags": []
          },
          "execution_count": 13
        }
      ]
    },
    {
      "cell_type": "code",
      "metadata": {
        "colab": {
          "base_uri": "https://localhost:8080/"
        },
        "id": "UQsHndMxu3c3",
        "outputId": "e835804a-b684-482a-ccdf-5ace276d2829"
      },
      "source": [
        "surveys_df.shape"
      ],
      "execution_count": null,
      "outputs": [
        {
          "output_type": "execute_result",
          "data": {
            "text/plain": [
              "(35549, 9)"
            ]
          },
          "metadata": {
            "tags": []
          },
          "execution_count": 14
        }
      ]
    },
    {
      "cell_type": "code",
      "metadata": {
        "colab": {
          "base_uri": "https://localhost:8080/",
          "height": 206
        },
        "id": "xCR4Kv7PvCib",
        "outputId": "3d8e4b0f-1ce3-40fd-8b11-43111e85afc8"
      },
      "source": [
        "surveys_df.tail()"
      ],
      "execution_count": null,
      "outputs": [
        {
          "output_type": "execute_result",
          "data": {
            "text/html": [
              "<div>\n",
              "<style scoped>\n",
              "    .dataframe tbody tr th:only-of-type {\n",
              "        vertical-align: middle;\n",
              "    }\n",
              "\n",
              "    .dataframe tbody tr th {\n",
              "        vertical-align: top;\n",
              "    }\n",
              "\n",
              "    .dataframe thead th {\n",
              "        text-align: right;\n",
              "    }\n",
              "</style>\n",
              "<table border=\"1\" class=\"dataframe\">\n",
              "  <thead>\n",
              "    <tr style=\"text-align: right;\">\n",
              "      <th></th>\n",
              "      <th>record_id</th>\n",
              "      <th>month</th>\n",
              "      <th>day</th>\n",
              "      <th>year</th>\n",
              "      <th>plot_id</th>\n",
              "      <th>species_id</th>\n",
              "      <th>sex</th>\n",
              "      <th>hindfoot_length</th>\n",
              "      <th>weight</th>\n",
              "    </tr>\n",
              "  </thead>\n",
              "  <tbody>\n",
              "    <tr>\n",
              "      <th>35544</th>\n",
              "      <td>35545</td>\n",
              "      <td>12</td>\n",
              "      <td>31</td>\n",
              "      <td>2002</td>\n",
              "      <td>15</td>\n",
              "      <td>AH</td>\n",
              "      <td>NaN</td>\n",
              "      <td>NaN</td>\n",
              "      <td>NaN</td>\n",
              "    </tr>\n",
              "    <tr>\n",
              "      <th>35545</th>\n",
              "      <td>35546</td>\n",
              "      <td>12</td>\n",
              "      <td>31</td>\n",
              "      <td>2002</td>\n",
              "      <td>15</td>\n",
              "      <td>AH</td>\n",
              "      <td>NaN</td>\n",
              "      <td>NaN</td>\n",
              "      <td>NaN</td>\n",
              "    </tr>\n",
              "    <tr>\n",
              "      <th>35546</th>\n",
              "      <td>35547</td>\n",
              "      <td>12</td>\n",
              "      <td>31</td>\n",
              "      <td>2002</td>\n",
              "      <td>10</td>\n",
              "      <td>RM</td>\n",
              "      <td>F</td>\n",
              "      <td>15.0</td>\n",
              "      <td>14.0</td>\n",
              "    </tr>\n",
              "    <tr>\n",
              "      <th>35547</th>\n",
              "      <td>35548</td>\n",
              "      <td>12</td>\n",
              "      <td>31</td>\n",
              "      <td>2002</td>\n",
              "      <td>7</td>\n",
              "      <td>DO</td>\n",
              "      <td>M</td>\n",
              "      <td>36.0</td>\n",
              "      <td>51.0</td>\n",
              "    </tr>\n",
              "    <tr>\n",
              "      <th>35548</th>\n",
              "      <td>35549</td>\n",
              "      <td>12</td>\n",
              "      <td>31</td>\n",
              "      <td>2002</td>\n",
              "      <td>5</td>\n",
              "      <td>NaN</td>\n",
              "      <td>NaN</td>\n",
              "      <td>NaN</td>\n",
              "      <td>NaN</td>\n",
              "    </tr>\n",
              "  </tbody>\n",
              "</table>\n",
              "</div>"
            ],
            "text/plain": [
              "       record_id  month  day  year  ...  species_id  sex hindfoot_length  weight\n",
              "35544      35545     12   31  2002  ...          AH  NaN             NaN     NaN\n",
              "35545      35546     12   31  2002  ...          AH  NaN             NaN     NaN\n",
              "35546      35547     12   31  2002  ...          RM    F            15.0    14.0\n",
              "35547      35548     12   31  2002  ...          DO    M            36.0    51.0\n",
              "35548      35549     12   31  2002  ...         NaN  NaN             NaN     NaN\n",
              "\n",
              "[5 rows x 9 columns]"
            ]
          },
          "metadata": {
            "tags": []
          },
          "execution_count": 15
        }
      ]
    },
    {
      "cell_type": "markdown",
      "metadata": {
        "id": "t_L2LpHkvc4n"
      },
      "source": [
        "## Basic statistics on the dataframe"
      ]
    },
    {
      "cell_type": "code",
      "metadata": {
        "colab": {
          "base_uri": "https://localhost:8080/"
        },
        "id": "8XgkXQtlvPQm",
        "outputId": "6c6b8187-07b4-4c3a-8a1a-41f09697e841"
      },
      "source": [
        "# Look at the columns\n",
        "surveys_df.columns"
      ],
      "execution_count": null,
      "outputs": [
        {
          "output_type": "execute_result",
          "data": {
            "text/plain": [
              "Index(['record_id', 'month', 'day', 'year', 'plot_id', 'species_id', 'sex',\n",
              "       'hindfoot_length', 'weight'],\n",
              "      dtype='object')"
            ]
          },
          "metadata": {
            "tags": []
          },
          "execution_count": 16
        }
      ]
    },
    {
      "cell_type": "code",
      "metadata": {
        "colab": {
          "base_uri": "https://localhost:8080/"
        },
        "id": "feyNX1W7vomO",
        "outputId": "042f37d0-9a9b-463c-e008-4dda3f8f4208"
      },
      "source": [
        "# What are the unique values of species\n",
        "pd.unique(surveys_df['species_id'])"
      ],
      "execution_count": null,
      "outputs": [
        {
          "output_type": "execute_result",
          "data": {
            "text/plain": [
              "array(['NL', 'DM', 'PF', 'PE', 'DS', 'PP', 'SH', 'OT', 'DO', 'OX', 'SS',\n",
              "       'OL', 'RM', nan, 'SA', 'PM', 'AH', 'DX', 'AB', 'CB', 'CM', 'CQ',\n",
              "       'RF', 'PC', 'PG', 'PH', 'PU', 'CV', 'UR', 'UP', 'ZL', 'UL', 'CS',\n",
              "       'SC', 'BA', 'SF', 'RO', 'AS', 'SO', 'PI', 'ST', 'CU', 'SU', 'RX',\n",
              "       'PB', 'PL', 'PX', 'CT', 'US'], dtype=object)"
            ]
          },
          "metadata": {
            "tags": []
          },
          "execution_count": 17
        }
      ]
    },
    {
      "cell_type": "code",
      "metadata": {
        "id": "WBQ92Z7Vw_Gb"
      },
      "source": [
        "# Challenge 2: Statistics"
      ],
      "execution_count": null,
      "outputs": []
    },
    {
      "cell_type": "code",
      "metadata": {
        "id": "f5RaWtZFxmvJ"
      },
      "source": [
        "# Create a list of unique plot_id\n",
        "site_names = pd.unique(surveys_df['plot_id'])"
      ],
      "execution_count": null,
      "outputs": []
    },
    {
      "cell_type": "code",
      "metadata": {
        "colab": {
          "base_uri": "https://localhost:8080/"
        },
        "id": "E0Dr80oPyLx-",
        "outputId": "d0603e52-ac82-4423-ad49-d9240a324967"
      },
      "source": [
        "site_names"
      ],
      "execution_count": null,
      "outputs": [
        {
          "output_type": "execute_result",
          "data": {
            "text/plain": [
              "array([ 2,  3,  7,  1,  6,  5,  8,  4, 11, 14, 15, 13,  9, 10, 17, 16, 20,\n",
              "       23, 18, 21, 22, 19, 12, 24])"
            ]
          },
          "metadata": {
            "tags": []
          },
          "execution_count": 20
        }
      ]
    },
    {
      "cell_type": "code",
      "metadata": {
        "colab": {
          "base_uri": "https://localhost:8080/"
        },
        "id": "XMPHWw0XyNJn",
        "outputId": "da6de1af-0fc2-47d6-a97e-0c0f4ab2d78b"
      },
      "source": [
        "# How many unique site names are there?\n",
        "len (site_names)"
      ],
      "execution_count": null,
      "outputs": [
        {
          "output_type": "execute_result",
          "data": {
            "text/plain": [
              "24"
            ]
          },
          "metadata": {
            "tags": []
          },
          "execution_count": 21
        }
      ]
    },
    {
      "cell_type": "code",
      "metadata": {
        "colab": {
          "base_uri": "https://localhost:8080/"
        },
        "id": "3B61bdPJyZAP",
        "outputId": "57a17311-ea21-47a4-a55e-c95eceb6a9aa"
      },
      "source": [
        "# Number of species\n",
        "len (pd.unique(surveys_df['species_id']))"
      ],
      "execution_count": null,
      "outputs": [
        {
          "output_type": "execute_result",
          "data": {
            "text/plain": [
              "49"
            ]
          },
          "metadata": {
            "tags": []
          },
          "execution_count": 22
        }
      ]
    },
    {
      "cell_type": "code",
      "metadata": {
        "colab": {
          "base_uri": "https://localhost:8080/"
        },
        "id": "bVobh6NSyuVv",
        "outputId": "0c1ae590-9810-4ea5-e99f-2d3e050c9c4f"
      },
      "source": [
        "# What is the difference between len(site_names) and surveys_df['plot_id'].nunique()?\n",
        "surveys_df['plot_id'].nunique()"
      ],
      "execution_count": null,
      "outputs": [
        {
          "output_type": "execute_result",
          "data": {
            "text/plain": [
              "24"
            ]
          },
          "metadata": {
            "tags": []
          },
          "execution_count": 23
        }
      ]
    },
    {
      "cell_type": "markdown",
      "metadata": {
        "id": "OF-TVjoLzPMx"
      },
      "source": [
        "## Grouping in Pandas"
      ]
    },
    {
      "cell_type": "code",
      "metadata": {
        "id": "yeIMVPV3y2-r"
      },
      "source": [
        "# Homework:\n",
        "# Try the 'grouping in pandas' section *and* the Challenge - Summary Data"
      ],
      "execution_count": null,
      "outputs": []
    },
    {
      "cell_type": "code",
      "metadata": {
        "id": "XQ3P4fXq00jE",
        "colab": {
          "base_uri": "https://localhost:8080/"
        },
        "outputId": "85001e14-a635-4b3b-a179-489bcb019876"
      },
      "source": [
        "surveys_df['weight'].describe()"
      ],
      "execution_count": null,
      "outputs": [
        {
          "output_type": "execute_result",
          "data": {
            "text/plain": [
              "count    32283.000000\n",
              "mean        42.672428\n",
              "std         36.631259\n",
              "min          4.000000\n",
              "25%         20.000000\n",
              "50%         37.000000\n",
              "75%         48.000000\n",
              "max        280.000000\n",
              "Name: weight, dtype: float64"
            ]
          },
          "metadata": {
            "tags": []
          },
          "execution_count": 25
        }
      ]
    },
    {
      "cell_type": "code",
      "metadata": {
        "colab": {
          "base_uri": "https://localhost:8080/"
        },
        "id": "Vg8NP22OocuW",
        "outputId": "d066b87b-4e09-4f98-bdcc-022d79b773f2"
      },
      "source": [
        "# If I want just one statistical metric\n",
        "surveys_df['weight'].max()\n"
      ],
      "execution_count": null,
      "outputs": [
        {
          "output_type": "execute_result",
          "data": {
            "text/plain": [
              "280.0"
            ]
          },
          "metadata": {
            "tags": []
          },
          "execution_count": 26
        }
      ]
    },
    {
      "cell_type": "code",
      "metadata": {
        "colab": {
          "base_uri": "https://localhost:8080/"
        },
        "id": "msBkMWKvoxr6",
        "outputId": "ecd7b804-93d8-400a-bf38-210fba2dcf7c"
      },
      "source": [
        "surveys_df['weight'].mean()"
      ],
      "execution_count": null,
      "outputs": [
        {
          "output_type": "execute_result",
          "data": {
            "text/plain": [
              "42.672428212991356"
            ]
          },
          "metadata": {
            "tags": []
          },
          "execution_count": 27
        }
      ]
    },
    {
      "cell_type": "code",
      "metadata": {
        "id": "2_XxtEkopDuM"
      },
      "source": [
        "# To sumaarise by one or more variables:\n",
        "grouped_data_sex = surveys_df.groupby('sex')"
      ],
      "execution_count": null,
      "outputs": []
    },
    {
      "cell_type": "code",
      "metadata": {
        "colab": {
          "base_uri": "https://localhost:8080/",
          "height": 195
        },
        "id": "WjeFLgAepQtP",
        "outputId": "b4721e14-daa5-4cf3-bc8c-b32d0da5a99b"
      },
      "source": [
        "# Summary statistics\n",
        "grouped_data_sex.describe()"
      ],
      "execution_count": null,
      "outputs": [
        {
          "output_type": "execute_result",
          "data": {
            "text/html": [
              "<div>\n",
              "<style scoped>\n",
              "    .dataframe tbody tr th:only-of-type {\n",
              "        vertical-align: middle;\n",
              "    }\n",
              "\n",
              "    .dataframe tbody tr th {\n",
              "        vertical-align: top;\n",
              "    }\n",
              "\n",
              "    .dataframe thead tr th {\n",
              "        text-align: left;\n",
              "    }\n",
              "\n",
              "    .dataframe thead tr:last-of-type th {\n",
              "        text-align: right;\n",
              "    }\n",
              "</style>\n",
              "<table border=\"1\" class=\"dataframe\">\n",
              "  <thead>\n",
              "    <tr>\n",
              "      <th></th>\n",
              "      <th colspan=\"8\" halign=\"left\">record_id</th>\n",
              "      <th colspan=\"8\" halign=\"left\">month</th>\n",
              "      <th colspan=\"8\" halign=\"left\">day</th>\n",
              "      <th colspan=\"8\" halign=\"left\">year</th>\n",
              "      <th colspan=\"8\" halign=\"left\">plot_id</th>\n",
              "      <th colspan=\"8\" halign=\"left\">hindfoot_length</th>\n",
              "      <th colspan=\"8\" halign=\"left\">weight</th>\n",
              "    </tr>\n",
              "    <tr>\n",
              "      <th></th>\n",
              "      <th>count</th>\n",
              "      <th>mean</th>\n",
              "      <th>std</th>\n",
              "      <th>min</th>\n",
              "      <th>25%</th>\n",
              "      <th>50%</th>\n",
              "      <th>75%</th>\n",
              "      <th>max</th>\n",
              "      <th>count</th>\n",
              "      <th>mean</th>\n",
              "      <th>std</th>\n",
              "      <th>min</th>\n",
              "      <th>25%</th>\n",
              "      <th>50%</th>\n",
              "      <th>75%</th>\n",
              "      <th>max</th>\n",
              "      <th>count</th>\n",
              "      <th>mean</th>\n",
              "      <th>std</th>\n",
              "      <th>min</th>\n",
              "      <th>25%</th>\n",
              "      <th>50%</th>\n",
              "      <th>75%</th>\n",
              "      <th>max</th>\n",
              "      <th>count</th>\n",
              "      <th>mean</th>\n",
              "      <th>std</th>\n",
              "      <th>min</th>\n",
              "      <th>25%</th>\n",
              "      <th>50%</th>\n",
              "      <th>75%</th>\n",
              "      <th>max</th>\n",
              "      <th>count</th>\n",
              "      <th>mean</th>\n",
              "      <th>std</th>\n",
              "      <th>min</th>\n",
              "      <th>25%</th>\n",
              "      <th>50%</th>\n",
              "      <th>75%</th>\n",
              "      <th>max</th>\n",
              "      <th>count</th>\n",
              "      <th>mean</th>\n",
              "      <th>std</th>\n",
              "      <th>min</th>\n",
              "      <th>25%</th>\n",
              "      <th>50%</th>\n",
              "      <th>75%</th>\n",
              "      <th>max</th>\n",
              "      <th>count</th>\n",
              "      <th>mean</th>\n",
              "      <th>std</th>\n",
              "      <th>min</th>\n",
              "      <th>25%</th>\n",
              "      <th>50%</th>\n",
              "      <th>75%</th>\n",
              "      <th>max</th>\n",
              "    </tr>\n",
              "    <tr>\n",
              "      <th>sex</th>\n",
              "      <th></th>\n",
              "      <th></th>\n",
              "      <th></th>\n",
              "      <th></th>\n",
              "      <th></th>\n",
              "      <th></th>\n",
              "      <th></th>\n",
              "      <th></th>\n",
              "      <th></th>\n",
              "      <th></th>\n",
              "      <th></th>\n",
              "      <th></th>\n",
              "      <th></th>\n",
              "      <th></th>\n",
              "      <th></th>\n",
              "      <th></th>\n",
              "      <th></th>\n",
              "      <th></th>\n",
              "      <th></th>\n",
              "      <th></th>\n",
              "      <th></th>\n",
              "      <th></th>\n",
              "      <th></th>\n",
              "      <th></th>\n",
              "      <th></th>\n",
              "      <th></th>\n",
              "      <th></th>\n",
              "      <th></th>\n",
              "      <th></th>\n",
              "      <th></th>\n",
              "      <th></th>\n",
              "      <th></th>\n",
              "      <th></th>\n",
              "      <th></th>\n",
              "      <th></th>\n",
              "      <th></th>\n",
              "      <th></th>\n",
              "      <th></th>\n",
              "      <th></th>\n",
              "      <th></th>\n",
              "      <th></th>\n",
              "      <th></th>\n",
              "      <th></th>\n",
              "      <th></th>\n",
              "      <th></th>\n",
              "      <th></th>\n",
              "      <th></th>\n",
              "      <th></th>\n",
              "      <th></th>\n",
              "      <th></th>\n",
              "      <th></th>\n",
              "      <th></th>\n",
              "      <th></th>\n",
              "      <th></th>\n",
              "      <th></th>\n",
              "      <th></th>\n",
              "    </tr>\n",
              "  </thead>\n",
              "  <tbody>\n",
              "    <tr>\n",
              "      <th>F</th>\n",
              "      <td>15690.0</td>\n",
              "      <td>18036.412046</td>\n",
              "      <td>10423.089000</td>\n",
              "      <td>3.0</td>\n",
              "      <td>8917.50</td>\n",
              "      <td>18075.5</td>\n",
              "      <td>27250.00</td>\n",
              "      <td>35547.0</td>\n",
              "      <td>15690.0</td>\n",
              "      <td>6.587253</td>\n",
              "      <td>3.367584</td>\n",
              "      <td>1.0</td>\n",
              "      <td>4.0</td>\n",
              "      <td>7.0</td>\n",
              "      <td>10.0</td>\n",
              "      <td>12.0</td>\n",
              "      <td>15690.0</td>\n",
              "      <td>15.880943</td>\n",
              "      <td>8.270291</td>\n",
              "      <td>1.0</td>\n",
              "      <td>9.0</td>\n",
              "      <td>15.0</td>\n",
              "      <td>23.0</td>\n",
              "      <td>31.0</td>\n",
              "      <td>15690.0</td>\n",
              "      <td>1990.644997</td>\n",
              "      <td>7.598725</td>\n",
              "      <td>1977.0</td>\n",
              "      <td>1984.0</td>\n",
              "      <td>1990.0</td>\n",
              "      <td>1997.0</td>\n",
              "      <td>2002.0</td>\n",
              "      <td>15690.0</td>\n",
              "      <td>11.440854</td>\n",
              "      <td>6.870684</td>\n",
              "      <td>1.0</td>\n",
              "      <td>5.0</td>\n",
              "      <td>12.0</td>\n",
              "      <td>17.0</td>\n",
              "      <td>24.0</td>\n",
              "      <td>14894.0</td>\n",
              "      <td>28.836780</td>\n",
              "      <td>9.463789</td>\n",
              "      <td>7.0</td>\n",
              "      <td>21.0</td>\n",
              "      <td>27.0</td>\n",
              "      <td>36.0</td>\n",
              "      <td>64.0</td>\n",
              "      <td>15303.0</td>\n",
              "      <td>42.170555</td>\n",
              "      <td>36.847958</td>\n",
              "      <td>4.0</td>\n",
              "      <td>20.0</td>\n",
              "      <td>34.0</td>\n",
              "      <td>46.0</td>\n",
              "      <td>274.0</td>\n",
              "    </tr>\n",
              "    <tr>\n",
              "      <th>M</th>\n",
              "      <td>17348.0</td>\n",
              "      <td>17754.835601</td>\n",
              "      <td>10132.203323</td>\n",
              "      <td>1.0</td>\n",
              "      <td>8969.75</td>\n",
              "      <td>17727.5</td>\n",
              "      <td>26454.25</td>\n",
              "      <td>35548.0</td>\n",
              "      <td>17348.0</td>\n",
              "      <td>6.396184</td>\n",
              "      <td>3.421134</td>\n",
              "      <td>1.0</td>\n",
              "      <td>3.0</td>\n",
              "      <td>6.0</td>\n",
              "      <td>10.0</td>\n",
              "      <td>12.0</td>\n",
              "      <td>17348.0</td>\n",
              "      <td>16.078799</td>\n",
              "      <td>8.200967</td>\n",
              "      <td>1.0</td>\n",
              "      <td>9.0</td>\n",
              "      <td>16.0</td>\n",
              "      <td>23.0</td>\n",
              "      <td>31.0</td>\n",
              "      <td>17348.0</td>\n",
              "      <td>1990.480401</td>\n",
              "      <td>7.403655</td>\n",
              "      <td>1977.0</td>\n",
              "      <td>1984.0</td>\n",
              "      <td>1990.0</td>\n",
              "      <td>1997.0</td>\n",
              "      <td>2002.0</td>\n",
              "      <td>17348.0</td>\n",
              "      <td>11.098282</td>\n",
              "      <td>6.728713</td>\n",
              "      <td>1.0</td>\n",
              "      <td>5.0</td>\n",
              "      <td>11.0</td>\n",
              "      <td>17.0</td>\n",
              "      <td>24.0</td>\n",
              "      <td>16476.0</td>\n",
              "      <td>29.709578</td>\n",
              "      <td>9.629246</td>\n",
              "      <td>2.0</td>\n",
              "      <td>21.0</td>\n",
              "      <td>34.0</td>\n",
              "      <td>36.0</td>\n",
              "      <td>58.0</td>\n",
              "      <td>16879.0</td>\n",
              "      <td>42.995379</td>\n",
              "      <td>36.184981</td>\n",
              "      <td>4.0</td>\n",
              "      <td>20.0</td>\n",
              "      <td>39.0</td>\n",
              "      <td>49.0</td>\n",
              "      <td>280.0</td>\n",
              "    </tr>\n",
              "  </tbody>\n",
              "</table>\n",
              "</div>"
            ],
            "text/plain": [
              "    record_id                                   ... weight                   \n",
              "        count          mean           std  min  ...    25%   50%   75%    max\n",
              "sex                                             ...                          \n",
              "F     15690.0  18036.412046  10423.089000  3.0  ...   20.0  34.0  46.0  274.0\n",
              "M     17348.0  17754.835601  10132.203323  1.0  ...   20.0  39.0  49.0  280.0\n",
              "\n",
              "[2 rows x 56 columns]"
            ]
          },
          "metadata": {
            "tags": []
          },
          "execution_count": 29
        }
      ]
    },
    {
      "cell_type": "code",
      "metadata": {
        "colab": {
          "base_uri": "https://localhost:8080/",
          "height": 143
        },
        "id": "ZZCHZwStpapj",
        "outputId": "6a9f0feb-ca89-481b-e261-0e72896aabde"
      },
      "source": [
        "# Get just the mean by sex\n",
        "grouped_data_sex.mean()"
      ],
      "execution_count": null,
      "outputs": [
        {
          "output_type": "execute_result",
          "data": {
            "text/html": [
              "<div>\n",
              "<style scoped>\n",
              "    .dataframe tbody tr th:only-of-type {\n",
              "        vertical-align: middle;\n",
              "    }\n",
              "\n",
              "    .dataframe tbody tr th {\n",
              "        vertical-align: top;\n",
              "    }\n",
              "\n",
              "    .dataframe thead th {\n",
              "        text-align: right;\n",
              "    }\n",
              "</style>\n",
              "<table border=\"1\" class=\"dataframe\">\n",
              "  <thead>\n",
              "    <tr style=\"text-align: right;\">\n",
              "      <th></th>\n",
              "      <th>record_id</th>\n",
              "      <th>month</th>\n",
              "      <th>day</th>\n",
              "      <th>year</th>\n",
              "      <th>plot_id</th>\n",
              "      <th>hindfoot_length</th>\n",
              "      <th>weight</th>\n",
              "    </tr>\n",
              "    <tr>\n",
              "      <th>sex</th>\n",
              "      <th></th>\n",
              "      <th></th>\n",
              "      <th></th>\n",
              "      <th></th>\n",
              "      <th></th>\n",
              "      <th></th>\n",
              "      <th></th>\n",
              "    </tr>\n",
              "  </thead>\n",
              "  <tbody>\n",
              "    <tr>\n",
              "      <th>F</th>\n",
              "      <td>18036.412046</td>\n",
              "      <td>6.587253</td>\n",
              "      <td>15.880943</td>\n",
              "      <td>1990.644997</td>\n",
              "      <td>11.440854</td>\n",
              "      <td>28.836780</td>\n",
              "      <td>42.170555</td>\n",
              "    </tr>\n",
              "    <tr>\n",
              "      <th>M</th>\n",
              "      <td>17754.835601</td>\n",
              "      <td>6.396184</td>\n",
              "      <td>16.078799</td>\n",
              "      <td>1990.480401</td>\n",
              "      <td>11.098282</td>\n",
              "      <td>29.709578</td>\n",
              "      <td>42.995379</td>\n",
              "    </tr>\n",
              "  </tbody>\n",
              "</table>\n",
              "</div>"
            ],
            "text/plain": [
              "        record_id     month        day  ...    plot_id  hindfoot_length     weight\n",
              "sex                                     ...                                       \n",
              "F    18036.412046  6.587253  15.880943  ...  11.440854        28.836780  42.170555\n",
              "M    17754.835601  6.396184  16.078799  ...  11.098282        29.709578  42.995379\n",
              "\n",
              "[2 rows x 7 columns]"
            ]
          },
          "metadata": {
            "tags": []
          },
          "execution_count": 30
        }
      ]
    },
    {
      "cell_type": "code",
      "metadata": {
        "colab": {
          "base_uri": "https://localhost:8080/",
          "height": 195
        },
        "id": "mGvuLxbrppl0",
        "outputId": "6deb6fa4-cd2d-4a72-f981-95904a87b2dd"
      },
      "source": [
        "# Challenge\n",
        "# Q1: How many recorded individuals are female F and how many male M\n",
        "grouped_data_sex.describe()"
      ],
      "execution_count": null,
      "outputs": [
        {
          "output_type": "execute_result",
          "data": {
            "text/html": [
              "<div>\n",
              "<style scoped>\n",
              "    .dataframe tbody tr th:only-of-type {\n",
              "        vertical-align: middle;\n",
              "    }\n",
              "\n",
              "    .dataframe tbody tr th {\n",
              "        vertical-align: top;\n",
              "    }\n",
              "\n",
              "    .dataframe thead tr th {\n",
              "        text-align: left;\n",
              "    }\n",
              "\n",
              "    .dataframe thead tr:last-of-type th {\n",
              "        text-align: right;\n",
              "    }\n",
              "</style>\n",
              "<table border=\"1\" class=\"dataframe\">\n",
              "  <thead>\n",
              "    <tr>\n",
              "      <th></th>\n",
              "      <th colspan=\"8\" halign=\"left\">record_id</th>\n",
              "      <th colspan=\"8\" halign=\"left\">month</th>\n",
              "      <th colspan=\"8\" halign=\"left\">day</th>\n",
              "      <th colspan=\"8\" halign=\"left\">year</th>\n",
              "      <th colspan=\"8\" halign=\"left\">plot_id</th>\n",
              "      <th colspan=\"8\" halign=\"left\">hindfoot_length</th>\n",
              "      <th colspan=\"8\" halign=\"left\">weight</th>\n",
              "    </tr>\n",
              "    <tr>\n",
              "      <th></th>\n",
              "      <th>count</th>\n",
              "      <th>mean</th>\n",
              "      <th>std</th>\n",
              "      <th>min</th>\n",
              "      <th>25%</th>\n",
              "      <th>50%</th>\n",
              "      <th>75%</th>\n",
              "      <th>max</th>\n",
              "      <th>count</th>\n",
              "      <th>mean</th>\n",
              "      <th>std</th>\n",
              "      <th>min</th>\n",
              "      <th>25%</th>\n",
              "      <th>50%</th>\n",
              "      <th>75%</th>\n",
              "      <th>max</th>\n",
              "      <th>count</th>\n",
              "      <th>mean</th>\n",
              "      <th>std</th>\n",
              "      <th>min</th>\n",
              "      <th>25%</th>\n",
              "      <th>50%</th>\n",
              "      <th>75%</th>\n",
              "      <th>max</th>\n",
              "      <th>count</th>\n",
              "      <th>mean</th>\n",
              "      <th>std</th>\n",
              "      <th>min</th>\n",
              "      <th>25%</th>\n",
              "      <th>50%</th>\n",
              "      <th>75%</th>\n",
              "      <th>max</th>\n",
              "      <th>count</th>\n",
              "      <th>mean</th>\n",
              "      <th>std</th>\n",
              "      <th>min</th>\n",
              "      <th>25%</th>\n",
              "      <th>50%</th>\n",
              "      <th>75%</th>\n",
              "      <th>max</th>\n",
              "      <th>count</th>\n",
              "      <th>mean</th>\n",
              "      <th>std</th>\n",
              "      <th>min</th>\n",
              "      <th>25%</th>\n",
              "      <th>50%</th>\n",
              "      <th>75%</th>\n",
              "      <th>max</th>\n",
              "      <th>count</th>\n",
              "      <th>mean</th>\n",
              "      <th>std</th>\n",
              "      <th>min</th>\n",
              "      <th>25%</th>\n",
              "      <th>50%</th>\n",
              "      <th>75%</th>\n",
              "      <th>max</th>\n",
              "    </tr>\n",
              "    <tr>\n",
              "      <th>sex</th>\n",
              "      <th></th>\n",
              "      <th></th>\n",
              "      <th></th>\n",
              "      <th></th>\n",
              "      <th></th>\n",
              "      <th></th>\n",
              "      <th></th>\n",
              "      <th></th>\n",
              "      <th></th>\n",
              "      <th></th>\n",
              "      <th></th>\n",
              "      <th></th>\n",
              "      <th></th>\n",
              "      <th></th>\n",
              "      <th></th>\n",
              "      <th></th>\n",
              "      <th></th>\n",
              "      <th></th>\n",
              "      <th></th>\n",
              "      <th></th>\n",
              "      <th></th>\n",
              "      <th></th>\n",
              "      <th></th>\n",
              "      <th></th>\n",
              "      <th></th>\n",
              "      <th></th>\n",
              "      <th></th>\n",
              "      <th></th>\n",
              "      <th></th>\n",
              "      <th></th>\n",
              "      <th></th>\n",
              "      <th></th>\n",
              "      <th></th>\n",
              "      <th></th>\n",
              "      <th></th>\n",
              "      <th></th>\n",
              "      <th></th>\n",
              "      <th></th>\n",
              "      <th></th>\n",
              "      <th></th>\n",
              "      <th></th>\n",
              "      <th></th>\n",
              "      <th></th>\n",
              "      <th></th>\n",
              "      <th></th>\n",
              "      <th></th>\n",
              "      <th></th>\n",
              "      <th></th>\n",
              "      <th></th>\n",
              "      <th></th>\n",
              "      <th></th>\n",
              "      <th></th>\n",
              "      <th></th>\n",
              "      <th></th>\n",
              "      <th></th>\n",
              "      <th></th>\n",
              "    </tr>\n",
              "  </thead>\n",
              "  <tbody>\n",
              "    <tr>\n",
              "      <th>F</th>\n",
              "      <td>15690.0</td>\n",
              "      <td>18036.412046</td>\n",
              "      <td>10423.089000</td>\n",
              "      <td>3.0</td>\n",
              "      <td>8917.50</td>\n",
              "      <td>18075.5</td>\n",
              "      <td>27250.00</td>\n",
              "      <td>35547.0</td>\n",
              "      <td>15690.0</td>\n",
              "      <td>6.587253</td>\n",
              "      <td>3.367584</td>\n",
              "      <td>1.0</td>\n",
              "      <td>4.0</td>\n",
              "      <td>7.0</td>\n",
              "      <td>10.0</td>\n",
              "      <td>12.0</td>\n",
              "      <td>15690.0</td>\n",
              "      <td>15.880943</td>\n",
              "      <td>8.270291</td>\n",
              "      <td>1.0</td>\n",
              "      <td>9.0</td>\n",
              "      <td>15.0</td>\n",
              "      <td>23.0</td>\n",
              "      <td>31.0</td>\n",
              "      <td>15690.0</td>\n",
              "      <td>1990.644997</td>\n",
              "      <td>7.598725</td>\n",
              "      <td>1977.0</td>\n",
              "      <td>1984.0</td>\n",
              "      <td>1990.0</td>\n",
              "      <td>1997.0</td>\n",
              "      <td>2002.0</td>\n",
              "      <td>15690.0</td>\n",
              "      <td>11.440854</td>\n",
              "      <td>6.870684</td>\n",
              "      <td>1.0</td>\n",
              "      <td>5.0</td>\n",
              "      <td>12.0</td>\n",
              "      <td>17.0</td>\n",
              "      <td>24.0</td>\n",
              "      <td>14894.0</td>\n",
              "      <td>28.836780</td>\n",
              "      <td>9.463789</td>\n",
              "      <td>7.0</td>\n",
              "      <td>21.0</td>\n",
              "      <td>27.0</td>\n",
              "      <td>36.0</td>\n",
              "      <td>64.0</td>\n",
              "      <td>15303.0</td>\n",
              "      <td>42.170555</td>\n",
              "      <td>36.847958</td>\n",
              "      <td>4.0</td>\n",
              "      <td>20.0</td>\n",
              "      <td>34.0</td>\n",
              "      <td>46.0</td>\n",
              "      <td>274.0</td>\n",
              "    </tr>\n",
              "    <tr>\n",
              "      <th>M</th>\n",
              "      <td>17348.0</td>\n",
              "      <td>17754.835601</td>\n",
              "      <td>10132.203323</td>\n",
              "      <td>1.0</td>\n",
              "      <td>8969.75</td>\n",
              "      <td>17727.5</td>\n",
              "      <td>26454.25</td>\n",
              "      <td>35548.0</td>\n",
              "      <td>17348.0</td>\n",
              "      <td>6.396184</td>\n",
              "      <td>3.421134</td>\n",
              "      <td>1.0</td>\n",
              "      <td>3.0</td>\n",
              "      <td>6.0</td>\n",
              "      <td>10.0</td>\n",
              "      <td>12.0</td>\n",
              "      <td>17348.0</td>\n",
              "      <td>16.078799</td>\n",
              "      <td>8.200967</td>\n",
              "      <td>1.0</td>\n",
              "      <td>9.0</td>\n",
              "      <td>16.0</td>\n",
              "      <td>23.0</td>\n",
              "      <td>31.0</td>\n",
              "      <td>17348.0</td>\n",
              "      <td>1990.480401</td>\n",
              "      <td>7.403655</td>\n",
              "      <td>1977.0</td>\n",
              "      <td>1984.0</td>\n",
              "      <td>1990.0</td>\n",
              "      <td>1997.0</td>\n",
              "      <td>2002.0</td>\n",
              "      <td>17348.0</td>\n",
              "      <td>11.098282</td>\n",
              "      <td>6.728713</td>\n",
              "      <td>1.0</td>\n",
              "      <td>5.0</td>\n",
              "      <td>11.0</td>\n",
              "      <td>17.0</td>\n",
              "      <td>24.0</td>\n",
              "      <td>16476.0</td>\n",
              "      <td>29.709578</td>\n",
              "      <td>9.629246</td>\n",
              "      <td>2.0</td>\n",
              "      <td>21.0</td>\n",
              "      <td>34.0</td>\n",
              "      <td>36.0</td>\n",
              "      <td>58.0</td>\n",
              "      <td>16879.0</td>\n",
              "      <td>42.995379</td>\n",
              "      <td>36.184981</td>\n",
              "      <td>4.0</td>\n",
              "      <td>20.0</td>\n",
              "      <td>39.0</td>\n",
              "      <td>49.0</td>\n",
              "      <td>280.0</td>\n",
              "    </tr>\n",
              "  </tbody>\n",
              "</table>\n",
              "</div>"
            ],
            "text/plain": [
              "    record_id                                   ... weight                   \n",
              "        count          mean           std  min  ...    25%   50%   75%    max\n",
              "sex                                             ...                          \n",
              "F     15690.0  18036.412046  10423.089000  3.0  ...   20.0  34.0  46.0  274.0\n",
              "M     17348.0  17754.835601  10132.203323  1.0  ...   20.0  39.0  49.0  280.0\n",
              "\n",
              "[2 rows x 56 columns]"
            ]
          },
          "metadata": {
            "tags": []
          },
          "execution_count": 31
        }
      ]
    },
    {
      "cell_type": "code",
      "metadata": {
        "id": "X0LXJvuxql1q"
      },
      "source": [
        "# Q2: What happens when you group by two columns using the following syntax and then calculate mean values?\n",
        "grouped_data2 = surveys_df.groupby(['plot_id', 'sex'])\n"
      ],
      "execution_count": null,
      "outputs": []
    },
    {
      "cell_type": "code",
      "metadata": {
        "colab": {
          "base_uri": "https://localhost:8080/",
          "height": 1000
        },
        "id": "uxZY9YEBrTYF",
        "outputId": "b5a54c43-cbac-4480-ee71-87a6f27aa062"
      },
      "source": [
        "grouped_data2.mean()"
      ],
      "execution_count": null,
      "outputs": [
        {
          "output_type": "execute_result",
          "data": {
            "text/html": [
              "<div>\n",
              "<style scoped>\n",
              "    .dataframe tbody tr th:only-of-type {\n",
              "        vertical-align: middle;\n",
              "    }\n",
              "\n",
              "    .dataframe tbody tr th {\n",
              "        vertical-align: top;\n",
              "    }\n",
              "\n",
              "    .dataframe thead th {\n",
              "        text-align: right;\n",
              "    }\n",
              "</style>\n",
              "<table border=\"1\" class=\"dataframe\">\n",
              "  <thead>\n",
              "    <tr style=\"text-align: right;\">\n",
              "      <th></th>\n",
              "      <th></th>\n",
              "      <th>record_id</th>\n",
              "      <th>month</th>\n",
              "      <th>day</th>\n",
              "      <th>year</th>\n",
              "      <th>hindfoot_length</th>\n",
              "      <th>weight</th>\n",
              "    </tr>\n",
              "    <tr>\n",
              "      <th>plot_id</th>\n",
              "      <th>sex</th>\n",
              "      <th></th>\n",
              "      <th></th>\n",
              "      <th></th>\n",
              "      <th></th>\n",
              "      <th></th>\n",
              "      <th></th>\n",
              "    </tr>\n",
              "  </thead>\n",
              "  <tbody>\n",
              "    <tr>\n",
              "      <th rowspan=\"2\" valign=\"top\">1</th>\n",
              "      <th>F</th>\n",
              "      <td>18390.384434</td>\n",
              "      <td>6.597877</td>\n",
              "      <td>15.338443</td>\n",
              "      <td>1990.933962</td>\n",
              "      <td>31.733911</td>\n",
              "      <td>46.311138</td>\n",
              "    </tr>\n",
              "    <tr>\n",
              "      <th>M</th>\n",
              "      <td>17197.740639</td>\n",
              "      <td>6.121461</td>\n",
              "      <td>15.905936</td>\n",
              "      <td>1990.091324</td>\n",
              "      <td>34.302770</td>\n",
              "      <td>55.950560</td>\n",
              "    </tr>\n",
              "    <tr>\n",
              "      <th rowspan=\"2\" valign=\"top\">2</th>\n",
              "      <th>F</th>\n",
              "      <td>17714.753608</td>\n",
              "      <td>6.426804</td>\n",
              "      <td>16.288660</td>\n",
              "      <td>1990.449485</td>\n",
              "      <td>30.161220</td>\n",
              "      <td>52.561845</td>\n",
              "    </tr>\n",
              "    <tr>\n",
              "      <th>M</th>\n",
              "      <td>18085.458042</td>\n",
              "      <td>6.340035</td>\n",
              "      <td>15.440559</td>\n",
              "      <td>1990.756119</td>\n",
              "      <td>30.353760</td>\n",
              "      <td>51.391382</td>\n",
              "    </tr>\n",
              "    <tr>\n",
              "      <th rowspan=\"2\" valign=\"top\">3</th>\n",
              "      <th>F</th>\n",
              "      <td>19888.783875</td>\n",
              "      <td>6.610302</td>\n",
              "      <td>15.993281</td>\n",
              "      <td>1992.013438</td>\n",
              "      <td>23.774044</td>\n",
              "      <td>31.215349</td>\n",
              "    </tr>\n",
              "    <tr>\n",
              "      <th>M</th>\n",
              "      <td>20226.767857</td>\n",
              "      <td>6.277381</td>\n",
              "      <td>16.271429</td>\n",
              "      <td>1992.275000</td>\n",
              "      <td>23.833744</td>\n",
              "      <td>34.163241</td>\n",
              "    </tr>\n",
              "    <tr>\n",
              "      <th rowspan=\"2\" valign=\"top\">4</th>\n",
              "      <th>F</th>\n",
              "      <td>17489.205275</td>\n",
              "      <td>6.447248</td>\n",
              "      <td>15.608945</td>\n",
              "      <td>1990.235092</td>\n",
              "      <td>33.249102</td>\n",
              "      <td>46.818824</td>\n",
              "    </tr>\n",
              "    <tr>\n",
              "      <th>M</th>\n",
              "      <td>18493.841748</td>\n",
              "      <td>6.436893</td>\n",
              "      <td>16.303883</td>\n",
              "      <td>1991.000971</td>\n",
              "      <td>34.097959</td>\n",
              "      <td>48.888119</td>\n",
              "    </tr>\n",
              "    <tr>\n",
              "      <th rowspan=\"2\" valign=\"top\">5</th>\n",
              "      <th>F</th>\n",
              "      <td>12280.793169</td>\n",
              "      <td>6.142315</td>\n",
              "      <td>15.722960</td>\n",
              "      <td>1986.485769</td>\n",
              "      <td>28.921844</td>\n",
              "      <td>40.974806</td>\n",
              "    </tr>\n",
              "    <tr>\n",
              "      <th>M</th>\n",
              "      <td>12798.426621</td>\n",
              "      <td>6.194539</td>\n",
              "      <td>15.703072</td>\n",
              "      <td>1986.817406</td>\n",
              "      <td>29.694794</td>\n",
              "      <td>40.708551</td>\n",
              "    </tr>\n",
              "    <tr>\n",
              "      <th rowspan=\"2\" valign=\"top\">6</th>\n",
              "      <th>F</th>\n",
              "      <td>19406.503392</td>\n",
              "      <td>6.640434</td>\n",
              "      <td>15.947083</td>\n",
              "      <td>1991.579376</td>\n",
              "      <td>26.981322</td>\n",
              "      <td>36.352288</td>\n",
              "    </tr>\n",
              "    <tr>\n",
              "      <th>M</th>\n",
              "      <td>17849.574607</td>\n",
              "      <td>6.043194</td>\n",
              "      <td>15.856021</td>\n",
              "      <td>1990.556283</td>\n",
              "      <td>27.425591</td>\n",
              "      <td>36.867388</td>\n",
              "    </tr>\n",
              "    <tr>\n",
              "      <th rowspan=\"2\" valign=\"top\">7</th>\n",
              "      <th>F</th>\n",
              "      <td>19069.668657</td>\n",
              "      <td>6.385075</td>\n",
              "      <td>15.313433</td>\n",
              "      <td>1991.441791</td>\n",
              "      <td>19.779553</td>\n",
              "      <td>20.006135</td>\n",
              "    </tr>\n",
              "    <tr>\n",
              "      <th>M</th>\n",
              "      <td>19188.729642</td>\n",
              "      <td>6.719870</td>\n",
              "      <td>15.778502</td>\n",
              "      <td>1991.462541</td>\n",
              "      <td>20.536667</td>\n",
              "      <td>21.194719</td>\n",
              "    </tr>\n",
              "    <tr>\n",
              "      <th rowspan=\"2\" valign=\"top\">8</th>\n",
              "      <th>F</th>\n",
              "      <td>18920.276190</td>\n",
              "      <td>6.644048</td>\n",
              "      <td>15.479762</td>\n",
              "      <td>1991.267857</td>\n",
              "      <td>32.187578</td>\n",
              "      <td>45.623011</td>\n",
              "    </tr>\n",
              "    <tr>\n",
              "      <th>M</th>\n",
              "      <td>19452.109868</td>\n",
              "      <td>6.585961</td>\n",
              "      <td>15.427263</td>\n",
              "      <td>1991.686673</td>\n",
              "      <td>33.751059</td>\n",
              "      <td>49.641372</td>\n",
              "    </tr>\n",
              "    <tr>\n",
              "      <th rowspan=\"2\" valign=\"top\">9</th>\n",
              "      <th>F</th>\n",
              "      <td>16217.497069</td>\n",
              "      <td>6.507620</td>\n",
              "      <td>15.309496</td>\n",
              "      <td>1989.303634</td>\n",
              "      <td>35.126092</td>\n",
              "      <td>53.618469</td>\n",
              "    </tr>\n",
              "    <tr>\n",
              "      <th>M</th>\n",
              "      <td>18000.710159</td>\n",
              "      <td>6.369522</td>\n",
              "      <td>14.970120</td>\n",
              "      <td>1990.632470</td>\n",
              "      <td>34.175732</td>\n",
              "      <td>49.519309</td>\n",
              "    </tr>\n",
              "    <tr>\n",
              "      <th rowspan=\"2\" valign=\"top\">10</th>\n",
              "      <th>F</th>\n",
              "      <td>16001.496454</td>\n",
              "      <td>5.588652</td>\n",
              "      <td>16.964539</td>\n",
              "      <td>1989.248227</td>\n",
              "      <td>18.641791</td>\n",
              "      <td>17.094203</td>\n",
              "    </tr>\n",
              "    <tr>\n",
              "      <th>M</th>\n",
              "      <td>15708.704225</td>\n",
              "      <td>5.718310</td>\n",
              "      <td>16.739437</td>\n",
              "      <td>1989.007042</td>\n",
              "      <td>19.567164</td>\n",
              "      <td>19.971223</td>\n",
              "    </tr>\n",
              "    <tr>\n",
              "      <th rowspan=\"2\" valign=\"top\">11</th>\n",
              "      <th>F</th>\n",
              "      <td>16994.962287</td>\n",
              "      <td>6.770073</td>\n",
              "      <td>15.954988</td>\n",
              "      <td>1989.836983</td>\n",
              "      <td>32.029299</td>\n",
              "      <td>43.515075</td>\n",
              "    </tr>\n",
              "    <tr>\n",
              "      <th>M</th>\n",
              "      <td>16933.909621</td>\n",
              "      <td>6.379981</td>\n",
              "      <td>15.799806</td>\n",
              "      <td>1989.856171</td>\n",
              "      <td>32.078014</td>\n",
              "      <td>43.366197</td>\n",
              "    </tr>\n",
              "    <tr>\n",
              "      <th rowspan=\"2\" valign=\"top\">12</th>\n",
              "      <th>F</th>\n",
              "      <td>17457.966981</td>\n",
              "      <td>6.509434</td>\n",
              "      <td>16.305660</td>\n",
              "      <td>1990.266981</td>\n",
              "      <td>30.975124</td>\n",
              "      <td>49.831731</td>\n",
              "    </tr>\n",
              "    <tr>\n",
              "      <th>M</th>\n",
              "      <td>17592.327500</td>\n",
              "      <td>6.304167</td>\n",
              "      <td>16.367500</td>\n",
              "      <td>1990.400833</td>\n",
              "      <td>31.762489</td>\n",
              "      <td>48.909710</td>\n",
              "    </tr>\n",
              "    <tr>\n",
              "      <th rowspan=\"2\" valign=\"top\">13</th>\n",
              "      <th>F</th>\n",
              "      <td>18033.100318</td>\n",
              "      <td>6.815287</td>\n",
              "      <td>15.847134</td>\n",
              "      <td>1990.619427</td>\n",
              "      <td>27.201014</td>\n",
              "      <td>40.524590</td>\n",
              "    </tr>\n",
              "    <tr>\n",
              "      <th>M</th>\n",
              "      <td>16969.044700</td>\n",
              "      <td>6.485313</td>\n",
              "      <td>15.851852</td>\n",
              "      <td>1989.911877</td>\n",
              "      <td>27.893793</td>\n",
              "      <td>40.097754</td>\n",
              "    </tr>\n",
              "    <tr>\n",
              "      <th rowspan=\"2\" valign=\"top\">14</th>\n",
              "      <th>F</th>\n",
              "      <td>17097.145275</td>\n",
              "      <td>6.519041</td>\n",
              "      <td>16.427362</td>\n",
              "      <td>1989.974612</td>\n",
              "      <td>32.973373</td>\n",
              "      <td>47.355491</td>\n",
              "    </tr>\n",
              "    <tr>\n",
              "      <th>M</th>\n",
              "      <td>17891.948598</td>\n",
              "      <td>6.666355</td>\n",
              "      <td>16.336449</td>\n",
              "      <td>1990.587850</td>\n",
              "      <td>32.961802</td>\n",
              "      <td>45.159378</td>\n",
              "    </tr>\n",
              "    <tr>\n",
              "      <th rowspan=\"2\" valign=\"top\">15</th>\n",
              "      <th>F</th>\n",
              "      <td>20602.449064</td>\n",
              "      <td>6.582121</td>\n",
              "      <td>15.787942</td>\n",
              "      <td>1992.523909</td>\n",
              "      <td>21.949891</td>\n",
              "      <td>26.670236</td>\n",
              "    </tr>\n",
              "    <tr>\n",
              "      <th>M</th>\n",
              "      <td>18104.019560</td>\n",
              "      <td>6.193154</td>\n",
              "      <td>17.193154</td>\n",
              "      <td>1990.770171</td>\n",
              "      <td>21.803109</td>\n",
              "      <td>27.523691</td>\n",
              "    </tr>\n",
              "    <tr>\n",
              "      <th rowspan=\"2\" valign=\"top\">16</th>\n",
              "      <th>F</th>\n",
              "      <td>19002.445946</td>\n",
              "      <td>6.369369</td>\n",
              "      <td>16.549550</td>\n",
              "      <td>1991.351351</td>\n",
              "      <td>23.144928</td>\n",
              "      <td>25.810427</td>\n",
              "    </tr>\n",
              "    <tr>\n",
              "      <th>M</th>\n",
              "      <td>18434.714286</td>\n",
              "      <td>6.208791</td>\n",
              "      <td>16.402930</td>\n",
              "      <td>1990.926740</td>\n",
              "      <td>23.480916</td>\n",
              "      <td>23.811321</td>\n",
              "    </tr>\n",
              "    <tr>\n",
              "      <th rowspan=\"2\" valign=\"top\">17</th>\n",
              "      <th>F</th>\n",
              "      <td>18234.322870</td>\n",
              "      <td>6.650224</td>\n",
              "      <td>15.892377</td>\n",
              "      <td>1990.785874</td>\n",
              "      <td>30.918536</td>\n",
              "      <td>48.176201</td>\n",
              "    </tr>\n",
              "    <tr>\n",
              "      <th>M</th>\n",
              "      <td>18857.651472</td>\n",
              "      <td>6.569801</td>\n",
              "      <td>16.183286</td>\n",
              "      <td>1991.331434</td>\n",
              "      <td>32.227634</td>\n",
              "      <td>47.558853</td>\n",
              "    </tr>\n",
              "    <tr>\n",
              "      <th rowspan=\"2\" valign=\"top\">18</th>\n",
              "      <th>F</th>\n",
              "      <td>17940.875497</td>\n",
              "      <td>6.698013</td>\n",
              "      <td>15.960265</td>\n",
              "      <td>1990.536424</td>\n",
              "      <td>26.690341</td>\n",
              "      <td>36.963514</td>\n",
              "    </tr>\n",
              "    <tr>\n",
              "      <th>M</th>\n",
              "      <td>15106.718850</td>\n",
              "      <td>6.610224</td>\n",
              "      <td>16.797125</td>\n",
              "      <td>1988.551118</td>\n",
              "      <td>27.703072</td>\n",
              "      <td>43.546952</td>\n",
              "    </tr>\n",
              "    <tr>\n",
              "      <th rowspan=\"2\" valign=\"top\">19</th>\n",
              "      <th>F</th>\n",
              "      <td>21848.216475</td>\n",
              "      <td>6.701149</td>\n",
              "      <td>15.226054</td>\n",
              "      <td>1993.417625</td>\n",
              "      <td>21.257937</td>\n",
              "      <td>21.978599</td>\n",
              "    </tr>\n",
              "    <tr>\n",
              "      <th>M</th>\n",
              "      <td>19470.779690</td>\n",
              "      <td>6.533563</td>\n",
              "      <td>16.647160</td>\n",
              "      <td>1991.740103</td>\n",
              "      <td>21.071685</td>\n",
              "      <td>20.306878</td>\n",
              "    </tr>\n",
              "    <tr>\n",
              "      <th rowspan=\"2\" valign=\"top\">20</th>\n",
              "      <th>F</th>\n",
              "      <td>17510.769231</td>\n",
              "      <td>6.743077</td>\n",
              "      <td>16.026154</td>\n",
              "      <td>1990.253846</td>\n",
              "      <td>27.069193</td>\n",
              "      <td>52.624406</td>\n",
              "    </tr>\n",
              "    <tr>\n",
              "      <th>M</th>\n",
              "      <td>16076.192496</td>\n",
              "      <td>6.489396</td>\n",
              "      <td>16.375204</td>\n",
              "      <td>1989.243067</td>\n",
              "      <td>27.908451</td>\n",
              "      <td>44.197279</td>\n",
              "    </tr>\n",
              "    <tr>\n",
              "      <th rowspan=\"2\" valign=\"top\">21</th>\n",
              "      <th>F</th>\n",
              "      <td>22452.636661</td>\n",
              "      <td>6.860884</td>\n",
              "      <td>16.307692</td>\n",
              "      <td>1993.878887</td>\n",
              "      <td>22.366554</td>\n",
              "      <td>25.974832</td>\n",
              "    </tr>\n",
              "    <tr>\n",
              "      <th>M</th>\n",
              "      <td>20120.399113</td>\n",
              "      <td>6.671840</td>\n",
              "      <td>16.203991</td>\n",
              "      <td>1992.199557</td>\n",
              "      <td>21.736721</td>\n",
              "      <td>22.772622</td>\n",
              "    </tr>\n",
              "    <tr>\n",
              "      <th rowspan=\"2\" valign=\"top\">22</th>\n",
              "      <th>F</th>\n",
              "      <td>18499.695976</td>\n",
              "      <td>6.651267</td>\n",
              "      <td>15.521610</td>\n",
              "      <td>1990.973174</td>\n",
              "      <td>34.108320</td>\n",
              "      <td>53.647059</td>\n",
              "    </tr>\n",
              "    <tr>\n",
              "      <th>M</th>\n",
              "      <td>18015.365527</td>\n",
              "      <td>6.381872</td>\n",
              "      <td>16.682021</td>\n",
              "      <td>1990.650817</td>\n",
              "      <td>33.359746</td>\n",
              "      <td>54.572531</td>\n",
              "    </tr>\n",
              "    <tr>\n",
              "      <th rowspan=\"2\" valign=\"top\">23</th>\n",
              "      <th>F</th>\n",
              "      <td>15863.193939</td>\n",
              "      <td>6.860606</td>\n",
              "      <td>16.036364</td>\n",
              "      <td>1989.024242</td>\n",
              "      <td>20.051948</td>\n",
              "      <td>20.564417</td>\n",
              "    </tr>\n",
              "    <tr>\n",
              "      <th>M</th>\n",
              "      <td>17091.338164</td>\n",
              "      <td>6.391304</td>\n",
              "      <td>16.077295</td>\n",
              "      <td>1989.961353</td>\n",
              "      <td>19.850000</td>\n",
              "      <td>18.941463</td>\n",
              "    </tr>\n",
              "    <tr>\n",
              "      <th rowspan=\"2\" valign=\"top\">24</th>\n",
              "      <th>F</th>\n",
              "      <td>13702.224280</td>\n",
              "      <td>6.596708</td>\n",
              "      <td>16.393004</td>\n",
              "      <td>1987.485597</td>\n",
              "      <td>26.993377</td>\n",
              "      <td>47.914405</td>\n",
              "    </tr>\n",
              "    <tr>\n",
              "      <th>M</th>\n",
              "      <td>15208.136082</td>\n",
              "      <td>6.360825</td>\n",
              "      <td>16.971134</td>\n",
              "      <td>1988.641237</td>\n",
              "      <td>25.786996</td>\n",
              "      <td>39.321503</td>\n",
              "    </tr>\n",
              "  </tbody>\n",
              "</table>\n",
              "</div>"
            ],
            "text/plain": [
              "                record_id     month  ...  hindfoot_length     weight\n",
              "plot_id sex                          ...                            \n",
              "1       F    18390.384434  6.597877  ...        31.733911  46.311138\n",
              "        M    17197.740639  6.121461  ...        34.302770  55.950560\n",
              "2       F    17714.753608  6.426804  ...        30.161220  52.561845\n",
              "        M    18085.458042  6.340035  ...        30.353760  51.391382\n",
              "3       F    19888.783875  6.610302  ...        23.774044  31.215349\n",
              "        M    20226.767857  6.277381  ...        23.833744  34.163241\n",
              "4       F    17489.205275  6.447248  ...        33.249102  46.818824\n",
              "        M    18493.841748  6.436893  ...        34.097959  48.888119\n",
              "5       F    12280.793169  6.142315  ...        28.921844  40.974806\n",
              "        M    12798.426621  6.194539  ...        29.694794  40.708551\n",
              "6       F    19406.503392  6.640434  ...        26.981322  36.352288\n",
              "        M    17849.574607  6.043194  ...        27.425591  36.867388\n",
              "7       F    19069.668657  6.385075  ...        19.779553  20.006135\n",
              "        M    19188.729642  6.719870  ...        20.536667  21.194719\n",
              "8       F    18920.276190  6.644048  ...        32.187578  45.623011\n",
              "        M    19452.109868  6.585961  ...        33.751059  49.641372\n",
              "9       F    16217.497069  6.507620  ...        35.126092  53.618469\n",
              "        M    18000.710159  6.369522  ...        34.175732  49.519309\n",
              "10      F    16001.496454  5.588652  ...        18.641791  17.094203\n",
              "        M    15708.704225  5.718310  ...        19.567164  19.971223\n",
              "11      F    16994.962287  6.770073  ...        32.029299  43.515075\n",
              "        M    16933.909621  6.379981  ...        32.078014  43.366197\n",
              "12      F    17457.966981  6.509434  ...        30.975124  49.831731\n",
              "        M    17592.327500  6.304167  ...        31.762489  48.909710\n",
              "13      F    18033.100318  6.815287  ...        27.201014  40.524590\n",
              "        M    16969.044700  6.485313  ...        27.893793  40.097754\n",
              "14      F    17097.145275  6.519041  ...        32.973373  47.355491\n",
              "        M    17891.948598  6.666355  ...        32.961802  45.159378\n",
              "15      F    20602.449064  6.582121  ...        21.949891  26.670236\n",
              "        M    18104.019560  6.193154  ...        21.803109  27.523691\n",
              "16      F    19002.445946  6.369369  ...        23.144928  25.810427\n",
              "        M    18434.714286  6.208791  ...        23.480916  23.811321\n",
              "17      F    18234.322870  6.650224  ...        30.918536  48.176201\n",
              "        M    18857.651472  6.569801  ...        32.227634  47.558853\n",
              "18      F    17940.875497  6.698013  ...        26.690341  36.963514\n",
              "        M    15106.718850  6.610224  ...        27.703072  43.546952\n",
              "19      F    21848.216475  6.701149  ...        21.257937  21.978599\n",
              "        M    19470.779690  6.533563  ...        21.071685  20.306878\n",
              "20      F    17510.769231  6.743077  ...        27.069193  52.624406\n",
              "        M    16076.192496  6.489396  ...        27.908451  44.197279\n",
              "21      F    22452.636661  6.860884  ...        22.366554  25.974832\n",
              "        M    20120.399113  6.671840  ...        21.736721  22.772622\n",
              "22      F    18499.695976  6.651267  ...        34.108320  53.647059\n",
              "        M    18015.365527  6.381872  ...        33.359746  54.572531\n",
              "23      F    15863.193939  6.860606  ...        20.051948  20.564417\n",
              "        M    17091.338164  6.391304  ...        19.850000  18.941463\n",
              "24      F    13702.224280  6.596708  ...        26.993377  47.914405\n",
              "        M    15208.136082  6.360825  ...        25.786996  39.321503\n",
              "\n",
              "[48 rows x 6 columns]"
            ]
          },
          "metadata": {
            "tags": []
          },
          "execution_count": 33
        }
      ]
    },
    {
      "cell_type": "code",
      "metadata": {
        "colab": {
          "base_uri": "https://localhost:8080/",
          "height": 833
        },
        "id": "j3wLBtQlrnpD",
        "outputId": "79d95710-1805-42bc-dc0d-c4f577c03dba"
      },
      "source": [
        "# Q3: Summarize weight values for each site in your data. HINT: you can use the following syntax to only \n",
        "# create summary statistics for one column in your data. \n",
        "# by_site['weight'].describe()\n",
        "\n",
        "by_site = surveys_df.groupby(['plot_id'])\n",
        "by_site[\"weight\"].describe()"
      ],
      "execution_count": null,
      "outputs": [
        {
          "output_type": "execute_result",
          "data": {
            "text/html": [
              "<div>\n",
              "<style scoped>\n",
              "    .dataframe tbody tr th:only-of-type {\n",
              "        vertical-align: middle;\n",
              "    }\n",
              "\n",
              "    .dataframe tbody tr th {\n",
              "        vertical-align: top;\n",
              "    }\n",
              "\n",
              "    .dataframe thead th {\n",
              "        text-align: right;\n",
              "    }\n",
              "</style>\n",
              "<table border=\"1\" class=\"dataframe\">\n",
              "  <thead>\n",
              "    <tr style=\"text-align: right;\">\n",
              "      <th></th>\n",
              "      <th>count</th>\n",
              "      <th>mean</th>\n",
              "      <th>std</th>\n",
              "      <th>min</th>\n",
              "      <th>25%</th>\n",
              "      <th>50%</th>\n",
              "      <th>75%</th>\n",
              "      <th>max</th>\n",
              "    </tr>\n",
              "    <tr>\n",
              "      <th>plot_id</th>\n",
              "      <th></th>\n",
              "      <th></th>\n",
              "      <th></th>\n",
              "      <th></th>\n",
              "      <th></th>\n",
              "      <th></th>\n",
              "      <th></th>\n",
              "      <th></th>\n",
              "    </tr>\n",
              "  </thead>\n",
              "  <tbody>\n",
              "    <tr>\n",
              "      <th>1</th>\n",
              "      <td>1903.0</td>\n",
              "      <td>51.822911</td>\n",
              "      <td>38.176670</td>\n",
              "      <td>4.0</td>\n",
              "      <td>30.0</td>\n",
              "      <td>44.0</td>\n",
              "      <td>53.0</td>\n",
              "      <td>231.0</td>\n",
              "    </tr>\n",
              "    <tr>\n",
              "      <th>2</th>\n",
              "      <td>2074.0</td>\n",
              "      <td>52.251688</td>\n",
              "      <td>46.503602</td>\n",
              "      <td>5.0</td>\n",
              "      <td>24.0</td>\n",
              "      <td>41.0</td>\n",
              "      <td>50.0</td>\n",
              "      <td>278.0</td>\n",
              "    </tr>\n",
              "    <tr>\n",
              "      <th>3</th>\n",
              "      <td>1710.0</td>\n",
              "      <td>32.654386</td>\n",
              "      <td>35.641630</td>\n",
              "      <td>4.0</td>\n",
              "      <td>14.0</td>\n",
              "      <td>23.0</td>\n",
              "      <td>36.0</td>\n",
              "      <td>250.0</td>\n",
              "    </tr>\n",
              "    <tr>\n",
              "      <th>4</th>\n",
              "      <td>1866.0</td>\n",
              "      <td>47.928189</td>\n",
              "      <td>32.886598</td>\n",
              "      <td>4.0</td>\n",
              "      <td>30.0</td>\n",
              "      <td>43.0</td>\n",
              "      <td>50.0</td>\n",
              "      <td>200.0</td>\n",
              "    </tr>\n",
              "    <tr>\n",
              "      <th>5</th>\n",
              "      <td>1092.0</td>\n",
              "      <td>40.947802</td>\n",
              "      <td>34.086616</td>\n",
              "      <td>5.0</td>\n",
              "      <td>21.0</td>\n",
              "      <td>37.0</td>\n",
              "      <td>48.0</td>\n",
              "      <td>248.0</td>\n",
              "    </tr>\n",
              "    <tr>\n",
              "      <th>6</th>\n",
              "      <td>1463.0</td>\n",
              "      <td>36.738893</td>\n",
              "      <td>30.648310</td>\n",
              "      <td>5.0</td>\n",
              "      <td>18.0</td>\n",
              "      <td>30.0</td>\n",
              "      <td>45.0</td>\n",
              "      <td>243.0</td>\n",
              "    </tr>\n",
              "    <tr>\n",
              "      <th>7</th>\n",
              "      <td>638.0</td>\n",
              "      <td>20.663009</td>\n",
              "      <td>21.315325</td>\n",
              "      <td>4.0</td>\n",
              "      <td>11.0</td>\n",
              "      <td>17.0</td>\n",
              "      <td>23.0</td>\n",
              "      <td>235.0</td>\n",
              "    </tr>\n",
              "    <tr>\n",
              "      <th>8</th>\n",
              "      <td>1781.0</td>\n",
              "      <td>47.758001</td>\n",
              "      <td>33.192194</td>\n",
              "      <td>5.0</td>\n",
              "      <td>26.0</td>\n",
              "      <td>44.0</td>\n",
              "      <td>51.0</td>\n",
              "      <td>178.0</td>\n",
              "    </tr>\n",
              "    <tr>\n",
              "      <th>9</th>\n",
              "      <td>1811.0</td>\n",
              "      <td>51.432358</td>\n",
              "      <td>33.724726</td>\n",
              "      <td>6.0</td>\n",
              "      <td>36.0</td>\n",
              "      <td>45.0</td>\n",
              "      <td>50.0</td>\n",
              "      <td>275.0</td>\n",
              "    </tr>\n",
              "    <tr>\n",
              "      <th>10</th>\n",
              "      <td>279.0</td>\n",
              "      <td>18.541219</td>\n",
              "      <td>20.290806</td>\n",
              "      <td>4.0</td>\n",
              "      <td>10.0</td>\n",
              "      <td>12.0</td>\n",
              "      <td>21.0</td>\n",
              "      <td>237.0</td>\n",
              "    </tr>\n",
              "    <tr>\n",
              "      <th>11</th>\n",
              "      <td>1793.0</td>\n",
              "      <td>43.451757</td>\n",
              "      <td>28.975514</td>\n",
              "      <td>5.0</td>\n",
              "      <td>26.0</td>\n",
              "      <td>42.0</td>\n",
              "      <td>48.0</td>\n",
              "      <td>212.0</td>\n",
              "    </tr>\n",
              "    <tr>\n",
              "      <th>12</th>\n",
              "      <td>2219.0</td>\n",
              "      <td>49.496169</td>\n",
              "      <td>41.630035</td>\n",
              "      <td>6.0</td>\n",
              "      <td>26.0</td>\n",
              "      <td>42.0</td>\n",
              "      <td>50.0</td>\n",
              "      <td>280.0</td>\n",
              "    </tr>\n",
              "    <tr>\n",
              "      <th>13</th>\n",
              "      <td>1371.0</td>\n",
              "      <td>40.445660</td>\n",
              "      <td>34.042767</td>\n",
              "      <td>5.0</td>\n",
              "      <td>20.5</td>\n",
              "      <td>33.0</td>\n",
              "      <td>45.0</td>\n",
              "      <td>241.0</td>\n",
              "    </tr>\n",
              "    <tr>\n",
              "      <th>14</th>\n",
              "      <td>1728.0</td>\n",
              "      <td>46.277199</td>\n",
              "      <td>27.570389</td>\n",
              "      <td>5.0</td>\n",
              "      <td>36.0</td>\n",
              "      <td>44.0</td>\n",
              "      <td>49.0</td>\n",
              "      <td>222.0</td>\n",
              "    </tr>\n",
              "    <tr>\n",
              "      <th>15</th>\n",
              "      <td>869.0</td>\n",
              "      <td>27.042578</td>\n",
              "      <td>35.178142</td>\n",
              "      <td>4.0</td>\n",
              "      <td>11.0</td>\n",
              "      <td>18.0</td>\n",
              "      <td>26.0</td>\n",
              "      <td>259.0</td>\n",
              "    </tr>\n",
              "    <tr>\n",
              "      <th>16</th>\n",
              "      <td>480.0</td>\n",
              "      <td>24.585417</td>\n",
              "      <td>17.682334</td>\n",
              "      <td>4.0</td>\n",
              "      <td>12.0</td>\n",
              "      <td>20.0</td>\n",
              "      <td>34.0</td>\n",
              "      <td>158.0</td>\n",
              "    </tr>\n",
              "    <tr>\n",
              "      <th>17</th>\n",
              "      <td>1893.0</td>\n",
              "      <td>47.889593</td>\n",
              "      <td>35.802399</td>\n",
              "      <td>4.0</td>\n",
              "      <td>27.0</td>\n",
              "      <td>42.0</td>\n",
              "      <td>50.0</td>\n",
              "      <td>216.0</td>\n",
              "    </tr>\n",
              "    <tr>\n",
              "      <th>18</th>\n",
              "      <td>1351.0</td>\n",
              "      <td>40.005922</td>\n",
              "      <td>38.480856</td>\n",
              "      <td>5.0</td>\n",
              "      <td>17.5</td>\n",
              "      <td>30.0</td>\n",
              "      <td>44.0</td>\n",
              "      <td>256.0</td>\n",
              "    </tr>\n",
              "    <tr>\n",
              "      <th>19</th>\n",
              "      <td>1084.0</td>\n",
              "      <td>21.105166</td>\n",
              "      <td>13.269840</td>\n",
              "      <td>4.0</td>\n",
              "      <td>11.0</td>\n",
              "      <td>19.0</td>\n",
              "      <td>27.0</td>\n",
              "      <td>139.0</td>\n",
              "    </tr>\n",
              "    <tr>\n",
              "      <th>20</th>\n",
              "      <td>1222.0</td>\n",
              "      <td>48.665303</td>\n",
              "      <td>50.111539</td>\n",
              "      <td>5.0</td>\n",
              "      <td>17.0</td>\n",
              "      <td>31.0</td>\n",
              "      <td>47.0</td>\n",
              "      <td>223.0</td>\n",
              "    </tr>\n",
              "    <tr>\n",
              "      <th>21</th>\n",
              "      <td>1029.0</td>\n",
              "      <td>24.627794</td>\n",
              "      <td>21.199819</td>\n",
              "      <td>4.0</td>\n",
              "      <td>10.0</td>\n",
              "      <td>22.0</td>\n",
              "      <td>31.0</td>\n",
              "      <td>190.0</td>\n",
              "    </tr>\n",
              "    <tr>\n",
              "      <th>22</th>\n",
              "      <td>1298.0</td>\n",
              "      <td>54.146379</td>\n",
              "      <td>38.743967</td>\n",
              "      <td>5.0</td>\n",
              "      <td>29.0</td>\n",
              "      <td>42.0</td>\n",
              "      <td>54.0</td>\n",
              "      <td>212.0</td>\n",
              "    </tr>\n",
              "    <tr>\n",
              "      <th>23</th>\n",
              "      <td>369.0</td>\n",
              "      <td>19.634146</td>\n",
              "      <td>18.382678</td>\n",
              "      <td>4.0</td>\n",
              "      <td>10.0</td>\n",
              "      <td>14.0</td>\n",
              "      <td>23.0</td>\n",
              "      <td>199.0</td>\n",
              "    </tr>\n",
              "    <tr>\n",
              "      <th>24</th>\n",
              "      <td>960.0</td>\n",
              "      <td>43.679167</td>\n",
              "      <td>45.936588</td>\n",
              "      <td>4.0</td>\n",
              "      <td>19.0</td>\n",
              "      <td>27.5</td>\n",
              "      <td>45.0</td>\n",
              "      <td>251.0</td>\n",
              "    </tr>\n",
              "  </tbody>\n",
              "</table>\n",
              "</div>"
            ],
            "text/plain": [
              "          count       mean        std  min   25%   50%   75%    max\n",
              "plot_id                                                            \n",
              "1        1903.0  51.822911  38.176670  4.0  30.0  44.0  53.0  231.0\n",
              "2        2074.0  52.251688  46.503602  5.0  24.0  41.0  50.0  278.0\n",
              "3        1710.0  32.654386  35.641630  4.0  14.0  23.0  36.0  250.0\n",
              "4        1866.0  47.928189  32.886598  4.0  30.0  43.0  50.0  200.0\n",
              "5        1092.0  40.947802  34.086616  5.0  21.0  37.0  48.0  248.0\n",
              "6        1463.0  36.738893  30.648310  5.0  18.0  30.0  45.0  243.0\n",
              "7         638.0  20.663009  21.315325  4.0  11.0  17.0  23.0  235.0\n",
              "8        1781.0  47.758001  33.192194  5.0  26.0  44.0  51.0  178.0\n",
              "9        1811.0  51.432358  33.724726  6.0  36.0  45.0  50.0  275.0\n",
              "10        279.0  18.541219  20.290806  4.0  10.0  12.0  21.0  237.0\n",
              "11       1793.0  43.451757  28.975514  5.0  26.0  42.0  48.0  212.0\n",
              "12       2219.0  49.496169  41.630035  6.0  26.0  42.0  50.0  280.0\n",
              "13       1371.0  40.445660  34.042767  5.0  20.5  33.0  45.0  241.0\n",
              "14       1728.0  46.277199  27.570389  5.0  36.0  44.0  49.0  222.0\n",
              "15        869.0  27.042578  35.178142  4.0  11.0  18.0  26.0  259.0\n",
              "16        480.0  24.585417  17.682334  4.0  12.0  20.0  34.0  158.0\n",
              "17       1893.0  47.889593  35.802399  4.0  27.0  42.0  50.0  216.0\n",
              "18       1351.0  40.005922  38.480856  5.0  17.5  30.0  44.0  256.0\n",
              "19       1084.0  21.105166  13.269840  4.0  11.0  19.0  27.0  139.0\n",
              "20       1222.0  48.665303  50.111539  5.0  17.0  31.0  47.0  223.0\n",
              "21       1029.0  24.627794  21.199819  4.0  10.0  22.0  31.0  190.0\n",
              "22       1298.0  54.146379  38.743967  5.0  29.0  42.0  54.0  212.0\n",
              "23        369.0  19.634146  18.382678  4.0  10.0  14.0  23.0  199.0\n",
              "24        960.0  43.679167  45.936588  4.0  19.0  27.5  45.0  251.0"
            ]
          },
          "metadata": {
            "tags": []
          },
          "execution_count": 34
        }
      ]
    },
    {
      "cell_type": "markdown",
      "metadata": {
        "id": "HglujkDbtCrg"
      },
      "source": [
        "## Summary counts and and basic maths"
      ]
    },
    {
      "cell_type": "code",
      "metadata": {
        "colab": {
          "base_uri": "https://localhost:8080/"
        },
        "id": "DyEbxuocss_9",
        "outputId": "cb9d2dde-8af3-4bd8-ad5c-c489be90ad36"
      },
      "source": [
        "# Count the number of samples per species\n",
        "species_count = surveys_df.groupby('species_id')['record_id'].count()\n",
        "print (species_count)"
      ],
      "execution_count": null,
      "outputs": [
        {
          "output_type": "stream",
          "text": [
            "species_id\n",
            "AB      303\n",
            "AH      437\n",
            "AS        2\n",
            "BA       46\n",
            "CB       50\n",
            "CM       13\n",
            "CQ       16\n",
            "CS        1\n",
            "CT        1\n",
            "CU        1\n",
            "CV        1\n",
            "DM    10596\n",
            "DO     3027\n",
            "DS     2504\n",
            "DX       40\n",
            "NL     1252\n",
            "OL     1006\n",
            "OT     2249\n",
            "OX       12\n",
            "PB     2891\n",
            "PC       39\n",
            "PE     1299\n",
            "PF     1597\n",
            "PG        8\n",
            "PH       32\n",
            "PI        9\n",
            "PL       36\n",
            "PM      899\n",
            "PP     3123\n",
            "PU        5\n",
            "PX        6\n",
            "RF       75\n",
            "RM     2609\n",
            "RO        8\n",
            "RX        2\n",
            "SA       75\n",
            "SC        1\n",
            "SF       43\n",
            "SH      147\n",
            "SO       43\n",
            "SS      248\n",
            "ST        1\n",
            "SU        5\n",
            "UL        4\n",
            "UP        8\n",
            "UR       10\n",
            "US        4\n",
            "ZL        2\n",
            "Name: record_id, dtype: int64\n"
          ],
          "name": "stdout"
        }
      ]
    },
    {
      "cell_type": "code",
      "metadata": {
        "colab": {
          "base_uri": "https://localhost:8080/"
        },
        "id": "OY8GKzvMvFZ1",
        "outputId": "4530e346-2673-4bc0-b162-26e6b8a3a920"
      },
      "source": [
        "species_count = surveys_df.groupby('species_id')[['record_id', 'month']].count()\n",
        "print (species_count)"
      ],
      "execution_count": null,
      "outputs": [
        {
          "output_type": "stream",
          "text": [
            "            record_id  month\n",
            "species_id                  \n",
            "AB                303    303\n",
            "AH                437    437\n",
            "AS                  2      2\n",
            "BA                 46     46\n",
            "CB                 50     50\n",
            "CM                 13     13\n",
            "CQ                 16     16\n",
            "CS                  1      1\n",
            "CT                  1      1\n",
            "CU                  1      1\n",
            "CV                  1      1\n",
            "DM              10596  10596\n",
            "DO               3027   3027\n",
            "DS               2504   2504\n",
            "DX                 40     40\n",
            "NL               1252   1252\n",
            "OL               1006   1006\n",
            "OT               2249   2249\n",
            "OX                 12     12\n",
            "PB               2891   2891\n",
            "PC                 39     39\n",
            "PE               1299   1299\n",
            "PF               1597   1597\n",
            "PG                  8      8\n",
            "PH                 32     32\n",
            "PI                  9      9\n",
            "PL                 36     36\n",
            "PM                899    899\n",
            "PP               3123   3123\n",
            "PU                  5      5\n",
            "PX                  6      6\n",
            "RF                 75     75\n",
            "RM               2609   2609\n",
            "RO                  8      8\n",
            "RX                  2      2\n",
            "SA                 75     75\n",
            "SC                  1      1\n",
            "SF                 43     43\n",
            "SH                147    147\n",
            "SO                 43     43\n",
            "SS                248    248\n",
            "ST                  1      1\n",
            "SU                  5      5\n",
            "UL                  4      4\n",
            "UP                  8      8\n",
            "UR                 10     10\n",
            "US                  4      4\n",
            "ZL                  2      2\n"
          ],
          "name": "stdout"
        }
      ]
    },
    {
      "cell_type": "code",
      "metadata": {
        "colab": {
          "base_uri": "https://localhost:8080/"
        },
        "id": "nwJ_9htzt_n_",
        "outputId": "851fac5f-aefc-419f-cd14-c55f0cebe185"
      },
      "source": [
        "# Just for one species , eg. RM\n",
        "surveys_df.groupby('species_id')['record_id'].count()[['RM', 'UR']]"
      ],
      "execution_count": null,
      "outputs": [
        {
          "output_type": "execute_result",
          "data": {
            "text/plain": [
              "species_id\n",
              "RM    2609\n",
              "UR      10\n",
              "Name: record_id, dtype: int64"
            ]
          },
          "metadata": {
            "tags": []
          },
          "execution_count": 37
        }
      ]
    },
    {
      "cell_type": "code",
      "metadata": {
        "colab": {
          "base_uri": "https://localhost:8080/"
        },
        "id": "xftJdAFzudir",
        "outputId": "5f920519-cce9-4708-b584-1ef0cf292cff"
      },
      "source": [
        "# Basic Maths\n",
        "surveys_df['weight'] * 2"
      ],
      "execution_count": null,
      "outputs": [
        {
          "output_type": "execute_result",
          "data": {
            "text/plain": [
              "0          NaN\n",
              "1          NaN\n",
              "2          NaN\n",
              "3          NaN\n",
              "4          NaN\n",
              "         ...  \n",
              "35544      NaN\n",
              "35545      NaN\n",
              "35546     28.0\n",
              "35547    102.0\n",
              "35548      NaN\n",
              "Name: weight, Length: 35549, dtype: float64"
            ]
          },
          "metadata": {
            "tags": []
          },
          "execution_count": 38
        }
      ]
    },
    {
      "cell_type": "markdown",
      "metadata": {
        "id": "Lv4ZrhA-vxwC"
      },
      "source": [
        "## Simple plotting in Python"
      ]
    },
    {
      "cell_type": "code",
      "metadata": {
        "id": "Js0TZK23uzUj"
      },
      "source": [
        "# If you're using Notebooks then we need to make sure the plots appear in the browser\n",
        "%matplotlib inline"
      ],
      "execution_count": null,
      "outputs": []
    },
    {
      "cell_type": "code",
      "metadata": {
        "colab": {
          "base_uri": "https://localhost:8080/",
          "height": 287
        },
        "id": "4oUEYOuJwuYS",
        "outputId": "1cb0f507-f0f3-4708-e9ad-4dc6b1e6e373"
      },
      "source": [
        "# Create a quick bar chart\n",
        "species_count.plot (kind = 'bar');"
      ],
      "execution_count": null,
      "outputs": [
        {
          "output_type": "display_data",
          "data": {
            "image/png": "[encoded data removed]",
            "text/plain": [
              "<Figure size 432x288 with 1 Axes>"
            ]
          },
          "metadata": {
            "tags": [],
            "needs_background": "light"
          }
        }
      ]
    },
    {
      "cell_type": "code",
      "metadata": {
        "id": "rrG6426Nw_5B"
      },
      "source": [
        "# How many animals were captured in each site\n",
        "total_count = surveys_df.groupby('plot_id')['record_id'].count()\n"
      ],
      "execution_count": null,
      "outputs": []
    },
    {
      "cell_type": "code",
      "metadata": {
        "colab": {
          "base_uri": "https://localhost:8080/",
          "height": 283
        },
        "id": "4Zz4_jovyVwg",
        "outputId": "76556e9c-61bf-4822-a72c-0bb837ad3f68"
      },
      "source": [
        "total_count.plot(kind = 'bar');"
      ],
      "execution_count": null,
      "outputs": [
        {
          "output_type": "display_data",
          "data": {
            "image/png": "[encoded data removed]",
            "text/plain": [
              "<Figure size 432x288 with 1 Axes>"
            ]
          },
          "metadata": {
            "tags": [],
            "needs_background": "light"
          }
        }
      ]
    },
    {
      "cell_type": "markdown",
      "metadata": {
        "id": "UA8rvkO_u3S5"
      },
      "source": [
        "## Indexing and slicing with pandas "
      ]
    },
    {
      "cell_type": "code",
      "metadata": {
        "id": "kov2rSILyb67"
      },
      "source": [
        "a = [1, 2, 3, 4, 5]"
      ],
      "execution_count": null,
      "outputs": []
    },
    {
      "cell_type": "code",
      "metadata": {
        "id": "k6SZ1pZ0u5qj",
        "colab": {
          "base_uri": "https://localhost:8080/"
        },
        "outputId": "9981fc2f-d1ff-45d3-b613-78adbd356db0"
      },
      "source": [
        "a[2]"
      ],
      "execution_count": null,
      "outputs": [
        {
          "output_type": "execute_result",
          "data": {
            "text/plain": [
              "3"
            ]
          },
          "metadata": {
            "tags": []
          },
          "execution_count": 44
        }
      ]
    },
    {
      "cell_type": "code",
      "metadata": {
        "id": "_5NclVX0u7FY",
        "colab": {
          "base_uri": "https://localhost:8080/"
        },
        "outputId": "24056f80-f750-48b2-9902-6b997ed6babe"
      },
      "source": [
        "# view the available columns in the dataframe\n",
        "surveys_df.columns"
      ],
      "execution_count": null,
      "outputs": [
        {
          "output_type": "execute_result",
          "data": {
            "text/plain": [
              "Index(['record_id', 'month', 'day', 'year', 'plot_id', 'species_id', 'sex',\n",
              "       'hindfoot_length', 'weight'],\n",
              "      dtype='object')"
            ]
          },
          "metadata": {
            "tags": []
          },
          "execution_count": 45
        }
      ]
    },
    {
      "cell_type": "code",
      "metadata": {
        "id": "Rq8I1L_Fu8Y6",
        "colab": {
          "base_uri": "https://localhost:8080/",
          "height": 339
        },
        "outputId": "72774b41-172f-4419-8ee7-cf6742bf92f3"
      },
      "source": [
        "# indexing out a whole column\n",
        "\n",
        "# here we get an error because we're trying to index into the special .columns attribute\n",
        "surveys_df.columns['hindfoot_length']"
      ],
      "execution_count": null,
      "outputs": [
        {
          "output_type": "error",
          "ename": "IndexError",
          "evalue": "ignored",
          "traceback": [
            "\u001b[0;31m---------------------------------------------------------------------------\u001b[0m",
            "\u001b[0;31mIndexError\u001b[0m                                Traceback (most recent call last)",
            "\u001b[0;32m<ipython-input-46-ce1cdbc56487>\u001b[0m in \u001b[0;36m<module>\u001b[0;34m()\u001b[0m\n\u001b[1;32m      2\u001b[0m \u001b[0;34m\u001b[0m\u001b[0m\n\u001b[1;32m      3\u001b[0m \u001b[0;31m# here we get an error because we're trying to index into the special .columns attribute\u001b[0m\u001b[0;34m\u001b[0m\u001b[0;34m\u001b[0m\u001b[0;34m\u001b[0m\u001b[0m\n\u001b[0;32m----> 4\u001b[0;31m \u001b[0msurveys_df\u001b[0m\u001b[0;34m.\u001b[0m\u001b[0mcolumns\u001b[0m\u001b[0;34m[\u001b[0m\u001b[0;34m'hindfoot_length'\u001b[0m\u001b[0;34m]\u001b[0m\u001b[0;34m\u001b[0m\u001b[0;34m\u001b[0m\u001b[0m\n\u001b[0m",
            "\u001b[0;32m/usr/local/lib/python3.7/dist-packages/pandas/core/indexes/base.py\u001b[0m in \u001b[0;36m__getitem__\u001b[0;34m(self, key)\u001b[0m\n\u001b[1;32m   4102\u001b[0m         \u001b[0;32mif\u001b[0m \u001b[0mis_scalar\u001b[0m\u001b[0;34m(\u001b[0m\u001b[0mkey\u001b[0m\u001b[0;34m)\u001b[0m\u001b[0;34m:\u001b[0m\u001b[0;34m\u001b[0m\u001b[0;34m\u001b[0m\u001b[0m\n\u001b[1;32m   4103\u001b[0m             \u001b[0mkey\u001b[0m \u001b[0;34m=\u001b[0m \u001b[0mcom\u001b[0m\u001b[0;34m.\u001b[0m\u001b[0mcast_scalar_indexer\u001b[0m\u001b[0;34m(\u001b[0m\u001b[0mkey\u001b[0m\u001b[0;34m,\u001b[0m \u001b[0mwarn_float\u001b[0m\u001b[0;34m=\u001b[0m\u001b[0;32mTrue\u001b[0m\u001b[0;34m)\u001b[0m\u001b[0;34m\u001b[0m\u001b[0;34m\u001b[0m\u001b[0m\n\u001b[0;32m-> 4104\u001b[0;31m             \u001b[0;32mreturn\u001b[0m \u001b[0mgetitem\u001b[0m\u001b[0;34m(\u001b[0m\u001b[0mkey\u001b[0m\u001b[0;34m)\u001b[0m\u001b[0;34m\u001b[0m\u001b[0;34m\u001b[0m\u001b[0m\n\u001b[0m\u001b[1;32m   4105\u001b[0m \u001b[0;34m\u001b[0m\u001b[0m\n\u001b[1;32m   4106\u001b[0m         \u001b[0;32mif\u001b[0m \u001b[0misinstance\u001b[0m\u001b[0;34m(\u001b[0m\u001b[0mkey\u001b[0m\u001b[0;34m,\u001b[0m \u001b[0mslice\u001b[0m\u001b[0;34m)\u001b[0m\u001b[0;34m:\u001b[0m\u001b[0;34m\u001b[0m\u001b[0;34m\u001b[0m\u001b[0m\n",
            "\u001b[0;31mIndexError\u001b[0m: only integers, slices (`:`), ellipsis (`...`), numpy.newaxis (`None`) and integer or boolean arrays are valid indices"
          ]
        }
      ]
    },
    {
      "cell_type": "code",
      "metadata": {
        "id": "WIfhG4Dsu9uY",
        "colab": {
          "base_uri": "https://localhost:8080/"
        },
        "outputId": "b6815cb6-6388-403f-c061-7a0564d6b5cb"
      },
      "source": [
        "# we can slice out a column using square brackets and the string of the column name\n",
        "surveys_df['hindfoot_length']"
      ],
      "execution_count": null,
      "outputs": [
        {
          "output_type": "execute_result",
          "data": {
            "text/plain": [
              "0        32.0\n",
              "1        33.0\n",
              "2        37.0\n",
              "3        36.0\n",
              "4        35.0\n",
              "         ... \n",
              "35544     NaN\n",
              "35545     NaN\n",
              "35546    15.0\n",
              "35547    36.0\n",
              "35548     NaN\n",
              "Name: hindfoot_length, Length: 35549, dtype: float64"
            ]
          },
          "metadata": {
            "tags": []
          },
          "execution_count": 47
        }
      ]
    },
    {
      "cell_type": "code",
      "metadata": {
        "id": "YbtuL-7Xu-1s",
        "colab": {
          "base_uri": "https://localhost:8080/",
          "height": 36
        },
        "outputId": "aeda4319-7f17-487a-8ffb-ba68b29d0ffc"
      },
      "source": [
        "# here we sliced out the column name from the .columns attribute \n",
        "# but not the values of the column itself\n",
        "surveys_df.columns[-2]"
      ],
      "execution_count": null,
      "outputs": [
        {
          "output_type": "execute_result",
          "data": {
            "application/vnd.google.colaboratory.intrinsic+json": {
              "type": "string"
            },
            "text/plain": [
              "'hindfoot_length'"
            ]
          },
          "metadata": {
            "tags": []
          },
          "execution_count": 48
        }
      ]
    },
    {
      "cell_type": "code",
      "metadata": {
        "id": "Oo8jGYpfu_4p",
        "colab": {
          "base_uri": "https://localhost:8080/"
        },
        "outputId": "46e0b79d-0357-4d94-cca3-eb00d85c8cc8"
      },
      "source": [
        "# we can also use dot notation to index out a single column\n",
        "surveys_df.hindfoot_length"
      ],
      "execution_count": null,
      "outputs": [
        {
          "output_type": "execute_result",
          "data": {
            "text/plain": [
              "0        32.0\n",
              "1        33.0\n",
              "2        37.0\n",
              "3        36.0\n",
              "4        35.0\n",
              "         ... \n",
              "35544     NaN\n",
              "35545     NaN\n",
              "35546    15.0\n",
              "35547    36.0\n",
              "35548     NaN\n",
              "Name: hindfoot_length, Length: 35549, dtype: float64"
            ]
          },
          "metadata": {
            "tags": []
          },
          "execution_count": 49
        }
      ]
    },
    {
      "cell_type": "code",
      "metadata": {
        "id": "429gOHKLvA1L",
        "colab": {
          "base_uri": "https://localhost:8080/",
          "height": 424
        },
        "outputId": "02037d74-da11-4148-fc22-9730e3bff814"
      },
      "source": [
        "# indexing out multiple columns means passing a list \n",
        "# to the index brackets \n",
        "surveys_df[['hindfoot_length','month']]"
      ],
      "execution_count": null,
      "outputs": [
        {
          "output_type": "execute_result",
          "data": {
            "text/html": [
              "<div>\n",
              "<style scoped>\n",
              "    .dataframe tbody tr th:only-of-type {\n",
              "        vertical-align: middle;\n",
              "    }\n",
              "\n",
              "    .dataframe tbody tr th {\n",
              "        vertical-align: top;\n",
              "    }\n",
              "\n",
              "    .dataframe thead th {\n",
              "        text-align: right;\n",
              "    }\n",
              "</style>\n",
              "<table border=\"1\" class=\"dataframe\">\n",
              "  <thead>\n",
              "    <tr style=\"text-align: right;\">\n",
              "      <th></th>\n",
              "      <th>hindfoot_length</th>\n",
              "      <th>month</th>\n",
              "    </tr>\n",
              "  </thead>\n",
              "  <tbody>\n",
              "    <tr>\n",
              "      <th>0</th>\n",
              "      <td>32.0</td>\n",
              "      <td>7</td>\n",
              "    </tr>\n",
              "    <tr>\n",
              "      <th>1</th>\n",
              "      <td>33.0</td>\n",
              "      <td>7</td>\n",
              "    </tr>\n",
              "    <tr>\n",
              "      <th>2</th>\n",
              "      <td>37.0</td>\n",
              "      <td>7</td>\n",
              "    </tr>\n",
              "    <tr>\n",
              "      <th>3</th>\n",
              "      <td>36.0</td>\n",
              "      <td>7</td>\n",
              "    </tr>\n",
              "    <tr>\n",
              "      <th>4</th>\n",
              "      <td>35.0</td>\n",
              "      <td>7</td>\n",
              "    </tr>\n",
              "    <tr>\n",
              "      <th>...</th>\n",
              "      <td>...</td>\n",
              "      <td>...</td>\n",
              "    </tr>\n",
              "    <tr>\n",
              "      <th>35544</th>\n",
              "      <td>NaN</td>\n",
              "      <td>12</td>\n",
              "    </tr>\n",
              "    <tr>\n",
              "      <th>35545</th>\n",
              "      <td>NaN</td>\n",
              "      <td>12</td>\n",
              "    </tr>\n",
              "    <tr>\n",
              "      <th>35546</th>\n",
              "      <td>15.0</td>\n",
              "      <td>12</td>\n",
              "    </tr>\n",
              "    <tr>\n",
              "      <th>35547</th>\n",
              "      <td>36.0</td>\n",
              "      <td>12</td>\n",
              "    </tr>\n",
              "    <tr>\n",
              "      <th>35548</th>\n",
              "      <td>NaN</td>\n",
              "      <td>12</td>\n",
              "    </tr>\n",
              "  </tbody>\n",
              "</table>\n",
              "<p>35549 rows × 2 columns</p>\n",
              "</div>"
            ],
            "text/plain": [
              "       hindfoot_length  month\n",
              "0                 32.0      7\n",
              "1                 33.0      7\n",
              "2                 37.0      7\n",
              "3                 36.0      7\n",
              "4                 35.0      7\n",
              "...                ...    ...\n",
              "35544              NaN     12\n",
              "35545              NaN     12\n",
              "35546             15.0     12\n",
              "35547             36.0     12\n",
              "35548              NaN     12\n",
              "\n",
              "[35549 rows x 2 columns]"
            ]
          },
          "metadata": {
            "tags": []
          },
          "execution_count": 50
        }
      ]
    },
    {
      "cell_type": "code",
      "metadata": {
        "id": "aocHHAoBvCe4",
        "colab": {
          "base_uri": "https://localhost:8080/",
          "height": 424
        },
        "outputId": "592e6736-f131-4d15-e9d8-501c41b62e03"
      },
      "source": [
        "# we can also do this by assigning a list as a variable\n",
        "# and passing the variable to the index brackets\n",
        "\n",
        "desired_cols = ['hindfoot_length','month']\n",
        "\n",
        "surveys_df[desired_cols]"
      ],
      "execution_count": null,
      "outputs": [
        {
          "output_type": "execute_result",
          "data": {
            "text/html": [
              "<div>\n",
              "<style scoped>\n",
              "    .dataframe tbody tr th:only-of-type {\n",
              "        vertical-align: middle;\n",
              "    }\n",
              "\n",
              "    .dataframe tbody tr th {\n",
              "        vertical-align: top;\n",
              "    }\n",
              "\n",
              "    .dataframe thead th {\n",
              "        text-align: right;\n",
              "    }\n",
              "</style>\n",
              "<table border=\"1\" class=\"dataframe\">\n",
              "  <thead>\n",
              "    <tr style=\"text-align: right;\">\n",
              "      <th></th>\n",
              "      <th>hindfoot_length</th>\n",
              "      <th>month</th>\n",
              "    </tr>\n",
              "  </thead>\n",
              "  <tbody>\n",
              "    <tr>\n",
              "      <th>0</th>\n",
              "      <td>32.0</td>\n",
              "      <td>7</td>\n",
              "    </tr>\n",
              "    <tr>\n",
              "      <th>1</th>\n",
              "      <td>33.0</td>\n",
              "      <td>7</td>\n",
              "    </tr>\n",
              "    <tr>\n",
              "      <th>2</th>\n",
              "      <td>37.0</td>\n",
              "      <td>7</td>\n",
              "    </tr>\n",
              "    <tr>\n",
              "      <th>3</th>\n",
              "      <td>36.0</td>\n",
              "      <td>7</td>\n",
              "    </tr>\n",
              "    <tr>\n",
              "      <th>4</th>\n",
              "      <td>35.0</td>\n",
              "      <td>7</td>\n",
              "    </tr>\n",
              "    <tr>\n",
              "      <th>...</th>\n",
              "      <td>...</td>\n",
              "      <td>...</td>\n",
              "    </tr>\n",
              "    <tr>\n",
              "      <th>35544</th>\n",
              "      <td>NaN</td>\n",
              "      <td>12</td>\n",
              "    </tr>\n",
              "    <tr>\n",
              "      <th>35545</th>\n",
              "      <td>NaN</td>\n",
              "      <td>12</td>\n",
              "    </tr>\n",
              "    <tr>\n",
              "      <th>35546</th>\n",
              "      <td>15.0</td>\n",
              "      <td>12</td>\n",
              "    </tr>\n",
              "    <tr>\n",
              "      <th>35547</th>\n",
              "      <td>36.0</td>\n",
              "      <td>12</td>\n",
              "    </tr>\n",
              "    <tr>\n",
              "      <th>35548</th>\n",
              "      <td>NaN</td>\n",
              "      <td>12</td>\n",
              "    </tr>\n",
              "  </tbody>\n",
              "</table>\n",
              "<p>35549 rows × 2 columns</p>\n",
              "</div>"
            ],
            "text/plain": [
              "       hindfoot_length  month\n",
              "0                 32.0      7\n",
              "1                 33.0      7\n",
              "2                 37.0      7\n",
              "3                 36.0      7\n",
              "4                 35.0      7\n",
              "...                ...    ...\n",
              "35544              NaN     12\n",
              "35545              NaN     12\n",
              "35546             15.0     12\n",
              "35547             36.0     12\n",
              "35548              NaN     12\n",
              "\n",
              "[35549 rows x 2 columns]"
            ]
          },
          "metadata": {
            "tags": []
          },
          "execution_count": 51
        }
      ]
    },
    {
      "cell_type": "code",
      "metadata": {
        "id": "yO2RzK6uvD0y",
        "colab": {
          "base_uri": "https://localhost:8080/",
          "height": 603
        },
        "outputId": "7f0bfe2c-d5e5-47ec-98b8-bfa7c6313aba"
      },
      "source": [
        "# indexing a column name that does not exist gives an error\n",
        "surveys_df['name']"
      ],
      "execution_count": null,
      "outputs": [
        {
          "output_type": "error",
          "ename": "KeyError",
          "evalue": "ignored",
          "traceback": [
            "\u001b[0;31m---------------------------------------------------------------------------\u001b[0m",
            "\u001b[0;31mKeyError\u001b[0m                                  Traceback (most recent call last)",
            "\u001b[0;32m/usr/local/lib/python3.7/dist-packages/pandas/core/indexes/base.py\u001b[0m in \u001b[0;36mget_loc\u001b[0;34m(self, key, method, tolerance)\u001b[0m\n\u001b[1;32m   2897\u001b[0m             \u001b[0;32mtry\u001b[0m\u001b[0;34m:\u001b[0m\u001b[0;34m\u001b[0m\u001b[0;34m\u001b[0m\u001b[0m\n\u001b[0;32m-> 2898\u001b[0;31m                 \u001b[0;32mreturn\u001b[0m \u001b[0mself\u001b[0m\u001b[0;34m.\u001b[0m\u001b[0m_engine\u001b[0m\u001b[0;34m.\u001b[0m\u001b[0mget_loc\u001b[0m\u001b[0;34m(\u001b[0m\u001b[0mcasted_key\u001b[0m\u001b[0;34m)\u001b[0m\u001b[0;34m\u001b[0m\u001b[0;34m\u001b[0m\u001b[0m\n\u001b[0m\u001b[1;32m   2899\u001b[0m             \u001b[0;32mexcept\u001b[0m \u001b[0mKeyError\u001b[0m \u001b[0;32mas\u001b[0m \u001b[0merr\u001b[0m\u001b[0;34m:\u001b[0m\u001b[0;34m\u001b[0m\u001b[0;34m\u001b[0m\u001b[0m\n",
            "\u001b[0;32mpandas/_libs/index.pyx\u001b[0m in \u001b[0;36mpandas._libs.index.IndexEngine.get_loc\u001b[0;34m()\u001b[0m\n",
            "\u001b[0;32mpandas/_libs/index.pyx\u001b[0m in \u001b[0;36mpandas._libs.index.IndexEngine.get_loc\u001b[0;34m()\u001b[0m\n",
            "\u001b[0;32mpandas/_libs/hashtable_class_helper.pxi\u001b[0m in \u001b[0;36mpandas._libs.hashtable.PyObjectHashTable.get_item\u001b[0;34m()\u001b[0m\n",
            "\u001b[0;32mpandas/_libs/hashtable_class_helper.pxi\u001b[0m in \u001b[0;36mpandas._libs.hashtable.PyObjectHashTable.get_item\u001b[0;34m()\u001b[0m\n",
            "\u001b[0;31mKeyError\u001b[0m: 'name'",
            "\nThe above exception was the direct cause of the following exception:\n",
            "\u001b[0;31mKeyError\u001b[0m                                  Traceback (most recent call last)",
            "\u001b[0;32m<ipython-input-52-dbbecbc51b34>\u001b[0m in \u001b[0;36m<module>\u001b[0;34m()\u001b[0m\n\u001b[1;32m      1\u001b[0m \u001b[0;31m# indexing a column name that does not exist gives an error\u001b[0m\u001b[0;34m\u001b[0m\u001b[0;34m\u001b[0m\u001b[0;34m\u001b[0m\u001b[0m\n\u001b[0;32m----> 2\u001b[0;31m \u001b[0msurveys_df\u001b[0m\u001b[0;34m[\u001b[0m\u001b[0;34m'name'\u001b[0m\u001b[0;34m]\u001b[0m\u001b[0;34m\u001b[0m\u001b[0;34m\u001b[0m\u001b[0m\n\u001b[0m",
            "\u001b[0;32m/usr/local/lib/python3.7/dist-packages/pandas/core/frame.py\u001b[0m in \u001b[0;36m__getitem__\u001b[0;34m(self, key)\u001b[0m\n\u001b[1;32m   2904\u001b[0m             \u001b[0;32mif\u001b[0m \u001b[0mself\u001b[0m\u001b[0;34m.\u001b[0m\u001b[0mcolumns\u001b[0m\u001b[0;34m.\u001b[0m\u001b[0mnlevels\u001b[0m \u001b[0;34m>\u001b[0m \u001b[0;36m1\u001b[0m\u001b[0;34m:\u001b[0m\u001b[0;34m\u001b[0m\u001b[0;34m\u001b[0m\u001b[0m\n\u001b[1;32m   2905\u001b[0m                 \u001b[0;32mreturn\u001b[0m \u001b[0mself\u001b[0m\u001b[0;34m.\u001b[0m\u001b[0m_getitem_multilevel\u001b[0m\u001b[0;34m(\u001b[0m\u001b[0mkey\u001b[0m\u001b[0;34m)\u001b[0m\u001b[0;34m\u001b[0m\u001b[0;34m\u001b[0m\u001b[0m\n\u001b[0;32m-> 2906\u001b[0;31m             \u001b[0mindexer\u001b[0m \u001b[0;34m=\u001b[0m \u001b[0mself\u001b[0m\u001b[0;34m.\u001b[0m\u001b[0mcolumns\u001b[0m\u001b[0;34m.\u001b[0m\u001b[0mget_loc\u001b[0m\u001b[0;34m(\u001b[0m\u001b[0mkey\u001b[0m\u001b[0;34m)\u001b[0m\u001b[0;34m\u001b[0m\u001b[0;34m\u001b[0m\u001b[0m\n\u001b[0m\u001b[1;32m   2907\u001b[0m             \u001b[0;32mif\u001b[0m \u001b[0mis_integer\u001b[0m\u001b[0;34m(\u001b[0m\u001b[0mindexer\u001b[0m\u001b[0;34m)\u001b[0m\u001b[0;34m:\u001b[0m\u001b[0;34m\u001b[0m\u001b[0;34m\u001b[0m\u001b[0m\n\u001b[1;32m   2908\u001b[0m                 \u001b[0mindexer\u001b[0m \u001b[0;34m=\u001b[0m \u001b[0;34m[\u001b[0m\u001b[0mindexer\u001b[0m\u001b[0;34m]\u001b[0m\u001b[0;34m\u001b[0m\u001b[0;34m\u001b[0m\u001b[0m\n",
            "\u001b[0;32m/usr/local/lib/python3.7/dist-packages/pandas/core/indexes/base.py\u001b[0m in \u001b[0;36mget_loc\u001b[0;34m(self, key, method, tolerance)\u001b[0m\n\u001b[1;32m   2898\u001b[0m                 \u001b[0;32mreturn\u001b[0m \u001b[0mself\u001b[0m\u001b[0;34m.\u001b[0m\u001b[0m_engine\u001b[0m\u001b[0;34m.\u001b[0m\u001b[0mget_loc\u001b[0m\u001b[0;34m(\u001b[0m\u001b[0mcasted_key\u001b[0m\u001b[0;34m)\u001b[0m\u001b[0;34m\u001b[0m\u001b[0;34m\u001b[0m\u001b[0m\n\u001b[1;32m   2899\u001b[0m             \u001b[0;32mexcept\u001b[0m \u001b[0mKeyError\u001b[0m \u001b[0;32mas\u001b[0m \u001b[0merr\u001b[0m\u001b[0;34m:\u001b[0m\u001b[0;34m\u001b[0m\u001b[0;34m\u001b[0m\u001b[0m\n\u001b[0;32m-> 2900\u001b[0;31m                 \u001b[0;32mraise\u001b[0m \u001b[0mKeyError\u001b[0m\u001b[0;34m(\u001b[0m\u001b[0mkey\u001b[0m\u001b[0;34m)\u001b[0m \u001b[0;32mfrom\u001b[0m \u001b[0merr\u001b[0m\u001b[0;34m\u001b[0m\u001b[0;34m\u001b[0m\u001b[0m\n\u001b[0m\u001b[1;32m   2901\u001b[0m \u001b[0;34m\u001b[0m\u001b[0m\n\u001b[1;32m   2902\u001b[0m         \u001b[0;32mif\u001b[0m \u001b[0mtolerance\u001b[0m \u001b[0;32mis\u001b[0m \u001b[0;32mnot\u001b[0m \u001b[0;32mNone\u001b[0m\u001b[0;34m:\u001b[0m\u001b[0;34m\u001b[0m\u001b[0;34m\u001b[0m\u001b[0m\n",
            "\u001b[0;31mKeyError\u001b[0m: 'name'"
          ]
        }
      ]
    },
    {
      "cell_type": "code",
      "metadata": {
        "id": "kaMVAOlovE4g",
        "colab": {
          "base_uri": "https://localhost:8080/",
          "height": 206
        },
        "outputId": "284bbd13-ee51-4cc3-8250-bdf6d9127e1f"
      },
      "source": [
        "surveys_df.head()"
      ],
      "execution_count": null,
      "outputs": [
        {
          "output_type": "execute_result",
          "data": {
            "text/html": [
              "<div>\n",
              "<style scoped>\n",
              "    .dataframe tbody tr th:only-of-type {\n",
              "        vertical-align: middle;\n",
              "    }\n",
              "\n",
              "    .dataframe tbody tr th {\n",
              "        vertical-align: top;\n",
              "    }\n",
              "\n",
              "    .dataframe thead th {\n",
              "        text-align: right;\n",
              "    }\n",
              "</style>\n",
              "<table border=\"1\" class=\"dataframe\">\n",
              "  <thead>\n",
              "    <tr style=\"text-align: right;\">\n",
              "      <th></th>\n",
              "      <th>record_id</th>\n",
              "      <th>month</th>\n",
              "      <th>day</th>\n",
              "      <th>year</th>\n",
              "      <th>plot_id</th>\n",
              "      <th>species_id</th>\n",
              "      <th>sex</th>\n",
              "      <th>hindfoot_length</th>\n",
              "      <th>weight</th>\n",
              "    </tr>\n",
              "  </thead>\n",
              "  <tbody>\n",
              "    <tr>\n",
              "      <th>0</th>\n",
              "      <td>1</td>\n",
              "      <td>7</td>\n",
              "      <td>16</td>\n",
              "      <td>1977</td>\n",
              "      <td>2</td>\n",
              "      <td>NL</td>\n",
              "      <td>M</td>\n",
              "      <td>32.0</td>\n",
              "      <td>NaN</td>\n",
              "    </tr>\n",
              "    <tr>\n",
              "      <th>1</th>\n",
              "      <td>2</td>\n",
              "      <td>7</td>\n",
              "      <td>16</td>\n",
              "      <td>1977</td>\n",
              "      <td>3</td>\n",
              "      <td>NL</td>\n",
              "      <td>M</td>\n",
              "      <td>33.0</td>\n",
              "      <td>NaN</td>\n",
              "    </tr>\n",
              "    <tr>\n",
              "      <th>2</th>\n",
              "      <td>3</td>\n",
              "      <td>7</td>\n",
              "      <td>16</td>\n",
              "      <td>1977</td>\n",
              "      <td>2</td>\n",
              "      <td>DM</td>\n",
              "      <td>F</td>\n",
              "      <td>37.0</td>\n",
              "      <td>NaN</td>\n",
              "    </tr>\n",
              "    <tr>\n",
              "      <th>3</th>\n",
              "      <td>4</td>\n",
              "      <td>7</td>\n",
              "      <td>16</td>\n",
              "      <td>1977</td>\n",
              "      <td>7</td>\n",
              "      <td>DM</td>\n",
              "      <td>M</td>\n",
              "      <td>36.0</td>\n",
              "      <td>NaN</td>\n",
              "    </tr>\n",
              "    <tr>\n",
              "      <th>4</th>\n",
              "      <td>5</td>\n",
              "      <td>7</td>\n",
              "      <td>16</td>\n",
              "      <td>1977</td>\n",
              "      <td>3</td>\n",
              "      <td>DM</td>\n",
              "      <td>M</td>\n",
              "      <td>35.0</td>\n",
              "      <td>NaN</td>\n",
              "    </tr>\n",
              "  </tbody>\n",
              "</table>\n",
              "</div>"
            ],
            "text/plain": [
              "   record_id  month  day  year  plot_id species_id sex  hindfoot_length  weight\n",
              "0          1      7   16  1977        2         NL   M             32.0     NaN\n",
              "1          2      7   16  1977        3         NL   M             33.0     NaN\n",
              "2          3      7   16  1977        2         DM   F             37.0     NaN\n",
              "3          4      7   16  1977        7         DM   M             36.0     NaN\n",
              "4          5      7   16  1977        3         DM   M             35.0     NaN"
            ]
          },
          "metadata": {
            "tags": []
          },
          "execution_count": 53
        }
      ]
    },
    {
      "cell_type": "code",
      "metadata": {
        "id": "A16FpWvGvFz5",
        "colab": {
          "base_uri": "https://localhost:8080/"
        },
        "outputId": "f34a87cc-6ce3-4621-c1f0-c1f001153317"
      },
      "source": [
        "# we can also use .iloc and .loc to index rows, columns \n",
        "# .iloc index by integer location\n",
        "# index out the row at the 0th index\n",
        "surveys_df.iloc[0]"
      ],
      "execution_count": null,
      "outputs": [
        {
          "output_type": "execute_result",
          "data": {
            "text/plain": [
              "record_id             1\n",
              "month                 7\n",
              "day                  16\n",
              "year               1977\n",
              "plot_id               2\n",
              "species_id           NL\n",
              "sex                   M\n",
              "hindfoot_length      32\n",
              "weight              NaN\n",
              "Name: 0, dtype: object"
            ]
          },
          "metadata": {
            "tags": []
          },
          "execution_count": 54
        }
      ]
    },
    {
      "cell_type": "code",
      "metadata": {
        "id": "u2aUNOwOvG0h",
        "colab": {
          "base_uri": "https://localhost:8080/"
        },
        "outputId": "aef9c0c6-2caf-43cc-dee6-af17c19936f9"
      },
      "source": [
        "# here we've indexed the first 3 rows of the 6th column\n",
        "surveys_df.iloc[0:3,7]"
      ],
      "execution_count": null,
      "outputs": [
        {
          "output_type": "execute_result",
          "data": {
            "text/plain": [
              "0    32.0\n",
              "1    33.0\n",
              "2    37.0\n",
              "Name: hindfoot_length, dtype: float64"
            ]
          },
          "metadata": {
            "tags": []
          },
          "execution_count": 55
        }
      ]
    },
    {
      "cell_type": "code",
      "metadata": {
        "id": "3mDfLGoZvH5y",
        "colab": {
          "base_uri": "https://localhost:8080/"
        },
        "outputId": "b616d750-4824-438b-8cb2-8c6e7059b213"
      },
      "source": [
        "# .loc indexes by labels\n",
        "# here we've indexed from rows 0 to 3 (by label)\n",
        "# at the 'hindfoot_length' column\n",
        "surveys_df.loc[0:3,'hindfoot_length']"
      ],
      "execution_count": null,
      "outputs": [
        {
          "output_type": "execute_result",
          "data": {
            "text/plain": [
              "0    32.0\n",
              "1    33.0\n",
              "2    37.0\n",
              "3    36.0\n",
              "Name: hindfoot_length, dtype: float64"
            ]
          },
          "metadata": {
            "tags": []
          },
          "execution_count": 56
        }
      ]
    },
    {
      "cell_type": "code",
      "metadata": {
        "id": "Y0mvw0vBvIv2",
        "colab": {
          "base_uri": "https://localhost:8080/",
          "height": 143
        },
        "outputId": "c844d22d-de49-46a8-854e-7e7daa91d0ee"
      },
      "source": [
        "# using iloc to index the first three rows and columns\n",
        "surveys_df.iloc[0:3, 0:3]"
      ],
      "execution_count": null,
      "outputs": [
        {
          "output_type": "execute_result",
          "data": {
            "text/html": [
              "<div>\n",
              "<style scoped>\n",
              "    .dataframe tbody tr th:only-of-type {\n",
              "        vertical-align: middle;\n",
              "    }\n",
              "\n",
              "    .dataframe tbody tr th {\n",
              "        vertical-align: top;\n",
              "    }\n",
              "\n",
              "    .dataframe thead th {\n",
              "        text-align: right;\n",
              "    }\n",
              "</style>\n",
              "<table border=\"1\" class=\"dataframe\">\n",
              "  <thead>\n",
              "    <tr style=\"text-align: right;\">\n",
              "      <th></th>\n",
              "      <th>record_id</th>\n",
              "      <th>month</th>\n",
              "      <th>day</th>\n",
              "    </tr>\n",
              "  </thead>\n",
              "  <tbody>\n",
              "    <tr>\n",
              "      <th>0</th>\n",
              "      <td>1</td>\n",
              "      <td>7</td>\n",
              "      <td>16</td>\n",
              "    </tr>\n",
              "    <tr>\n",
              "      <th>1</th>\n",
              "      <td>2</td>\n",
              "      <td>7</td>\n",
              "      <td>16</td>\n",
              "    </tr>\n",
              "    <tr>\n",
              "      <th>2</th>\n",
              "      <td>3</td>\n",
              "      <td>7</td>\n",
              "      <td>16</td>\n",
              "    </tr>\n",
              "  </tbody>\n",
              "</table>\n",
              "</div>"
            ],
            "text/plain": [
              "   record_id  month  day\n",
              "0          1      7   16\n",
              "1          2      7   16\n",
              "2          3      7   16"
            ]
          },
          "metadata": {
            "tags": []
          },
          "execution_count": 57
        }
      ]
    },
    {
      "cell_type": "code",
      "metadata": {
        "id": "pcWS_zB5vJus"
      },
      "source": [
        "# we can make a copy of a subsetted data frame by using .copy()\n",
        "# this creates a separate object from our original dataframe surveys_df\n",
        "copy_of_first3 = surveys_df.iloc[0:3, 0:3].copy()"
      ],
      "execution_count": null,
      "outputs": []
    },
    {
      "cell_type": "code",
      "metadata": {
        "id": "GQzLLPvdvKmi"
      },
      "source": [
        "# this notation just creates a reference to the original dataframe\n",
        "# so any changes we make to copy_of_first3 are actually made to the originak\n",
        "# surveys_df dataframe\n",
        "copy_of_first3 = surveys_df.iloc[0:3, 0:3]"
      ],
      "execution_count": null,
      "outputs": []
    },
    {
      "cell_type": "code",
      "metadata": {
        "id": "cDd2NR8EvLkY",
        "colab": {
          "base_uri": "https://localhost:8080/"
        },
        "outputId": "63289aa1-0a79-4fcb-ea1c-a80b34464162"
      },
      "source": [
        "# we can also perform a vectorised boolean comparison and \n",
        "# return a boolean array\n",
        "surveys_df['species_id'] == 'NL'"
      ],
      "execution_count": null,
      "outputs": [
        {
          "output_type": "execute_result",
          "data": {
            "text/plain": [
              "0         True\n",
              "1         True\n",
              "2        False\n",
              "3        False\n",
              "4        False\n",
              "         ...  \n",
              "35544    False\n",
              "35545    False\n",
              "35546    False\n",
              "35547    False\n",
              "35548    False\n",
              "Name: species_id, Length: 35549, dtype: bool"
            ]
          },
          "metadata": {
            "tags": []
          },
          "execution_count": 60
        }
      ]
    },
    {
      "cell_type": "code",
      "metadata": {
        "id": "6f-DtWMzvMd4"
      },
      "source": [
        "# we can use this to subset the dataframe for a specific species \n",
        "subset_df = surveys_df[surveys_df['species_id'] == 'NL'].copy()"
      ],
      "execution_count": null,
      "outputs": []
    },
    {
      "cell_type": "code",
      "metadata": {
        "id": "pS44WxvsvNV0",
        "colab": {
          "base_uri": "https://localhost:8080/",
          "height": 424
        },
        "outputId": "720d4b4c-f017-4338-9b19-3216c5581ebd"
      },
      "source": [
        "# we can also do this in two lines by assign a bool_mask variable\n",
        "bool_mask = surveys_df['species_id'] == 'NL'\n",
        "\n",
        "surveys_df[bool_mask]"
      ],
      "execution_count": null,
      "outputs": [
        {
          "output_type": "execute_result",
          "data": {
            "text/html": [
              "<div>\n",
              "<style scoped>\n",
              "    .dataframe tbody tr th:only-of-type {\n",
              "        vertical-align: middle;\n",
              "    }\n",
              "\n",
              "    .dataframe tbody tr th {\n",
              "        vertical-align: top;\n",
              "    }\n",
              "\n",
              "    .dataframe thead th {\n",
              "        text-align: right;\n",
              "    }\n",
              "</style>\n",
              "<table border=\"1\" class=\"dataframe\">\n",
              "  <thead>\n",
              "    <tr style=\"text-align: right;\">\n",
              "      <th></th>\n",
              "      <th>record_id</th>\n",
              "      <th>month</th>\n",
              "      <th>day</th>\n",
              "      <th>year</th>\n",
              "      <th>plot_id</th>\n",
              "      <th>species_id</th>\n",
              "      <th>sex</th>\n",
              "      <th>hindfoot_length</th>\n",
              "      <th>weight</th>\n",
              "    </tr>\n",
              "  </thead>\n",
              "  <tbody>\n",
              "    <tr>\n",
              "      <th>0</th>\n",
              "      <td>1</td>\n",
              "      <td>7</td>\n",
              "      <td>16</td>\n",
              "      <td>1977</td>\n",
              "      <td>2</td>\n",
              "      <td>NL</td>\n",
              "      <td>M</td>\n",
              "      <td>32.0</td>\n",
              "      <td>NaN</td>\n",
              "    </tr>\n",
              "    <tr>\n",
              "      <th>1</th>\n",
              "      <td>2</td>\n",
              "      <td>7</td>\n",
              "      <td>16</td>\n",
              "      <td>1977</td>\n",
              "      <td>3</td>\n",
              "      <td>NL</td>\n",
              "      <td>M</td>\n",
              "      <td>33.0</td>\n",
              "      <td>NaN</td>\n",
              "    </tr>\n",
              "    <tr>\n",
              "      <th>21</th>\n",
              "      <td>22</td>\n",
              "      <td>7</td>\n",
              "      <td>17</td>\n",
              "      <td>1977</td>\n",
              "      <td>15</td>\n",
              "      <td>NL</td>\n",
              "      <td>F</td>\n",
              "      <td>31.0</td>\n",
              "      <td>NaN</td>\n",
              "    </tr>\n",
              "    <tr>\n",
              "      <th>37</th>\n",
              "      <td>38</td>\n",
              "      <td>7</td>\n",
              "      <td>17</td>\n",
              "      <td>1977</td>\n",
              "      <td>17</td>\n",
              "      <td>NL</td>\n",
              "      <td>M</td>\n",
              "      <td>33.0</td>\n",
              "      <td>NaN</td>\n",
              "    </tr>\n",
              "    <tr>\n",
              "      <th>71</th>\n",
              "      <td>72</td>\n",
              "      <td>8</td>\n",
              "      <td>19</td>\n",
              "      <td>1977</td>\n",
              "      <td>2</td>\n",
              "      <td>NL</td>\n",
              "      <td>M</td>\n",
              "      <td>31.0</td>\n",
              "      <td>NaN</td>\n",
              "    </tr>\n",
              "    <tr>\n",
              "      <th>...</th>\n",
              "      <td>...</td>\n",
              "      <td>...</td>\n",
              "      <td>...</td>\n",
              "      <td>...</td>\n",
              "      <td>...</td>\n",
              "      <td>...</td>\n",
              "      <td>...</td>\n",
              "      <td>...</td>\n",
              "      <td>...</td>\n",
              "    </tr>\n",
              "    <tr>\n",
              "      <th>35403</th>\n",
              "      <td>35404</td>\n",
              "      <td>12</td>\n",
              "      <td>29</td>\n",
              "      <td>2002</td>\n",
              "      <td>2</td>\n",
              "      <td>NL</td>\n",
              "      <td>F</td>\n",
              "      <td>30.0</td>\n",
              "      <td>NaN</td>\n",
              "    </tr>\n",
              "    <tr>\n",
              "      <th>35414</th>\n",
              "      <td>35415</td>\n",
              "      <td>12</td>\n",
              "      <td>29</td>\n",
              "      <td>2002</td>\n",
              "      <td>12</td>\n",
              "      <td>NL</td>\n",
              "      <td>F</td>\n",
              "      <td>33.0</td>\n",
              "      <td>200.0</td>\n",
              "    </tr>\n",
              "    <tr>\n",
              "      <th>35434</th>\n",
              "      <td>35435</td>\n",
              "      <td>12</td>\n",
              "      <td>29</td>\n",
              "      <td>2002</td>\n",
              "      <td>18</td>\n",
              "      <td>NL</td>\n",
              "      <td>F</td>\n",
              "      <td>31.0</td>\n",
              "      <td>150.0</td>\n",
              "    </tr>\n",
              "    <tr>\n",
              "      <th>35458</th>\n",
              "      <td>35459</td>\n",
              "      <td>12</td>\n",
              "      <td>29</td>\n",
              "      <td>2002</td>\n",
              "      <td>20</td>\n",
              "      <td>NL</td>\n",
              "      <td>F</td>\n",
              "      <td>29.0</td>\n",
              "      <td>148.0</td>\n",
              "    </tr>\n",
              "    <tr>\n",
              "      <th>35478</th>\n",
              "      <td>35479</td>\n",
              "      <td>12</td>\n",
              "      <td>29</td>\n",
              "      <td>2002</td>\n",
              "      <td>24</td>\n",
              "      <td>NL</td>\n",
              "      <td>M</td>\n",
              "      <td>32.0</td>\n",
              "      <td>224.0</td>\n",
              "    </tr>\n",
              "  </tbody>\n",
              "</table>\n",
              "<p>1252 rows × 9 columns</p>\n",
              "</div>"
            ],
            "text/plain": [
              "       record_id  month  day  year  ...  species_id sex hindfoot_length  weight\n",
              "0              1      7   16  1977  ...          NL   M            32.0     NaN\n",
              "1              2      7   16  1977  ...          NL   M            33.0     NaN\n",
              "21            22      7   17  1977  ...          NL   F            31.0     NaN\n",
              "37            38      7   17  1977  ...          NL   M            33.0     NaN\n",
              "71            72      8   19  1977  ...          NL   M            31.0     NaN\n",
              "...          ...    ...  ...   ...  ...         ...  ..             ...     ...\n",
              "35403      35404     12   29  2002  ...          NL   F            30.0     NaN\n",
              "35414      35415     12   29  2002  ...          NL   F            33.0   200.0\n",
              "35434      35435     12   29  2002  ...          NL   F            31.0   150.0\n",
              "35458      35459     12   29  2002  ...          NL   F            29.0   148.0\n",
              "35478      35479     12   29  2002  ...          NL   M            32.0   224.0\n",
              "\n",
              "[1252 rows x 9 columns]"
            ]
          },
          "metadata": {
            "tags": []
          },
          "execution_count": 62
        }
      ]
    },
    {
      "cell_type": "code",
      "metadata": {
        "id": "DA3hHnO6vOW1",
        "colab": {
          "base_uri": "https://localhost:8080/",
          "height": 206
        },
        "outputId": "3d657bf0-63e2-4519-a1cf-7a7aa42851ed"
      },
      "source": [
        "subset_df.head()"
      ],
      "execution_count": null,
      "outputs": [
        {
          "output_type": "execute_result",
          "data": {
            "text/html": [
              "<div>\n",
              "<style scoped>\n",
              "    .dataframe tbody tr th:only-of-type {\n",
              "        vertical-align: middle;\n",
              "    }\n",
              "\n",
              "    .dataframe tbody tr th {\n",
              "        vertical-align: top;\n",
              "    }\n",
              "\n",
              "    .dataframe thead th {\n",
              "        text-align: right;\n",
              "    }\n",
              "</style>\n",
              "<table border=\"1\" class=\"dataframe\">\n",
              "  <thead>\n",
              "    <tr style=\"text-align: right;\">\n",
              "      <th></th>\n",
              "      <th>record_id</th>\n",
              "      <th>month</th>\n",
              "      <th>day</th>\n",
              "      <th>year</th>\n",
              "      <th>plot_id</th>\n",
              "      <th>species_id</th>\n",
              "      <th>sex</th>\n",
              "      <th>hindfoot_length</th>\n",
              "      <th>weight</th>\n",
              "    </tr>\n",
              "  </thead>\n",
              "  <tbody>\n",
              "    <tr>\n",
              "      <th>0</th>\n",
              "      <td>1</td>\n",
              "      <td>7</td>\n",
              "      <td>16</td>\n",
              "      <td>1977</td>\n",
              "      <td>2</td>\n",
              "      <td>NL</td>\n",
              "      <td>M</td>\n",
              "      <td>32.0</td>\n",
              "      <td>NaN</td>\n",
              "    </tr>\n",
              "    <tr>\n",
              "      <th>1</th>\n",
              "      <td>2</td>\n",
              "      <td>7</td>\n",
              "      <td>16</td>\n",
              "      <td>1977</td>\n",
              "      <td>3</td>\n",
              "      <td>NL</td>\n",
              "      <td>M</td>\n",
              "      <td>33.0</td>\n",
              "      <td>NaN</td>\n",
              "    </tr>\n",
              "    <tr>\n",
              "      <th>21</th>\n",
              "      <td>22</td>\n",
              "      <td>7</td>\n",
              "      <td>17</td>\n",
              "      <td>1977</td>\n",
              "      <td>15</td>\n",
              "      <td>NL</td>\n",
              "      <td>F</td>\n",
              "      <td>31.0</td>\n",
              "      <td>NaN</td>\n",
              "    </tr>\n",
              "    <tr>\n",
              "      <th>37</th>\n",
              "      <td>38</td>\n",
              "      <td>7</td>\n",
              "      <td>17</td>\n",
              "      <td>1977</td>\n",
              "      <td>17</td>\n",
              "      <td>NL</td>\n",
              "      <td>M</td>\n",
              "      <td>33.0</td>\n",
              "      <td>NaN</td>\n",
              "    </tr>\n",
              "    <tr>\n",
              "      <th>71</th>\n",
              "      <td>72</td>\n",
              "      <td>8</td>\n",
              "      <td>19</td>\n",
              "      <td>1977</td>\n",
              "      <td>2</td>\n",
              "      <td>NL</td>\n",
              "      <td>M</td>\n",
              "      <td>31.0</td>\n",
              "      <td>NaN</td>\n",
              "    </tr>\n",
              "  </tbody>\n",
              "</table>\n",
              "</div>"
            ],
            "text/plain": [
              "    record_id  month  day  year  ...  species_id sex hindfoot_length  weight\n",
              "0           1      7   16  1977  ...          NL   M            32.0     NaN\n",
              "1           2      7   16  1977  ...          NL   M            33.0     NaN\n",
              "21         22      7   17  1977  ...          NL   F            31.0     NaN\n",
              "37         38      7   17  1977  ...          NL   M            33.0     NaN\n",
              "71         72      8   19  1977  ...          NL   M            31.0     NaN\n",
              "\n",
              "[5 rows x 9 columns]"
            ]
          },
          "metadata": {
            "tags": []
          },
          "execution_count": 63
        }
      ]
    },
    {
      "cell_type": "code",
      "metadata": {
        "id": "bOfv9WNmvPUC"
      },
      "source": [
        "# if you want to update your indexes on a subset\n",
        "# subset_df.reset_index(inplace=True)"
      ],
      "execution_count": null,
      "outputs": []
    },
    {
      "cell_type": "code",
      "metadata": {
        "id": "CqdrZpkhvQHQ"
      },
      "source": [
        "# we can set values of rows when indexing \n",
        "# but this can be quite dangerous so be careful\n",
        "subset_df.iloc[0:3, 0] = 0"
      ],
      "execution_count": null,
      "outputs": []
    },
    {
      "cell_type": "code",
      "metadata": {
        "id": "G5dZfqoevQ6i",
        "colab": {
          "base_uri": "https://localhost:8080/",
          "height": 143
        },
        "outputId": "8c80641f-f1c1-436e-a927-9da51b328790"
      },
      "source": [
        "# checking the changes\n",
        "subset_df.iloc[0:3]"
      ],
      "execution_count": null,
      "outputs": [
        {
          "output_type": "execute_result",
          "data": {
            "text/html": [
              "<div>\n",
              "<style scoped>\n",
              "    .dataframe tbody tr th:only-of-type {\n",
              "        vertical-align: middle;\n",
              "    }\n",
              "\n",
              "    .dataframe tbody tr th {\n",
              "        vertical-align: top;\n",
              "    }\n",
              "\n",
              "    .dataframe thead th {\n",
              "        text-align: right;\n",
              "    }\n",
              "</style>\n",
              "<table border=\"1\" class=\"dataframe\">\n",
              "  <thead>\n",
              "    <tr style=\"text-align: right;\">\n",
              "      <th></th>\n",
              "      <th>record_id</th>\n",
              "      <th>month</th>\n",
              "      <th>day</th>\n",
              "      <th>year</th>\n",
              "      <th>plot_id</th>\n",
              "      <th>species_id</th>\n",
              "      <th>sex</th>\n",
              "      <th>hindfoot_length</th>\n",
              "      <th>weight</th>\n",
              "    </tr>\n",
              "  </thead>\n",
              "  <tbody>\n",
              "    <tr>\n",
              "      <th>0</th>\n",
              "      <td>0</td>\n",
              "      <td>7</td>\n",
              "      <td>16</td>\n",
              "      <td>1977</td>\n",
              "      <td>2</td>\n",
              "      <td>NL</td>\n",
              "      <td>M</td>\n",
              "      <td>32.0</td>\n",
              "      <td>NaN</td>\n",
              "    </tr>\n",
              "    <tr>\n",
              "      <th>1</th>\n",
              "      <td>0</td>\n",
              "      <td>7</td>\n",
              "      <td>16</td>\n",
              "      <td>1977</td>\n",
              "      <td>3</td>\n",
              "      <td>NL</td>\n",
              "      <td>M</td>\n",
              "      <td>33.0</td>\n",
              "      <td>NaN</td>\n",
              "    </tr>\n",
              "    <tr>\n",
              "      <th>21</th>\n",
              "      <td>0</td>\n",
              "      <td>7</td>\n",
              "      <td>17</td>\n",
              "      <td>1977</td>\n",
              "      <td>15</td>\n",
              "      <td>NL</td>\n",
              "      <td>F</td>\n",
              "      <td>31.0</td>\n",
              "      <td>NaN</td>\n",
              "    </tr>\n",
              "  </tbody>\n",
              "</table>\n",
              "</div>"
            ],
            "text/plain": [
              "    record_id  month  day  year  ...  species_id sex hindfoot_length  weight\n",
              "0           0      7   16  1977  ...          NL   M            32.0     NaN\n",
              "1           0      7   16  1977  ...          NL   M            33.0     NaN\n",
              "21          0      7   17  1977  ...          NL   F            31.0     NaN\n",
              "\n",
              "[3 rows x 9 columns]"
            ]
          },
          "metadata": {
            "tags": []
          },
          "execution_count": 66
        }
      ]
    },
    {
      "cell_type": "code",
      "metadata": {
        "id": "bEPXnK4gvRyi",
        "colab": {
          "base_uri": "https://localhost:8080/"
        },
        "outputId": "852c1cda-5a1a-4f31-f68e-dbdc019dca9b"
      },
      "source": [
        "# we can use subsetting to generate quick summary data\n",
        "surveys_df[surveys_df['species_id'] == 'ZL'].count()"
      ],
      "execution_count": null,
      "outputs": [
        {
          "output_type": "execute_result",
          "data": {
            "text/plain": [
              "record_id          2\n",
              "month              2\n",
              "day                2\n",
              "year               2\n",
              "plot_id            2\n",
              "species_id         2\n",
              "sex                0\n",
              "hindfoot_length    0\n",
              "weight             0\n",
              "dtype: int64"
            ]
          },
          "metadata": {
            "tags": []
          },
          "execution_count": 67
        }
      ]
    },
    {
      "cell_type": "code",
      "metadata": {
        "id": "cqtbNRILvS0Z",
        "colab": {
          "base_uri": "https://localhost:8080/",
          "height": 112
        },
        "outputId": "bcae061d-37ed-4df4-adc1-694d3f33d259"
      },
      "source": [
        "surveys_df[surveys_df['species_id'] == 'ZL']"
      ],
      "execution_count": null,
      "outputs": [
        {
          "output_type": "execute_result",
          "data": {
            "text/html": [
              "<div>\n",
              "<style scoped>\n",
              "    .dataframe tbody tr th:only-of-type {\n",
              "        vertical-align: middle;\n",
              "    }\n",
              "\n",
              "    .dataframe tbody tr th {\n",
              "        vertical-align: top;\n",
              "    }\n",
              "\n",
              "    .dataframe thead th {\n",
              "        text-align: right;\n",
              "    }\n",
              "</style>\n",
              "<table border=\"1\" class=\"dataframe\">\n",
              "  <thead>\n",
              "    <tr style=\"text-align: right;\">\n",
              "      <th></th>\n",
              "      <th>record_id</th>\n",
              "      <th>month</th>\n",
              "      <th>day</th>\n",
              "      <th>year</th>\n",
              "      <th>plot_id</th>\n",
              "      <th>species_id</th>\n",
              "      <th>sex</th>\n",
              "      <th>hindfoot_length</th>\n",
              "      <th>weight</th>\n",
              "    </tr>\n",
              "  </thead>\n",
              "  <tbody>\n",
              "    <tr>\n",
              "      <th>14249</th>\n",
              "      <td>14250</td>\n",
              "      <td>3</td>\n",
              "      <td>20</td>\n",
              "      <td>1988</td>\n",
              "      <td>18</td>\n",
              "      <td>ZL</td>\n",
              "      <td>NaN</td>\n",
              "      <td>NaN</td>\n",
              "      <td>NaN</td>\n",
              "    </tr>\n",
              "    <tr>\n",
              "      <th>14350</th>\n",
              "      <td>14351</td>\n",
              "      <td>4</td>\n",
              "      <td>17</td>\n",
              "      <td>1988</td>\n",
              "      <td>23</td>\n",
              "      <td>ZL</td>\n",
              "      <td>NaN</td>\n",
              "      <td>NaN</td>\n",
              "      <td>NaN</td>\n",
              "    </tr>\n",
              "  </tbody>\n",
              "</table>\n",
              "</div>"
            ],
            "text/plain": [
              "       record_id  month  day  year  ...  species_id  sex hindfoot_length  weight\n",
              "14249      14250      3   20  1988  ...          ZL  NaN             NaN     NaN\n",
              "14350      14351      4   17  1988  ...          ZL  NaN             NaN     NaN\n",
              "\n",
              "[2 rows x 9 columns]"
            ]
          },
          "metadata": {
            "tags": []
          },
          "execution_count": 68
        }
      ]
    },
    {
      "cell_type": "code",
      "metadata": {
        "id": "3Zah2TDBvTsB",
        "colab": {
          "base_uri": "https://localhost:8080/",
          "height": 424
        },
        "outputId": "eda8eede-ddcd-478b-e1a5-7157c20e75ab"
      },
      "source": [
        "# we can also subset by multiple boolean values\n",
        "# using the `&` AND operator here which checks whether both conditions are True\n",
        "# we can use `|` OR operator to check if one of the two is True\n",
        "surveys_df[(surveys_df.year >= 1980) & (surveys_df.year <= 1985)]"
      ],
      "execution_count": null,
      "outputs": [
        {
          "output_type": "execute_result",
          "data": {
            "text/html": [
              "<div>\n",
              "<style scoped>\n",
              "    .dataframe tbody tr th:only-of-type {\n",
              "        vertical-align: middle;\n",
              "    }\n",
              "\n",
              "    .dataframe tbody tr th {\n",
              "        vertical-align: top;\n",
              "    }\n",
              "\n",
              "    .dataframe thead th {\n",
              "        text-align: right;\n",
              "    }\n",
              "</style>\n",
              "<table border=\"1\" class=\"dataframe\">\n",
              "  <thead>\n",
              "    <tr style=\"text-align: right;\">\n",
              "      <th></th>\n",
              "      <th>record_id</th>\n",
              "      <th>month</th>\n",
              "      <th>day</th>\n",
              "      <th>year</th>\n",
              "      <th>plot_id</th>\n",
              "      <th>species_id</th>\n",
              "      <th>sex</th>\n",
              "      <th>hindfoot_length</th>\n",
              "      <th>weight</th>\n",
              "    </tr>\n",
              "  </thead>\n",
              "  <tbody>\n",
              "    <tr>\n",
              "      <th>2270</th>\n",
              "      <td>2271</td>\n",
              "      <td>1</td>\n",
              "      <td>15</td>\n",
              "      <td>1980</td>\n",
              "      <td>8</td>\n",
              "      <td>DO</td>\n",
              "      <td>M</td>\n",
              "      <td>35.0</td>\n",
              "      <td>53.0</td>\n",
              "    </tr>\n",
              "    <tr>\n",
              "      <th>2271</th>\n",
              "      <td>2272</td>\n",
              "      <td>1</td>\n",
              "      <td>15</td>\n",
              "      <td>1980</td>\n",
              "      <td>11</td>\n",
              "      <td>PF</td>\n",
              "      <td>F</td>\n",
              "      <td>16.0</td>\n",
              "      <td>10.0</td>\n",
              "    </tr>\n",
              "    <tr>\n",
              "      <th>2272</th>\n",
              "      <td>2273</td>\n",
              "      <td>1</td>\n",
              "      <td>15</td>\n",
              "      <td>1980</td>\n",
              "      <td>18</td>\n",
              "      <td>DM</td>\n",
              "      <td>F</td>\n",
              "      <td>34.0</td>\n",
              "      <td>33.0</td>\n",
              "    </tr>\n",
              "    <tr>\n",
              "      <th>2273</th>\n",
              "      <td>2274</td>\n",
              "      <td>1</td>\n",
              "      <td>15</td>\n",
              "      <td>1980</td>\n",
              "      <td>11</td>\n",
              "      <td>DM</td>\n",
              "      <td>M</td>\n",
              "      <td>38.0</td>\n",
              "      <td>37.0</td>\n",
              "    </tr>\n",
              "    <tr>\n",
              "      <th>2274</th>\n",
              "      <td>2275</td>\n",
              "      <td>1</td>\n",
              "      <td>15</td>\n",
              "      <td>1980</td>\n",
              "      <td>8</td>\n",
              "      <td>DO</td>\n",
              "      <td>F</td>\n",
              "      <td>33.0</td>\n",
              "      <td>29.0</td>\n",
              "    </tr>\n",
              "    <tr>\n",
              "      <th>...</th>\n",
              "      <td>...</td>\n",
              "      <td>...</td>\n",
              "      <td>...</td>\n",
              "      <td>...</td>\n",
              "      <td>...</td>\n",
              "      <td>...</td>\n",
              "      <td>...</td>\n",
              "      <td>...</td>\n",
              "      <td>...</td>\n",
              "    </tr>\n",
              "    <tr>\n",
              "      <th>11222</th>\n",
              "      <td>11223</td>\n",
              "      <td>12</td>\n",
              "      <td>8</td>\n",
              "      <td>1985</td>\n",
              "      <td>4</td>\n",
              "      <td>DM</td>\n",
              "      <td>M</td>\n",
              "      <td>36.0</td>\n",
              "      <td>40.0</td>\n",
              "    </tr>\n",
              "    <tr>\n",
              "      <th>11223</th>\n",
              "      <td>11224</td>\n",
              "      <td>12</td>\n",
              "      <td>8</td>\n",
              "      <td>1985</td>\n",
              "      <td>11</td>\n",
              "      <td>DM</td>\n",
              "      <td>M</td>\n",
              "      <td>37.0</td>\n",
              "      <td>49.0</td>\n",
              "    </tr>\n",
              "    <tr>\n",
              "      <th>11224</th>\n",
              "      <td>11225</td>\n",
              "      <td>12</td>\n",
              "      <td>8</td>\n",
              "      <td>1985</td>\n",
              "      <td>7</td>\n",
              "      <td>PE</td>\n",
              "      <td>M</td>\n",
              "      <td>20.0</td>\n",
              "      <td>18.0</td>\n",
              "    </tr>\n",
              "    <tr>\n",
              "      <th>11225</th>\n",
              "      <td>11226</td>\n",
              "      <td>12</td>\n",
              "      <td>8</td>\n",
              "      <td>1985</td>\n",
              "      <td>1</td>\n",
              "      <td>DM</td>\n",
              "      <td>M</td>\n",
              "      <td>38.0</td>\n",
              "      <td>47.0</td>\n",
              "    </tr>\n",
              "    <tr>\n",
              "      <th>11226</th>\n",
              "      <td>11227</td>\n",
              "      <td>12</td>\n",
              "      <td>8</td>\n",
              "      <td>1985</td>\n",
              "      <td>15</td>\n",
              "      <td>NaN</td>\n",
              "      <td>NaN</td>\n",
              "      <td>NaN</td>\n",
              "      <td>NaN</td>\n",
              "    </tr>\n",
              "  </tbody>\n",
              "</table>\n",
              "<p>8957 rows × 9 columns</p>\n",
              "</div>"
            ],
            "text/plain": [
              "       record_id  month  day  year  ...  species_id  sex hindfoot_length  weight\n",
              "2270        2271      1   15  1980  ...          DO    M            35.0    53.0\n",
              "2271        2272      1   15  1980  ...          PF    F            16.0    10.0\n",
              "2272        2273      1   15  1980  ...          DM    F            34.0    33.0\n",
              "2273        2274      1   15  1980  ...          DM    M            38.0    37.0\n",
              "2274        2275      1   15  1980  ...          DO    F            33.0    29.0\n",
              "...          ...    ...  ...   ...  ...         ...  ...             ...     ...\n",
              "11222      11223     12    8  1985  ...          DM    M            36.0    40.0\n",
              "11223      11224     12    8  1985  ...          DM    M            37.0    49.0\n",
              "11224      11225     12    8  1985  ...          PE    M            20.0    18.0\n",
              "11225      11226     12    8  1985  ...          DM    M            38.0    47.0\n",
              "11226      11227     12    8  1985  ...         NaN  NaN             NaN     NaN\n",
              "\n",
              "[8957 rows x 9 columns]"
            ]
          },
          "metadata": {
            "tags": []
          },
          "execution_count": 69
        }
      ]
    },
    {
      "cell_type": "code",
      "metadata": {
        "id": "Jw2g6JshRWYg"
      },
      "source": [
        ""
      ],
      "execution_count": null,
      "outputs": []
    },
    {
      "cell_type": "code",
      "metadata": {
        "id": "TOYiR62HObV-",
        "colab": {
          "base_uri": "https://localhost:8080/"
        },
        "outputId": "1ee43ef6-9bd0-46c4-d3a3-6524303ca34e"
      },
      "source": [
        "## Homework\n",
        "\n",
        "num_rows = surveys_df[(surveys_df.year == 1999) & (surveys_df.weight <= 8)].shape[0]\n",
        "\n",
        "print(f\"Number of rows from the year 1999 with weight less than or equal to 8 are: {num_rows}\")"
      ],
      "execution_count": null,
      "outputs": [
        {
          "output_type": "stream",
          "text": [
            "Number of rows from the year 1999 with weight less than or equal to 8 are: 5\n"
          ],
          "name": "stdout"
        }
      ]
    },
    {
      "cell_type": "code",
      "metadata": {
        "id": "eJR4zXuZQMFt",
        "colab": {
          "base_uri": "https://localhost:8080/"
        },
        "outputId": "e7d8916c-7617-4e2e-eefe-139391ab63c3"
      },
      "source": [
        "# using .isin\n",
        "species_list = ['NL','PF','PE','AS','ST']\n",
        "\n",
        "surveys_df['species_id'].isin(species_list)"
      ],
      "execution_count": null,
      "outputs": [
        {
          "output_type": "execute_result",
          "data": {
            "text/plain": [
              "0         True\n",
              "1         True\n",
              "2        False\n",
              "3        False\n",
              "4        False\n",
              "         ...  \n",
              "35544    False\n",
              "35545    False\n",
              "35546    False\n",
              "35547    False\n",
              "35548    False\n",
              "Name: species_id, Length: 35549, dtype: bool"
            ]
          },
          "metadata": {
            "tags": []
          },
          "execution_count": 76
        }
      ]
    },
    {
      "cell_type": "code",
      "metadata": {
        "id": "N4zPpVdQQesg",
        "colab": {
          "base_uri": "https://localhost:8080/",
          "height": 424
        },
        "outputId": "34a2afb9-59e4-4b9f-b8ee-a4cb87f68aee"
      },
      "source": [
        "surveys_df[surveys_df['species_id'].isin(species_list)]"
      ],
      "execution_count": null,
      "outputs": [
        {
          "output_type": "execute_result",
          "data": {
            "text/html": [
              "<div>\n",
              "<style scoped>\n",
              "    .dataframe tbody tr th:only-of-type {\n",
              "        vertical-align: middle;\n",
              "    }\n",
              "\n",
              "    .dataframe tbody tr th {\n",
              "        vertical-align: top;\n",
              "    }\n",
              "\n",
              "    .dataframe thead th {\n",
              "        text-align: right;\n",
              "    }\n",
              "</style>\n",
              "<table border=\"1\" class=\"dataframe\">\n",
              "  <thead>\n",
              "    <tr style=\"text-align: right;\">\n",
              "      <th></th>\n",
              "      <th>record_id</th>\n",
              "      <th>month</th>\n",
              "      <th>day</th>\n",
              "      <th>year</th>\n",
              "      <th>plot_id</th>\n",
              "      <th>species_id</th>\n",
              "      <th>sex</th>\n",
              "      <th>hindfoot_length</th>\n",
              "      <th>weight</th>\n",
              "    </tr>\n",
              "  </thead>\n",
              "  <tbody>\n",
              "    <tr>\n",
              "      <th>0</th>\n",
              "      <td>1</td>\n",
              "      <td>7</td>\n",
              "      <td>16</td>\n",
              "      <td>1977</td>\n",
              "      <td>2</td>\n",
              "      <td>NL</td>\n",
              "      <td>M</td>\n",
              "      <td>32.0</td>\n",
              "      <td>NaN</td>\n",
              "    </tr>\n",
              "    <tr>\n",
              "      <th>1</th>\n",
              "      <td>2</td>\n",
              "      <td>7</td>\n",
              "      <td>16</td>\n",
              "      <td>1977</td>\n",
              "      <td>3</td>\n",
              "      <td>NL</td>\n",
              "      <td>M</td>\n",
              "      <td>33.0</td>\n",
              "      <td>NaN</td>\n",
              "    </tr>\n",
              "    <tr>\n",
              "      <th>5</th>\n",
              "      <td>6</td>\n",
              "      <td>7</td>\n",
              "      <td>16</td>\n",
              "      <td>1977</td>\n",
              "      <td>1</td>\n",
              "      <td>PF</td>\n",
              "      <td>M</td>\n",
              "      <td>14.0</td>\n",
              "      <td>NaN</td>\n",
              "    </tr>\n",
              "    <tr>\n",
              "      <th>6</th>\n",
              "      <td>7</td>\n",
              "      <td>7</td>\n",
              "      <td>16</td>\n",
              "      <td>1977</td>\n",
              "      <td>2</td>\n",
              "      <td>PE</td>\n",
              "      <td>F</td>\n",
              "      <td>NaN</td>\n",
              "      <td>NaN</td>\n",
              "    </tr>\n",
              "    <tr>\n",
              "      <th>9</th>\n",
              "      <td>10</td>\n",
              "      <td>7</td>\n",
              "      <td>16</td>\n",
              "      <td>1977</td>\n",
              "      <td>6</td>\n",
              "      <td>PF</td>\n",
              "      <td>F</td>\n",
              "      <td>20.0</td>\n",
              "      <td>NaN</td>\n",
              "    </tr>\n",
              "    <tr>\n",
              "      <th>...</th>\n",
              "      <td>...</td>\n",
              "      <td>...</td>\n",
              "      <td>...</td>\n",
              "      <td>...</td>\n",
              "      <td>...</td>\n",
              "      <td>...</td>\n",
              "      <td>...</td>\n",
              "      <td>...</td>\n",
              "      <td>...</td>\n",
              "    </tr>\n",
              "    <tr>\n",
              "      <th>35458</th>\n",
              "      <td>35459</td>\n",
              "      <td>12</td>\n",
              "      <td>29</td>\n",
              "      <td>2002</td>\n",
              "      <td>20</td>\n",
              "      <td>NL</td>\n",
              "      <td>F</td>\n",
              "      <td>29.0</td>\n",
              "      <td>148.0</td>\n",
              "    </tr>\n",
              "    <tr>\n",
              "      <th>35478</th>\n",
              "      <td>35479</td>\n",
              "      <td>12</td>\n",
              "      <td>29</td>\n",
              "      <td>2002</td>\n",
              "      <td>24</td>\n",
              "      <td>NL</td>\n",
              "      <td>M</td>\n",
              "      <td>32.0</td>\n",
              "      <td>224.0</td>\n",
              "    </tr>\n",
              "    <tr>\n",
              "      <th>35487</th>\n",
              "      <td>35488</td>\n",
              "      <td>12</td>\n",
              "      <td>29</td>\n",
              "      <td>2002</td>\n",
              "      <td>23</td>\n",
              "      <td>PE</td>\n",
              "      <td>F</td>\n",
              "      <td>19.0</td>\n",
              "      <td>23.0</td>\n",
              "    </tr>\n",
              "    <tr>\n",
              "      <th>35489</th>\n",
              "      <td>35490</td>\n",
              "      <td>12</td>\n",
              "      <td>31</td>\n",
              "      <td>2002</td>\n",
              "      <td>3</td>\n",
              "      <td>PE</td>\n",
              "      <td>F</td>\n",
              "      <td>19.0</td>\n",
              "      <td>19.0</td>\n",
              "    </tr>\n",
              "    <tr>\n",
              "      <th>35505</th>\n",
              "      <td>35506</td>\n",
              "      <td>12</td>\n",
              "      <td>31</td>\n",
              "      <td>2002</td>\n",
              "      <td>6</td>\n",
              "      <td>PF</td>\n",
              "      <td>M</td>\n",
              "      <td>13.0</td>\n",
              "      <td>8.0</td>\n",
              "    </tr>\n",
              "  </tbody>\n",
              "</table>\n",
              "<p>4151 rows × 9 columns</p>\n",
              "</div>"
            ],
            "text/plain": [
              "       record_id  month  day  year  ...  species_id sex hindfoot_length  weight\n",
              "0              1      7   16  1977  ...          NL   M            32.0     NaN\n",
              "1              2      7   16  1977  ...          NL   M            33.0     NaN\n",
              "5              6      7   16  1977  ...          PF   M            14.0     NaN\n",
              "6              7      7   16  1977  ...          PE   F             NaN     NaN\n",
              "9             10      7   16  1977  ...          PF   F            20.0     NaN\n",
              "...          ...    ...  ...   ...  ...         ...  ..             ...     ...\n",
              "35458      35459     12   29  2002  ...          NL   F            29.0   148.0\n",
              "35478      35479     12   29  2002  ...          NL   M            32.0   224.0\n",
              "35487      35488     12   29  2002  ...          PE   F            19.0    23.0\n",
              "35489      35490     12   31  2002  ...          PE   F            19.0    19.0\n",
              "35505      35506     12   31  2002  ...          PF   M            13.0     8.0\n",
              "\n",
              "[4151 rows x 9 columns]"
            ]
          },
          "metadata": {
            "tags": []
          },
          "execution_count": 77
        }
      ]
    },
    {
      "cell_type": "code",
      "metadata": {
        "id": "9e5_dYLdQwUQ",
        "colab": {
          "base_uri": "https://localhost:8080/"
        },
        "outputId": "a8982a9e-0242-412c-ea54-1269768fd819"
      },
      "source": [
        "# using masks to subset data\n",
        "\n",
        "# using .isin\n",
        "species_list = ['NL','PF','PE','AS','ST']\n",
        "\n",
        "surveys_df['species_id'].isin(species_list)"
      ],
      "execution_count": null,
      "outputs": [
        {
          "output_type": "execute_result",
          "data": {
            "text/plain": [
              "0         True\n",
              "1         True\n",
              "2        False\n",
              "3        False\n",
              "4        False\n",
              "         ...  \n",
              "35544    False\n",
              "35545    False\n",
              "35546    False\n",
              "35547    False\n",
              "35548    False\n",
              "Name: species_id, Length: 35549, dtype: bool"
            ]
          },
          "metadata": {
            "tags": []
          },
          "execution_count": 78
        }
      ]
    },
    {
      "cell_type": "code",
      "metadata": {
        "id": "om7dPiSnXbY-",
        "colab": {
          "base_uri": "https://localhost:8080/",
          "height": 424
        },
        "outputId": "a19e7f7c-8f4c-4a78-9415-274a5101d138"
      },
      "source": [
        "pd.isnull(surveys_df)"
      ],
      "execution_count": null,
      "outputs": [
        {
          "output_type": "execute_result",
          "data": {
            "text/html": [
              "<div>\n",
              "<style scoped>\n",
              "    .dataframe tbody tr th:only-of-type {\n",
              "        vertical-align: middle;\n",
              "    }\n",
              "\n",
              "    .dataframe tbody tr th {\n",
              "        vertical-align: top;\n",
              "    }\n",
              "\n",
              "    .dataframe thead th {\n",
              "        text-align: right;\n",
              "    }\n",
              "</style>\n",
              "<table border=\"1\" class=\"dataframe\">\n",
              "  <thead>\n",
              "    <tr style=\"text-align: right;\">\n",
              "      <th></th>\n",
              "      <th>record_id</th>\n",
              "      <th>month</th>\n",
              "      <th>day</th>\n",
              "      <th>year</th>\n",
              "      <th>plot_id</th>\n",
              "      <th>species_id</th>\n",
              "      <th>sex</th>\n",
              "      <th>hindfoot_length</th>\n",
              "      <th>weight</th>\n",
              "    </tr>\n",
              "  </thead>\n",
              "  <tbody>\n",
              "    <tr>\n",
              "      <th>0</th>\n",
              "      <td>False</td>\n",
              "      <td>False</td>\n",
              "      <td>False</td>\n",
              "      <td>False</td>\n",
              "      <td>False</td>\n",
              "      <td>False</td>\n",
              "      <td>False</td>\n",
              "      <td>False</td>\n",
              "      <td>True</td>\n",
              "    </tr>\n",
              "    <tr>\n",
              "      <th>1</th>\n",
              "      <td>False</td>\n",
              "      <td>False</td>\n",
              "      <td>False</td>\n",
              "      <td>False</td>\n",
              "      <td>False</td>\n",
              "      <td>False</td>\n",
              "      <td>False</td>\n",
              "      <td>False</td>\n",
              "      <td>True</td>\n",
              "    </tr>\n",
              "    <tr>\n",
              "      <th>2</th>\n",
              "      <td>False</td>\n",
              "      <td>False</td>\n",
              "      <td>False</td>\n",
              "      <td>False</td>\n",
              "      <td>False</td>\n",
              "      <td>False</td>\n",
              "      <td>False</td>\n",
              "      <td>False</td>\n",
              "      <td>True</td>\n",
              "    </tr>\n",
              "    <tr>\n",
              "      <th>3</th>\n",
              "      <td>False</td>\n",
              "      <td>False</td>\n",
              "      <td>False</td>\n",
              "      <td>False</td>\n",
              "      <td>False</td>\n",
              "      <td>False</td>\n",
              "      <td>False</td>\n",
              "      <td>False</td>\n",
              "      <td>True</td>\n",
              "    </tr>\n",
              "    <tr>\n",
              "      <th>4</th>\n",
              "      <td>False</td>\n",
              "      <td>False</td>\n",
              "      <td>False</td>\n",
              "      <td>False</td>\n",
              "      <td>False</td>\n",
              "      <td>False</td>\n",
              "      <td>False</td>\n",
              "      <td>False</td>\n",
              "      <td>True</td>\n",
              "    </tr>\n",
              "    <tr>\n",
              "      <th>...</th>\n",
              "      <td>...</td>\n",
              "      <td>...</td>\n",
              "      <td>...</td>\n",
              "      <td>...</td>\n",
              "      <td>...</td>\n",
              "      <td>...</td>\n",
              "      <td>...</td>\n",
              "      <td>...</td>\n",
              "      <td>...</td>\n",
              "    </tr>\n",
              "    <tr>\n",
              "      <th>35544</th>\n",
              "      <td>False</td>\n",
              "      <td>False</td>\n",
              "      <td>False</td>\n",
              "      <td>False</td>\n",
              "      <td>False</td>\n",
              "      <td>False</td>\n",
              "      <td>True</td>\n",
              "      <td>True</td>\n",
              "      <td>True</td>\n",
              "    </tr>\n",
              "    <tr>\n",
              "      <th>35545</th>\n",
              "      <td>False</td>\n",
              "      <td>False</td>\n",
              "      <td>False</td>\n",
              "      <td>False</td>\n",
              "      <td>False</td>\n",
              "      <td>False</td>\n",
              "      <td>True</td>\n",
              "      <td>True</td>\n",
              "      <td>True</td>\n",
              "    </tr>\n",
              "    <tr>\n",
              "      <th>35546</th>\n",
              "      <td>False</td>\n",
              "      <td>False</td>\n",
              "      <td>False</td>\n",
              "      <td>False</td>\n",
              "      <td>False</td>\n",
              "      <td>False</td>\n",
              "      <td>False</td>\n",
              "      <td>False</td>\n",
              "      <td>False</td>\n",
              "    </tr>\n",
              "    <tr>\n",
              "      <th>35547</th>\n",
              "      <td>False</td>\n",
              "      <td>False</td>\n",
              "      <td>False</td>\n",
              "      <td>False</td>\n",
              "      <td>False</td>\n",
              "      <td>False</td>\n",
              "      <td>False</td>\n",
              "      <td>False</td>\n",
              "      <td>False</td>\n",
              "    </tr>\n",
              "    <tr>\n",
              "      <th>35548</th>\n",
              "      <td>False</td>\n",
              "      <td>False</td>\n",
              "      <td>False</td>\n",
              "      <td>False</td>\n",
              "      <td>False</td>\n",
              "      <td>True</td>\n",
              "      <td>True</td>\n",
              "      <td>True</td>\n",
              "      <td>True</td>\n",
              "    </tr>\n",
              "  </tbody>\n",
              "</table>\n",
              "<p>35549 rows × 9 columns</p>\n",
              "</div>"
            ],
            "text/plain": [
              "       record_id  month    day  ...    sex  hindfoot_length  weight\n",
              "0          False  False  False  ...  False            False    True\n",
              "1          False  False  False  ...  False            False    True\n",
              "2          False  False  False  ...  False            False    True\n",
              "3          False  False  False  ...  False            False    True\n",
              "4          False  False  False  ...  False            False    True\n",
              "...          ...    ...    ...  ...    ...              ...     ...\n",
              "35544      False  False  False  ...   True             True    True\n",
              "35545      False  False  False  ...   True             True    True\n",
              "35546      False  False  False  ...  False            False   False\n",
              "35547      False  False  False  ...  False            False   False\n",
              "35548      False  False  False  ...   True             True    True\n",
              "\n",
              "[35549 rows x 9 columns]"
            ]
          },
          "metadata": {
            "tags": []
          },
          "execution_count": 79
        }
      ]
    },
    {
      "cell_type": "code",
      "metadata": {
        "id": "T4jMAtVhX4L3",
        "colab": {
          "base_uri": "https://localhost:8080/"
        },
        "outputId": "5e8ee7e9-f3c7-4ff2-c1ab-2a599ebe159f"
      },
      "source": [
        "~pd.isnull(surveys_df).any(axis=1)"
      ],
      "execution_count": null,
      "outputs": [
        {
          "output_type": "execute_result",
          "data": {
            "text/plain": [
              "0        False\n",
              "1        False\n",
              "2        False\n",
              "3        False\n",
              "4        False\n",
              "         ...  \n",
              "35544    False\n",
              "35545    False\n",
              "35546     True\n",
              "35547     True\n",
              "35548    False\n",
              "Length: 35549, dtype: bool"
            ]
          },
          "metadata": {
            "tags": []
          },
          "execution_count": 89
        }
      ]
    },
    {
      "cell_type": "code",
      "metadata": {
        "id": "lxUGQNNZXjWr",
        "colab": {
          "base_uri": "https://localhost:8080/",
          "height": 424
        },
        "outputId": "93bba5fe-ae7e-4a30-e37f-164793d141c3"
      },
      "source": [
        "surveys_df[~pd.isnull(surveys_df).any(axis=1)]"
      ],
      "execution_count": null,
      "outputs": [
        {
          "output_type": "execute_result",
          "data": {
            "text/html": [
              "<div>\n",
              "<style scoped>\n",
              "    .dataframe tbody tr th:only-of-type {\n",
              "        vertical-align: middle;\n",
              "    }\n",
              "\n",
              "    .dataframe tbody tr th {\n",
              "        vertical-align: top;\n",
              "    }\n",
              "\n",
              "    .dataframe thead th {\n",
              "        text-align: right;\n",
              "    }\n",
              "</style>\n",
              "<table border=\"1\" class=\"dataframe\">\n",
              "  <thead>\n",
              "    <tr style=\"text-align: right;\">\n",
              "      <th></th>\n",
              "      <th>record_id</th>\n",
              "      <th>month</th>\n",
              "      <th>day</th>\n",
              "      <th>year</th>\n",
              "      <th>plot_id</th>\n",
              "      <th>species_id</th>\n",
              "      <th>sex</th>\n",
              "      <th>hindfoot_length</th>\n",
              "      <th>weight</th>\n",
              "    </tr>\n",
              "  </thead>\n",
              "  <tbody>\n",
              "    <tr>\n",
              "      <th>62</th>\n",
              "      <td>63</td>\n",
              "      <td>8</td>\n",
              "      <td>19</td>\n",
              "      <td>1977</td>\n",
              "      <td>3</td>\n",
              "      <td>DM</td>\n",
              "      <td>M</td>\n",
              "      <td>35.0</td>\n",
              "      <td>40.0</td>\n",
              "    </tr>\n",
              "    <tr>\n",
              "      <th>63</th>\n",
              "      <td>64</td>\n",
              "      <td>8</td>\n",
              "      <td>19</td>\n",
              "      <td>1977</td>\n",
              "      <td>7</td>\n",
              "      <td>DM</td>\n",
              "      <td>M</td>\n",
              "      <td>37.0</td>\n",
              "      <td>48.0</td>\n",
              "    </tr>\n",
              "    <tr>\n",
              "      <th>64</th>\n",
              "      <td>65</td>\n",
              "      <td>8</td>\n",
              "      <td>19</td>\n",
              "      <td>1977</td>\n",
              "      <td>4</td>\n",
              "      <td>DM</td>\n",
              "      <td>F</td>\n",
              "      <td>34.0</td>\n",
              "      <td>29.0</td>\n",
              "    </tr>\n",
              "    <tr>\n",
              "      <th>65</th>\n",
              "      <td>66</td>\n",
              "      <td>8</td>\n",
              "      <td>19</td>\n",
              "      <td>1977</td>\n",
              "      <td>4</td>\n",
              "      <td>DM</td>\n",
              "      <td>F</td>\n",
              "      <td>35.0</td>\n",
              "      <td>46.0</td>\n",
              "    </tr>\n",
              "    <tr>\n",
              "      <th>66</th>\n",
              "      <td>67</td>\n",
              "      <td>8</td>\n",
              "      <td>19</td>\n",
              "      <td>1977</td>\n",
              "      <td>7</td>\n",
              "      <td>DM</td>\n",
              "      <td>M</td>\n",
              "      <td>35.0</td>\n",
              "      <td>36.0</td>\n",
              "    </tr>\n",
              "    <tr>\n",
              "      <th>...</th>\n",
              "      <td>...</td>\n",
              "      <td>...</td>\n",
              "      <td>...</td>\n",
              "      <td>...</td>\n",
              "      <td>...</td>\n",
              "      <td>...</td>\n",
              "      <td>...</td>\n",
              "      <td>...</td>\n",
              "      <td>...</td>\n",
              "    </tr>\n",
              "    <tr>\n",
              "      <th>35540</th>\n",
              "      <td>35541</td>\n",
              "      <td>12</td>\n",
              "      <td>31</td>\n",
              "      <td>2002</td>\n",
              "      <td>15</td>\n",
              "      <td>PB</td>\n",
              "      <td>F</td>\n",
              "      <td>24.0</td>\n",
              "      <td>31.0</td>\n",
              "    </tr>\n",
              "    <tr>\n",
              "      <th>35541</th>\n",
              "      <td>35542</td>\n",
              "      <td>12</td>\n",
              "      <td>31</td>\n",
              "      <td>2002</td>\n",
              "      <td>15</td>\n",
              "      <td>PB</td>\n",
              "      <td>F</td>\n",
              "      <td>26.0</td>\n",
              "      <td>29.0</td>\n",
              "    </tr>\n",
              "    <tr>\n",
              "      <th>35542</th>\n",
              "      <td>35543</td>\n",
              "      <td>12</td>\n",
              "      <td>31</td>\n",
              "      <td>2002</td>\n",
              "      <td>15</td>\n",
              "      <td>PB</td>\n",
              "      <td>F</td>\n",
              "      <td>27.0</td>\n",
              "      <td>34.0</td>\n",
              "    </tr>\n",
              "    <tr>\n",
              "      <th>35546</th>\n",
              "      <td>35547</td>\n",
              "      <td>12</td>\n",
              "      <td>31</td>\n",
              "      <td>2002</td>\n",
              "      <td>10</td>\n",
              "      <td>RM</td>\n",
              "      <td>F</td>\n",
              "      <td>15.0</td>\n",
              "      <td>14.0</td>\n",
              "    </tr>\n",
              "    <tr>\n",
              "      <th>35547</th>\n",
              "      <td>35548</td>\n",
              "      <td>12</td>\n",
              "      <td>31</td>\n",
              "      <td>2002</td>\n",
              "      <td>7</td>\n",
              "      <td>DO</td>\n",
              "      <td>M</td>\n",
              "      <td>36.0</td>\n",
              "      <td>51.0</td>\n",
              "    </tr>\n",
              "  </tbody>\n",
              "</table>\n",
              "<p>30676 rows × 9 columns</p>\n",
              "</div>"
            ],
            "text/plain": [
              "       record_id  month  day  year  ...  species_id sex hindfoot_length  weight\n",
              "62            63      8   19  1977  ...          DM   M            35.0    40.0\n",
              "63            64      8   19  1977  ...          DM   M            37.0    48.0\n",
              "64            65      8   19  1977  ...          DM   F            34.0    29.0\n",
              "65            66      8   19  1977  ...          DM   F            35.0    46.0\n",
              "66            67      8   19  1977  ...          DM   M            35.0    36.0\n",
              "...          ...    ...  ...   ...  ...         ...  ..             ...     ...\n",
              "35540      35541     12   31  2002  ...          PB   F            24.0    31.0\n",
              "35541      35542     12   31  2002  ...          PB   F            26.0    29.0\n",
              "35542      35543     12   31  2002  ...          PB   F            27.0    34.0\n",
              "35546      35547     12   31  2002  ...          RM   F            15.0    14.0\n",
              "35547      35548     12   31  2002  ...          DO   M            36.0    51.0\n",
              "\n",
              "[30676 rows x 9 columns]"
            ]
          },
          "metadata": {
            "tags": []
          },
          "execution_count": 90
        }
      ]
    },
    {
      "cell_type": "code",
      "metadata": {
        "id": "IBo_jragXxwb",
        "colab": {
          "base_uri": "https://localhost:8080/",
          "height": 424
        },
        "outputId": "8694d9d3-8836-4827-cc4c-b894f0a61a37"
      },
      "source": [
        "surveys_df.dropna(axis=0, how='any')"
      ],
      "execution_count": null,
      "outputs": [
        {
          "output_type": "execute_result",
          "data": {
            "text/html": [
              "<div>\n",
              "<style scoped>\n",
              "    .dataframe tbody tr th:only-of-type {\n",
              "        vertical-align: middle;\n",
              "    }\n",
              "\n",
              "    .dataframe tbody tr th {\n",
              "        vertical-align: top;\n",
              "    }\n",
              "\n",
              "    .dataframe thead th {\n",
              "        text-align: right;\n",
              "    }\n",
              "</style>\n",
              "<table border=\"1\" class=\"dataframe\">\n",
              "  <thead>\n",
              "    <tr style=\"text-align: right;\">\n",
              "      <th></th>\n",
              "      <th>record_id</th>\n",
              "      <th>month</th>\n",
              "      <th>day</th>\n",
              "      <th>year</th>\n",
              "      <th>plot_id</th>\n",
              "      <th>species_id</th>\n",
              "      <th>sex</th>\n",
              "      <th>hindfoot_length</th>\n",
              "      <th>weight</th>\n",
              "    </tr>\n",
              "  </thead>\n",
              "  <tbody>\n",
              "    <tr>\n",
              "      <th>62</th>\n",
              "      <td>63</td>\n",
              "      <td>8</td>\n",
              "      <td>19</td>\n",
              "      <td>1977</td>\n",
              "      <td>3</td>\n",
              "      <td>DM</td>\n",
              "      <td>M</td>\n",
              "      <td>35.0</td>\n",
              "      <td>40.0</td>\n",
              "    </tr>\n",
              "    <tr>\n",
              "      <th>63</th>\n",
              "      <td>64</td>\n",
              "      <td>8</td>\n",
              "      <td>19</td>\n",
              "      <td>1977</td>\n",
              "      <td>7</td>\n",
              "      <td>DM</td>\n",
              "      <td>M</td>\n",
              "      <td>37.0</td>\n",
              "      <td>48.0</td>\n",
              "    </tr>\n",
              "    <tr>\n",
              "      <th>64</th>\n",
              "      <td>65</td>\n",
              "      <td>8</td>\n",
              "      <td>19</td>\n",
              "      <td>1977</td>\n",
              "      <td>4</td>\n",
              "      <td>DM</td>\n",
              "      <td>F</td>\n",
              "      <td>34.0</td>\n",
              "      <td>29.0</td>\n",
              "    </tr>\n",
              "    <tr>\n",
              "      <th>65</th>\n",
              "      <td>66</td>\n",
              "      <td>8</td>\n",
              "      <td>19</td>\n",
              "      <td>1977</td>\n",
              "      <td>4</td>\n",
              "      <td>DM</td>\n",
              "      <td>F</td>\n",
              "      <td>35.0</td>\n",
              "      <td>46.0</td>\n",
              "    </tr>\n",
              "    <tr>\n",
              "      <th>66</th>\n",
              "      <td>67</td>\n",
              "      <td>8</td>\n",
              "      <td>19</td>\n",
              "      <td>1977</td>\n",
              "      <td>7</td>\n",
              "      <td>DM</td>\n",
              "      <td>M</td>\n",
              "      <td>35.0</td>\n",
              "      <td>36.0</td>\n",
              "    </tr>\n",
              "    <tr>\n",
              "      <th>...</th>\n",
              "      <td>...</td>\n",
              "      <td>...</td>\n",
              "      <td>...</td>\n",
              "      <td>...</td>\n",
              "      <td>...</td>\n",
              "      <td>...</td>\n",
              "      <td>...</td>\n",
              "      <td>...</td>\n",
              "      <td>...</td>\n",
              "    </tr>\n",
              "    <tr>\n",
              "      <th>35540</th>\n",
              "      <td>35541</td>\n",
              "      <td>12</td>\n",
              "      <td>31</td>\n",
              "      <td>2002</td>\n",
              "      <td>15</td>\n",
              "      <td>PB</td>\n",
              "      <td>F</td>\n",
              "      <td>24.0</td>\n",
              "      <td>31.0</td>\n",
              "    </tr>\n",
              "    <tr>\n",
              "      <th>35541</th>\n",
              "      <td>35542</td>\n",
              "      <td>12</td>\n",
              "      <td>31</td>\n",
              "      <td>2002</td>\n",
              "      <td>15</td>\n",
              "      <td>PB</td>\n",
              "      <td>F</td>\n",
              "      <td>26.0</td>\n",
              "      <td>29.0</td>\n",
              "    </tr>\n",
              "    <tr>\n",
              "      <th>35542</th>\n",
              "      <td>35543</td>\n",
              "      <td>12</td>\n",
              "      <td>31</td>\n",
              "      <td>2002</td>\n",
              "      <td>15</td>\n",
              "      <td>PB</td>\n",
              "      <td>F</td>\n",
              "      <td>27.0</td>\n",
              "      <td>34.0</td>\n",
              "    </tr>\n",
              "    <tr>\n",
              "      <th>35546</th>\n",
              "      <td>35547</td>\n",
              "      <td>12</td>\n",
              "      <td>31</td>\n",
              "      <td>2002</td>\n",
              "      <td>10</td>\n",
              "      <td>RM</td>\n",
              "      <td>F</td>\n",
              "      <td>15.0</td>\n",
              "      <td>14.0</td>\n",
              "    </tr>\n",
              "    <tr>\n",
              "      <th>35547</th>\n",
              "      <td>35548</td>\n",
              "      <td>12</td>\n",
              "      <td>31</td>\n",
              "      <td>2002</td>\n",
              "      <td>7</td>\n",
              "      <td>DO</td>\n",
              "      <td>M</td>\n",
              "      <td>36.0</td>\n",
              "      <td>51.0</td>\n",
              "    </tr>\n",
              "  </tbody>\n",
              "</table>\n",
              "<p>30676 rows × 9 columns</p>\n",
              "</div>"
            ],
            "text/plain": [
              "       record_id  month  day  year  ...  species_id sex hindfoot_length  weight\n",
              "62            63      8   19  1977  ...          DM   M            35.0    40.0\n",
              "63            64      8   19  1977  ...          DM   M            37.0    48.0\n",
              "64            65      8   19  1977  ...          DM   F            34.0    29.0\n",
              "65            66      8   19  1977  ...          DM   F            35.0    46.0\n",
              "66            67      8   19  1977  ...          DM   M            35.0    36.0\n",
              "...          ...    ...  ...   ...  ...         ...  ..             ...     ...\n",
              "35540      35541     12   31  2002  ...          PB   F            24.0    31.0\n",
              "35541      35542     12   31  2002  ...          PB   F            26.0    29.0\n",
              "35542      35543     12   31  2002  ...          PB   F            27.0    34.0\n",
              "35546      35547     12   31  2002  ...          RM   F            15.0    14.0\n",
              "35547      35548     12   31  2002  ...          DO   M            36.0    51.0\n",
              "\n",
              "[30676 rows x 9 columns]"
            ]
          },
          "metadata": {
            "tags": []
          },
          "execution_count": 91
        }
      ]
    },
    {
      "cell_type": "markdown",
      "metadata": {
        "id": "uUg65pG7aBVW"
      },
      "source": [
        "## Data Types and formats"
      ]
    },
    {
      "cell_type": "code",
      "metadata": {
        "id": "_FLEngYeZgl9",
        "colab": {
          "base_uri": "https://localhost:8080/"
        },
        "outputId": "0a44a6f2-1f11-4cdb-c291-5bbb559552df"
      },
      "source": [
        "type(surveys_df)"
      ],
      "execution_count": null,
      "outputs": [
        {
          "output_type": "execute_result",
          "data": {
            "text/plain": [
              "pandas.core.frame.DataFrame"
            ]
          },
          "metadata": {
            "tags": []
          },
          "execution_count": 92
        }
      ]
    },
    {
      "cell_type": "code",
      "metadata": {
        "id": "d2lGbNcCaKfa",
        "colab": {
          "base_uri": "https://localhost:8080/"
        },
        "outputId": "fc2e6b3e-dba4-47ce-d8e3-ad1b1910d8e2"
      },
      "source": [
        "surveys_df.dtypes"
      ],
      "execution_count": null,
      "outputs": [
        {
          "output_type": "execute_result",
          "data": {
            "text/plain": [
              "record_id            int64\n",
              "month                int64\n",
              "day                  int64\n",
              "year                 int64\n",
              "plot_id              int64\n",
              "species_id          object\n",
              "sex                 object\n",
              "hindfoot_length    float64\n",
              "weight             float64\n",
              "dtype: object"
            ]
          },
          "metadata": {
            "tags": []
          },
          "execution_count": 93
        }
      ]
    },
    {
      "cell_type": "code",
      "metadata": {
        "id": "CrrFzFsaaRgK",
        "colab": {
          "base_uri": "https://localhost:8080/"
        },
        "outputId": "2b0d5fa2-f452-4b22-cf3f-833508810ca1"
      },
      "source": [
        "print(5 + 5)"
      ],
      "execution_count": null,
      "outputs": [
        {
          "output_type": "stream",
          "text": [
            "10\n"
          ],
          "name": "stdout"
        }
      ]
    },
    {
      "cell_type": "code",
      "metadata": {
        "id": "UMZHHxm4bNhM",
        "colab": {
          "base_uri": "https://localhost:8080/"
        },
        "outputId": "3a4d032b-1358-4643-c415-869c5e680184"
      },
      "source": [
        "print( 24 - 4)"
      ],
      "execution_count": null,
      "outputs": [
        {
          "output_type": "stream",
          "text": [
            "20\n"
          ],
          "name": "stdout"
        }
      ]
    },
    {
      "cell_type": "code",
      "metadata": {
        "id": "gXEsRCc2bPYr",
        "colab": {
          "base_uri": "https://localhost:8080/"
        },
        "outputId": "38f1444d-e81b-401f-9079-bdef80ad39e4"
      },
      "source": [
        "print( 5 / 9 )"
      ],
      "execution_count": null,
      "outputs": [
        {
          "output_type": "stream",
          "text": [
            "0.5555555555555556\n"
          ],
          "name": "stdout"
        }
      ]
    },
    {
      "cell_type": "code",
      "metadata": {
        "id": "P9KESOV4bSQq",
        "colab": {
          "base_uri": "https://localhost:8080/"
        },
        "outputId": "ca5bc80f-5759-4c5f-b093-0a2b830e99af"
      },
      "source": [
        "print( 1 // 5)"
      ],
      "execution_count": null,
      "outputs": [
        {
          "output_type": "stream",
          "text": [
            "0\n"
          ],
          "name": "stdout"
        }
      ]
    },
    {
      "cell_type": "code",
      "metadata": {
        "id": "1E0G-8u6bYzs",
        "colab": {
          "base_uri": "https://localhost:8080/"
        },
        "outputId": "04ba39ae-c2fc-4fce-b487-2ade1f39f0a7"
      },
      "source": [
        "print( 2.5 + 1)"
      ],
      "execution_count": null,
      "outputs": [
        {
          "output_type": "stream",
          "text": [
            "3.5\n"
          ],
          "name": "stdout"
        }
      ]
    },
    {
      "cell_type": "code",
      "metadata": {
        "id": "5-H-EC5MbheN",
        "colab": {
          "base_uri": "https://localhost:8080/"
        },
        "outputId": "cf32ce1f-ba20-45bf-8026-abafc86c4a01"
      },
      "source": [
        "# changing data types of a pandas column\n",
        "\n",
        "surveys_df['record_id']"
      ],
      "execution_count": null,
      "outputs": [
        {
          "output_type": "execute_result",
          "data": {
            "text/plain": [
              "0            1\n",
              "1            2\n",
              "2            3\n",
              "3            4\n",
              "4            5\n",
              "         ...  \n",
              "35544    35545\n",
              "35545    35546\n",
              "35546    35547\n",
              "35547    35548\n",
              "35548    35549\n",
              "Name: record_id, Length: 35549, dtype: int64"
            ]
          },
          "metadata": {
            "tags": []
          },
          "execution_count": 99
        }
      ]
    },
    {
      "cell_type": "code",
      "metadata": {
        "id": "Jm29PSQhbye7",
        "colab": {
          "base_uri": "https://localhost:8080/"
        },
        "outputId": "db438a01-e3f8-46f2-9f6e-098cd279a38e"
      },
      "source": [
        "surveys_df['record_id'].astype('float64')"
      ],
      "execution_count": null,
      "outputs": [
        {
          "output_type": "execute_result",
          "data": {
            "text/plain": [
              "0            1.0\n",
              "1            2.0\n",
              "2            3.0\n",
              "3            4.0\n",
              "4            5.0\n",
              "          ...   \n",
              "35544    35545.0\n",
              "35545    35546.0\n",
              "35546    35547.0\n",
              "35547    35548.0\n",
              "35548    35549.0\n",
              "Name: record_id, Length: 35549, dtype: float64"
            ]
          },
          "metadata": {
            "tags": []
          },
          "execution_count": 100
        }
      ]
    },
    {
      "cell_type": "code",
      "metadata": {
        "id": "TpvT2Y_ecG8K",
        "colab": {
          "base_uri": "https://localhost:8080/",
          "height": 206
        },
        "outputId": "966fdd52-0b88-4141-d84b-8d422647d3f7"
      },
      "source": [
        "surveys_df.head()"
      ],
      "execution_count": null,
      "outputs": [
        {
          "output_type": "execute_result",
          "data": {
            "text/html": [
              "<div>\n",
              "<style scoped>\n",
              "    .dataframe tbody tr th:only-of-type {\n",
              "        vertical-align: middle;\n",
              "    }\n",
              "\n",
              "    .dataframe tbody tr th {\n",
              "        vertical-align: top;\n",
              "    }\n",
              "\n",
              "    .dataframe thead th {\n",
              "        text-align: right;\n",
              "    }\n",
              "</style>\n",
              "<table border=\"1\" class=\"dataframe\">\n",
              "  <thead>\n",
              "    <tr style=\"text-align: right;\">\n",
              "      <th></th>\n",
              "      <th>record_id</th>\n",
              "      <th>month</th>\n",
              "      <th>day</th>\n",
              "      <th>year</th>\n",
              "      <th>plot_id</th>\n",
              "      <th>species_id</th>\n",
              "      <th>sex</th>\n",
              "      <th>hindfoot_length</th>\n",
              "      <th>weight</th>\n",
              "    </tr>\n",
              "  </thead>\n",
              "  <tbody>\n",
              "    <tr>\n",
              "      <th>0</th>\n",
              "      <td>1</td>\n",
              "      <td>7</td>\n",
              "      <td>16</td>\n",
              "      <td>1977</td>\n",
              "      <td>2</td>\n",
              "      <td>NL</td>\n",
              "      <td>M</td>\n",
              "      <td>32.0</td>\n",
              "      <td>NaN</td>\n",
              "    </tr>\n",
              "    <tr>\n",
              "      <th>1</th>\n",
              "      <td>2</td>\n",
              "      <td>7</td>\n",
              "      <td>16</td>\n",
              "      <td>1977</td>\n",
              "      <td>3</td>\n",
              "      <td>NL</td>\n",
              "      <td>M</td>\n",
              "      <td>33.0</td>\n",
              "      <td>NaN</td>\n",
              "    </tr>\n",
              "    <tr>\n",
              "      <th>2</th>\n",
              "      <td>3</td>\n",
              "      <td>7</td>\n",
              "      <td>16</td>\n",
              "      <td>1977</td>\n",
              "      <td>2</td>\n",
              "      <td>DM</td>\n",
              "      <td>F</td>\n",
              "      <td>37.0</td>\n",
              "      <td>NaN</td>\n",
              "    </tr>\n",
              "    <tr>\n",
              "      <th>3</th>\n",
              "      <td>4</td>\n",
              "      <td>7</td>\n",
              "      <td>16</td>\n",
              "      <td>1977</td>\n",
              "      <td>7</td>\n",
              "      <td>DM</td>\n",
              "      <td>M</td>\n",
              "      <td>36.0</td>\n",
              "      <td>NaN</td>\n",
              "    </tr>\n",
              "    <tr>\n",
              "      <th>4</th>\n",
              "      <td>5</td>\n",
              "      <td>7</td>\n",
              "      <td>16</td>\n",
              "      <td>1977</td>\n",
              "      <td>3</td>\n",
              "      <td>DM</td>\n",
              "      <td>M</td>\n",
              "      <td>35.0</td>\n",
              "      <td>NaN</td>\n",
              "    </tr>\n",
              "  </tbody>\n",
              "</table>\n",
              "</div>"
            ],
            "text/plain": [
              "   record_id  month  day  year  plot_id species_id sex  hindfoot_length  weight\n",
              "0          1      7   16  1977        2         NL   M             32.0     NaN\n",
              "1          2      7   16  1977        3         NL   M             33.0     NaN\n",
              "2          3      7   16  1977        2         DM   F             37.0     NaN\n",
              "3          4      7   16  1977        7         DM   M             36.0     NaN\n",
              "4          5      7   16  1977        3         DM   M             35.0     NaN"
            ]
          },
          "metadata": {
            "tags": []
          },
          "execution_count": 102
        }
      ]
    },
    {
      "cell_type": "code",
      "metadata": {
        "id": "EWjzyBdVcMY5"
      },
      "source": [
        "df = surveys_df['record_id'].astype('float64')"
      ],
      "execution_count": null,
      "outputs": []
    },
    {
      "cell_type": "code",
      "metadata": {
        "id": "VsTGglZgcl0b",
        "colab": {
          "base_uri": "https://localhost:8080/",
          "height": 206
        },
        "outputId": "67508dfc-dd2d-4dc9-fdf6-f6013ebe0cd1"
      },
      "source": [
        "surveys_df.head()"
      ],
      "execution_count": null,
      "outputs": [
        {
          "output_type": "execute_result",
          "data": {
            "text/html": [
              "<div>\n",
              "<style scoped>\n",
              "    .dataframe tbody tr th:only-of-type {\n",
              "        vertical-align: middle;\n",
              "    }\n",
              "\n",
              "    .dataframe tbody tr th {\n",
              "        vertical-align: top;\n",
              "    }\n",
              "\n",
              "    .dataframe thead th {\n",
              "        text-align: right;\n",
              "    }\n",
              "</style>\n",
              "<table border=\"1\" class=\"dataframe\">\n",
              "  <thead>\n",
              "    <tr style=\"text-align: right;\">\n",
              "      <th></th>\n",
              "      <th>record_id</th>\n",
              "      <th>month</th>\n",
              "      <th>day</th>\n",
              "      <th>year</th>\n",
              "      <th>plot_id</th>\n",
              "      <th>species_id</th>\n",
              "      <th>sex</th>\n",
              "      <th>hindfoot_length</th>\n",
              "      <th>weight</th>\n",
              "    </tr>\n",
              "  </thead>\n",
              "  <tbody>\n",
              "    <tr>\n",
              "      <th>0</th>\n",
              "      <td>1</td>\n",
              "      <td>7</td>\n",
              "      <td>16</td>\n",
              "      <td>1977</td>\n",
              "      <td>2</td>\n",
              "      <td>NL</td>\n",
              "      <td>M</td>\n",
              "      <td>32.0</td>\n",
              "      <td>NaN</td>\n",
              "    </tr>\n",
              "    <tr>\n",
              "      <th>1</th>\n",
              "      <td>2</td>\n",
              "      <td>7</td>\n",
              "      <td>16</td>\n",
              "      <td>1977</td>\n",
              "      <td>3</td>\n",
              "      <td>NL</td>\n",
              "      <td>M</td>\n",
              "      <td>33.0</td>\n",
              "      <td>NaN</td>\n",
              "    </tr>\n",
              "    <tr>\n",
              "      <th>2</th>\n",
              "      <td>3</td>\n",
              "      <td>7</td>\n",
              "      <td>16</td>\n",
              "      <td>1977</td>\n",
              "      <td>2</td>\n",
              "      <td>DM</td>\n",
              "      <td>F</td>\n",
              "      <td>37.0</td>\n",
              "      <td>NaN</td>\n",
              "    </tr>\n",
              "    <tr>\n",
              "      <th>3</th>\n",
              "      <td>4</td>\n",
              "      <td>7</td>\n",
              "      <td>16</td>\n",
              "      <td>1977</td>\n",
              "      <td>7</td>\n",
              "      <td>DM</td>\n",
              "      <td>M</td>\n",
              "      <td>36.0</td>\n",
              "      <td>NaN</td>\n",
              "    </tr>\n",
              "    <tr>\n",
              "      <th>4</th>\n",
              "      <td>5</td>\n",
              "      <td>7</td>\n",
              "      <td>16</td>\n",
              "      <td>1977</td>\n",
              "      <td>3</td>\n",
              "      <td>DM</td>\n",
              "      <td>M</td>\n",
              "      <td>35.0</td>\n",
              "      <td>NaN</td>\n",
              "    </tr>\n",
              "  </tbody>\n",
              "</table>\n",
              "</div>"
            ],
            "text/plain": [
              "   record_id  month  day  year  plot_id species_id sex  hindfoot_length  weight\n",
              "0          1      7   16  1977        2         NL   M             32.0     NaN\n",
              "1          2      7   16  1977        3         NL   M             33.0     NaN\n",
              "2          3      7   16  1977        2         DM   F             37.0     NaN\n",
              "3          4      7   16  1977        7         DM   M             36.0     NaN\n",
              "4          5      7   16  1977        3         DM   M             35.0     NaN"
            ]
          },
          "metadata": {
            "tags": []
          },
          "execution_count": 111
        }
      ]
    },
    {
      "cell_type": "code",
      "metadata": {
        "id": "8IfryXdMcnWK"
      },
      "source": [
        "surveys_df['record_id'] = surveys_df['record_id'].astype('float64')"
      ],
      "execution_count": null,
      "outputs": []
    },
    {
      "cell_type": "code",
      "metadata": {
        "id": "1HWdiQZvc6mK",
        "colab": {
          "base_uri": "https://localhost:8080/",
          "height": 326
        },
        "outputId": "4e2ca6fa-8f82-4fef-983e-eb06b6c54aa7"
      },
      "source": [
        "surveys_df['weight'].astype('int64')"
      ],
      "execution_count": null,
      "outputs": [
        {
          "output_type": "error",
          "ename": "ValueError",
          "evalue": "ignored",
          "traceback": [
            "\u001b[0;31m---------------------------------------------------------------------------\u001b[0m",
            "\u001b[0;31mValueError\u001b[0m                                Traceback (most recent call last)",
            "\u001b[0;32m<ipython-input-116-035f15d8ce5f>\u001b[0m in \u001b[0;36m<module>\u001b[0;34m()\u001b[0m\n\u001b[0;32m----> 1\u001b[0;31m \u001b[0msurveys_df\u001b[0m\u001b[0;34m[\u001b[0m\u001b[0;34m'weight'\u001b[0m\u001b[0;34m]\u001b[0m\u001b[0;34m.\u001b[0m\u001b[0mastype\u001b[0m\u001b[0;34m(\u001b[0m\u001b[0;34m'int64'\u001b[0m\u001b[0;34m)\u001b[0m\u001b[0;34m\u001b[0m\u001b[0;34m\u001b[0m\u001b[0m\n\u001b[0m",
            "\u001b[0;32m/usr/local/lib/python3.7/dist-packages/pandas/core/generic.py\u001b[0m in \u001b[0;36mastype\u001b[0;34m(self, dtype, copy, errors)\u001b[0m\n\u001b[1;32m   5546\u001b[0m         \u001b[0;32melse\u001b[0m\u001b[0;34m:\u001b[0m\u001b[0;34m\u001b[0m\u001b[0;34m\u001b[0m\u001b[0m\n\u001b[1;32m   5547\u001b[0m             \u001b[0;31m# else, only a single dtype is given\u001b[0m\u001b[0;34m\u001b[0m\u001b[0;34m\u001b[0m\u001b[0;34m\u001b[0m\u001b[0m\n\u001b[0;32m-> 5548\u001b[0;31m             \u001b[0mnew_data\u001b[0m \u001b[0;34m=\u001b[0m \u001b[0mself\u001b[0m\u001b[0;34m.\u001b[0m\u001b[0m_mgr\u001b[0m\u001b[0;34m.\u001b[0m\u001b[0mastype\u001b[0m\u001b[0;34m(\u001b[0m\u001b[0mdtype\u001b[0m\u001b[0;34m=\u001b[0m\u001b[0mdtype\u001b[0m\u001b[0;34m,\u001b[0m \u001b[0mcopy\u001b[0m\u001b[0;34m=\u001b[0m\u001b[0mcopy\u001b[0m\u001b[0;34m,\u001b[0m \u001b[0merrors\u001b[0m\u001b[0;34m=\u001b[0m\u001b[0merrors\u001b[0m\u001b[0;34m,\u001b[0m\u001b[0;34m)\u001b[0m\u001b[0;34m\u001b[0m\u001b[0;34m\u001b[0m\u001b[0m\n\u001b[0m\u001b[1;32m   5549\u001b[0m             \u001b[0;32mreturn\u001b[0m \u001b[0mself\u001b[0m\u001b[0;34m.\u001b[0m\u001b[0m_constructor\u001b[0m\u001b[0;34m(\u001b[0m\u001b[0mnew_data\u001b[0m\u001b[0;34m)\u001b[0m\u001b[0;34m.\u001b[0m\u001b[0m__finalize__\u001b[0m\u001b[0;34m(\u001b[0m\u001b[0mself\u001b[0m\u001b[0;34m,\u001b[0m \u001b[0mmethod\u001b[0m\u001b[0;34m=\u001b[0m\u001b[0;34m\"astype\"\u001b[0m\u001b[0;34m)\u001b[0m\u001b[0;34m\u001b[0m\u001b[0;34m\u001b[0m\u001b[0m\n\u001b[1;32m   5550\u001b[0m \u001b[0;34m\u001b[0m\u001b[0m\n",
            "\u001b[0;32m/usr/local/lib/python3.7/dist-packages/pandas/core/internals/managers.py\u001b[0m in \u001b[0;36mastype\u001b[0;34m(self, dtype, copy, errors)\u001b[0m\n\u001b[1;32m    602\u001b[0m         \u001b[0mself\u001b[0m\u001b[0;34m,\u001b[0m \u001b[0mdtype\u001b[0m\u001b[0;34m,\u001b[0m \u001b[0mcopy\u001b[0m\u001b[0;34m:\u001b[0m \u001b[0mbool\u001b[0m \u001b[0;34m=\u001b[0m \u001b[0;32mFalse\u001b[0m\u001b[0;34m,\u001b[0m \u001b[0merrors\u001b[0m\u001b[0;34m:\u001b[0m \u001b[0mstr\u001b[0m \u001b[0;34m=\u001b[0m \u001b[0;34m\"raise\"\u001b[0m\u001b[0;34m\u001b[0m\u001b[0;34m\u001b[0m\u001b[0m\n\u001b[1;32m    603\u001b[0m     ) -> \"BlockManager\":\n\u001b[0;32m--> 604\u001b[0;31m         \u001b[0;32mreturn\u001b[0m \u001b[0mself\u001b[0m\u001b[0;34m.\u001b[0m\u001b[0mapply\u001b[0m\u001b[0;34m(\u001b[0m\u001b[0;34m\"astype\"\u001b[0m\u001b[0;34m,\u001b[0m \u001b[0mdtype\u001b[0m\u001b[0;34m=\u001b[0m\u001b[0mdtype\u001b[0m\u001b[0;34m,\u001b[0m \u001b[0mcopy\u001b[0m\u001b[0;34m=\u001b[0m\u001b[0mcopy\u001b[0m\u001b[0;34m,\u001b[0m \u001b[0merrors\u001b[0m\u001b[0;34m=\u001b[0m\u001b[0merrors\u001b[0m\u001b[0;34m)\u001b[0m\u001b[0;34m\u001b[0m\u001b[0;34m\u001b[0m\u001b[0m\n\u001b[0m\u001b[1;32m    605\u001b[0m \u001b[0;34m\u001b[0m\u001b[0m\n\u001b[1;32m    606\u001b[0m     def convert(\n",
            "\u001b[0;32m/usr/local/lib/python3.7/dist-packages/pandas/core/internals/managers.py\u001b[0m in \u001b[0;36mapply\u001b[0;34m(self, f, align_keys, **kwargs)\u001b[0m\n\u001b[1;32m    407\u001b[0m                 \u001b[0mapplied\u001b[0m \u001b[0;34m=\u001b[0m \u001b[0mb\u001b[0m\u001b[0;34m.\u001b[0m\u001b[0mapply\u001b[0m\u001b[0;34m(\u001b[0m\u001b[0mf\u001b[0m\u001b[0;34m,\u001b[0m \u001b[0;34m**\u001b[0m\u001b[0mkwargs\u001b[0m\u001b[0;34m)\u001b[0m\u001b[0;34m\u001b[0m\u001b[0;34m\u001b[0m\u001b[0m\n\u001b[1;32m    408\u001b[0m             \u001b[0;32melse\u001b[0m\u001b[0;34m:\u001b[0m\u001b[0;34m\u001b[0m\u001b[0;34m\u001b[0m\u001b[0m\n\u001b[0;32m--> 409\u001b[0;31m                 \u001b[0mapplied\u001b[0m \u001b[0;34m=\u001b[0m \u001b[0mgetattr\u001b[0m\u001b[0;34m(\u001b[0m\u001b[0mb\u001b[0m\u001b[0;34m,\u001b[0m \u001b[0mf\u001b[0m\u001b[0;34m)\u001b[0m\u001b[0;34m(\u001b[0m\u001b[0;34m**\u001b[0m\u001b[0mkwargs\u001b[0m\u001b[0;34m)\u001b[0m\u001b[0;34m\u001b[0m\u001b[0;34m\u001b[0m\u001b[0m\n\u001b[0m\u001b[1;32m    410\u001b[0m             \u001b[0mresult_blocks\u001b[0m \u001b[0;34m=\u001b[0m \u001b[0m_extend_blocks\u001b[0m\u001b[0;34m(\u001b[0m\u001b[0mapplied\u001b[0m\u001b[0;34m,\u001b[0m \u001b[0mresult_blocks\u001b[0m\u001b[0;34m)\u001b[0m\u001b[0;34m\u001b[0m\u001b[0;34m\u001b[0m\u001b[0m\n\u001b[1;32m    411\u001b[0m \u001b[0;34m\u001b[0m\u001b[0m\n",
            "\u001b[0;32m/usr/local/lib/python3.7/dist-packages/pandas/core/internals/blocks.py\u001b[0m in \u001b[0;36mastype\u001b[0;34m(self, dtype, copy, errors)\u001b[0m\n\u001b[1;32m    593\u001b[0m             \u001b[0mvals1d\u001b[0m \u001b[0;34m=\u001b[0m \u001b[0mvalues\u001b[0m\u001b[0;34m.\u001b[0m\u001b[0mravel\u001b[0m\u001b[0;34m(\u001b[0m\u001b[0;34m)\u001b[0m\u001b[0;34m\u001b[0m\u001b[0;34m\u001b[0m\u001b[0m\n\u001b[1;32m    594\u001b[0m             \u001b[0;32mtry\u001b[0m\u001b[0;34m:\u001b[0m\u001b[0;34m\u001b[0m\u001b[0;34m\u001b[0m\u001b[0m\n\u001b[0;32m--> 595\u001b[0;31m                 \u001b[0mvalues\u001b[0m \u001b[0;34m=\u001b[0m \u001b[0mastype_nansafe\u001b[0m\u001b[0;34m(\u001b[0m\u001b[0mvals1d\u001b[0m\u001b[0;34m,\u001b[0m \u001b[0mdtype\u001b[0m\u001b[0;34m,\u001b[0m \u001b[0mcopy\u001b[0m\u001b[0;34m=\u001b[0m\u001b[0;32mTrue\u001b[0m\u001b[0;34m)\u001b[0m\u001b[0;34m\u001b[0m\u001b[0;34m\u001b[0m\u001b[0m\n\u001b[0m\u001b[1;32m    596\u001b[0m             \u001b[0;32mexcept\u001b[0m \u001b[0;34m(\u001b[0m\u001b[0mValueError\u001b[0m\u001b[0;34m,\u001b[0m \u001b[0mTypeError\u001b[0m\u001b[0;34m)\u001b[0m\u001b[0;34m:\u001b[0m\u001b[0;34m\u001b[0m\u001b[0;34m\u001b[0m\u001b[0m\n\u001b[1;32m    597\u001b[0m                 \u001b[0;31m# e.g. astype_nansafe can fail on object-dtype of strings\u001b[0m\u001b[0;34m\u001b[0m\u001b[0;34m\u001b[0m\u001b[0;34m\u001b[0m\u001b[0m\n",
            "\u001b[0;32m/usr/local/lib/python3.7/dist-packages/pandas/core/dtypes/cast.py\u001b[0m in \u001b[0;36mastype_nansafe\u001b[0;34m(arr, dtype, copy, skipna)\u001b[0m\n\u001b[1;32m    966\u001b[0m \u001b[0;34m\u001b[0m\u001b[0m\n\u001b[1;32m    967\u001b[0m         \u001b[0;32mif\u001b[0m \u001b[0;32mnot\u001b[0m \u001b[0mnp\u001b[0m\u001b[0;34m.\u001b[0m\u001b[0misfinite\u001b[0m\u001b[0;34m(\u001b[0m\u001b[0marr\u001b[0m\u001b[0;34m)\u001b[0m\u001b[0;34m.\u001b[0m\u001b[0mall\u001b[0m\u001b[0;34m(\u001b[0m\u001b[0;34m)\u001b[0m\u001b[0;34m:\u001b[0m\u001b[0;34m\u001b[0m\u001b[0;34m\u001b[0m\u001b[0m\n\u001b[0;32m--> 968\u001b[0;31m             \u001b[0;32mraise\u001b[0m \u001b[0mValueError\u001b[0m\u001b[0;34m(\u001b[0m\u001b[0;34m\"Cannot convert non-finite values (NA or inf) to integer\"\u001b[0m\u001b[0;34m)\u001b[0m\u001b[0;34m\u001b[0m\u001b[0;34m\u001b[0m\u001b[0m\n\u001b[0m\u001b[1;32m    969\u001b[0m \u001b[0;34m\u001b[0m\u001b[0m\n\u001b[1;32m    970\u001b[0m     \u001b[0;32melif\u001b[0m \u001b[0mis_object_dtype\u001b[0m\u001b[0;34m(\u001b[0m\u001b[0marr\u001b[0m\u001b[0;34m)\u001b[0m\u001b[0;34m:\u001b[0m\u001b[0;34m\u001b[0m\u001b[0;34m\u001b[0m\u001b[0m\n",
            "\u001b[0;31mValueError\u001b[0m: Cannot convert non-finite values (NA or inf) to integer"
          ]
        }
      ]
    },
    {
      "cell_type": "code",
      "metadata": {
        "id": "RLBN5Guwc71a",
        "colab": {
          "base_uri": "https://localhost:8080/"
        },
        "outputId": "ff36f522-d7b0-47e2-a102-42fed5ce93b7"
      },
      "source": [
        "# handling NaN with subsetting\n",
        "\n",
        "surveys_df['weight'].dropna().astype('int64')"
      ],
      "execution_count": null,
      "outputs": [
        {
          "output_type": "execute_result",
          "data": {
            "text/plain": [
              "62       40\n",
              "63       48\n",
              "64       29\n",
              "65       46\n",
              "66       36\n",
              "         ..\n",
              "35540    31\n",
              "35541    29\n",
              "35542    34\n",
              "35546    14\n",
              "35547    51\n",
              "Name: weight, Length: 32283, dtype: int64"
            ]
          },
          "metadata": {
            "tags": []
          },
          "execution_count": 118
        }
      ]
    },
    {
      "cell_type": "code",
      "metadata": {
        "id": "bG8maMdcd_7p",
        "colab": {
          "base_uri": "https://localhost:8080/"
        },
        "outputId": "91dcedbc-db1c-46e8-ad07-324209c31933"
      },
      "source": [
        "surveys_df['weight'].fillna(0)"
      ],
      "execution_count": null,
      "outputs": [
        {
          "output_type": "execute_result",
          "data": {
            "text/plain": [
              "0         0.0\n",
              "1         0.0\n",
              "2         0.0\n",
              "3         0.0\n",
              "4         0.0\n",
              "         ... \n",
              "35544     0.0\n",
              "35545     0.0\n",
              "35546    14.0\n",
              "35547    51.0\n",
              "35548     0.0\n",
              "Name: weight, Length: 35549, dtype: float64"
            ]
          },
          "metadata": {
            "tags": []
          },
          "execution_count": 119
        }
      ]
    },
    {
      "cell_type": "code",
      "metadata": {
        "id": "XTAvJk94efiK",
        "colab": {
          "base_uri": "https://localhost:8080/",
          "height": 456
        },
        "outputId": "0076d43e-6f19-4199-bcfe-26b14593d98a"
      },
      "source": [
        "surveys_df['weight'].dtype"
      ],
      "execution_count": null,
      "outputs": [
        {
          "output_type": "error",
          "ename": "AttributeError",
          "evalue": "ignored",
          "traceback": [
            "\u001b[0;31m---------------------------------------------------------------------------\u001b[0m",
            "\u001b[0;31mAttributeError\u001b[0m                            Traceback (most recent call last)",
            "\u001b[0;32m/usr/local/lib/python3.7/dist-packages/pandas/core/generic.py\u001b[0m in \u001b[0;36m__setattr__\u001b[0;34m(self, name, value)\u001b[0m\n\u001b[1;32m   5171\u001b[0m                 \u001b[0;32melse\u001b[0m\u001b[0;34m:\u001b[0m\u001b[0;34m\u001b[0m\u001b[0;34m\u001b[0m\u001b[0m\n\u001b[0;32m-> 5172\u001b[0;31m                     \u001b[0mobject\u001b[0m\u001b[0;34m.\u001b[0m\u001b[0m__setattr__\u001b[0m\u001b[0;34m(\u001b[0m\u001b[0mself\u001b[0m\u001b[0;34m,\u001b[0m \u001b[0mname\u001b[0m\u001b[0;34m,\u001b[0m \u001b[0mvalue\u001b[0m\u001b[0;34m)\u001b[0m\u001b[0;34m\u001b[0m\u001b[0;34m\u001b[0m\u001b[0m\n\u001b[0m\u001b[1;32m   5173\u001b[0m             \u001b[0;32mexcept\u001b[0m \u001b[0;34m(\u001b[0m\u001b[0mAttributeError\u001b[0m\u001b[0;34m,\u001b[0m \u001b[0mTypeError\u001b[0m\u001b[0;34m)\u001b[0m\u001b[0;34m:\u001b[0m\u001b[0;34m\u001b[0m\u001b[0;34m\u001b[0m\u001b[0m\n",
            "\u001b[0;31mAttributeError\u001b[0m: can't set attribute",
            "\nDuring handling of the above exception, another exception occurred:\n",
            "\u001b[0;31mAttributeError\u001b[0m                            Traceback (most recent call last)",
            "\u001b[0;32m<ipython-input-121-ae79b15d507a>\u001b[0m in \u001b[0;36m<module>\u001b[0;34m()\u001b[0m\n\u001b[0;32m----> 1\u001b[0;31m \u001b[0msurveys_df\u001b[0m\u001b[0;34m[\u001b[0m\u001b[0;34m'weight'\u001b[0m\u001b[0;34m]\u001b[0m\u001b[0;34m.\u001b[0m\u001b[0mdtype\u001b[0m \u001b[0;34m=\u001b[0m \u001b[0;34m'int64'\u001b[0m\u001b[0;34m\u001b[0m\u001b[0;34m\u001b[0m\u001b[0m\n\u001b[0m",
            "\u001b[0;32m/usr/local/lib/python3.7/dist-packages/pandas/core/generic.py\u001b[0m in \u001b[0;36m__setattr__\u001b[0;34m(self, name, value)\u001b[0m\n\u001b[1;32m   5180\u001b[0m                         \u001b[0mstacklevel\u001b[0m\u001b[0;34m=\u001b[0m\u001b[0;36m2\u001b[0m\u001b[0;34m,\u001b[0m\u001b[0;34m\u001b[0m\u001b[0;34m\u001b[0m\u001b[0m\n\u001b[1;32m   5181\u001b[0m                     )\n\u001b[0;32m-> 5182\u001b[0;31m                 \u001b[0mobject\u001b[0m\u001b[0;34m.\u001b[0m\u001b[0m__setattr__\u001b[0m\u001b[0;34m(\u001b[0m\u001b[0mself\u001b[0m\u001b[0;34m,\u001b[0m \u001b[0mname\u001b[0m\u001b[0;34m,\u001b[0m \u001b[0mvalue\u001b[0m\u001b[0;34m)\u001b[0m\u001b[0;34m\u001b[0m\u001b[0;34m\u001b[0m\u001b[0m\n\u001b[0m\u001b[1;32m   5183\u001b[0m \u001b[0;34m\u001b[0m\u001b[0m\n\u001b[1;32m   5184\u001b[0m     \u001b[0;32mdef\u001b[0m \u001b[0m_dir_additions\u001b[0m\u001b[0;34m(\u001b[0m\u001b[0mself\u001b[0m\u001b[0;34m)\u001b[0m\u001b[0;34m:\u001b[0m\u001b[0;34m\u001b[0m\u001b[0;34m\u001b[0m\u001b[0m\n",
            "\u001b[0;31mAttributeError\u001b[0m: can't set attribute"
          ]
        }
      ]
    },
    {
      "cell_type": "code",
      "metadata": {
        "id": "iAU-CnI9evjp",
        "colab": {
          "base_uri": "https://localhost:8080/",
          "height": 206
        },
        "outputId": "7b6be474-f0ea-488f-b9d0-57f955d7d77c"
      },
      "source": [
        "surveys_df.head()"
      ],
      "execution_count": null,
      "outputs": [
        {
          "output_type": "execute_result",
          "data": {
            "text/html": [
              "<div>\n",
              "<style scoped>\n",
              "    .dataframe tbody tr th:only-of-type {\n",
              "        vertical-align: middle;\n",
              "    }\n",
              "\n",
              "    .dataframe tbody tr th {\n",
              "        vertical-align: top;\n",
              "    }\n",
              "\n",
              "    .dataframe thead th {\n",
              "        text-align: right;\n",
              "    }\n",
              "</style>\n",
              "<table border=\"1\" class=\"dataframe\">\n",
              "  <thead>\n",
              "    <tr style=\"text-align: right;\">\n",
              "      <th></th>\n",
              "      <th>record_id</th>\n",
              "      <th>month</th>\n",
              "      <th>day</th>\n",
              "      <th>year</th>\n",
              "      <th>plot_id</th>\n",
              "      <th>species_id</th>\n",
              "      <th>sex</th>\n",
              "      <th>hindfoot_length</th>\n",
              "      <th>weight</th>\n",
              "    </tr>\n",
              "  </thead>\n",
              "  <tbody>\n",
              "    <tr>\n",
              "      <th>0</th>\n",
              "      <td>1.0</td>\n",
              "      <td>7</td>\n",
              "      <td>16</td>\n",
              "      <td>1977</td>\n",
              "      <td>2</td>\n",
              "      <td>NL</td>\n",
              "      <td>M</td>\n",
              "      <td>32.0</td>\n",
              "      <td>NaN</td>\n",
              "    </tr>\n",
              "    <tr>\n",
              "      <th>1</th>\n",
              "      <td>2.0</td>\n",
              "      <td>7</td>\n",
              "      <td>16</td>\n",
              "      <td>1977</td>\n",
              "      <td>3</td>\n",
              "      <td>NL</td>\n",
              "      <td>M</td>\n",
              "      <td>33.0</td>\n",
              "      <td>NaN</td>\n",
              "    </tr>\n",
              "    <tr>\n",
              "      <th>2</th>\n",
              "      <td>3.0</td>\n",
              "      <td>7</td>\n",
              "      <td>16</td>\n",
              "      <td>1977</td>\n",
              "      <td>2</td>\n",
              "      <td>DM</td>\n",
              "      <td>F</td>\n",
              "      <td>37.0</td>\n",
              "      <td>NaN</td>\n",
              "    </tr>\n",
              "    <tr>\n",
              "      <th>3</th>\n",
              "      <td>4.0</td>\n",
              "      <td>7</td>\n",
              "      <td>16</td>\n",
              "      <td>1977</td>\n",
              "      <td>7</td>\n",
              "      <td>DM</td>\n",
              "      <td>M</td>\n",
              "      <td>36.0</td>\n",
              "      <td>NaN</td>\n",
              "    </tr>\n",
              "    <tr>\n",
              "      <th>4</th>\n",
              "      <td>5.0</td>\n",
              "      <td>7</td>\n",
              "      <td>16</td>\n",
              "      <td>1977</td>\n",
              "      <td>3</td>\n",
              "      <td>DM</td>\n",
              "      <td>M</td>\n",
              "      <td>35.0</td>\n",
              "      <td>NaN</td>\n",
              "    </tr>\n",
              "  </tbody>\n",
              "</table>\n",
              "</div>"
            ],
            "text/plain": [
              "   record_id  month  day  year  plot_id species_id sex  hindfoot_length  weight\n",
              "0        1.0      7   16  1977        2         NL   M             32.0     NaN\n",
              "1        2.0      7   16  1977        3         NL   M             33.0     NaN\n",
              "2        3.0      7   16  1977        2         DM   F             37.0     NaN\n",
              "3        4.0      7   16  1977        7         DM   M             36.0     NaN\n",
              "4        5.0      7   16  1977        3         DM   M             35.0     NaN"
            ]
          },
          "metadata": {
            "tags": []
          },
          "execution_count": 122
        }
      ]
    },
    {
      "cell_type": "code",
      "metadata": {
        "id": "TxLnnxvkhuzc"
      },
      "source": [
        "date_col = surveys_df['year'].astype(str) + '-' + surveys_df['month'].astype(str) + '-' + surveys_df['day'].astype(str)"
      ],
      "execution_count": null,
      "outputs": []
    },
    {
      "cell_type": "code",
      "metadata": {
        "id": "_wmphfOAh-ns"
      },
      "source": [
        "date_col_dt = pd.to_datetime(date_col)"
      ],
      "execution_count": null,
      "outputs": []
    },
    {
      "cell_type": "code",
      "metadata": {
        "id": "gPw59C6ii5C1",
        "colab": {
          "base_uri": "https://localhost:8080/"
        },
        "outputId": "dcd0419d-4473-47d9-e708-4e232f965952"
      },
      "source": [
        "date_col_dt[0].month"
      ],
      "execution_count": null,
      "outputs": [
        {
          "output_type": "execute_result",
          "data": {
            "text/plain": [
              "7"
            ]
          },
          "metadata": {
            "tags": []
          },
          "execution_count": 132
        }
      ]
    },
    {
      "cell_type": "code",
      "metadata": {
        "id": "WxPaUSpFiO9-",
        "colab": {
          "base_uri": "https://localhost:8080/"
        },
        "outputId": "660a302d-791e-4728-8f89-76ace53d60b8"
      },
      "source": [
        "date_col_dt.apply(lambda x: x.day)"
      ],
      "execution_count": null,
      "outputs": [
        {
          "output_type": "execute_result",
          "data": {
            "text/plain": [
              "0        16\n",
              "1        16\n",
              "2        16\n",
              "3        16\n",
              "4        16\n",
              "         ..\n",
              "35544    31\n",
              "35545    31\n",
              "35546    31\n",
              "35547    31\n",
              "35548    31\n",
              "Length: 35549, dtype: int64"
            ]
          },
          "metadata": {
            "tags": []
          },
          "execution_count": 135
        }
      ]
    },
    {
      "cell_type": "code",
      "metadata": {
        "id": "Fi_3EGX0jW7a",
        "colab": {
          "base_uri": "https://localhost:8080/",
          "height": 424
        },
        "outputId": "d5a70f1b-9ac1-4462-b460-a776cc611afc"
      },
      "source": [
        "surveys_df"
      ],
      "execution_count": null,
      "outputs": [
        {
          "output_type": "execute_result",
          "data": {
            "text/html": [
              "<div>\n",
              "<style scoped>\n",
              "    .dataframe tbody tr th:only-of-type {\n",
              "        vertical-align: middle;\n",
              "    }\n",
              "\n",
              "    .dataframe tbody tr th {\n",
              "        vertical-align: top;\n",
              "    }\n",
              "\n",
              "    .dataframe thead th {\n",
              "        text-align: right;\n",
              "    }\n",
              "</style>\n",
              "<table border=\"1\" class=\"dataframe\">\n",
              "  <thead>\n",
              "    <tr style=\"text-align: right;\">\n",
              "      <th></th>\n",
              "      <th>record_id</th>\n",
              "      <th>month</th>\n",
              "      <th>day</th>\n",
              "      <th>year</th>\n",
              "      <th>plot_id</th>\n",
              "      <th>species_id</th>\n",
              "      <th>sex</th>\n",
              "      <th>hindfoot_length</th>\n",
              "      <th>weight</th>\n",
              "    </tr>\n",
              "  </thead>\n",
              "  <tbody>\n",
              "    <tr>\n",
              "      <th>0</th>\n",
              "      <td>1.0</td>\n",
              "      <td>7</td>\n",
              "      <td>16</td>\n",
              "      <td>1977</td>\n",
              "      <td>2</td>\n",
              "      <td>NL</td>\n",
              "      <td>M</td>\n",
              "      <td>32.0</td>\n",
              "      <td>NaN</td>\n",
              "    </tr>\n",
              "    <tr>\n",
              "      <th>1</th>\n",
              "      <td>2.0</td>\n",
              "      <td>7</td>\n",
              "      <td>16</td>\n",
              "      <td>1977</td>\n",
              "      <td>3</td>\n",
              "      <td>NL</td>\n",
              "      <td>M</td>\n",
              "      <td>33.0</td>\n",
              "      <td>NaN</td>\n",
              "    </tr>\n",
              "    <tr>\n",
              "      <th>2</th>\n",
              "      <td>3.0</td>\n",
              "      <td>7</td>\n",
              "      <td>16</td>\n",
              "      <td>1977</td>\n",
              "      <td>2</td>\n",
              "      <td>DM</td>\n",
              "      <td>F</td>\n",
              "      <td>37.0</td>\n",
              "      <td>NaN</td>\n",
              "    </tr>\n",
              "    <tr>\n",
              "      <th>3</th>\n",
              "      <td>4.0</td>\n",
              "      <td>7</td>\n",
              "      <td>16</td>\n",
              "      <td>1977</td>\n",
              "      <td>7</td>\n",
              "      <td>DM</td>\n",
              "      <td>M</td>\n",
              "      <td>36.0</td>\n",
              "      <td>NaN</td>\n",
              "    </tr>\n",
              "    <tr>\n",
              "      <th>4</th>\n",
              "      <td>5.0</td>\n",
              "      <td>7</td>\n",
              "      <td>16</td>\n",
              "      <td>1977</td>\n",
              "      <td>3</td>\n",
              "      <td>DM</td>\n",
              "      <td>M</td>\n",
              "      <td>35.0</td>\n",
              "      <td>NaN</td>\n",
              "    </tr>\n",
              "    <tr>\n",
              "      <th>...</th>\n",
              "      <td>...</td>\n",
              "      <td>...</td>\n",
              "      <td>...</td>\n",
              "      <td>...</td>\n",
              "      <td>...</td>\n",
              "      <td>...</td>\n",
              "      <td>...</td>\n",
              "      <td>...</td>\n",
              "      <td>...</td>\n",
              "    </tr>\n",
              "    <tr>\n",
              "      <th>35544</th>\n",
              "      <td>35545.0</td>\n",
              "      <td>12</td>\n",
              "      <td>31</td>\n",
              "      <td>2002</td>\n",
              "      <td>15</td>\n",
              "      <td>AH</td>\n",
              "      <td>NaN</td>\n",
              "      <td>NaN</td>\n",
              "      <td>NaN</td>\n",
              "    </tr>\n",
              "    <tr>\n",
              "      <th>35545</th>\n",
              "      <td>35546.0</td>\n",
              "      <td>12</td>\n",
              "      <td>31</td>\n",
              "      <td>2002</td>\n",
              "      <td>15</td>\n",
              "      <td>AH</td>\n",
              "      <td>NaN</td>\n",
              "      <td>NaN</td>\n",
              "      <td>NaN</td>\n",
              "    </tr>\n",
              "    <tr>\n",
              "      <th>35546</th>\n",
              "      <td>35547.0</td>\n",
              "      <td>12</td>\n",
              "      <td>31</td>\n",
              "      <td>2002</td>\n",
              "      <td>10</td>\n",
              "      <td>RM</td>\n",
              "      <td>F</td>\n",
              "      <td>15.0</td>\n",
              "      <td>14.0</td>\n",
              "    </tr>\n",
              "    <tr>\n",
              "      <th>35547</th>\n",
              "      <td>35548.0</td>\n",
              "      <td>12</td>\n",
              "      <td>31</td>\n",
              "      <td>2002</td>\n",
              "      <td>7</td>\n",
              "      <td>DO</td>\n",
              "      <td>M</td>\n",
              "      <td>36.0</td>\n",
              "      <td>51.0</td>\n",
              "    </tr>\n",
              "    <tr>\n",
              "      <th>35548</th>\n",
              "      <td>35549.0</td>\n",
              "      <td>12</td>\n",
              "      <td>31</td>\n",
              "      <td>2002</td>\n",
              "      <td>5</td>\n",
              "      <td>NaN</td>\n",
              "      <td>NaN</td>\n",
              "      <td>NaN</td>\n",
              "      <td>NaN</td>\n",
              "    </tr>\n",
              "  </tbody>\n",
              "</table>\n",
              "<p>35549 rows × 9 columns</p>\n",
              "</div>"
            ],
            "text/plain": [
              "       record_id  month  day  year  ...  species_id  sex hindfoot_length  weight\n",
              "0            1.0      7   16  1977  ...          NL    M            32.0     NaN\n",
              "1            2.0      7   16  1977  ...          NL    M            33.0     NaN\n",
              "2            3.0      7   16  1977  ...          DM    F            37.0     NaN\n",
              "3            4.0      7   16  1977  ...          DM    M            36.0     NaN\n",
              "4            5.0      7   16  1977  ...          DM    M            35.0     NaN\n",
              "...          ...    ...  ...   ...  ...         ...  ...             ...     ...\n",
              "35544    35545.0     12   31  2002  ...          AH  NaN             NaN     NaN\n",
              "35545    35546.0     12   31  2002  ...          AH  NaN             NaN     NaN\n",
              "35546    35547.0     12   31  2002  ...          RM    F            15.0    14.0\n",
              "35547    35548.0     12   31  2002  ...          DO    M            36.0    51.0\n",
              "35548    35549.0     12   31  2002  ...         NaN  NaN             NaN     NaN\n",
              "\n",
              "[35549 rows x 9 columns]"
            ]
          },
          "metadata": {
            "tags": []
          },
          "execution_count": 136
        }
      ]
    },
    {
      "cell_type": "code",
      "metadata": {
        "id": "zBstirb0kuZJ"
      },
      "source": [
        "surveys_df[(surveys_df.year ==1997)]\\\n",
        ".to_csv('/content/gdrive/MyDrive/Colab Notebooks/intro-python-2021-04/data/1997-data.csv', index=False)"
      ],
      "execution_count": null,
      "outputs": []
    },
    {
      "cell_type": "code",
      "metadata": {
        "id": "UmUc45tFk_mN"
      },
      "source": [
        ""
      ],
      "execution_count": null,
      "outputs": []
    }
  ]
}